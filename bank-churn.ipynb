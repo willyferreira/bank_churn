{
 "cells": [
  {
   "cell_type": "code",
   "execution_count": 1,
   "id": "1065f051",
   "metadata": {
    "_cell_guid": "b1076dfc-b9ad-4769-8c92-a6c4dae69d19",
    "_uuid": "8f2839f25d086af736a60e9eeb907d3b93b6e0e5",
    "execution": {
     "iopub.execute_input": "2023-05-24T14:15:30.625093Z",
     "iopub.status.busy": "2023-05-24T14:15:30.624021Z",
     "iopub.status.idle": "2023-05-24T14:15:30.638289Z",
     "shell.execute_reply": "2023-05-24T14:15:30.636976Z"
    },
    "papermill": {
     "duration": 0.021468,
     "end_time": "2023-05-24T14:15:30.641201",
     "exception": false,
     "start_time": "2023-05-24T14:15:30.619733",
     "status": "completed"
    },
    "tags": []
   },
   "outputs": [],
   "source": [
    "# This Python 3 environment comes with many helpful analytics libraries installed\n",
    "# It is defined by the kaggle/python Docker image: https://github.com/kaggle/docker-python\n",
    "# For example, here's several helpful packages to load\n",
    "\n",
    "import numpy as np # linear algebra\n",
    "import pandas as pd # data processing, CSV file I/O (e.g. pd.read_csv)\n",
    "\n",
    "# Input data files are available in the read-only \"../input/\" directory\n",
    "# For example, running this (by clicking run or pressing Shift+Enter) will list all files under the input directory\n",
    "\n",
    "import os\n",
    "for dirname, _, filenames in os.walk('/kaggle/input'):\n",
    "    for filename in filenames:\n",
    "        print(os.path.join(dirname, filename))\n",
    "\n",
    "# You can write up to 20GB to the current directory (/kaggle/working/) that gets preserved as output when you create a version using \"Save & Run All\" \n",
    "# You can also write temporary files to /kaggle/temp/, but they won't be saved outside of the current session"
   ]
  },
  {
   "cell_type": "code",
   "execution_count": 2,
   "id": "1321008f",
   "metadata": {
    "execution": {
     "iopub.execute_input": "2023-05-24T14:15:30.648010Z",
     "iopub.status.busy": "2023-05-24T14:15:30.647136Z",
     "iopub.status.idle": "2023-05-24T14:15:30.652641Z",
     "shell.execute_reply": "2023-05-24T14:15:30.651334Z"
    },
    "papermill": {
     "duration": 0.012409,
     "end_time": "2023-05-24T14:15:30.656169",
     "exception": false,
     "start_time": "2023-05-24T14:15:30.643760",
     "status": "completed"
    },
    "scrolled": true,
    "tags": []
   },
   "outputs": [],
   "source": [
    "import numpy as np\n",
    "import pandas as pd"
   ]
  }
 ],
 "metadata": {
  "kernelspec": {
   "display_name": "Python 3",
   "language": "python",
   "name": "python3"
  },
  "language_info": {
   "codemirror_mode": {
    "name": "ipython",
    "version": 3
   },
   "file_extension": ".py",
   "mimetype": "text/x-python",
   "name": "python",
   "nbconvert_exporter": "python",
   "pygments_lexer": "ipython3",
   "version": "3.10.10"
  },
  "papermill": {
   "default_parameters": {},
   "duration": 14.399082,
   "end_time": "2023-05-24T14:15:31.581690",
   "environment_variables": {},
   "exception": null,
   "input_path": "__notebook__.ipynb",
   "output_path": "__notebook__.ipynb",
   "parameters": {},
   "start_time": "2023-05-24T14:15:17.182608",
   "version": "2.4.0"
  }
 },
 "nbformat": 4,
 "nbformat_minor": 5
}
