{
 "cells": [
  {
   "attachments": {},
   "cell_type": "markdown",
   "metadata": {},
   "source": [
    "<h2>Churn de Clientes - Bank Dataset</h2>"
   ]
  },
  {
   "cell_type": "code",
   "execution_count": null,
   "metadata": {},
   "outputs": [],
   "source": [
    "## ----------------------------------------------------------------\n",
    "#* Link do dataset\n",
    "    #  https://www.kaggle.com/datasets/mathchi/churn-for-bank-customers\n",
    "\n",
    "#* Descrição das variáveis\n",
    "    #* RowNumber\n",
    "    #Número da linha do dataset\n",
    "    #* CustomerId\n",
    "    #Número randômico e único que identifica o cliente\n",
    "    #* Surname\n",
    "    #Sobrenome do cliente\n",
    "    #* CreditScore\n",
    "    #Pontuação de crédito atribuida ao cliente\n",
    "    #* Geography\n",
    "    #Localização do cliente\n",
    "    #* Gender\n",
    "    #Gênero do cliente\n",
    "    #* Age\n",
    "    #Idade do cliente\n",
    "    #* Tenure\n",
    "    #Fidelidade do cliente | Quantidade de anos que o cliente está na instituição\n",
    "    #* Balance\n",
    "    #Saldo do cliente\n",
    "    #* NumOfProducts\n",
    "    #Quantidade de produtos que o cliente comprou no banco\n",
    "    #* HasCrCard\n",
    "    #Se o cliente possui ou não cartão de crédito sendo 1|Sim e 0|Não\n",
    "    #* IsActiveMember\n",
    "    #  - Se o cliente é ativo ou não no banco\n",
    "    #* EstimatedSalary\n",
    "    #  - Renda do cliente\n",
    "    #*Exited\n",
    "    #  - Se o cliente deixou ou não a instituição sendo 1|Sim e 0|Não  \n",
    "## ----------------------------------------------------------------"
   ]
  },
  {
   "attachments": {},
   "cell_type": "markdown",
   "metadata": {},
   "source": [
    "<h5>1. Importação dos pacotes </h5>"
   ]
  },
  {
   "cell_type": "code",
   "execution_count": null,
   "metadata": {},
   "outputs": [],
   "source": [
    "## ----------------------------------------------------------------\n",
    "#* Manipulação de dados\n",
    "import pandas as pd\n",
    "import numpy as np\n",
    "import scipy as sp\n",
    "import scipy.stats as st\n",
    "#* DataViz\n",
    "import matplotlib.pyplot as plt\n",
    "import seaborn as sns\n",
    "import seaborn.objects as so\n",
    "import ydata_profiling\n",
    "from ydata_profiling import ProfileReport\n",
    "#! Pacotes não utilizados no momento\n",
    "#import plotly.express as px\n",
    "#import plotly.io as pio\n",
    "#import chart_studio.plotly as py\n",
    "#import plotly.graph_objects as go\n",
    "#from plotly.subplots import make_subplots\n",
    "#* Machine Learning\n",
    "## ----------------------------------------------------------------"
   ]
  },
  {
   "attachments": {},
   "cell_type": "markdown",
   "metadata": {},
   "source": [
    "<h5>2. Leitura e tratamento do dataset </h5>"
   ]
  },
  {
   "cell_type": "code",
   "execution_count": null,
   "metadata": {},
   "outputs": [],
   "source": [
    "df_original = pd.read_csv(filepath_or_buffer = 'churn.csv', header = 0)\n",
    "df_original.head()"
   ]
  },
  {
   "cell_type": "code",
   "execution_count": null,
   "metadata": {},
   "outputs": [],
   "source": [
    "#Excluir colunas que não serão utilizadas\n",
    "trash_colunas = {'RowNumber', 'CustomerId', 'Surname'}\n",
    "#\n",
    "df = df_original.drop(columns = trash_colunas)\n",
    "del(trash_colunas)\n",
    "del(df_original)\n",
    "df.head()"
   ]
  },
  {
   "cell_type": "code",
   "execution_count": null,
   "metadata": {},
   "outputs": [],
   "source": [
    "#Criar lista com nome das novas variáveis\n",
    "novas_colunas = {\n",
    "    'CustomerId': 'Id',\n",
    "    'CreditScore': 'Score',\n",
    "    'Geography': 'Pais',\n",
    "    'Gender': 'Genero',\n",
    "    'Age': 'Idade',\n",
    "    'Tenure': 'Fidelidade',\n",
    "    'Balance': 'Saldo',\n",
    "    'NumOfProducts': 'QtdProdutos',\n",
    "    'HasCrCard': 'TemCartao',\n",
    "    'IsActiveMember': 'ClienteAtivo',\n",
    "    'EstimatedSalary': 'Renda',\n",
    "    'Exited': 'Churn'\n",
    "    }\n",
    "#renomeando as variáveis\n",
    "df.rename(columns = novas_colunas, inplace = True)\n",
    "#\n",
    "del(novas_colunas)\n",
    "#\n",
    "df.head()"
   ]
  },
  {
   "attachments": {},
   "cell_type": "markdown",
   "metadata": {},
   "source": [
    "<h4>3. Análise Exploratória </h4>"
   ]
  },
  {
   "cell_type": "code",
   "execution_count": null,
   "metadata": {},
   "outputs": [],
   "source": [
    "#Criação de perfil para geração de relatório Profiling\n",
    "profile = ProfileReport(df, title = 'Bank Churn')\n",
    "#Funções para utilização do pacote ydata_profiling em Jupyter\n",
    "profile.to_widgets()\n",
    "profile.to_notebook_iframe()"
   ]
  },
  {
   "cell_type": "code",
   "execution_count": null,
   "metadata": {},
   "outputs": [],
   "source": [
    "#Salvando o relatório em html\n",
    "profile.to_file('churn_Profile.html')"
   ]
  },
  {
   "cell_type": "code",
   "execution_count": null,
   "metadata": {},
   "outputs": [],
   "source": [
    "#Informações sobre missing values e tipo das variáveis\n",
    "df.info()"
   ]
  },
  {
   "cell_type": "code",
   "execution_count": null,
   "metadata": {},
   "outputs": [],
   "source": [
    "#Lista variáveis numéricas\n",
    "df_numericas = df.select_dtypes('number').columns \n",
    "#Lista variáveis categóricas\n",
    "df_categoricas = df.select_dtypes('object').columns \n",
    "\n",
    "print('Variáveis numéricas:', df_numericas)\n",
    "print('Variáveis categóricas:', df_categoricas)"
   ]
  },
  {
   "cell_type": "code",
   "execution_count": null,
   "metadata": {},
   "outputs": [],
   "source": [
    "#Estatísticas descritivas das variáveis numéricas\n",
    "df.select_dtypes('number').describe().T"
   ]
  },
  {
   "cell_type": "code",
   "execution_count": null,
   "metadata": {},
   "outputs": [],
   "source": [
    "#Estatísticas descritivas das variáveis categóricas\n",
    "df.select_dtypes('object').describe().T"
   ]
  },
  {
   "cell_type": "code",
   "execution_count": null,
   "metadata": {},
   "outputs": [],
   "source": [
    "#Alterando o conteúdo das variáveis categóricas\n",
    "#* Localização\n",
    "df['Pais'].value_counts()"
   ]
  },
  {
   "cell_type": "code",
   "execution_count": null,
   "metadata": {},
   "outputs": [],
   "source": [
    "#Alterando os valores da variável #Localização\n",
    "df['Pais'].replace({\n",
    "    'France' : 'França',\n",
    "    'Germany' : 'Alemanha',\n",
    "    'Spain' : 'Espanha'\n",
    "}, inplace = True)\n",
    "#\n",
    "df['Pais'].value_counts()"
   ]
  },
  {
   "cell_type": "code",
   "execution_count": null,
   "metadata": {},
   "outputs": [],
   "source": [
    "#Alterando o conteúdo das variáveis categóricas\n",
    "#* Gênero\n",
    "df['Genero'].value_counts()"
   ]
  },
  {
   "cell_type": "code",
   "execution_count": null,
   "metadata": {},
   "outputs": [],
   "source": [
    "#Alterando os valores da variável #Localização\n",
    "#* Gênero\n",
    "df['Genero'].replace({\n",
    "    'Male' : 'Masculino',\n",
    "    'Female' : 'Feminino'\n",
    "}, inplace = True)\n",
    "#\n",
    "df['Genero'].value_counts()"
   ]
  },
  {
   "cell_type": "code",
   "execution_count": null,
   "metadata": {},
   "outputs": [],
   "source": [
    "#Alterando os valores da variável #TemCartao\n",
    "#* TemCartao\n",
    "df['TemCartao'].value_counts()"
   ]
  },
  {
   "cell_type": "code",
   "execution_count": null,
   "metadata": {},
   "outputs": [],
   "source": [
    "#Alterando os valores da variável #TemCartao\n",
    "#* TemCartao\n",
    "df['TemCartao'].replace({\n",
    "    1 : 'Tem',\n",
    "    0 : 'NaoTem'\n",
    "}, inplace = True)\n",
    "#\n",
    "df['TemCartao'].value_counts()"
   ]
  },
  {
   "cell_type": "code",
   "execution_count": null,
   "metadata": {},
   "outputs": [],
   "source": [
    "#Alterando os valores da variável #ClienteAtivo\n",
    "df['ClienteAtivo'].value_counts()"
   ]
  },
  {
   "cell_type": "code",
   "execution_count": null,
   "metadata": {},
   "outputs": [],
   "source": [
    "#Alterando os valores da variável #ClienteAtivo\n",
    "#* ClienteAtivo\n",
    "df['ClienteAtivo'].replace({\n",
    "    1 : 'Ativo',\n",
    "    0 : 'Inativo'\n",
    "}, inplace = True)\n",
    "#\n",
    "df['ClienteAtivo'].value_counts()"
   ]
  },
  {
   "attachments": {},
   "cell_type": "markdown",
   "metadata": {},
   "source": [
    "<h5>3.1. Análise univariada</h5>"
   ]
  },
  {
   "cell_type": "code",
   "execution_count": null,
   "metadata": {},
   "outputs": [],
   "source": [
    "#IQR - https://www.statisticshowto.com/probability-and-statistics/interquartile-range/\n",
    "#Lower and Upper Fence - https://www.statisticshowto.com/upper-and-lower-fences/"
   ]
  },
  {
   "cell_type": "code",
   "execution_count": null,
   "metadata": {},
   "outputs": [],
   "source": [
    "# Definição do Tema do Seaborn\n",
    "sns.set_theme(\n",
    "    context = 'paper', style = 'darkgrid', palette = 'deep', \n",
    "    font = 'sans-serif', font_scale = 1, color_codes = True, \n",
    "    rc = None\n",
    ")"
   ]
  },
  {
   "attachments": {},
   "cell_type": "markdown",
   "metadata": {},
   "source": [
    "3.1.1. Score de Crédito"
   ]
  },
  {
   "cell_type": "code",
   "execution_count": null,
   "metadata": {},
   "outputs": [],
   "source": [
    "#Criação dos subplots\n",
    "fig, axs = plt.subplots(ncols = 1, nrows = 2, sharex=True, height_ratios=[0.8, 0.2])\n",
    "#Título da imagem\n",
    "plt.suptitle('Distribuição do Score de Crédito')\n",
    "#Gráfico 1 - Histograma\n",
    "sns.histplot(x = df['Score'], kde = True, ax = axs[0], stat = 'count', cumulative = False)\n",
    "#Gráfico 2 - Boxplot\n",
    "sns.boxplot(x = df['Score'], fliersize = 2, notch = True, ax = axs[1])"
   ]
  },
  {
   "cell_type": "code",
   "execution_count": null,
   "metadata": {},
   "outputs": [],
   "source": []
  },
  {
   "attachments": {},
   "cell_type": "markdown",
   "metadata": {},
   "source": [
    "3.1.2. Idade"
   ]
  },
  {
   "cell_type": "code",
   "execution_count": null,
   "metadata": {},
   "outputs": [],
   "source": [
    "#Criação dos subplots\n",
    "fig, axs = plt.subplots(ncols = 1, nrows = 2, sharex=True, height_ratios=[0.8, 0.2])\n",
    "#Título da imagem\n",
    "plt.suptitle('Distribuição por Idade')\n",
    "#Gráfico 1 - Histograma\n",
    "sns.histplot(x = df['Idade'], kde = True, ax = axs[0], stat = 'count', cumulative = False)\n",
    "#Gráfico 2 - Boxplot\n",
    "sns.boxplot(x = df['Idade'], fliersize = 2, notch = True, ax = axs[1])"
   ]
  },
  {
   "attachments": {},
   "cell_type": "markdown",
   "metadata": {},
   "source": [
    "3.1.3. Tempo de fidelidade"
   ]
  },
  {
   "cell_type": "code",
   "execution_count": null,
   "metadata": {},
   "outputs": [],
   "source": [
    "#Criação dos subplots\n",
    "fig, axs = plt.subplots(ncols = 1, nrows = 2, sharex=True, height_ratios=[0.8, 0.2])\n",
    "#Título da imagem\n",
    "plt.suptitle('Distribuição por tempo de fidelidade do cliente')\n",
    "#Gráfico 1 - Histograma\n",
    "sns.histplot(x = df['Fidelidade'], kde = False, ax = axs[0], stat = 'count', cumulative = False)\n",
    "#Gráfico 2 - Boxplot\n",
    "sns.boxplot(x = df['Fidelidade'], fliersize = 2, notch = True, ax = axs[1])"
   ]
  },
  {
   "attachments": {},
   "cell_type": "markdown",
   "metadata": {},
   "source": [
    "3.1.4. Saldo"
   ]
  },
  {
   "cell_type": "code",
   "execution_count": null,
   "metadata": {},
   "outputs": [],
   "source": [
    "#Criação dos subplots\n",
    "fig, axs = plt.subplots(ncols = 1, nrows = 2, sharex=True, height_ratios=[0.8, 0.2])\n",
    "#Título da imagem\n",
    "plt.suptitle('Distribuição por saldo em conta')\n",
    "#Gráfico 1 - Histograma\n",
    "sns.histplot(x = df['Saldo'], kde = False, ax = axs[0], stat = 'count', cumulative = False)\n",
    "#Gráfico 2 - Boxplot\n",
    "sns.boxplot(x = df['Saldo'], fliersize = 2, notch = True, ax = axs[1])"
   ]
  },
  {
   "attachments": {},
   "cell_type": "markdown",
   "metadata": {},
   "source": [
    "3.1.5. Quantidade de produtos"
   ]
  },
  {
   "cell_type": "code",
   "execution_count": null,
   "metadata": {},
   "outputs": [],
   "source": [
    "#Criação dos subplots\n",
    "fig, axs = plt.subplots(ncols = 1, nrows = 2, sharex=True, height_ratios=[0.8, 0.2])\n",
    "#Título da imagem\n",
    "plt.suptitle('Distribuição por quantidade de produtos')\n",
    "#Gráfico 1 - Histograma\n",
    "sns.histplot(x = df['QtdProdutos'], kde = False, ax = axs[0], stat = 'count', cumulative = False)\n",
    "#Gráfico 2 - Boxplot\n",
    "sns.boxplot(x = df['QtdProdutos'], fliersize = 2, notch = True, ax = axs[1])"
   ]
  },
  {
   "attachments": {},
   "cell_type": "markdown",
   "metadata": {},
   "source": [
    "3.1.6. Salário Estimado"
   ]
  },
  {
   "cell_type": "code",
   "execution_count": null,
   "metadata": {},
   "outputs": [],
   "source": [
    "#Criação dos subplots\n",
    "fig, axs = plt.subplots(ncols = 1, nrows = 2, sharex=True, height_ratios=[0.8, 0.2])\n",
    "#Título da imagem\n",
    "plt.suptitle('Faixa salarial')\n",
    "#Gráfico 1 - Histograma\n",
    "sns.histplot(x = df['Renda'], kde = False, ax = axs[0], stat = 'count', cumulative = False)\n",
    "#Gráfico 2 - Boxplot\n",
    "sns.boxplot(x = df['Renda'], fliersize = 2, notch = True, ax = axs[1])"
   ]
  },
  {
   "attachments": {},
   "cell_type": "markdown",
   "metadata": {},
   "source": [
    "3.1.7. Cartão de Crédito"
   ]
  },
  {
   "cell_type": "code",
   "execution_count": null,
   "metadata": {},
   "outputs": [],
   "source": [
    "#Título da imagem\n",
    "plt.suptitle('Cartão de Crédito')\n",
    "ax = sns.countplot(data = df, x = df['TemCartao'])\n",
    "#Inclusão dos rótulos\n",
    "ax.bar_label(ax.containers[0])"
   ]
  },
  {
   "attachments": {},
   "cell_type": "markdown",
   "metadata": {},
   "source": [
    "3.1.8. Clientes ativos e inativos"
   ]
  },
  {
   "cell_type": "code",
   "execution_count": null,
   "metadata": {},
   "outputs": [],
   "source": [
    "#Título da imagem\n",
    "plt.suptitle('Clientes ativos e inativos')\n",
    "ax = sns.countplot(data = df, x = df['ClienteAtivo'])\n",
    "#Inclusão dos rótulos\n",
    "ax.bar_label(ax.containers[0])"
   ]
  },
  {
   "attachments": {},
   "cell_type": "markdown",
   "metadata": {},
   "source": [
    "3.1.9. Churn"
   ]
  },
  {
   "cell_type": "code",
   "execution_count": null,
   "metadata": {},
   "outputs": [],
   "source": [
    "#Título da imagem\n",
    "plt.suptitle('Churn')\n",
    "ax = sns.countplot(data = df, x = df['Churn'])\n",
    "#Inclusão dos rótulos\n",
    "ax.bar_label(ax.containers[0])"
   ]
  },
  {
   "attachments": {},
   "cell_type": "markdown",
   "metadata": {},
   "source": [
    "3.1.10. Localização"
   ]
  },
  {
   "cell_type": "code",
   "execution_count": null,
   "metadata": {},
   "outputs": [],
   "source": [
    "#Título da imagem\n",
    "plt.suptitle('Clientes por localização')\n",
    "ax = sns.countplot(data = df, x = df['Pais'])\n",
    "#Inclusão dos rótulos\n",
    "ax.bar_label(ax.containers[0])"
   ]
  },
  {
   "attachments": {},
   "cell_type": "markdown",
   "metadata": {},
   "source": [
    "3.1.11. Gênero"
   ]
  },
  {
   "cell_type": "code",
   "execution_count": null,
   "metadata": {},
   "outputs": [],
   "source": [
    "#Título da imagem\n",
    "plt.suptitle('Clientes por gênero')\n",
    "ax = sns.countplot(data = df, x = df['Genero'])\n",
    "#Inclusão dos rótulos\n",
    "ax.bar_label(ax.containers[0])"
   ]
  },
  {
   "attachments": {},
   "cell_type": "markdown",
   "metadata": {},
   "source": [
    "<h5>3.2. Análise bivariada</h5>"
   ]
  },
  {
   "attachments": {},
   "cell_type": "markdown",
   "metadata": {},
   "source": [
    "3.2.1. Score de Crédito x Tem Cartão"
   ]
  },
  {
   "cell_type": "code",
   "execution_count": null,
   "metadata": {},
   "outputs": [],
   "source": [
    "#Título da imagem\n",
    "plt.suptitle('Score de Crédito x Tem cartão')\n",
    "sns.boxplot(data = df, x = df['TemCartao'], y = df['Score'], fliersize = 2, notch = True)"
   ]
  },
  {
   "attachments": {},
   "cell_type": "markdown",
   "metadata": {},
   "source": [
    "3.2.2. Score de Crédito x Cliente Ativo"
   ]
  },
  {
   "cell_type": "code",
   "execution_count": null,
   "metadata": {},
   "outputs": [],
   "source": [
    "#Título da imagem\n",
    "plt.suptitle('Score de Crédito x Cliente ativo')\n",
    "sns.boxplot(data = df, x = df['ClienteAtivo'], y = df['Score'], fliersize = 2, notch = True)"
   ]
  },
  {
   "attachments": {},
   "cell_type": "markdown",
   "metadata": {},
   "source": [
    "3.2.3. Idade x Tem Cartão"
   ]
  },
  {
   "cell_type": "code",
   "execution_count": null,
   "metadata": {},
   "outputs": [],
   "source": [
    "#Título da imagem\n",
    "plt.suptitle('Idade x Tem cartão')\n",
    "sns.boxplot(data = df, x = df['TemCartao'], y = df['Idade'], fliersize = 2, notch = True)"
   ]
  },
  {
   "attachments": {},
   "cell_type": "markdown",
   "metadata": {},
   "source": [
    "3.2.4. "
   ]
  },
  {
   "attachments": {},
   "cell_type": "markdown",
   "metadata": {},
   "source": [
    "_________________"
   ]
  },
  {
   "cell_type": "code",
   "execution_count": null,
   "metadata": {},
   "outputs": [],
   "source": [
    "#Definição do estilo dos gráficos\n",
    "#plt.style.use('seaborn-v0_8')\n",
    "#pio.templates"
   ]
  },
  {
   "cell_type": "code",
   "execution_count": null,
   "metadata": {},
   "outputs": [],
   "source": [
    "#Definição do template dos gráficos\n",
    "#pio.templates.default = 'seaborn'"
   ]
  },
  {
   "cell_type": "code",
   "execution_count": null,
   "metadata": {},
   "outputs": [],
   "source": [
    "#Criando a figura para plotagem dos gráficos\n",
    "fig = make_subplots(rows = 2, shared_xaxes = True, vertical_spacing = 0.05, row_heights = [0.6, 0.4])\n",
    "\n",
    "#Gráfico 1 - Histograma\n",
    "fig.add_trace(go.Histogram(x = df.Score), row = 1, col = 1)\n",
    "\n",
    "#Gráfico 2 - Boxplot\n",
    "fig.add_trace(go.Box(x = df.Score, name = '', orientation = 'h'), row = 2, col=1)\n",
    "\n",
    "#Alterações de layout    \n",
    "fig.update_layout(title = 'Score de Crédito', showlegend = False, title_font_size = 18)\n",
    "\n",
    "#Configuração do eixo X    \n",
    "fig.update_xaxes(range = [300, 900])\n",
    "\n",
    "#Mostrar o gráfico\n",
    "fig.show()"
   ]
  },
  {
   "cell_type": "code",
   "execution_count": null,
   "metadata": {},
   "outputs": [],
   "source": [
    "df.Idade.describe()"
   ]
  },
  {
   "cell_type": "code",
   "execution_count": null,
   "metadata": {},
   "outputs": [],
   "source": [
    "#Criando a figura para plotagem dos gráficos\n",
    "fig = make_subplots(rows = 2, shared_xaxes = True, vertical_spacing = 0.05, row_heights = [0.6, 0.4])\n",
    "\n",
    "#Gráfico 1 - Histograma\n",
    "fig.add_trace(go.Histogram(x = df.Idade), row = 1, col = 1)\n",
    "\n",
    "#Gráfico 2 - Boxplot\n",
    "fig.add_trace(go.Box(x = df.Idade, name = '', orientation = 'h'), row = 2, col=1)\n",
    "\n",
    "#Alterações de layout    \n",
    "fig.update_layout(title = 'Idade', showlegend = False, title_font_size = 18)\n",
    "\n",
    "#Configuração do eixo X    \n",
    "fig.update_xaxes(range = [0, 100])\n",
    "\n",
    "#Mostrar o gráfico\n",
    "fig.show()"
   ]
  },
  {
   "cell_type": "code",
   "execution_count": null,
   "metadata": {},
   "outputs": [],
   "source": [
    "df.Fidelidade.describe()"
   ]
  },
  {
   "cell_type": "code",
   "execution_count": null,
   "metadata": {},
   "outputs": [],
   "source": [
    "#Criando a figura para plotagem dos gráficos\n",
    "fig = make_subplots(rows = 2, shared_xaxes = True, vertical_spacing = 0.05, row_heights = [0.6, 0.4])\n",
    "\n",
    "#Gráfico 1 - Histograma\n",
    "fig.add_trace(go.Histogram(x = df.Fidelidade), row = 1, col = 1)\n",
    "\n",
    "#Gráfico 2 - Boxplot\n",
    "fig.add_trace(go.Box(x = df.Fidelidade, name = '', orientation = 'h'), row = 2, col=1)\n",
    "\n",
    "#Alterações de layout    \n",
    "fig.update_layout(title = 'Tempo de fidelidade (em anos)', showlegend = False, title_font_size = 18)\n",
    "\n",
    "#Configuração do eixo X    \n",
    "fig.update_xaxes(range = [-5, 15])\n",
    "\n",
    "#Mostrar o gráfico\n",
    "fig.show()"
   ]
  },
  {
   "cell_type": "code",
   "execution_count": null,
   "metadata": {},
   "outputs": [],
   "source": [
    "df.Saldo.describe()"
   ]
  },
  {
   "cell_type": "code",
   "execution_count": null,
   "metadata": {},
   "outputs": [],
   "source": [
    "#Criando a figura para plotagem dos gráficos\n",
    "fig = make_subplots(rows = 2, shared_xaxes = True, vertical_spacing = 0.05, row_heights = [0.6, 0.4])\n",
    "\n",
    "#Gráfico 1 - Histograma\n",
    "fig.add_trace(go.Histogram(x = df.Saldo), row = 1, col = 1)\n",
    "\n",
    "#Gráfico 2 - Boxplot\n",
    "fig.add_trace(go.Box(x = df.Saldo, name = '', orientation = 'h'), row = 2, col=1)\n",
    "\n",
    "#Alterações de layout    \n",
    "fig.update_layout(title = 'Saldo', showlegend = False, title_font_size = 18)\n",
    "\n",
    "#Configuração do eixo X    \n",
    "fig.update_xaxes(range = [-10000, 300000])\n",
    "\n",
    "#Mostrar o gráfico\n",
    "fig.show()"
   ]
  },
  {
   "cell_type": "code",
   "execution_count": null,
   "metadata": {},
   "outputs": [],
   "source": [
    "df_numericas"
   ]
  },
  {
   "cell_type": "code",
   "execution_count": null,
   "metadata": {},
   "outputs": [],
   "source": [
    "df.QtdProdutos.describe()"
   ]
  },
  {
   "cell_type": "code",
   "execution_count": null,
   "metadata": {},
   "outputs": [],
   "source": [
    "#Criando a figura para plotagem dos gráficos\n",
    "fig = make_subplots(rows = 2, shared_xaxes = True, vertical_spacing = 0.05, row_heights = [0.6, 0.4])\n",
    "\n",
    "#Gráfico 1 - Histograma\n",
    "fig.add_trace(go.Histogram(x = df.QtdProdutos), row = 1, col = 1)\n",
    "\n",
    "#Gráfico 2 - Boxplot\n",
    "fig.add_trace(go.Box(x = df.QtdProdutos, name = '', orientation = 'h'), row = 2, col=1)\n",
    "\n",
    "#Alterações de layout    \n",
    "fig.update_layout(title = 'Quantidade de Produtos', showlegend = False, title_font_size = 18)\n",
    "\n",
    "#Configuração do eixo X    \n",
    "fig.update_xaxes(range = [0, 5])\n",
    "\n",
    "#Mostrar o gráfico\n",
    "fig.show()"
   ]
  },
  {
   "cell_type": "code",
   "execution_count": null,
   "metadata": {},
   "outputs": [],
   "source": [
    "#Definições dos quartis, mediana e limites e contabilização de outliers\n",
    "q1_Score = np.nanpercentile(df.Score, 25)\n",
    "q3_Score = np.nanpercentile(df.Score, 75)\n",
    "media_Score = np.mean(df.Score)\n",
    "iqr_Score = q3_Score - q1_Score\n",
    "lower_f_Score = q1_Score - (1.5 * iqr_Score)\n",
    "upper_f_Score = q3_Score + (1.5 * iqr_Score)\n",
    "\n",
    "#Quantidade de outliers\n",
    "Score_outlier = []\n",
    "for num in df.Score:\n",
    "    if num < lower_f_Score:\n",
    "        Score_outlier.append(num)\n",
    "    if num > upper_f_Score:\n",
    "        Score_outlier.append(num)\n",
    "\n",
    "#Quantidade de não outliers\n",
    "Score_non_outlier = []\n",
    "for num in df.Score:\n",
    "    if num >= lower_f_Score:\n",
    "        Score_non_outlier.append(num)\n",
    "    if num <= upper_f_Score:\n",
    "        Score_non_outlier.append(num)"
   ]
  },
  {
   "cell_type": "code",
   "execution_count": null,
   "metadata": {},
   "outputs": [],
   "source": [
    "print('---Score de Crédito---')\n",
    "print('Q1:', q1_Score)\n",
    "print('Q3:', q3_Score)\n",
    "print('Intervalo Interquartil (IQR):', iqr_Score)\n",
    "print('Média:', media_Score)\n",
    "print('Lower Fence:', lower_f_Score)\n",
    "print('Upper Fence:', upper_f_Score)\n",
    "print('Soma de valores únicos:', len(Score_outlier))\n",
    "print('Menor valor:', np.min(Score_non_outlier))\n",
    "print('Maior valor:', np.max(Score_non_outlier))\n",
    "print('Outliers:', len(Score_outlier))\n",
    "print('Não outliers:', len(Score_non_outlier))"
   ]
  },
  {
   "cell_type": "code",
   "execution_count": null,
   "metadata": {},
   "outputs": [],
   "source": [
    "#Criando figura para inserção de dois gráficos\n",
    "fig, ax = plt.subplots(2, 1, gridspec_kw={'height_ratios': [5,1]}, sharex=True)\n",
    "#Histograma\n",
    "sns.histplot(x = df.Score, kde=True, ax=ax[0])\n",
    "ax[0].axvline(x = q1_Score, linestyle='-', linewidth=1.5, color='black')\n",
    "ax[0].axvline(x = q3_Score, linestyle='-', linewidth=1.5, color='black')\n",
    "ax[0].axvline(x = np.nanpercentile(df.Score, 50), linestyle='-', linewidth=1.5, color='black')\n",
    "ax[0].axvline(x = np.mean(df.Score), linestyle=':', linewidth=2, color='red')\n",
    "#Boxplot\n",
    "sns.boxplot(x = df.Score, ax=ax[1])"
   ]
  },
  {
   "cell_type": "code",
   "execution_count": null,
   "metadata": {},
   "outputs": [],
   "source": [
    "def outlier(x):\n",
    "    q1 = np.nanpercentile(x, 25)\n",
    "    q3 = np.nanpercentile(x, 75)\n",
    "    iqr = q3 - q1\n",
    "    lower_fence = q1 - (1.5 * iqr)\n",
    "    upper_fence = q3 + (1.5 * iqr)\n",
    "    \n",
    "    outlier = []\n",
    "    for num in x:\n",
    "        if num < lower_fence:\n",
    "            outlier.append(num)\n",
    "        if num > upper_fence:\n",
    "            outlier.append(num)\n",
    "            \n",
    "    non_outlier = []\n",
    "    for num in x:\n",
    "        if num >= lower_fence:\n",
    "            non_outlier.append(num)\n",
    "        if num <= upper_fence:\n",
    "            non_outlier.append(num)\n",
    "    \n",
    "    print(f'sum of unique value : {len(outlier)}' )\n",
    "    print(f'lower_value: {np.min(non_outlier)}')\n",
    "    print(f'upper_vaue: {np.max(non_outlier)}')"
   ]
  },
  {
   "cell_type": "code",
   "execution_count": null,
   "metadata": {},
   "outputs": [],
   "source": [
    "norm_data = []\n",
    "for y,x in enumerate(df_numericas,1):\n",
    "    print(f'{y}. {x}')\n",
    "    fig, ax = plt.subplots(2,1, sharex=True, gridspec_kw={'height_ratios':[5,1]})\n",
    "    sns.histplot(data=df, x=x, kde=True, ax=ax[0])\n",
    "    ax[0].axvline(np.nanpercentile(df[x], 25), c='red',linestyle='--')\n",
    "    ax[0].axvline(np.nanpercentile(df[x], 50), c='red',linestyle='--')\n",
    "    ax[0].axvline(np.nanpercentile(df[x], 75), c='red',linestyle='--')\n",
    "    ax[0].axvline(np.mean(df[x]), c='blue',linestyle='--')\n",
    "    \n",
    "    sns.boxplot(data=df, x=x, ax=ax[1])\n",
    "    ax[1].set_xlabel(f'{x}')\n",
    "    plt.show()\n",
    "    print(' ')\n",
    "    df[x].describe()\n",
    "    print(' ')\n",
    "    outlier(df[x])\n",
    "    print(' ')\n",
    "    sk, pval = st.skewtest(df[x])\n",
    "    if pval < 0.05:\n",
    "        print(f'Data skewed with skew is {sk}')\n",
    "    else:\n",
    "        print(f'Data not skewed')\n",
    "    print(' ')\n",
    "    norm, pval = st.normaltest(df[x])\n",
    "    if pval < 0.05:\n",
    "        print(f'Data not normal')\n",
    "    else:\n",
    "        print(f'Data normal')\n",
    "        norm_data.append(x)\n",
    "    print('-'*50)\n",
    "    print(' ')"
   ]
  }
 ],
 "metadata": {
  "kernelspec": {
   "display_name": "Python 3",
   "language": "python",
   "name": "python3"
  },
  "language_info": {
   "codemirror_mode": {
    "name": "ipython",
    "version": 3
   },
   "file_extension": ".py",
   "mimetype": "text/x-python",
   "name": "python",
   "nbconvert_exporter": "python",
   "pygments_lexer": "ipython3",
   "version": "3.11.1"
  },
  "orig_nbformat": 4
 },
 "nbformat": 4,
 "nbformat_minor": 2
}
