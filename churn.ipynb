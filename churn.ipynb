{
 "cells": [
  {
   "attachments": {},
   "cell_type": "markdown",
   "metadata": {},
   "source": [
    "## Churn de Clientes - Bank Dataset"
   ]
  },
  {
   "attachments": {},
   "cell_type": "markdown",
   "metadata": {},
   "source": [
    "Dados: https://www.kaggle.com/datasets/mathchi/churn-for-bank-customers\n",
    "\n",
    "**Descrição das variáveis**\n",
    "- RowNumber: Número da linha do dataset\n",
    "- CustomerId: Número randômico que identifica o cliente\n",
    "- Surname: Sobrenome do cliente\n",
    "- CreditScore: Score (pontuação) de crédito do cliente\n",
    "- Geography: País do cliente\n",
    "- Gender: Gênero do cliente\n",
    "- Age: Idade do cliente\n",
    "- Tenure: Quantidade de anos que o cliente está cadastrado na instituição (Fidelidade do cliente)\n",
    "- Balance: Saldo da conta\n",
    "- NumOfProducts: Quantidade de produtos que o cliente possui no banco\n",
    "- HasCrCard: Se o cliente possui ou não cartão de crédito | (1 - Sim / 0 - Não)\n",
    "- IsActiveMember: Se o cliente está ativo ou não no banco | (1 - Sim / 0 - Não)\n",
    "- EstimatedSalary: Salário estimado do cliente\n",
    "- Exited: Se o cliente encerrou a conta no banco - Variável-alvo | (1 - Sim / 0 - Não)"
   ]
  },
  {
   "attachments": {},
   "cell_type": "markdown",
   "metadata": {},
   "source": [
    "## 1. Importação das bibliotecas"
   ]
  },
  {
   "cell_type": "code",
   "execution_count": 1,
   "metadata": {},
   "outputs": [],
   "source": [
    "# Manipulação de dados\n",
    "import pandas as pd\n",
    "import numpy as np\n",
    "import scipy as sp\n",
    "import scipy.stats as st\n",
    "\n",
    "# DataViz\n",
    "import matplotlib.pyplot as plt\n",
    "import seaborn as sns\n",
    "import seaborn.objects as so\n",
    "\n",
    "# Machine Learning"
   ]
  },
  {
   "cell_type": "code",
   "execution_count": null,
   "metadata": {},
   "outputs": [],
   "source": [
    "# Bibliotecas não utilizadas\n",
    "#! Utilizar ydata_profiling em Jupyter notebook\n",
    "# import sys\n",
    "# !{sys.executable} -m pip install -U ydata-profiling[notebook]\n",
    "# !jupyter nbextension enable --py widgetsnbextension\n",
    "#\n",
    "#from ydata_profiling import ProfileReport\n",
    "\n",
    "#! Pacotes não utilizados no momento\n",
    "#import plotly.express as px\n",
    "#import plotly.io as pio\n",
    "#import chart_studio.plotly as py\n",
    "#import plotly.graph_objects as go\n",
    "#from plotly.subplots import make_subplots\n",
    "#import ydata_profiling"
   ]
  },
  {
   "attachments": {},
   "cell_type": "markdown",
   "metadata": {},
   "source": [
    "## 2. Análise Exploratória dos Dados (EDA)"
   ]
  },
  {
   "attachments": {},
   "cell_type": "markdown",
   "metadata": {},
   "source": [
    "### Conhecendo os dados"
   ]
  },
  {
   "cell_type": "code",
   "execution_count": 2,
   "metadata": {},
   "outputs": [],
   "source": [
    "# Leitura do dataset original\n",
    "df_original = pd.read_csv(filepath_or_buffer = 'churn.csv')"
   ]
  },
  {
   "cell_type": "code",
   "execution_count": 3,
   "metadata": {},
   "outputs": [
    {
     "data": {
      "text/html": [
       "<div>\n",
       "<style scoped>\n",
       "    .dataframe tbody tr th:only-of-type {\n",
       "        vertical-align: middle;\n",
       "    }\n",
       "\n",
       "    .dataframe tbody tr th {\n",
       "        vertical-align: top;\n",
       "    }\n",
       "\n",
       "    .dataframe thead th {\n",
       "        text-align: right;\n",
       "    }\n",
       "</style>\n",
       "<table border=\"1\" class=\"dataframe\">\n",
       "  <thead>\n",
       "    <tr style=\"text-align: right;\">\n",
       "      <th></th>\n",
       "      <th>RowNumber</th>\n",
       "      <th>CustomerId</th>\n",
       "      <th>Surname</th>\n",
       "      <th>CreditScore</th>\n",
       "      <th>Geography</th>\n",
       "      <th>Gender</th>\n",
       "      <th>Age</th>\n",
       "      <th>Tenure</th>\n",
       "      <th>Balance</th>\n",
       "      <th>NumOfProducts</th>\n",
       "      <th>HasCrCard</th>\n",
       "      <th>IsActiveMember</th>\n",
       "      <th>EstimatedSalary</th>\n",
       "      <th>Exited</th>\n",
       "    </tr>\n",
       "  </thead>\n",
       "  <tbody>\n",
       "    <tr>\n",
       "      <th>0</th>\n",
       "      <td>1</td>\n",
       "      <td>15634602</td>\n",
       "      <td>Hargrave</td>\n",
       "      <td>619</td>\n",
       "      <td>France</td>\n",
       "      <td>Female</td>\n",
       "      <td>42</td>\n",
       "      <td>2</td>\n",
       "      <td>0.00</td>\n",
       "      <td>1</td>\n",
       "      <td>1</td>\n",
       "      <td>1</td>\n",
       "      <td>101348.88</td>\n",
       "      <td>1</td>\n",
       "    </tr>\n",
       "    <tr>\n",
       "      <th>1</th>\n",
       "      <td>2</td>\n",
       "      <td>15647311</td>\n",
       "      <td>Hill</td>\n",
       "      <td>608</td>\n",
       "      <td>Spain</td>\n",
       "      <td>Female</td>\n",
       "      <td>41</td>\n",
       "      <td>1</td>\n",
       "      <td>83807.86</td>\n",
       "      <td>1</td>\n",
       "      <td>0</td>\n",
       "      <td>1</td>\n",
       "      <td>112542.58</td>\n",
       "      <td>0</td>\n",
       "    </tr>\n",
       "    <tr>\n",
       "      <th>2</th>\n",
       "      <td>3</td>\n",
       "      <td>15619304</td>\n",
       "      <td>Onio</td>\n",
       "      <td>502</td>\n",
       "      <td>France</td>\n",
       "      <td>Female</td>\n",
       "      <td>42</td>\n",
       "      <td>8</td>\n",
       "      <td>159660.80</td>\n",
       "      <td>3</td>\n",
       "      <td>1</td>\n",
       "      <td>0</td>\n",
       "      <td>113931.57</td>\n",
       "      <td>1</td>\n",
       "    </tr>\n",
       "    <tr>\n",
       "      <th>3</th>\n",
       "      <td>4</td>\n",
       "      <td>15701354</td>\n",
       "      <td>Boni</td>\n",
       "      <td>699</td>\n",
       "      <td>France</td>\n",
       "      <td>Female</td>\n",
       "      <td>39</td>\n",
       "      <td>1</td>\n",
       "      <td>0.00</td>\n",
       "      <td>2</td>\n",
       "      <td>0</td>\n",
       "      <td>0</td>\n",
       "      <td>93826.63</td>\n",
       "      <td>0</td>\n",
       "    </tr>\n",
       "    <tr>\n",
       "      <th>4</th>\n",
       "      <td>5</td>\n",
       "      <td>15737888</td>\n",
       "      <td>Mitchell</td>\n",
       "      <td>850</td>\n",
       "      <td>Spain</td>\n",
       "      <td>Female</td>\n",
       "      <td>43</td>\n",
       "      <td>2</td>\n",
       "      <td>125510.82</td>\n",
       "      <td>1</td>\n",
       "      <td>1</td>\n",
       "      <td>1</td>\n",
       "      <td>79084.10</td>\n",
       "      <td>0</td>\n",
       "    </tr>\n",
       "  </tbody>\n",
       "</table>\n",
       "</div>"
      ],
      "text/plain": [
       "   RowNumber  CustomerId   Surname  CreditScore Geography  Gender  Age  \\\n",
       "0          1    15634602  Hargrave          619    France  Female   42   \n",
       "1          2    15647311      Hill          608     Spain  Female   41   \n",
       "2          3    15619304      Onio          502    France  Female   42   \n",
       "3          4    15701354      Boni          699    France  Female   39   \n",
       "4          5    15737888  Mitchell          850     Spain  Female   43   \n",
       "\n",
       "   Tenure    Balance  NumOfProducts  HasCrCard  IsActiveMember  \\\n",
       "0       2       0.00              1          1               1   \n",
       "1       1   83807.86              1          0               1   \n",
       "2       8  159660.80              3          1               0   \n",
       "3       1       0.00              2          0               0   \n",
       "4       2  125510.82              1          1               1   \n",
       "\n",
       "   EstimatedSalary  Exited  \n",
       "0        101348.88       1  \n",
       "1        112542.58       0  \n",
       "2        113931.57       1  \n",
       "3         93826.63       0  \n",
       "4         79084.10       0  "
      ]
     },
     "execution_count": 3,
     "metadata": {},
     "output_type": "execute_result"
    }
   ],
   "source": [
    "# 5 primeiros registros\n",
    "df_original.head()"
   ]
  },
  {
   "cell_type": "code",
   "execution_count": 5,
   "metadata": {},
   "outputs": [
    {
     "name": "stdout",
     "output_type": "stream",
     "text": [
      "<class 'pandas.core.frame.DataFrame'>\n",
      "RangeIndex: 10000 entries, 0 to 9999\n",
      "Data columns (total 14 columns):\n",
      " #   Column           Non-Null Count  Dtype  \n",
      "---  ------           --------------  -----  \n",
      " 0   RowNumber        10000 non-null  int64  \n",
      " 1   CustomerId       10000 non-null  int64  \n",
      " 2   Surname          10000 non-null  object \n",
      " 3   CreditScore      10000 non-null  int64  \n",
      " 4   Geography        10000 non-null  object \n",
      " 5   Gender           10000 non-null  object \n",
      " 6   Age              10000 non-null  int64  \n",
      " 7   Tenure           10000 non-null  int64  \n",
      " 8   Balance          10000 non-null  float64\n",
      " 9   NumOfProducts    10000 non-null  int64  \n",
      " 10  HasCrCard        10000 non-null  int64  \n",
      " 11  IsActiveMember   10000 non-null  int64  \n",
      " 12  EstimatedSalary  10000 non-null  float64\n",
      " 13  Exited           10000 non-null  int64  \n",
      "dtypes: float64(2), int64(9), object(3)\n",
      "memory usage: 1.1+ MB\n"
     ]
    }
   ],
   "source": [
    "#Informações sobre as features\n",
    "df_original.info()"
   ]
  },
  {
   "attachments": {},
   "cell_type": "markdown",
   "metadata": {},
   "source": [
    "### Tratamento do dataset"
   ]
  },
  {
   "attachments": {},
   "cell_type": "markdown",
   "metadata": {},
   "source": [
    "#### Exclusão de colunas não utilizadas"
   ]
  },
  {
   "cell_type": "code",
   "execution_count": 6,
   "metadata": {},
   "outputs": [
    {
     "data": {
      "text/html": [
       "<div>\n",
       "<style scoped>\n",
       "    .dataframe tbody tr th:only-of-type {\n",
       "        vertical-align: middle;\n",
       "    }\n",
       "\n",
       "    .dataframe tbody tr th {\n",
       "        vertical-align: top;\n",
       "    }\n",
       "\n",
       "    .dataframe thead th {\n",
       "        text-align: right;\n",
       "    }\n",
       "</style>\n",
       "<table border=\"1\" class=\"dataframe\">\n",
       "  <thead>\n",
       "    <tr style=\"text-align: right;\">\n",
       "      <th></th>\n",
       "      <th>CreditScore</th>\n",
       "      <th>Geography</th>\n",
       "      <th>Gender</th>\n",
       "      <th>Age</th>\n",
       "      <th>Tenure</th>\n",
       "      <th>Balance</th>\n",
       "      <th>NumOfProducts</th>\n",
       "      <th>HasCrCard</th>\n",
       "      <th>IsActiveMember</th>\n",
       "      <th>EstimatedSalary</th>\n",
       "      <th>Exited</th>\n",
       "    </tr>\n",
       "  </thead>\n",
       "  <tbody>\n",
       "    <tr>\n",
       "      <th>0</th>\n",
       "      <td>619</td>\n",
       "      <td>France</td>\n",
       "      <td>Female</td>\n",
       "      <td>42</td>\n",
       "      <td>2</td>\n",
       "      <td>0.00</td>\n",
       "      <td>1</td>\n",
       "      <td>1</td>\n",
       "      <td>1</td>\n",
       "      <td>101348.88</td>\n",
       "      <td>1</td>\n",
       "    </tr>\n",
       "    <tr>\n",
       "      <th>1</th>\n",
       "      <td>608</td>\n",
       "      <td>Spain</td>\n",
       "      <td>Female</td>\n",
       "      <td>41</td>\n",
       "      <td>1</td>\n",
       "      <td>83807.86</td>\n",
       "      <td>1</td>\n",
       "      <td>0</td>\n",
       "      <td>1</td>\n",
       "      <td>112542.58</td>\n",
       "      <td>0</td>\n",
       "    </tr>\n",
       "    <tr>\n",
       "      <th>2</th>\n",
       "      <td>502</td>\n",
       "      <td>France</td>\n",
       "      <td>Female</td>\n",
       "      <td>42</td>\n",
       "      <td>8</td>\n",
       "      <td>159660.80</td>\n",
       "      <td>3</td>\n",
       "      <td>1</td>\n",
       "      <td>0</td>\n",
       "      <td>113931.57</td>\n",
       "      <td>1</td>\n",
       "    </tr>\n",
       "    <tr>\n",
       "      <th>3</th>\n",
       "      <td>699</td>\n",
       "      <td>France</td>\n",
       "      <td>Female</td>\n",
       "      <td>39</td>\n",
       "      <td>1</td>\n",
       "      <td>0.00</td>\n",
       "      <td>2</td>\n",
       "      <td>0</td>\n",
       "      <td>0</td>\n",
       "      <td>93826.63</td>\n",
       "      <td>0</td>\n",
       "    </tr>\n",
       "    <tr>\n",
       "      <th>4</th>\n",
       "      <td>850</td>\n",
       "      <td>Spain</td>\n",
       "      <td>Female</td>\n",
       "      <td>43</td>\n",
       "      <td>2</td>\n",
       "      <td>125510.82</td>\n",
       "      <td>1</td>\n",
       "      <td>1</td>\n",
       "      <td>1</td>\n",
       "      <td>79084.10</td>\n",
       "      <td>0</td>\n",
       "    </tr>\n",
       "  </tbody>\n",
       "</table>\n",
       "</div>"
      ],
      "text/plain": [
       "   CreditScore Geography  Gender  Age  Tenure    Balance  NumOfProducts  \\\n",
       "0          619    France  Female   42       2       0.00              1   \n",
       "1          608     Spain  Female   41       1   83807.86              1   \n",
       "2          502    France  Female   42       8  159660.80              3   \n",
       "3          699    France  Female   39       1       0.00              2   \n",
       "4          850     Spain  Female   43       2  125510.82              1   \n",
       "\n",
       "   HasCrCard  IsActiveMember  EstimatedSalary  Exited  \n",
       "0          1               1        101348.88       1  \n",
       "1          0               1        112542.58       0  \n",
       "2          1               0        113931.57       1  \n",
       "3          0               0         93826.63       0  \n",
       "4          1               1         79084.10       0  "
      ]
     },
     "execution_count": 6,
     "metadata": {},
     "output_type": "execute_result"
    }
   ],
   "source": [
    "# Excluir colunas que não serão utilizadas\n",
    "trash_colunas = ['RowNumber', 'CustomerId', 'Surname']\n",
    "# Criando um novo dataframe para os tratamentos\n",
    "df = df_original.drop(columns = trash_colunas)\n",
    "# Deleta dicionário com nomes das colunas deletadas\n",
    "del(trash_colunas)\n",
    "# 5 primeiras linhas\n",
    "df.head()"
   ]
  },
  {
   "cell_type": "code",
   "execution_count": 7,
   "metadata": {},
   "outputs": [
    {
     "data": {
      "text/plain": [
       "Index(['Score', 'Pais', 'Genero', 'Idade', 'Fidelidade', 'Saldo',\n",
       "       'QtdProdutos', 'TemCartao', 'ClienteAtivo', 'Renda', 'Churn'],\n",
       "      dtype='object')"
      ]
     },
     "execution_count": 7,
     "metadata": {},
     "output_type": "execute_result"
    }
   ],
   "source": [
    "# Criar dicionário com nome das novas variáveis\n",
    "novos_nomes = {\n",
    "    'CreditScore': 'Score', \n",
    "    'Geography': 'Pais', \n",
    "    'Gender': 'Genero', \n",
    "    'Age': 'Idade',\n",
    "    'Tenure': 'Fidelidade', \n",
    "    'Balance': 'Saldo', \n",
    "    'NumOfProducts': 'QtdProdutos',\n",
    "    'HasCrCard': 'TemCartao', \n",
    "    'IsActiveMember': 'ClienteAtivo', \n",
    "    'EstimatedSalary': 'Renda', \n",
    "    'Exited': 'Churn'\n",
    "    }\n",
    "# renomeando as variáveis\n",
    "df.rename(columns = novos_nomes, inplace = True)\n",
    "# Deleta dicionário com nome das novas variáveis\n",
    "del(novos_nomes)\n",
    "# Mostra o nome das colunas do dataset\n",
    "df.columns"
   ]
  },
  {
   "cell_type": "code",
   "execution_count": 8,
   "metadata": {},
   "outputs": [
    {
     "name": "stdout",
     "output_type": "stream",
     "text": [
      "<class 'pandas.core.frame.DataFrame'>\n",
      "RangeIndex: 10000 entries, 0 to 9999\n",
      "Data columns (total 11 columns):\n",
      " #   Column        Non-Null Count  Dtype  \n",
      "---  ------        --------------  -----  \n",
      " 0   Score         10000 non-null  int64  \n",
      " 1   Pais          10000 non-null  object \n",
      " 2   Genero        10000 non-null  object \n",
      " 3   Idade         10000 non-null  int64  \n",
      " 4   Fidelidade    10000 non-null  int64  \n",
      " 5   Saldo         10000 non-null  float64\n",
      " 6   QtdProdutos   10000 non-null  int64  \n",
      " 7   TemCartao     10000 non-null  int64  \n",
      " 8   ClienteAtivo  10000 non-null  int64  \n",
      " 9   Renda         10000 non-null  float64\n",
      " 10  Churn         10000 non-null  int64  \n",
      "dtypes: float64(2), int64(7), object(2)\n",
      "memory usage: 859.5+ KB\n"
     ]
    }
   ],
   "source": [
    "#Informações sobre as features\n",
    "df.info()"
   ]
  },
  {
   "attachments": {},
   "cell_type": "markdown",
   "metadata": {},
   "source": [
    "#### Verifica a quantidade de registros únicos em cada variável"
   ]
  },
  {
   "cell_type": "code",
   "execution_count": 9,
   "metadata": {},
   "outputs": [
    {
     "data": {
      "text/plain": [
       "Score            460\n",
       "Pais               3\n",
       "Genero             2\n",
       "Idade             70\n",
       "Fidelidade        11\n",
       "Saldo           6382\n",
       "QtdProdutos        4\n",
       "TemCartao          2\n",
       "ClienteAtivo       2\n",
       "Renda           9999\n",
       "Churn              2\n",
       "dtype: int64"
      ]
     },
     "execution_count": 9,
     "metadata": {},
     "output_type": "execute_result"
    }
   ],
   "source": [
    "#Criar lista com o nome das colunas (variáveis)\n",
    "variaveis = df.columns.to_list()\n",
    "#Mostrar a quantidade de registros únicos em cada variável\n",
    "df[variaveis].nunique()"
   ]
  },
  {
   "attachments": {},
   "cell_type": "markdown",
   "metadata": {},
   "source": [
    "#### Substituição (tradução) de conteúdo de variáveis"
   ]
  },
  {
   "attachments": {},
   "cell_type": "markdown",
   "metadata": {},
   "source": [
    "##### País"
   ]
  },
  {
   "cell_type": "code",
   "execution_count": null,
   "metadata": {},
   "outputs": [],
   "source": [
    "# Verifica registros únicos da variável País\n",
    "df['Pais'].unique()"
   ]
  },
  {
   "cell_type": "code",
   "execution_count": null,
   "metadata": {},
   "outputs": [],
   "source": [
    "# Alterando o nome dos países\n",
    "df['Pais'].replace({'France' : 'França', 'Spain': 'Espanha', 'Germany': 'Alemanha'}, inplace = True)\n",
    "df['Pais'].unique()"
   ]
  },
  {
   "attachments": {},
   "cell_type": "markdown",
   "metadata": {},
   "source": [
    "##### Gênero"
   ]
  },
  {
   "cell_type": "code",
   "execution_count": null,
   "metadata": {},
   "outputs": [],
   "source": [
    "# Verifica registros únicos da variável Gênero\n",
    "df['Genero'].unique()"
   ]
  },
  {
   "cell_type": "code",
   "execution_count": null,
   "metadata": {},
   "outputs": [],
   "source": [
    "# Alterando o nome dos gêneros\n",
    "df['Genero'].replace({'Male' : 'Masculino', 'Female': 'Feminino'}, inplace = True)\n",
    "df['Genero'].unique()"
   ]
  },
  {
   "attachments": {},
   "cell_type": "markdown",
   "metadata": {},
   "source": [
    "### Classificação das variáveis"
   ]
  },
  {
   "cell_type": "code",
   "execution_count": null,
   "metadata": {},
   "outputs": [],
   "source": [
    "# Listar variáveis quantitativa contínuas\n",
    "var_quantitativas_continuas = [\n",
    "    variavel for variavel in df.columns\n",
    "        if df[variavel].dtype == 'float64' and variavel not in 'Churn']\n",
    "# Mostrar informaçõs estatísticas das variáveis quantitativas contínuas\n",
    "df[var_quantitativas_continuas].describe().T"
   ]
  },
  {
   "cell_type": "code",
   "execution_count": null,
   "metadata": {},
   "outputs": [],
   "source": [
    "# Listar variáveis quantitativa discretas\n",
    "var_quantitativas_discretas = [\n",
    "    variavel for variavel in df.columns\n",
    "        if df[variavel].dtype == 'int64' and df[variavel].nunique() > 2 and variavel not in 'Churn']\n",
    "# Mostrar informaçõs estatísticas das variáveis quantitativas discretas\n",
    "df[var_quantitativas_discretas].describe().T"
   ]
  },
  {
   "cell_type": "code",
   "execution_count": null,
   "metadata": {},
   "outputs": [],
   "source": [
    "# Listar variáveis qualitativas nominais\n",
    "var_qualitativas_nominais = [\n",
    "    variavel for variavel in df.columns\n",
    "        if df[variavel].dtype == 'object' and variavel not in 'Churn']\n",
    "# Mostrar informaçõs estatísticas das variáveis qualitativas nominais\n",
    "df[var_qualitativas_nominais].describe().T"
   ]
  },
  {
   "cell_type": "code",
   "execution_count": null,
   "metadata": {},
   "outputs": [],
   "source": [
    "# Listar variáveis qualitativas ordinais\n",
    "var_qualitativas_ordinais = [\n",
    "    variavel for variavel in df.columns\n",
    "        if df[variavel].dtype == 'int64' and df[variavel].nunique() == 2 and variavel not in 'Churn']\n",
    "# Mostrar informaçõs estatísticas das variáveis qualitativas ordinais\n",
    "df[var_qualitativas_ordinais].describe().T"
   ]
  },
  {
   "cell_type": "code",
   "execution_count": null,
   "metadata": {},
   "outputs": [],
   "source": [
    "# Imprimindo lista de variáveis\n",
    "print(f'Variáveis Quantitativas Contínuas: {var_quantitativas_continuas}', end = '\\n')\n",
    "print(f'Variáveis Quantitativas Discretas: {var_quantitativas_discretas}', end = '\\n')\n",
    "print(f'Variáveis Qualitativas Nominais: {var_qualitativas_nominais}', end = '\\n')\n",
    "print(f'Variáveis Qualitativas Ordinais: {var_qualitativas_ordinais}', end = '\\n')"
   ]
  },
  {
   "cell_type": "code",
   "execution_count": null,
   "metadata": {},
   "outputs": [],
   "source": [
    "# Separar listas de variáveis por tipo\n",
    "variaveis_numericas = var_quantitativas_continuas + var_quantitativas_discretas\n",
    "variaveis_categoricas = var_qualitativas_nominais + var_qualitativas_ordinais"
   ]
  },
  {
   "attachments": {},
   "cell_type": "markdown",
   "metadata": {},
   "source": [
    "### Análise univariada"
   ]
  },
  {
   "attachments": {},
   "cell_type": "markdown",
   "metadata": {},
   "source": [
    "#### Definição do tema dos gráficos"
   ]
  },
  {
   "cell_type": "code",
   "execution_count": null,
   "metadata": {},
   "outputs": [],
   "source": [
    "# Definição do Tema do Seaborn\n",
    "sns.set_theme(\n",
    "    context = 'paper', style = 'darkgrid', palette = 'colorblind',\n",
    "    font = 'sans-serif', font_scale = 1, color_codes = True, \n",
    "    rc = None)"
   ]
  },
  {
   "attachments": {},
   "cell_type": "markdown",
   "metadata": {},
   "source": [
    "#### Criação de gráficos - Variáveis numéricas"
   ]
  },
  {
   "cell_type": "code",
   "execution_count": null,
   "metadata": {},
   "outputs": [],
   "source": [
    "# Geração de gráficos (function)\n",
    "for n, var, in enumerate(variaveis_numericas, start = 1):\n",
    "    # Descrição estatística das variáveis\n",
    "    print(f'{n}. {var} -----', end = '\\n''\\n')\n",
    "    print('Estatísticas descritivas', end = '\\n')\n",
    "    print(df[var].describe())\n",
    "    # Criação dos subplots\n",
    "    fig, axs = plt.subplots(ncols = 1, nrows = 2, sharex = True, height_ratios = [0.8, 0.2])\n",
    "    # Título do gráfico \n",
    "    fig.suptitle(f'{var}')\n",
    "    # Gráfico 1 - Histograma\n",
    "    sns.histplot(data = df, x = var, kde = False, ax = axs[0], stat = 'count', cumulative = False)\n",
    "    # Gráfico 2 - Boxplot\n",
    "    sns.boxplot(data = df, x = var, fliersize = 2, notch = True, ax = axs[1])\n",
    "    #Mostra o gráfico\n",
    "    plt.show()\n",
    "    # plt.xlim([df[var].min() - 1, df[var].max() + 1])\n",
    "    # plt.xticks(range(df[var].max() + 1))"
   ]
  },
  {
   "attachments": {},
   "cell_type": "markdown",
   "metadata": {},
   "source": [
    "#### Criação de gráficos - Qualitativas Nominais"
   ]
  },
  {
   "cell_type": "code",
   "execution_count": null,
   "metadata": {},
   "outputs": [],
   "source": [
    "# Geração de gráficos (function)\n",
    "for n, var, in enumerate(variaveis_categoricas, start = 1):\n",
    "    # Descrição estatística das variáveis\n",
    "    print(f'{n}. {var}', end = '\\n')\n",
    "    print('------------------------', end = '\\n')\n",
    "    print('Estatística descritiva', end = '\\n')\n",
    "    print('------------------------', end = '\\n')\n",
    "    print(df[var].value_counts(), end = '\\n''\\n')\n",
    "    # Criação dos subplots\n",
    "    fig = plt.subplots(figsize = (7, 5))\n",
    "    # Gráfico - Countplot\n",
    "    ax = sns.countplot(data = df, x = var)\n",
    "    #Inclusão dos rótulos\n",
    "    ax.bar_label(ax.containers[0])\n",
    "    # Título do gráfico \n",
    "    #ax.set_title(f'{var}', fontsize = 12)\n",
    "    #Mostra o gráfico\n",
    "    plt.show()\n"
   ]
  },
  {
   "attachments": {},
   "cell_type": "markdown",
   "metadata": {},
   "source": [
    "### Análise multivariada"
   ]
  },
  {
   "cell_type": "code",
   "execution_count": null,
   "metadata": {},
   "outputs": [],
   "source": [
    "variaveis_numericas"
   ]
  },
  {
   "cell_type": "code",
   "execution_count": null,
   "metadata": {},
   "outputs": [],
   "source": [
    "variaveis_categoricas"
   ]
  },
  {
   "cell_type": "code",
   "execution_count": null,
   "metadata": {},
   "outputs": [],
   "source": [
    "sns.boxplot(data = df, x = df['Saldo'], y = df['Pais'], fliersize = 2, notch = True)"
   ]
  },
  {
   "cell_type": "code",
   "execution_count": null,
   "metadata": {},
   "outputs": [],
   "source": [
    "sns.boxplot(data = df, x = df['Renda'], y = df['Pais'], fliersize = 2, notch = True)"
   ]
  },
  {
   "cell_type": "code",
   "execution_count": null,
   "metadata": {},
   "outputs": [],
   "source": [
    "sns.boxplot(data = df, x = df['Score'], y = df['Pais'], fliersize = 2, notch = True)"
   ]
  },
  {
   "cell_type": "code",
   "execution_count": null,
   "metadata": {},
   "outputs": [],
   "source": [
    "sns.boxplot(data = df, x = df['Idade'], y = df['Pais'], fliersize = 2, notch = True)"
   ]
  },
  {
   "cell_type": "code",
   "execution_count": null,
   "metadata": {},
   "outputs": [],
   "source": [
    "sns.boxplot(data = df, x = df['Fidelidade'], y = df['Pais'], fliersize = 2, notch = True)"
   ]
  },
  {
   "cell_type": "code",
   "execution_count": null,
   "metadata": {},
   "outputs": [],
   "source": [
    "#sns.boxplot(data = df, x = df['QtdProdutos'], y = df['Pais'], fliersize = 2, notch = True)\n",
    "sns.pointplot(data = df, y = df['QtdProdutos'], x = df['Pais'])"
   ]
  },
  {
   "cell_type": "code",
   "execution_count": null,
   "metadata": {},
   "outputs": [],
   "source": []
  },
  {
   "cell_type": "code",
   "execution_count": null,
   "metadata": {},
   "outputs": [],
   "source": [
    "g = sns.PairGrid(df, diag_sharey = False, corner = True)\n",
    "g.map(sns.scatterplot)"
   ]
  },
  {
   "cell_type": "code",
   "execution_count": null,
   "metadata": {},
   "outputs": [],
   "source": [
    "def plotar_graficos(df):\n",
    "    for coluna in df.columns:\n",
    "        tipo_variavel = df[coluna].dtype\n",
    "\n",
    "        if tipo_variavel == 'number':\n",
    "            print(f'{coluna}')\n",
    "        else:\n",
    "            print(f'ioahdfiuhdfu {coluna}')\n",
    "\n",
    "plotar_graficos(df)"
   ]
  },
  {
   "attachments": {},
   "cell_type": "markdown",
   "metadata": {},
   "source": [
    "#### Matriz de Correlação"
   ]
  },
  {
   "cell_type": "code",
   "execution_count": null,
   "metadata": {},
   "outputs": [],
   "source": [
    "#Matriz de correlação\n",
    "corr = df.corr()\n",
    "corr\n",
    "\n",
    "df.corr()"
   ]
  },
  {
   "cell_type": "code",
   "execution_count": null,
   "metadata": {},
   "outputs": [],
   "source": [
    "#Criação da máscara a ser utilizada no heatmap de correlação\n",
    "mask = np.triu(np.ones_like(corr, dtype = bool))\n",
    "#Configuração da paleta de divergência\n",
    "paleta_divergencia = sns.diverging_palette(h_neg = 250, h_pos = 20, s = 75, l = 50, sep = 1, n = 6, center = 'light', as_cmap = False)\n",
    "paleta_divergencia"
   ]
  },
  {
   "cell_type": "code",
   "execution_count": null,
   "metadata": {},
   "outputs": [],
   "source": [
    "#Criação do gráfico da matriz de correlação\n",
    "f, ax = plt.subplots(figsize = (9, 7))\n",
    "sns.heatmap(corr, mask = mask, cmap = paleta_divergencia, linewidths= 0.4, cbar=True, annot = True)\n",
    "plt.title('Matriz de Correlação')"
   ]
  },
  {
   "cell_type": "code",
   "execution_count": null,
   "metadata": {},
   "outputs": [],
   "source": [
    "#Criação dos subplots\n",
    "fig, axs = plt.subplots(ncols = 1, nrows = 2, sharex=True, height_ratios=[0.8, 0.2])\n",
    "#Título da imagem\n",
    "plt.suptitle('Distribuição por tempo de fidelidade do cliente')\n",
    "#Gráfico 1 - Histograma\n",
    "sns.histplot(x = df['Fidelidade'], kde = False, ax = axs[0], stat = 'count', cumulative = False)\n",
    "#Gráfico 2 - Boxplot\n",
    "#* Defição dos limites do eixo X\n",
    "plt.xlim([df['Fidelidade'].min() - 1, df['Fidelidade'].max() + 1])\n",
    "#* Defição da quantidade de ticks\n",
    "plt.xticks(range(df['Fidelidade'].max() + 1))\n",
    "#\n",
    "sns.boxplot(x = df['Fidelidade'], fliersize = 2, whis = 1, notch = True, ax = axs[1])"
   ]
  },
  {
   "cell_type": "code",
   "execution_count": null,
   "metadata": {},
   "outputs": [],
   "source": [
    "# #Criando a figura para plotagem dos gráficos\n",
    "# fig = make_subplots(rows = 2, shared_xaxes = True, vertical_spacing = 0.05, row_heights = [0.6, 0.4])\n",
    "\n",
    "# #Gráfico 1 - Histograma\n",
    "# fig.add_trace(go.Histogram(x = df.Saldo), row = 1, col = 1)\n",
    "\n",
    "# #Gráfico 2 - Boxplot\n",
    "# fig.add_trace(go.Box(x = df.Saldo, name = '', orientation = 'h'), row = 2, col=1)\n",
    "\n",
    "# #Alterações de layout    \n",
    "# fig.update_layout(title = 'Saldo', showlegend = False, title_font_size = 18)\n",
    "\n",
    "# #Configuração do eixo X    \n",
    "# fig.update_xaxes(range = [-10000, 300000])\n",
    "\n",
    "# #Mostrar o gráfico\n",
    "# fig.show()"
   ]
  },
  {
   "cell_type": "code",
   "execution_count": null,
   "metadata": {},
   "outputs": [],
   "source": [
    "# #Criando a figura para plotagem dos gráficos\n",
    "# fig = make_subplots(rows = 2, shared_xaxes = True, vertical_spacing = 0.05, row_heights = [0.6, 0.4])\n",
    "\n",
    "# #Gráfico 1 - Histograma\n",
    "# fig.add_trace(go.Histogram(x = df.QtdProdutos), row = 1, col = 1)\n",
    "\n",
    "# #Gráfico 2 - Boxplot\n",
    "# fig.add_trace(go.Box(x = df.QtdProdutos, name = '', orientation = 'h'), row = 2, col=1)\n",
    "\n",
    "# #Alterações de layout    \n",
    "# fig.update_layout(title = 'Quantidade de Produtos', showlegend = False, title_font_size = 18)\n",
    "\n",
    "# #Configuração do eixo X    \n",
    "# fig.update_xaxes(range = [0, 5])\n",
    "\n",
    "# #Mostrar o gráfico\n",
    "# fig.show()"
   ]
  },
  {
   "cell_type": "code",
   "execution_count": null,
   "metadata": {},
   "outputs": [],
   "source": [
    "# #Criando a figura para plotagem dos gráficos\n",
    "# fig = make_subplots(rows = 2, shared_xaxes = True, vertical_spacing = 0.05, row_heights = [0.6, 0.4])\n",
    "\n",
    "# #Gráfico 1 - Histograma\n",
    "# fig.add_trace(go.Histogram(x = df.Fidelidade), row = 1, col = 1)\n",
    "\n",
    "# #Gráfico 2 - Boxplot\n",
    "# fig.add_trace(go.Box(x = df.Fidelidade, name = '', orientation = 'h'), row = 2, col=1)\n",
    "\n",
    "# #Alterações de layout    \n",
    "# fig.update_layout(title = 'Tempo de fidelidade (em anos)', showlegend = False, title_font_size = 18)\n",
    "\n",
    "# #Configuração do eixo X    \n",
    "# fig.update_xaxes(range = [-5, 15])\n",
    "\n",
    "# #Mostrar o gráfico\n",
    "# fig.show()"
   ]
  },
  {
   "cell_type": "code",
   "execution_count": null,
   "metadata": {},
   "outputs": [],
   "source": [
    "# #Criando a figura para plotagem dos gráficos\n",
    "# fig = make_subplots(rows = 2, shared_xaxes = True, vertical_spacing = 0.05, row_heights = [0.6, 0.4])\n",
    "\n",
    "# #Gráfico 1 - Histograma\n",
    "# fig.add_trace(go.Histogram(x = df.Score), row = 1, col = 1)\n",
    "\n",
    "# #Gráfico 2 - Boxplot\n",
    "# fig.add_trace(go.Box(x = df.Score, name = '', orientation = 'h'), row = 2, col=1)\n",
    "\n",
    "# #Alterações de layout    \n",
    "# fig.update_layout(title = 'Score de Crédito', showlegend = False, title_font_size = 18)\n",
    "\n",
    "# #Configuração do eixo X    \n",
    "# fig.update_xaxes(range = [300, 900])\n",
    "\n",
    "# #Mostrar o gráfico\n",
    "# fig.show()"
   ]
  },
  {
   "cell_type": "code",
   "execution_count": null,
   "metadata": {},
   "outputs": [],
   "source": [
    "# #Criando a figura para plotagem dos gráficos\n",
    "# fig = make_subplots(rows = 2, shared_xaxes = True, vertical_spacing = 0.05, row_heights = [0.6, 0.4])\n",
    "\n",
    "# #Gráfico 1 - Histograma\n",
    "# fig.add_trace(go.Histogram(x = df.Idade), row = 1, col = 1)\n",
    "\n",
    "# #Gráfico 2 - Boxplot\n",
    "# fig.add_trace(go.Box(x = df.Idade, name = '', orientation = 'h'), row = 2, col=1)\n",
    "\n",
    "# #Alterações de layout    \n",
    "# fig.update_layout(title = 'Idade', showlegend = False, title_font_size = 18)\n",
    "\n",
    "# #Configuração do eixo X    \n",
    "# fig.update_xaxes(range = [0, 100])\n",
    "\n",
    "# #Mostrar o gráfico\n",
    "# fig.show()"
   ]
  },
  {
   "cell_type": "code",
   "execution_count": null,
   "metadata": {},
   "outputs": [],
   "source": [
    "# Definição do template dos gráficos\n",
    "# pio.templates.default = 'seaborn'"
   ]
  },
  {
   "cell_type": "code",
   "execution_count": null,
   "metadata": {},
   "outputs": [],
   "source": [
    "#Definição do estilo dos gráficos\n",
    "# plt.style.use('seaborn-v0_8')\n",
    "# pio.templates"
   ]
  },
  {
   "cell_type": "code",
   "execution_count": null,
   "metadata": {},
   "outputs": [],
   "source": [
    "# #Criação de perfil para geração de relatório Profiling\n",
    "# profile = ProfileReport(df, title = 'Bank Churn')\n",
    "# #Funções para utilização do pacote ydata_profiling em Jupyter\n",
    "# profile.to_widgets()\n",
    "# profile.to_notebook_iframe()"
   ]
  },
  {
   "cell_type": "code",
   "execution_count": null,
   "metadata": {},
   "outputs": [],
   "source": [
    "# #Salvando o relatório em html\n",
    "# profile.to_file('churn_Profile.html')"
   ]
  },
  {
   "cell_type": "code",
   "execution_count": null,
   "metadata": {},
   "outputs": [],
   "source": [
    "df.index"
   ]
  },
  {
   "cell_type": "code",
   "execution_count": null,
   "metadata": {},
   "outputs": [],
   "source": [
    "df.columns"
   ]
  },
  {
   "cell_type": "code",
   "execution_count": null,
   "metadata": {},
   "outputs": [],
   "source": [
    "df.head()"
   ]
  },
  {
   "cell_type": "code",
   "execution_count": null,
   "metadata": {},
   "outputs": [],
   "source": [
    "df.head().sort_values(by = 'Idade', ascending = False)"
   ]
  },
  {
   "cell_type": "code",
   "execution_count": null,
   "metadata": {},
   "outputs": [],
   "source": [
    "df['Score'].head()"
   ]
  },
  {
   "cell_type": "code",
   "execution_count": null,
   "metadata": {},
   "outputs": [],
   "source": [
    "df[0:3]"
   ]
  },
  {
   "cell_type": "code",
   "execution_count": null,
   "metadata": {},
   "outputs": [],
   "source": [
    "df.loc[ 0:5, ['Pais', 'Saldo']]"
   ]
  },
  {
   "cell_type": "code",
   "execution_count": null,
   "metadata": {},
   "outputs": [],
   "source": [
    "df.iloc[0]"
   ]
  },
  {
   "cell_type": "code",
   "execution_count": null,
   "metadata": {},
   "outputs": [],
   "source": [
    "df.iloc[1, 1]"
   ]
  },
  {
   "cell_type": "code",
   "execution_count": null,
   "metadata": {},
   "outputs": [],
   "source": []
  }
 ],
 "metadata": {
  "kernelspec": {
   "display_name": "Python 3",
   "language": "python",
   "name": "python3"
  },
  "language_info": {
   "codemirror_mode": {
    "name": "ipython",
    "version": 3
   },
   "file_extension": ".py",
   "mimetype": "text/x-python",
   "name": "python",
   "nbconvert_exporter": "python",
   "pygments_lexer": "ipython3",
   "version": "3.12.2"
  },
  "orig_nbformat": 4
 },
 "nbformat": 4,
 "nbformat_minor": 2
}
