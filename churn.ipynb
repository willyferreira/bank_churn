{
 "cells": [
  {
   "attachments": {},
   "cell_type": "markdown",
   "metadata": {},
   "source": [
    "<h3>Churn de Clientes - Bank Dataset</h3>"
   ]
  },
  {
   "cell_type": "code",
   "execution_count": null,
   "metadata": {},
   "outputs": [],
   "source": [
    "#Link do dataset - https://www.kaggle.com/datasets/mathchi/churn-for-bank-customers\n",
    "\n",
    "#Descrição das variáveis\n",
    "#RowNumber - Número da linha do dataset\n",
    "#CustomerId - Número randômico e único que identifica o cliente\n",
    "#Surname - Sobrenome do cliente\n",
    "#CreditScore - Pontuação de crédito atribuida ao cliente\n",
    "#Geography - Localização do cliente\n",
    "#Gender - Gênero do cliente\n",
    "#Age - Idade do cliente\n",
    "#Tenure - Fidelidade do cliente | Quantidade de anos que o cliente está na instituição\n",
    "#Balance - Saldo do cliente\n",
    "#NumOfProducts - Quantidade de produtos que o cliente comprou no banco\n",
    "#HasCrCard - Se o cliente possui ou não cartão de crédito sendo 1|Sim e 0|Não\n",
    "#IsActiveMember - Se o cliente é ativo ou não no banco\n",
    "#EstimatedSalary - Renda do cliente\n",
    "#Exited - Se o cliente deixou ou não a instituição sendo 1|Sim e 0|Não  "
   ]
  },
  {
   "attachments": {},
   "cell_type": "markdown",
   "metadata": {},
   "source": [
    "<h5>1. Importação dos pacotes </h5>"
   ]
  },
  {
   "cell_type": "code",
   "execution_count": null,
   "metadata": {},
   "outputs": [],
   "source": [
    "#Manipulação de dados\n",
    "import pandas as pd\n",
    "import numpy as np\n",
    "import scipy as sp\n",
    "import scipy.stats as st\n",
    "\n",
    "#DataViz\n",
    "import matplotlib.pyplot as plt\n",
    "import seaborn as sns\n",
    "import plotly.express as px\n",
    "import chart_studio.plotly as py\n",
    "import plotly.graph_objects as go\n",
    "\n",
    "#Machine Learning\n"
   ]
  },
  {
   "attachments": {},
   "cell_type": "markdown",
   "metadata": {},
   "source": [
    "<h5>2. Leitura e tratamento do dataset </h5>"
   ]
  },
  {
   "cell_type": "code",
   "execution_count": null,
   "metadata": {},
   "outputs": [],
   "source": [
    "df_original = pd.read_csv(filepath_or_buffer='churn.csv', header=0)\n",
    "df_original.head()"
   ]
  },
  {
   "cell_type": "code",
   "execution_count": null,
   "metadata": {},
   "outputs": [],
   "source": [
    "#Excluir colunas que não serão utilizadas\n",
    "colunas_excluidas = {'RowNumber', 'CustomerId', 'Surname'}\n",
    "#\n",
    "df = df_original.drop(columns=colunas_excluidas)"
   ]
  },
  {
   "cell_type": "code",
   "execution_count": null,
   "metadata": {},
   "outputs": [],
   "source": [
    "#Criar lista com nome das novas variáveis\n",
    "new_variaveis = {\n",
    "    'CustomerId': 'IdCliente',\n",
    "    'CreditScore': 'ScoreCredito',\n",
    "    'Geography': 'Localizacao',\n",
    "    'Gender': 'Genero',\n",
    "    'Age': 'Idade',\n",
    "    'Tenure': 'TempoFidelidade',\n",
    "    'Balance': 'Saldo',\n",
    "    'NumOfProducts': 'QtdProdutos',\n",
    "    'HasCrCard': 'TemCartao',\n",
    "    'IsActiveMember': 'ClienteAtivo',\n",
    "    'EstimatedSalary': 'SalarioEstimado',\n",
    "    'Exited': 'Churn'\n",
    "            }\n",
    "#renomeando as variáveis\n",
    "df.rename(columns=new_variaveis, inplace=True)\n",
    "#\n",
    "df.head()"
   ]
  },
  {
   "attachments": {},
   "cell_type": "markdown",
   "metadata": {},
   "source": [
    "<h4>3. Análise Exploratória </h4>"
   ]
  },
  {
   "cell_type": "code",
   "execution_count": null,
   "metadata": {},
   "outputs": [],
   "source": [
    "#Informações sobre missing values e tipo das variáveis\n",
    "df.info()"
   ]
  },
  {
   "cell_type": "code",
   "execution_count": null,
   "metadata": {},
   "outputs": [],
   "source": [
    "#Estatísticas descritivas das variáveis numéricas\n",
    "df.select_dtypes('number').describe().T"
   ]
  },
  {
   "cell_type": "code",
   "execution_count": null,
   "metadata": {},
   "outputs": [],
   "source": [
    "#Estatísticas descritivas das variáveis categóricas\n",
    "df.select_dtypes('object').describe().T"
   ]
  },
  {
   "cell_type": "code",
   "execution_count": null,
   "metadata": {},
   "outputs": [],
   "source": [
    "#Lista variáveis numéricas\n",
    "df_numericas = df.select_dtypes('number').columns \n",
    "#Lista variáveis categóricas\n",
    "df_categoricas = df.select_dtypes('object').columns \n",
    "\n",
    "print('Variáveis numéricas:', df_numericas)\n",
    "print('Variáveis categóricas:', df_categoricas)"
   ]
  },
  {
   "attachments": {},
   "cell_type": "markdown",
   "metadata": {},
   "source": [
    "<h4>3.1. Análise univariada</h4>"
   ]
  },
  {
   "cell_type": "code",
   "execution_count": null,
   "metadata": {},
   "outputs": [],
   "source": [
    "#IQR - https://www.statisticshowto.com/probability-and-statistics/interquartile-range/\n",
    "#Lower and Upper Fence - https://www.statisticshowto.com/upper-and-lower-fences/"
   ]
  },
  {
   "cell_type": "code",
   "execution_count": null,
   "metadata": {},
   "outputs": [],
   "source": [
    "#Definição do estilo dos gráficos\n",
    "plt.style.use('seaborn-v0_8')"
   ]
  },
  {
   "attachments": {},
   "cell_type": "markdown",
   "metadata": {},
   "source": [
    "<h5>Score de Crédito<h5>"
   ]
  },
  {
   "cell_type": "code",
   "execution_count": null,
   "metadata": {},
   "outputs": [],
   "source": [
    "df.ScoreCredito.describe()"
   ]
  },
  {
   "cell_type": "code",
   "execution_count": null,
   "metadata": {},
   "outputs": [],
   "source": [
    "from plotly.subplots import make_subplots\n",
    "fig = make_subplots(rows=2, cols=1, shared_xaxes=True, vertical_spacing=0.02)\n",
    "\n",
    "fig.add_trace(go.Histogram(x = df.ScoreCredito), row=1, col=1)\n",
    "fig.add_trace(go.Box(x = df.ScoreCredito, orientation='h'), row=2, col=1)\n",
    "fig.update_layout(showlegend=False, title='Score de Crédito')\n",
    "fig.update_xaxes(range=(300, 900))\n",
    "\n",
    "fig.show()"
   ]
  },
  {
   "cell_type": "code",
   "execution_count": null,
   "metadata": {},
   "outputs": [],
   "source": [
    "df.Idade.describe()"
   ]
  },
  {
   "cell_type": "code",
   "execution_count": null,
   "metadata": {},
   "outputs": [],
   "source": [
    "from plotly.subplots import make_subplots\n",
    "fig = make_subplots(rows=2, cols=1, shared_xaxes=True, vertical_spacing=0.02)\n",
    "\n",
    "fig.add_trace(go.Histogram(x = df.Idade), row=1, col=1)\n",
    "fig.add_trace(go.Box(x = df.Idade, orientation='h'), row=2, col=1)\n",
    "fig.update_layout(showlegend=False, title='Idade')\n",
    "fig.update_xaxes(range=(0, 100))\n",
    "\n",
    "fig.show()"
   ]
  },
  {
   "cell_type": "code",
   "execution_count": null,
   "metadata": {},
   "outputs": [],
   "source": [
    "df.TempoFidelidade.describe()"
   ]
  },
  {
   "cell_type": "code",
   "execution_count": null,
   "metadata": {},
   "outputs": [],
   "source": [
    "from plotly.subplots import make_subplots\n",
    "fig = make_subplots(rows=2, cols=1, shared_xaxes=True, vertical_spacing=0.02)\n",
    "\n",
    "fig.add_trace(go.Histogram(x = df.TempoFidelidade), row=1, col=1)\n",
    "fig.add_trace(go.Box(x = df.TempoFidelidade, orientation='h'), row=2, col=1)\n",
    "fig.update_layout(showlegend=False, title='Tempo de fidelidade (em anos)')\n",
    "fig.update_xaxes(range=(-5, 15))\n",
    "\n",
    "fig.show()"
   ]
  },
  {
   "attachments": {},
   "cell_type": "markdown",
   "metadata": {},
   "source": [
    "_________________"
   ]
  },
  {
   "cell_type": "code",
   "execution_count": null,
   "metadata": {},
   "outputs": [],
   "source": [
    "#Definições dos quartis, mediana e limites e contabilização de outliers\n",
    "q1_ScoreCredito = np.nanpercentile(df.ScoreCredito, 25)\n",
    "q3_ScoreCredito = np.nanpercentile(df.ScoreCredito, 75)\n",
    "media_ScoreCredito = np.mean(df.ScoreCredito)\n",
    "iqr_ScoreCredito = q3_ScoreCredito - q1_ScoreCredito\n",
    "lower_f_ScoreCredito = q1_ScoreCredito - (1.5 * iqr_ScoreCredito)\n",
    "upper_f_ScoreCredito = q3_ScoreCredito + (1.5 * iqr_ScoreCredito)\n",
    "\n",
    "#Quantidade de outliers\n",
    "ScoreCredito_outlier = []\n",
    "for num in df.ScoreCredito:\n",
    "    if num < lower_f_ScoreCredito:\n",
    "        ScoreCredito_outlier.append(num)\n",
    "    if num > upper_f_ScoreCredito:\n",
    "        ScoreCredito_outlier.append(num)\n",
    "\n",
    "#Quantidade de não outliers\n",
    "ScoreCredito_non_outlier = []\n",
    "for num in df.ScoreCredito:\n",
    "    if num >= lower_f_ScoreCredito:\n",
    "        ScoreCredito_non_outlier.append(num)\n",
    "    if num <= upper_f_ScoreCredito:\n",
    "        ScoreCredito_non_outlier.append(num)"
   ]
  },
  {
   "cell_type": "code",
   "execution_count": null,
   "metadata": {},
   "outputs": [],
   "source": [
    "print('---Score de Crédito---')\n",
    "print('Q1:', q1_ScoreCredito)\n",
    "print('Q3:', q3_ScoreCredito)\n",
    "print('Intervalo Interquartil (IQR):', iqr_ScoreCredito)\n",
    "print('Média:', media_ScoreCredito)\n",
    "print('Lower Fence:', lower_f_ScoreCredito)\n",
    "print('Upper Fence:', upper_f_ScoreCredito)\n",
    "print('Soma de valores únicos:', len(ScoreCredito_outlier))\n",
    "print('Menor valor:', np.min(ScoreCredito_non_outlier))\n",
    "print('Maior valor:', np.max(ScoreCredito_non_outlier))\n",
    "print('Outliers:', len(ScoreCredito_outlier))\n",
    "print('Não outliers:', len(ScoreCredito_non_outlier))"
   ]
  },
  {
   "cell_type": "code",
   "execution_count": null,
   "metadata": {},
   "outputs": [],
   "source": [
    "#Criando figura para inserção de dois gráficos\n",
    "fig, ax = plt.subplots(2, 1, gridspec_kw={'height_ratios': [5,1]}, sharex=True)\n",
    "#Histograma\n",
    "sns.histplot(x = df.ScoreCredito, kde=True, ax=ax[0])\n",
    "ax[0].axvline(x = q1_ScoreCredito, linestyle='-', linewidth=1.5, color='black')\n",
    "ax[0].axvline(x = q3_ScoreCredito, linestyle='-', linewidth=1.5, color='black')\n",
    "ax[0].axvline(x = np.nanpercentile(df.ScoreCredito, 50), linestyle='-', linewidth=1.5, color='black')\n",
    "ax[0].axvline(x = np.mean(df.ScoreCredito), linestyle=':', linewidth=2, color='red')\n",
    "#Boxplot\n",
    "sns.boxplot(x = df.ScoreCredito, ax=ax[1])"
   ]
  },
  {
   "attachments": {},
   "cell_type": "markdown",
   "metadata": {},
   "source": [
    "_________________"
   ]
  },
  {
   "cell_type": "code",
   "execution_count": null,
   "metadata": {},
   "outputs": [],
   "source": [
    "def outlier(x):\n",
    "    q1 = np.nanpercentile(x, 25)\n",
    "    q3 = np.nanpercentile(x, 75)\n",
    "    iqr = q3 - q1\n",
    "    lower_fence = q1 - (1.5 * iqr)\n",
    "    upper_fence = q3 + (1.5 * iqr)\n",
    "    \n",
    "    outlier = []\n",
    "    for num in x:\n",
    "        if num < lower_fence:\n",
    "            outlier.append(num)\n",
    "        if num > upper_fence:\n",
    "            outlier.append(num)\n",
    "            \n",
    "    non_outlier = []\n",
    "    for num in x:\n",
    "        if num >= lower_fence:\n",
    "            non_outlier.append(num)\n",
    "        if num <= upper_fence:\n",
    "            non_outlier.append(num)\n",
    "    \n",
    "    print(f'sum of unique value : {len(outlier)}' )\n",
    "    print(f'lower_value: {np.min(non_outlier)}')\n",
    "    print(f'upper_vaue: {np.max(non_outlier)}')"
   ]
  },
  {
   "cell_type": "code",
   "execution_count": null,
   "metadata": {},
   "outputs": [],
   "source": [
    "norm_data = []\n",
    "for y,x in enumerate(df_numericas,1):\n",
    "    print(f'{y}. {x}')\n",
    "    fig, ax = plt.subplots(2,1, sharex=True, gridspec_kw={'height_ratios':[5,1]})\n",
    "    sns.histplot(data=df, x=x, kde=True, ax=ax[0])\n",
    "    ax[0].axvline(np.nanpercentile(df[x], 25), c='red',linestyle='--')\n",
    "    ax[0].axvline(np.nanpercentile(df[x], 50), c='red',linestyle='--')\n",
    "    ax[0].axvline(np.nanpercentile(df[x], 75), c='red',linestyle='--')\n",
    "    ax[0].axvline(np.mean(df[x]), c='blue',linestyle='--')\n",
    "    \n",
    "    sns.boxplot(data=df, x=x, ax=ax[1])\n",
    "    ax[1].set_xlabel(f'{x}')\n",
    "    plt.show()\n",
    "    print(' ')\n",
    "    df[x].describe()\n",
    "    print(' ')\n",
    "    outlier(df[x])\n",
    "    print(' ')\n",
    "    sk, pval = st.skewtest(df[x])\n",
    "    if pval < 0.05:\n",
    "        print(f'Data skewed with skew is {sk}')\n",
    "    else:\n",
    "        print(f'Data not skewed')\n",
    "    print(' ')\n",
    "    norm, pval = st.normaltest(df[x])\n",
    "    if pval < 0.05:\n",
    "        print(f'Data not normal')\n",
    "    else:\n",
    "        print(f'Data normal')\n",
    "        norm_data.append(x)\n",
    "    print('-'*50)\n",
    "    print(' ')"
   ]
  }
 ],
 "metadata": {
  "kernelspec": {
   "display_name": "Python 3",
   "language": "python",
   "name": "python3"
  },
  "language_info": {
   "codemirror_mode": {
    "name": "ipython",
    "version": 3
   },
   "file_extension": ".py",
   "mimetype": "text/x-python",
   "name": "python",
   "nbconvert_exporter": "python",
   "pygments_lexer": "ipython3",
   "version": "3.11.1"
  },
  "orig_nbformat": 4
 },
 "nbformat": 4,
 "nbformat_minor": 2
}
