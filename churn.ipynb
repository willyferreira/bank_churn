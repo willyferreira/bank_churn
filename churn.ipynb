{
 "cells": [
  {
   "attachments": {},
   "cell_type": "markdown",
   "metadata": {},
   "source": [
    "# Churn de Clientes - Bank Dataset"
   ]
  },
  {
   "cell_type": "code",
   "execution_count": 83,
   "metadata": {},
   "outputs": [],
   "source": [
    "## ----------------------------------------------------------------\n",
    "#* Link do dataset\n",
    "    #  https://www.kaggle.com/datasets/mathchi/churn-for-bank-customers\n",
    "\n",
    "#* Descrição das variáveis\n",
    "    #* RowNumber\n",
    "    #Número da linha do dataset\n",
    "    #* CustomerId\n",
    "    #Número randômico e único que identifica o cliente\n",
    "    #* Surname\n",
    "    #Sobrenome do cliente\n",
    "    #* CreditScore\n",
    "    #Pontuação de crédito atribuida ao cliente\n",
    "    #* Geography\n",
    "    #Localização do cliente\n",
    "    #* Gender\n",
    "    #Gênero do cliente\n",
    "    #* Age\n",
    "    #Idade do cliente\n",
    "    #* Tenure\n",
    "    #Fidelidade do cliente | Quantidade de anos que o cliente está na instituição\n",
    "    #* Balance\n",
    "    #Saldo do cliente\n",
    "    #* NumOfProducts\n",
    "    #Quantidade de produtos que o cliente comprou no banco\n",
    "    #* HasCrCard\n",
    "    #Se o cliente possui ou não cartão de crédito sendo 1|Sim e 0|Não\n",
    "    #* IsActiveMember\n",
    "    #  - Se o cliente é ativo ou não no banco\n",
    "    #* EstimatedSalary\n",
    "    #  - Renda do cliente\n",
    "    #*Exited\n",
    "    #  - Se o cliente deixou ou não a instituição sendo 1|Sim e 0|Não  \n",
    "## ----------------------------------------------------------------"
   ]
  },
  {
   "attachments": {},
   "cell_type": "markdown",
   "metadata": {},
   "source": [
    "## Importação dos pacotes"
   ]
  },
  {
   "cell_type": "code",
   "execution_count": 84,
   "metadata": {},
   "outputs": [],
   "source": [
    "## ----------------------------------------------------------------\n",
    "#* Manipulação de dados\n",
    "import pandas as pd\n",
    "import numpy as np\n",
    "import scipy as sp\n",
    "import scipy.stats as st\n",
    "#* DataViz\n",
    "import matplotlib.pyplot as plt\n",
    "import seaborn as sns\n",
    "import seaborn.objects as so\n",
    "import ydata_profiling\n",
    "#! Utilizar ydata_profiling em Jupyter notebook\n",
    "# import sys\n",
    "# !{sys.executable} -m pip install -U ydata-profiling[notebook]\n",
    "# !jupyter nbextension enable --py widgetsnbextension\n",
    "#\n",
    "from ydata_profiling import ProfileReport\n",
    "#! Pacotes não utilizados no momento\n",
    "#import plotly.express as px\n",
    "#import plotly.io as pio\n",
    "#import chart_studio.plotly as py\n",
    "#import plotly.graph_objects as go\n",
    "#from plotly.subplots import make_subplots\n",
    "#* Machine Learning\n",
    "## ----------------------------------------------------------------"
   ]
  },
  {
   "attachments": {},
   "cell_type": "markdown",
   "metadata": {},
   "source": [
    "## Leitura e tratamento do dataset"
   ]
  },
  {
   "cell_type": "code",
   "execution_count": 85,
   "metadata": {},
   "outputs": [
    {
     "data": {
      "text/html": [
       "<div>\n",
       "<style scoped>\n",
       "    .dataframe tbody tr th:only-of-type {\n",
       "        vertical-align: middle;\n",
       "    }\n",
       "\n",
       "    .dataframe tbody tr th {\n",
       "        vertical-align: top;\n",
       "    }\n",
       "\n",
       "    .dataframe thead th {\n",
       "        text-align: right;\n",
       "    }\n",
       "</style>\n",
       "<table border=\"1\" class=\"dataframe\">\n",
       "  <thead>\n",
       "    <tr style=\"text-align: right;\">\n",
       "      <th></th>\n",
       "      <th>RowNumber</th>\n",
       "      <th>CustomerId</th>\n",
       "      <th>Surname</th>\n",
       "      <th>CreditScore</th>\n",
       "      <th>Geography</th>\n",
       "      <th>Gender</th>\n",
       "      <th>Age</th>\n",
       "      <th>Tenure</th>\n",
       "      <th>Balance</th>\n",
       "      <th>NumOfProducts</th>\n",
       "      <th>HasCrCard</th>\n",
       "      <th>IsActiveMember</th>\n",
       "      <th>EstimatedSalary</th>\n",
       "      <th>Exited</th>\n",
       "    </tr>\n",
       "  </thead>\n",
       "  <tbody>\n",
       "    <tr>\n",
       "      <th>0</th>\n",
       "      <td>1</td>\n",
       "      <td>15634602</td>\n",
       "      <td>Hargrave</td>\n",
       "      <td>619</td>\n",
       "      <td>France</td>\n",
       "      <td>Female</td>\n",
       "      <td>42</td>\n",
       "      <td>2</td>\n",
       "      <td>0.00</td>\n",
       "      <td>1</td>\n",
       "      <td>1</td>\n",
       "      <td>1</td>\n",
       "      <td>101348.88</td>\n",
       "      <td>1</td>\n",
       "    </tr>\n",
       "    <tr>\n",
       "      <th>1</th>\n",
       "      <td>2</td>\n",
       "      <td>15647311</td>\n",
       "      <td>Hill</td>\n",
       "      <td>608</td>\n",
       "      <td>Spain</td>\n",
       "      <td>Female</td>\n",
       "      <td>41</td>\n",
       "      <td>1</td>\n",
       "      <td>83807.86</td>\n",
       "      <td>1</td>\n",
       "      <td>0</td>\n",
       "      <td>1</td>\n",
       "      <td>112542.58</td>\n",
       "      <td>0</td>\n",
       "    </tr>\n",
       "    <tr>\n",
       "      <th>2</th>\n",
       "      <td>3</td>\n",
       "      <td>15619304</td>\n",
       "      <td>Onio</td>\n",
       "      <td>502</td>\n",
       "      <td>France</td>\n",
       "      <td>Female</td>\n",
       "      <td>42</td>\n",
       "      <td>8</td>\n",
       "      <td>159660.80</td>\n",
       "      <td>3</td>\n",
       "      <td>1</td>\n",
       "      <td>0</td>\n",
       "      <td>113931.57</td>\n",
       "      <td>1</td>\n",
       "    </tr>\n",
       "    <tr>\n",
       "      <th>3</th>\n",
       "      <td>4</td>\n",
       "      <td>15701354</td>\n",
       "      <td>Boni</td>\n",
       "      <td>699</td>\n",
       "      <td>France</td>\n",
       "      <td>Female</td>\n",
       "      <td>39</td>\n",
       "      <td>1</td>\n",
       "      <td>0.00</td>\n",
       "      <td>2</td>\n",
       "      <td>0</td>\n",
       "      <td>0</td>\n",
       "      <td>93826.63</td>\n",
       "      <td>0</td>\n",
       "    </tr>\n",
       "    <tr>\n",
       "      <th>4</th>\n",
       "      <td>5</td>\n",
       "      <td>15737888</td>\n",
       "      <td>Mitchell</td>\n",
       "      <td>850</td>\n",
       "      <td>Spain</td>\n",
       "      <td>Female</td>\n",
       "      <td>43</td>\n",
       "      <td>2</td>\n",
       "      <td>125510.82</td>\n",
       "      <td>1</td>\n",
       "      <td>1</td>\n",
       "      <td>1</td>\n",
       "      <td>79084.10</td>\n",
       "      <td>0</td>\n",
       "    </tr>\n",
       "  </tbody>\n",
       "</table>\n",
       "</div>"
      ],
      "text/plain": [
       "   RowNumber  CustomerId   Surname  CreditScore Geography  Gender  Age  \\\n",
       "0          1    15634602  Hargrave          619    France  Female   42   \n",
       "1          2    15647311      Hill          608     Spain  Female   41   \n",
       "2          3    15619304      Onio          502    France  Female   42   \n",
       "3          4    15701354      Boni          699    France  Female   39   \n",
       "4          5    15737888  Mitchell          850     Spain  Female   43   \n",
       "\n",
       "   Tenure    Balance  NumOfProducts  HasCrCard  IsActiveMember  \\\n",
       "0       2       0.00              1          1               1   \n",
       "1       1   83807.86              1          0               1   \n",
       "2       8  159660.80              3          1               0   \n",
       "3       1       0.00              2          0               0   \n",
       "4       2  125510.82              1          1               1   \n",
       "\n",
       "   EstimatedSalary  Exited  \n",
       "0        101348.88       1  \n",
       "1        112542.58       0  \n",
       "2        113931.57       1  \n",
       "3         93826.63       0  \n",
       "4         79084.10       0  "
      ]
     },
     "execution_count": 85,
     "metadata": {},
     "output_type": "execute_result"
    }
   ],
   "source": [
    "df_original = pd.read_csv(filepath_or_buffer = 'churn.csv')\n",
    "df_original.head()"
   ]
  },
  {
   "cell_type": "code",
   "execution_count": 86,
   "metadata": {},
   "outputs": [
    {
     "data": {
      "text/html": [
       "<div>\n",
       "<style scoped>\n",
       "    .dataframe tbody tr th:only-of-type {\n",
       "        vertical-align: middle;\n",
       "    }\n",
       "\n",
       "    .dataframe tbody tr th {\n",
       "        vertical-align: top;\n",
       "    }\n",
       "\n",
       "    .dataframe thead th {\n",
       "        text-align: right;\n",
       "    }\n",
       "</style>\n",
       "<table border=\"1\" class=\"dataframe\">\n",
       "  <thead>\n",
       "    <tr style=\"text-align: right;\">\n",
       "      <th></th>\n",
       "      <th>CreditScore</th>\n",
       "      <th>Geography</th>\n",
       "      <th>Gender</th>\n",
       "      <th>Age</th>\n",
       "      <th>Tenure</th>\n",
       "      <th>Balance</th>\n",
       "      <th>NumOfProducts</th>\n",
       "      <th>HasCrCard</th>\n",
       "      <th>IsActiveMember</th>\n",
       "      <th>EstimatedSalary</th>\n",
       "      <th>Exited</th>\n",
       "    </tr>\n",
       "  </thead>\n",
       "  <tbody>\n",
       "    <tr>\n",
       "      <th>0</th>\n",
       "      <td>619</td>\n",
       "      <td>France</td>\n",
       "      <td>Female</td>\n",
       "      <td>42</td>\n",
       "      <td>2</td>\n",
       "      <td>0.00</td>\n",
       "      <td>1</td>\n",
       "      <td>1</td>\n",
       "      <td>1</td>\n",
       "      <td>101348.88</td>\n",
       "      <td>1</td>\n",
       "    </tr>\n",
       "    <tr>\n",
       "      <th>1</th>\n",
       "      <td>608</td>\n",
       "      <td>Spain</td>\n",
       "      <td>Female</td>\n",
       "      <td>41</td>\n",
       "      <td>1</td>\n",
       "      <td>83807.86</td>\n",
       "      <td>1</td>\n",
       "      <td>0</td>\n",
       "      <td>1</td>\n",
       "      <td>112542.58</td>\n",
       "      <td>0</td>\n",
       "    </tr>\n",
       "    <tr>\n",
       "      <th>2</th>\n",
       "      <td>502</td>\n",
       "      <td>France</td>\n",
       "      <td>Female</td>\n",
       "      <td>42</td>\n",
       "      <td>8</td>\n",
       "      <td>159660.80</td>\n",
       "      <td>3</td>\n",
       "      <td>1</td>\n",
       "      <td>0</td>\n",
       "      <td>113931.57</td>\n",
       "      <td>1</td>\n",
       "    </tr>\n",
       "    <tr>\n",
       "      <th>3</th>\n",
       "      <td>699</td>\n",
       "      <td>France</td>\n",
       "      <td>Female</td>\n",
       "      <td>39</td>\n",
       "      <td>1</td>\n",
       "      <td>0.00</td>\n",
       "      <td>2</td>\n",
       "      <td>0</td>\n",
       "      <td>0</td>\n",
       "      <td>93826.63</td>\n",
       "      <td>0</td>\n",
       "    </tr>\n",
       "    <tr>\n",
       "      <th>4</th>\n",
       "      <td>850</td>\n",
       "      <td>Spain</td>\n",
       "      <td>Female</td>\n",
       "      <td>43</td>\n",
       "      <td>2</td>\n",
       "      <td>125510.82</td>\n",
       "      <td>1</td>\n",
       "      <td>1</td>\n",
       "      <td>1</td>\n",
       "      <td>79084.10</td>\n",
       "      <td>0</td>\n",
       "    </tr>\n",
       "  </tbody>\n",
       "</table>\n",
       "</div>"
      ],
      "text/plain": [
       "   CreditScore Geography  Gender  Age  Tenure    Balance  NumOfProducts  \\\n",
       "0          619    France  Female   42       2       0.00              1   \n",
       "1          608     Spain  Female   41       1   83807.86              1   \n",
       "2          502    France  Female   42       8  159660.80              3   \n",
       "3          699    France  Female   39       1       0.00              2   \n",
       "4          850     Spain  Female   43       2  125510.82              1   \n",
       "\n",
       "   HasCrCard  IsActiveMember  EstimatedSalary  Exited  \n",
       "0          1               1        101348.88       1  \n",
       "1          0               1        112542.58       0  \n",
       "2          1               0        113931.57       1  \n",
       "3          0               0         93826.63       0  \n",
       "4          1               1         79084.10       0  "
      ]
     },
     "execution_count": 86,
     "metadata": {},
     "output_type": "execute_result"
    }
   ],
   "source": [
    "# Excluir colunas que não serão utilizadas\n",
    "trash_colunas = {'RowNumber', 'CustomerId', 'Surname'}\n",
    "# Criando um novo dataframe para os tratamentos\n",
    "df = df_original.drop(columns = trash_colunas)\n",
    "del(trash_colunas)\n",
    "df.head()"
   ]
  },
  {
   "cell_type": "code",
   "execution_count": 87,
   "metadata": {},
   "outputs": [
    {
     "data": {
      "text/html": [
       "<div>\n",
       "<style scoped>\n",
       "    .dataframe tbody tr th:only-of-type {\n",
       "        vertical-align: middle;\n",
       "    }\n",
       "\n",
       "    .dataframe tbody tr th {\n",
       "        vertical-align: top;\n",
       "    }\n",
       "\n",
       "    .dataframe thead th {\n",
       "        text-align: right;\n",
       "    }\n",
       "</style>\n",
       "<table border=\"1\" class=\"dataframe\">\n",
       "  <thead>\n",
       "    <tr style=\"text-align: right;\">\n",
       "      <th></th>\n",
       "      <th>Score</th>\n",
       "      <th>Pais</th>\n",
       "      <th>Genero</th>\n",
       "      <th>Idade</th>\n",
       "      <th>Fidelidade</th>\n",
       "      <th>Saldo</th>\n",
       "      <th>QtdProdutos</th>\n",
       "      <th>TemCartao</th>\n",
       "      <th>ClienteAtivo</th>\n",
       "      <th>Renda</th>\n",
       "      <th>Churn</th>\n",
       "    </tr>\n",
       "  </thead>\n",
       "  <tbody>\n",
       "    <tr>\n",
       "      <th>0</th>\n",
       "      <td>619</td>\n",
       "      <td>France</td>\n",
       "      <td>Female</td>\n",
       "      <td>42</td>\n",
       "      <td>2</td>\n",
       "      <td>0.00</td>\n",
       "      <td>1</td>\n",
       "      <td>1</td>\n",
       "      <td>1</td>\n",
       "      <td>101348.88</td>\n",
       "      <td>1</td>\n",
       "    </tr>\n",
       "    <tr>\n",
       "      <th>1</th>\n",
       "      <td>608</td>\n",
       "      <td>Spain</td>\n",
       "      <td>Female</td>\n",
       "      <td>41</td>\n",
       "      <td>1</td>\n",
       "      <td>83807.86</td>\n",
       "      <td>1</td>\n",
       "      <td>0</td>\n",
       "      <td>1</td>\n",
       "      <td>112542.58</td>\n",
       "      <td>0</td>\n",
       "    </tr>\n",
       "    <tr>\n",
       "      <th>2</th>\n",
       "      <td>502</td>\n",
       "      <td>France</td>\n",
       "      <td>Female</td>\n",
       "      <td>42</td>\n",
       "      <td>8</td>\n",
       "      <td>159660.80</td>\n",
       "      <td>3</td>\n",
       "      <td>1</td>\n",
       "      <td>0</td>\n",
       "      <td>113931.57</td>\n",
       "      <td>1</td>\n",
       "    </tr>\n",
       "    <tr>\n",
       "      <th>3</th>\n",
       "      <td>699</td>\n",
       "      <td>France</td>\n",
       "      <td>Female</td>\n",
       "      <td>39</td>\n",
       "      <td>1</td>\n",
       "      <td>0.00</td>\n",
       "      <td>2</td>\n",
       "      <td>0</td>\n",
       "      <td>0</td>\n",
       "      <td>93826.63</td>\n",
       "      <td>0</td>\n",
       "    </tr>\n",
       "    <tr>\n",
       "      <th>4</th>\n",
       "      <td>850</td>\n",
       "      <td>Spain</td>\n",
       "      <td>Female</td>\n",
       "      <td>43</td>\n",
       "      <td>2</td>\n",
       "      <td>125510.82</td>\n",
       "      <td>1</td>\n",
       "      <td>1</td>\n",
       "      <td>1</td>\n",
       "      <td>79084.10</td>\n",
       "      <td>0</td>\n",
       "    </tr>\n",
       "  </tbody>\n",
       "</table>\n",
       "</div>"
      ],
      "text/plain": [
       "   Score    Pais  Genero  Idade  Fidelidade      Saldo  QtdProdutos  \\\n",
       "0    619  France  Female     42           2       0.00            1   \n",
       "1    608   Spain  Female     41           1   83807.86            1   \n",
       "2    502  France  Female     42           8  159660.80            3   \n",
       "3    699  France  Female     39           1       0.00            2   \n",
       "4    850   Spain  Female     43           2  125510.82            1   \n",
       "\n",
       "   TemCartao  ClienteAtivo      Renda  Churn  \n",
       "0          1             1  101348.88      1  \n",
       "1          0             1  112542.58      0  \n",
       "2          1             0  113931.57      1  \n",
       "3          0             0   93826.63      0  \n",
       "4          1             1   79084.10      0  "
      ]
     },
     "execution_count": 87,
     "metadata": {},
     "output_type": "execute_result"
    }
   ],
   "source": [
    "#Criar lista com nome das novas variáveis\n",
    "novas_colunas = {\n",
    "    'CreditScore': 'Score',\n",
    "    'Geography': 'Pais',\n",
    "    'Gender': 'Genero',\n",
    "    'Age': 'Idade',\n",
    "    'Tenure': 'Fidelidade',\n",
    "    'Balance': 'Saldo',\n",
    "    'NumOfProducts': 'QtdProdutos',\n",
    "    'HasCrCard': 'TemCartao',\n",
    "    'IsActiveMember': 'ClienteAtivo',\n",
    "    'EstimatedSalary': 'Renda',\n",
    "    'Exited': 'Churn'\n",
    "    }\n",
    "#renomeando as variáveis\n",
    "df.rename(columns = novas_colunas, inplace = True)\n",
    "#\n",
    "del(novas_colunas)\n",
    "#\n",
    "df.head()"
   ]
  },
  {
   "attachments": {},
   "cell_type": "markdown",
   "metadata": {},
   "source": [
    "## Análise Exploratória"
   ]
  },
  {
   "cell_type": "code",
   "execution_count": 88,
   "metadata": {},
   "outputs": [],
   "source": [
    "# #Criação de perfil para geração de relatório Profiling\n",
    "# profile = ProfileReport(df, title = 'Bank Churn')\n",
    "# #Funções para utilização do pacote ydata_profiling em Jupyter\n",
    "# profile.to_widgets()\n",
    "# profile.to_notebook_iframe()"
   ]
  },
  {
   "cell_type": "code",
   "execution_count": 89,
   "metadata": {},
   "outputs": [],
   "source": [
    "# #Salvando o relatório em html\n",
    "# profile.to_file('churn_Profile.html')"
   ]
  },
  {
   "cell_type": "code",
   "execution_count": 90,
   "metadata": {},
   "outputs": [
    {
     "name": "stdout",
     "output_type": "stream",
     "text": [
      "<class 'pandas.core.frame.DataFrame'>\n",
      "RangeIndex: 10000 entries, 0 to 9999\n",
      "Data columns (total 11 columns):\n",
      " #   Column        Non-Null Count  Dtype  \n",
      "---  ------        --------------  -----  \n",
      " 0   Score         10000 non-null  int64  \n",
      " 1   Pais          10000 non-null  object \n",
      " 2   Genero        10000 non-null  object \n",
      " 3   Idade         10000 non-null  int64  \n",
      " 4   Fidelidade    10000 non-null  int64  \n",
      " 5   Saldo         10000 non-null  float64\n",
      " 6   QtdProdutos   10000 non-null  int64  \n",
      " 7   TemCartao     10000 non-null  int64  \n",
      " 8   ClienteAtivo  10000 non-null  int64  \n",
      " 9   Renda         10000 non-null  float64\n",
      " 10  Churn         10000 non-null  int64  \n",
      "dtypes: float64(2), int64(7), object(2)\n",
      "memory usage: 859.5+ KB\n"
     ]
    }
   ],
   "source": [
    "#Informações sobre missing values e tipo das variáveis\n",
    "df.info()"
   ]
  },
  {
   "cell_type": "code",
   "execution_count": 91,
   "metadata": {},
   "outputs": [
    {
     "data": {
      "text/plain": [
       "['Score',\n",
       " 'Pais',\n",
       " 'Genero',\n",
       " 'Idade',\n",
       " 'Fidelidade',\n",
       " 'Saldo',\n",
       " 'QtdProdutos',\n",
       " 'TemCartao',\n",
       " 'ClienteAtivo',\n",
       " 'Renda',\n",
       " 'Churn']"
      ]
     },
     "execution_count": 91,
     "metadata": {},
     "output_type": "execute_result"
    }
   ],
   "source": [
    "#Criar lista com o nome das colunas (variáveis)\n",
    "variaveis = df.columns.to_list()\n",
    "variaveis"
   ]
  },
  {
   "cell_type": "code",
   "execution_count": 92,
   "metadata": {},
   "outputs": [
    {
     "data": {
      "text/plain": [
       "Score            460\n",
       "Pais               3\n",
       "Genero             2\n",
       "Idade             70\n",
       "Fidelidade        11\n",
       "Saldo           6382\n",
       "QtdProdutos        4\n",
       "TemCartao          2\n",
       "ClienteAtivo       2\n",
       "Renda           9999\n",
       "Churn              2\n",
       "dtype: int64"
      ]
     },
     "execution_count": 92,
     "metadata": {},
     "output_type": "execute_result"
    }
   ],
   "source": [
    "#Mostrar a quantidade de registros em cada variável\n",
    "df[variaveis].nunique()"
   ]
  },
  {
   "cell_type": "code",
   "execution_count": 93,
   "metadata": {},
   "outputs": [
    {
     "data": {
      "text/plain": [
       "array(['Female', 'Male'], dtype=object)"
      ]
     },
     "execution_count": 93,
     "metadata": {},
     "output_type": "execute_result"
    }
   ],
   "source": [
    "#Verificar itens contidos na variável Gênero\n",
    "df['Genero'].unique()"
   ]
  },
  {
   "cell_type": "code",
   "execution_count": 94,
   "metadata": {},
   "outputs": [
    {
     "data": {
      "text/plain": [
       "array([1, 0], dtype=int64)"
      ]
     },
     "execution_count": 94,
     "metadata": {},
     "output_type": "execute_result"
    }
   ],
   "source": [
    "#Verificar itens contidos na variável Gênero\n",
    "df['TemCartao'].unique()"
   ]
  },
  {
   "cell_type": "code",
   "execution_count": 95,
   "metadata": {},
   "outputs": [
    {
     "data": {
      "text/plain": [
       "array([1, 0], dtype=int64)"
      ]
     },
     "execution_count": 95,
     "metadata": {},
     "output_type": "execute_result"
    }
   ],
   "source": [
    "df['ClienteAtivo'].unique()"
   ]
  },
  {
   "cell_type": "code",
   "execution_count": 96,
   "metadata": {},
   "outputs": [
    {
     "data": {
      "text/plain": [
       "array([1, 0], dtype=int64)"
      ]
     },
     "execution_count": 96,
     "metadata": {},
     "output_type": "execute_result"
    }
   ],
   "source": [
    "df['Churn'].unique()"
   ]
  },
  {
   "cell_type": "code",
   "execution_count": 97,
   "metadata": {},
   "outputs": [
    {
     "data": {
      "text/plain": [
       "['Saldo', 'Renda']"
      ]
     },
     "execution_count": 97,
     "metadata": {},
     "output_type": "execute_result"
    }
   ],
   "source": [
    "# Listar variáveis quantitativa contínuas\n",
    "var_quantitativas_continuas = [\n",
    "    variavel for variavel in df.columns\n",
    "        if df[variavel].dtype == 'float64' and variavel not in 'Churn']\n",
    "var_quantitativas_continuas"
   ]
  },
  {
   "cell_type": "code",
   "execution_count": 98,
   "metadata": {},
   "outputs": [
    {
     "data": {
      "text/html": [
       "<div>\n",
       "<style scoped>\n",
       "    .dataframe tbody tr th:only-of-type {\n",
       "        vertical-align: middle;\n",
       "    }\n",
       "\n",
       "    .dataframe tbody tr th {\n",
       "        vertical-align: top;\n",
       "    }\n",
       "\n",
       "    .dataframe thead th {\n",
       "        text-align: right;\n",
       "    }\n",
       "</style>\n",
       "<table border=\"1\" class=\"dataframe\">\n",
       "  <thead>\n",
       "    <tr style=\"text-align: right;\">\n",
       "      <th></th>\n",
       "      <th>count</th>\n",
       "      <th>mean</th>\n",
       "      <th>std</th>\n",
       "      <th>min</th>\n",
       "      <th>25%</th>\n",
       "      <th>50%</th>\n",
       "      <th>75%</th>\n",
       "      <th>max</th>\n",
       "    </tr>\n",
       "  </thead>\n",
       "  <tbody>\n",
       "    <tr>\n",
       "      <th>Saldo</th>\n",
       "      <td>10000.0</td>\n",
       "      <td>76485.889288</td>\n",
       "      <td>62397.405202</td>\n",
       "      <td>0.00</td>\n",
       "      <td>0.00</td>\n",
       "      <td>97198.540</td>\n",
       "      <td>127644.2400</td>\n",
       "      <td>250898.09</td>\n",
       "    </tr>\n",
       "    <tr>\n",
       "      <th>Renda</th>\n",
       "      <td>10000.0</td>\n",
       "      <td>100090.239881</td>\n",
       "      <td>57510.492818</td>\n",
       "      <td>11.58</td>\n",
       "      <td>51002.11</td>\n",
       "      <td>100193.915</td>\n",
       "      <td>149388.2475</td>\n",
       "      <td>199992.48</td>\n",
       "    </tr>\n",
       "  </tbody>\n",
       "</table>\n",
       "</div>"
      ],
      "text/plain": [
       "         count           mean           std    min       25%         50%  \\\n",
       "Saldo  10000.0   76485.889288  62397.405202   0.00      0.00   97198.540   \n",
       "Renda  10000.0  100090.239881  57510.492818  11.58  51002.11  100193.915   \n",
       "\n",
       "               75%        max  \n",
       "Saldo  127644.2400  250898.09  \n",
       "Renda  149388.2475  199992.48  "
      ]
     },
     "execution_count": 98,
     "metadata": {},
     "output_type": "execute_result"
    }
   ],
   "source": [
    "# Mostrar informaçõs estatísticas das variáveis quantitativas contínuas\n",
    "df[var_quantitativas_continuas].describe().T"
   ]
  },
  {
   "cell_type": "code",
   "execution_count": 99,
   "metadata": {},
   "outputs": [
    {
     "data": {
      "text/plain": [
       "['Score', 'Idade', 'Fidelidade', 'QtdProdutos']"
      ]
     },
     "execution_count": 99,
     "metadata": {},
     "output_type": "execute_result"
    }
   ],
   "source": [
    "# Listar variáveis quantitativa discretas\n",
    "var_quantitativas_discretas = [\n",
    "    variavel for variavel in df.columns\n",
    "        if df[variavel].dtype == 'int64' and df[variavel].nunique() > 2 and variavel not in 'Churn']\n",
    "var_quantitativas_discretas"
   ]
  },
  {
   "cell_type": "code",
   "execution_count": 100,
   "metadata": {},
   "outputs": [
    {
     "data": {
      "text/html": [
       "<div>\n",
       "<style scoped>\n",
       "    .dataframe tbody tr th:only-of-type {\n",
       "        vertical-align: middle;\n",
       "    }\n",
       "\n",
       "    .dataframe tbody tr th {\n",
       "        vertical-align: top;\n",
       "    }\n",
       "\n",
       "    .dataframe thead th {\n",
       "        text-align: right;\n",
       "    }\n",
       "</style>\n",
       "<table border=\"1\" class=\"dataframe\">\n",
       "  <thead>\n",
       "    <tr style=\"text-align: right;\">\n",
       "      <th></th>\n",
       "      <th>count</th>\n",
       "      <th>mean</th>\n",
       "      <th>std</th>\n",
       "      <th>min</th>\n",
       "      <th>25%</th>\n",
       "      <th>50%</th>\n",
       "      <th>75%</th>\n",
       "      <th>max</th>\n",
       "    </tr>\n",
       "  </thead>\n",
       "  <tbody>\n",
       "    <tr>\n",
       "      <th>Score</th>\n",
       "      <td>10000.0</td>\n",
       "      <td>650.5288</td>\n",
       "      <td>96.653299</td>\n",
       "      <td>350.0</td>\n",
       "      <td>584.0</td>\n",
       "      <td>652.0</td>\n",
       "      <td>718.0</td>\n",
       "      <td>850.0</td>\n",
       "    </tr>\n",
       "    <tr>\n",
       "      <th>Idade</th>\n",
       "      <td>10000.0</td>\n",
       "      <td>38.9218</td>\n",
       "      <td>10.487806</td>\n",
       "      <td>18.0</td>\n",
       "      <td>32.0</td>\n",
       "      <td>37.0</td>\n",
       "      <td>44.0</td>\n",
       "      <td>92.0</td>\n",
       "    </tr>\n",
       "    <tr>\n",
       "      <th>Fidelidade</th>\n",
       "      <td>10000.0</td>\n",
       "      <td>5.0128</td>\n",
       "      <td>2.892174</td>\n",
       "      <td>0.0</td>\n",
       "      <td>3.0</td>\n",
       "      <td>5.0</td>\n",
       "      <td>7.0</td>\n",
       "      <td>10.0</td>\n",
       "    </tr>\n",
       "    <tr>\n",
       "      <th>QtdProdutos</th>\n",
       "      <td>10000.0</td>\n",
       "      <td>1.5302</td>\n",
       "      <td>0.581654</td>\n",
       "      <td>1.0</td>\n",
       "      <td>1.0</td>\n",
       "      <td>1.0</td>\n",
       "      <td>2.0</td>\n",
       "      <td>4.0</td>\n",
       "    </tr>\n",
       "  </tbody>\n",
       "</table>\n",
       "</div>"
      ],
      "text/plain": [
       "               count      mean        std    min    25%    50%    75%    max\n",
       "Score        10000.0  650.5288  96.653299  350.0  584.0  652.0  718.0  850.0\n",
       "Idade        10000.0   38.9218  10.487806   18.0   32.0   37.0   44.0   92.0\n",
       "Fidelidade   10000.0    5.0128   2.892174    0.0    3.0    5.0    7.0   10.0\n",
       "QtdProdutos  10000.0    1.5302   0.581654    1.0    1.0    1.0    2.0    4.0"
      ]
     },
     "execution_count": 100,
     "metadata": {},
     "output_type": "execute_result"
    }
   ],
   "source": [
    "# Mostrar informaçõs estatísticas das variáveis quantitativas discretas\n",
    "df[var_quantitativas_discretas].describe().T"
   ]
  },
  {
   "cell_type": "code",
   "execution_count": 101,
   "metadata": {},
   "outputs": [
    {
     "data": {
      "text/plain": [
       "['Pais', 'Genero']"
      ]
     },
     "execution_count": 101,
     "metadata": {},
     "output_type": "execute_result"
    }
   ],
   "source": [
    "# Listar variáveis qualitativas nominais\n",
    "var_qualitativas_nominais = [\n",
    "    variavel for variavel in df.columns\n",
    "        if df[variavel].dtype == 'object' and variavel not in 'Churn']\n",
    "var_qualitativas_nominais"
   ]
  },
  {
   "cell_type": "code",
   "execution_count": 102,
   "metadata": {},
   "outputs": [
    {
     "data": {
      "text/html": [
       "<div>\n",
       "<style scoped>\n",
       "    .dataframe tbody tr th:only-of-type {\n",
       "        vertical-align: middle;\n",
       "    }\n",
       "\n",
       "    .dataframe tbody tr th {\n",
       "        vertical-align: top;\n",
       "    }\n",
       "\n",
       "    .dataframe thead th {\n",
       "        text-align: right;\n",
       "    }\n",
       "</style>\n",
       "<table border=\"1\" class=\"dataframe\">\n",
       "  <thead>\n",
       "    <tr style=\"text-align: right;\">\n",
       "      <th></th>\n",
       "      <th>count</th>\n",
       "      <th>unique</th>\n",
       "      <th>top</th>\n",
       "      <th>freq</th>\n",
       "    </tr>\n",
       "  </thead>\n",
       "  <tbody>\n",
       "    <tr>\n",
       "      <th>Pais</th>\n",
       "      <td>10000</td>\n",
       "      <td>3</td>\n",
       "      <td>France</td>\n",
       "      <td>5014</td>\n",
       "    </tr>\n",
       "    <tr>\n",
       "      <th>Genero</th>\n",
       "      <td>10000</td>\n",
       "      <td>2</td>\n",
       "      <td>Male</td>\n",
       "      <td>5457</td>\n",
       "    </tr>\n",
       "  </tbody>\n",
       "</table>\n",
       "</div>"
      ],
      "text/plain": [
       "        count unique     top  freq\n",
       "Pais    10000      3  France  5014\n",
       "Genero  10000      2    Male  5457"
      ]
     },
     "execution_count": 102,
     "metadata": {},
     "output_type": "execute_result"
    }
   ],
   "source": [
    "# Mostrar informaçõs estatísticas das variáveis qualitativas nominais\n",
    "df[var_qualitativas_nominais].describe().T"
   ]
  },
  {
   "cell_type": "code",
   "execution_count": 103,
   "metadata": {},
   "outputs": [
    {
     "data": {
      "text/plain": [
       "France     5014\n",
       "Germany    2509\n",
       "Spain      2477\n",
       "Name: Pais, dtype: int64"
      ]
     },
     "execution_count": 103,
     "metadata": {},
     "output_type": "execute_result"
    }
   ],
   "source": [
    "#Alterando o conteúdo das variáveis categóricas\n",
    "#* Localização\n",
    "df['Pais'].value_counts()"
   ]
  },
  {
   "cell_type": "code",
   "execution_count": 104,
   "metadata": {},
   "outputs": [
    {
     "data": {
      "text/plain": [
       "array(['França', 'Espanha', 'Alemanha'], dtype=object)"
      ]
     },
     "execution_count": 104,
     "metadata": {},
     "output_type": "execute_result"
    }
   ],
   "source": [
    "#Alterando os valores da variável #Localização\n",
    "df['Pais'].replace({\n",
    "    'France' : 'França',\n",
    "    'Germany' : 'Alemanha',\n",
    "    'Spain' : 'Espanha'\n",
    "}, inplace = True)\n",
    "#\n",
    "df['Pais'].unique()"
   ]
  },
  {
   "cell_type": "code",
   "execution_count": 105,
   "metadata": {},
   "outputs": [
    {
     "data": {
      "text/plain": [
       "Male      5457\n",
       "Female    4543\n",
       "Name: Genero, dtype: int64"
      ]
     },
     "execution_count": 105,
     "metadata": {},
     "output_type": "execute_result"
    }
   ],
   "source": [
    "#Alterando o conteúdo das variáveis categóricas\n",
    "#* Gênero\n",
    "df['Genero'].value_counts()"
   ]
  },
  {
   "cell_type": "code",
   "execution_count": 106,
   "metadata": {},
   "outputs": [
    {
     "data": {
      "text/plain": [
       "array(['Feminino', 'Masculino'], dtype=object)"
      ]
     },
     "execution_count": 106,
     "metadata": {},
     "output_type": "execute_result"
    }
   ],
   "source": [
    "#Alterando os valores da variável \n",
    "#* Gênero\n",
    "df['Genero'].replace({\n",
    "    'Male' : 'Masculino',\n",
    "    'Female' : 'Feminino'\n",
    "}, inplace = True)\n",
    "#\n",
    "df['Genero'].unique()"
   ]
  },
  {
   "cell_type": "code",
   "execution_count": 24,
   "metadata": {},
   "outputs": [
    {
     "data": {
      "text/plain": [
       "['TemCartao', 'ClienteAtivo']"
      ]
     },
     "execution_count": 24,
     "metadata": {},
     "output_type": "execute_result"
    }
   ],
   "source": [
    "# Listar variáveis qualitativas ordinais\n",
    "var_qualitativas_ordinais = [\n",
    "    variavel for variavel in df.columns\n",
    "        if df[variavel].dtype == 'int64' and df[variavel].nunique() == 2 and variavel not in 'Churn']\n",
    "var_qualitativas_ordinais"
   ]
  },
  {
   "cell_type": "code",
   "execution_count": 107,
   "metadata": {},
   "outputs": [
    {
     "data": {
      "text/plain": [
       "TemCartao       7055\n",
       "NaoTemCartao    2945\n",
       "Name: TemCartao, dtype: int64"
      ]
     },
     "execution_count": 107,
     "metadata": {},
     "output_type": "execute_result"
    }
   ],
   "source": [
    "#Alterando os valores da variável \n",
    "#* TemCartao\n",
    "df['TemCartao'].replace(\n",
    "    {\n",
    "        0 : 'NaoTemCartao',\n",
    "        1 : 'TemCartao'\n",
    "    }, inplace = True\n",
    ")\n",
    "df['TemCartao'].unique()\n",
    "df['TemCartao'].value_counts()"
   ]
  },
  {
   "cell_type": "code",
   "execution_count": 108,
   "metadata": {},
   "outputs": [
    {
     "data": {
      "text/plain": [
       "array([1, 0], dtype=int64)"
      ]
     },
     "execution_count": 108,
     "metadata": {},
     "output_type": "execute_result"
    }
   ],
   "source": [
    "df['ClienteAtivo'].unique()"
   ]
  },
  {
   "cell_type": "code",
   "execution_count": 109,
   "metadata": {},
   "outputs": [
    {
     "data": {
      "text/plain": [
       "ClienteAtivo      5151\n",
       "ClienteInativo    4849\n",
       "Name: ClienteAtivo, dtype: int64"
      ]
     },
     "execution_count": 109,
     "metadata": {},
     "output_type": "execute_result"
    }
   ],
   "source": [
    "#Alterando os valores da variável \n",
    "#* ClienteAtivo\n",
    "df['ClienteAtivo'].replace(\n",
    "    {\n",
    "        0 : 'ClienteInativo',\n",
    "        1 : 'ClienteAtivo'\n",
    "    }, inplace = True\n",
    ")\n",
    "df['ClienteAtivo'].unique()\n",
    "df['ClienteAtivo'].value_counts()"
   ]
  },
  {
   "cell_type": "code",
   "execution_count": 110,
   "metadata": {},
   "outputs": [
    {
     "name": "stdout",
     "output_type": "stream",
     "text": [
      "Variáveis Quantitativas Contínuas: ['Saldo', 'Renda']\n"
     ]
    }
   ],
   "source": [
    "print(f'Variáveis Quantitativas Contínuas: {var_quantitativas_continuas}')"
   ]
  },
  {
   "attachments": {},
   "cell_type": "markdown",
   "metadata": {},
   "source": [
    "### Análise univariada"
   ]
  },
  {
   "cell_type": "code",
   "execution_count": 28,
   "metadata": {},
   "outputs": [],
   "source": [
    "# Definição do Tema do Seaborn\n",
    "sns.set_theme(\n",
    "    context = 'paper', style = 'whitegrid', palette = 'muted',\n",
    "    font = 'sans-serif', font_scale = 1, color_codes = True, \n",
    "    rc = None\n",
    ")"
   ]
  },
  {
   "attachments": {},
   "cell_type": "markdown",
   "metadata": {},
   "source": [
    "#### Criação de gráficos - Quantitativas Contínuas"
   ]
  },
  {
   "cell_type": "code",
   "execution_count": 29,
   "metadata": {},
   "outputs": [
    {
     "name": "stdout",
     "output_type": "stream",
     "text": [
      "1. Saldo -----\n",
      "\n",
      "Estatísticas descritivas\n",
      "count     10000.000000\n",
      "mean      76485.889288\n",
      "std       62397.405202\n",
      "min           0.000000\n",
      "25%           0.000000\n",
      "50%       97198.540000\n",
      "75%      127644.240000\n",
      "max      250898.090000\n",
      "Name: Saldo, dtype: float64\n"
     ]
    },
    {
     "data": {
      "image/png": "[encoded data removed]",
      "text/plain": [
       "<Figure size 640x480 with 2 Axes>"
      ]
     },
     "metadata": {},
     "output_type": "display_data"
    },
    {
     "name": "stdout",
     "output_type": "stream",
     "text": [
      "2. Renda -----\n",
      "\n",
      "Estatísticas descritivas\n",
      "count     10000.000000\n",
      "mean     100090.239881\n",
      "std       57510.492818\n",
      "min          11.580000\n",
      "25%       51002.110000\n",
      "50%      100193.915000\n",
      "75%      149388.247500\n",
      "max      199992.480000\n",
      "Name: Renda, dtype: float64\n"
     ]
    },
    {
     "data": {
      "image/png": "[encoded data removed]",
      "text/plain": [
       "<Figure size 640x480 with 2 Axes>"
      ]
     },
     "metadata": {},
     "output_type": "display_data"
    }
   ],
   "source": [
    "# Geração de gráficos (function)\n",
    "for n, var, in enumerate(var_quantitativas_continuas, start = 1):\n",
    "    # Descrição estatística das variáveis\n",
    "    print(f'{n}. {var} -----', end = '\\n''\\n')\n",
    "    print('Estatísticas descritivas', end = '\\n')\n",
    "    print(df[var].describe())\n",
    "    # Criação dos subplots\n",
    "    fig, axs = plt.subplots(ncols = 1, nrows = 2, sharex = True, height_ratios = [0.8, 0.2])\n",
    "    # Título do gráfico \n",
    "    fig.suptitle(f'{var}')\n",
    "    # Gráfico 1 - Histograma\n",
    "    sns.histplot(data = df, x = var, kde = True, ax = axs[0], stat = 'count', cumulative = False)\n",
    "    # Gráfico 2 - Boxplot\n",
    "    sns.boxplot(data = df, x = var, fliersize = 2, notch = True, ax = axs[1])\n",
    "    #Mostra o gráfico\n",
    "    plt.show()"
   ]
  },
  {
   "attachments": {},
   "cell_type": "markdown",
   "metadata": {},
   "source": [
    "#### Criação de gráficos - Quantitativas Discretas"
   ]
  },
  {
   "cell_type": "code",
   "execution_count": 30,
   "metadata": {},
   "outputs": [
    {
     "name": "stdout",
     "output_type": "stream",
     "text": [
      "1. Score\n",
      "------------------------\n",
      "Estatística descritiva\n",
      "------------------------\n",
      "count    10000.000000\n",
      "mean       650.528800\n",
      "std         96.653299\n",
      "min        350.000000\n",
      "25%        584.000000\n",
      "50%        652.000000\n",
      "75%        718.000000\n",
      "max        850.000000\n",
      "Name: Score, dtype: float64\n",
      "\n"
     ]
    },
    {
     "data": {
      "image/png": "[encoded data removed]",
      "text/plain": [
       "<Figure size 640x480 with 2 Axes>"
      ]
     },
     "metadata": {},
     "output_type": "display_data"
    },
    {
     "name": "stdout",
     "output_type": "stream",
     "text": [
      "2. Idade\n",
      "------------------------\n",
      "Estatística descritiva\n",
      "------------------------\n",
      "count    10000.000000\n",
      "mean        38.921800\n",
      "std         10.487806\n",
      "min         18.000000\n",
      "25%         32.000000\n",
      "50%         37.000000\n",
      "75%         44.000000\n",
      "max         92.000000\n",
      "Name: Idade, dtype: float64\n",
      "\n"
     ]
    },
    {
     "data": {
      "image/png": "[encoded data removed]",
      "text/plain": [
       "<Figure size 640x480 with 2 Axes>"
      ]
     },
     "metadata": {},
     "output_type": "display_data"
    },
    {
     "name": "stdout",
     "output_type": "stream",
     "text": [
      "3. Fidelidade\n",
      "------------------------\n",
      "Estatística descritiva\n",
      "------------------------\n",
      "count    10000.000000\n",
      "mean         5.012800\n",
      "std          2.892174\n",
      "min          0.000000\n",
      "25%          3.000000\n",
      "50%          5.000000\n",
      "75%          7.000000\n",
      "max         10.000000\n",
      "Name: Fidelidade, dtype: float64\n",
      "\n"
     ]
    },
    {
     "data": {
      "image/png": "[encoded data removed]",
      "text/plain": [
       "<Figure size 640x480 with 2 Axes>"
      ]
     },
     "metadata": {},
     "output_type": "display_data"
    },
    {
     "name": "stdout",
     "output_type": "stream",
     "text": [
      "4. QtdProdutos\n",
      "------------------------\n",
      "Estatística descritiva\n",
      "------------------------\n",
      "count    10000.000000\n",
      "mean         1.530200\n",
      "std          0.581654\n",
      "min          1.000000\n",
      "25%          1.000000\n",
      "50%          1.000000\n",
      "75%          2.000000\n",
      "max          4.000000\n",
      "Name: QtdProdutos, dtype: float64\n",
      "\n"
     ]
    },
    {
     "data": {
      "image/png": "[encoded data removed]",
      "text/plain": [
       "<Figure size 640x480 with 2 Axes>"
      ]
     },
     "metadata": {},
     "output_type": "display_data"
    }
   ],
   "source": [
    "# Geração de gráficos (function)\n",
    "for n, var, in enumerate(var_quantitativas_discretas, start = 1):\n",
    "    # Descrição estatística das variáveis\n",
    "    print(f'{n}. {var}', end = '\\n')\n",
    "    print('------------------------', end = '\\n')\n",
    "    print('Estatística descritiva', end = '\\n')\n",
    "    print('------------------------', end = '\\n')\n",
    "    print(df[var].describe(), end = '\\n''\\n')\n",
    "    # Criação dos subplots\n",
    "    fig, axs = plt.subplots(ncols = 1, nrows = 2, sharex = True, height_ratios = [0.8, 0.2])\n",
    "    # Título do gráfico \n",
    "    fig.suptitle(f'{var}')\n",
    "    # Gráfico 1 - Histograma\n",
    "    sns.histplot(data = df, x = var, kde = True, ax = axs[0], stat = 'count', cumulative = False)\n",
    "    # Gráfico 2 - Boxplot\n",
    "    sns.boxplot(data = df, x = var, fliersize = 2, notch = True, ax = axs[1])\n",
    "    #Mostra o gráfico\n",
    "    plt.show()"
   ]
  },
  {
   "attachments": {},
   "cell_type": "markdown",
   "metadata": {},
   "source": [
    "#### Criação de gráficos - Qualitativas Nominais"
   ]
  },
  {
   "cell_type": "code",
   "execution_count": 31,
   "metadata": {},
   "outputs": [
    {
     "name": "stdout",
     "output_type": "stream",
     "text": [
      "1. Pais\n",
      "------------------------\n",
      "Estatística descritiva\n",
      "------------------------\n",
      "count      10000\n",
      "unique         3\n",
      "top       França\n",
      "freq        5014\n",
      "Name: Pais, dtype: object\n",
      "\n"
     ]
    },
    {
     "data": {
      "image/png": "[encoded data removed]",
      "text/plain": [
       "<Figure size 640x480 with 1 Axes>"
      ]
     },
     "metadata": {},
     "output_type": "display_data"
    },
    {
     "name": "stdout",
     "output_type": "stream",
     "text": [
      "2. Genero\n",
      "------------------------\n",
      "Estatística descritiva\n",
      "------------------------\n",
      "count         10000\n",
      "unique            2\n",
      "top       Masculino\n",
      "freq           5457\n",
      "Name: Genero, dtype: object\n",
      "\n"
     ]
    },
    {
     "data": {
      "image/png": "[encoded data removed]",
      "text/plain": [
       "<Figure size 640x480 with 1 Axes>"
      ]
     },
     "metadata": {},
     "output_type": "display_data"
    }
   ],
   "source": [
    "# Geração de gráficos (function)\n",
    "for n, var, in enumerate(var_qualitativas_nominais, start = 1):\n",
    "    # Descrição estatística das variáveis\n",
    "    print(f'{n}. {var}', end = '\\n')\n",
    "    print('------------------------', end = '\\n')\n",
    "    print('Estatística descritiva', end = '\\n')\n",
    "    print('------------------------', end = '\\n')\n",
    "    print(df[var].describe(), end = '\\n''\\n')\n",
    "    # Criação dos subplots\n",
    "    #fig, axs = plt.subplots(ncols = 1, nrows = 2, sharex = True, height_ratios = [0.8, 0.2])\n",
    "    # Título do gráfico \n",
    "    fig.suptitle(f'{var}')\n",
    "    # Gráfico - Countplot\n",
    "    ax = sns.countplot(data = df, x = var)\n",
    "    #Inclusão dos rótulos\n",
    "    ax.bar_label(ax.containers[0])\n",
    "    #Mostra o gráfico\n",
    "    plt.show()"
   ]
  },
  {
   "attachments": {},
   "cell_type": "markdown",
   "metadata": {},
   "source": [
    "#### Criação de gráficos - Qualitativas Ordinais"
   ]
  },
  {
   "cell_type": "code",
   "execution_count": 32,
   "metadata": {},
   "outputs": [
    {
     "name": "stdout",
     "output_type": "stream",
     "text": [
      "1. TemCartao\n",
      "------------------------\n",
      "Estatística descritiva\n",
      "------------------------\n",
      "count         10000\n",
      "unique            2\n",
      "top       TemCartao\n",
      "freq           7055\n",
      "Name: TemCartao, dtype: object\n",
      "\n"
     ]
    },
    {
     "data": {
      "image/png": "[encoded data removed]",
      "text/plain": [
       "<Figure size 640x480 with 1 Axes>"
      ]
     },
     "metadata": {},
     "output_type": "display_data"
    },
    {
     "name": "stdout",
     "output_type": "stream",
     "text": [
      "2. ClienteAtivo\n",
      "------------------------\n",
      "Estatística descritiva\n",
      "------------------------\n",
      "count            10000\n",
      "unique               2\n",
      "top       ClienteAtivo\n",
      "freq              5151\n",
      "Name: ClienteAtivo, dtype: object\n",
      "\n"
     ]
    },
    {
     "data": {
      "image/png": "[encoded data removed]",
      "text/plain": [
       "<Figure size 640x480 with 1 Axes>"
      ]
     },
     "metadata": {},
     "output_type": "display_data"
    }
   ],
   "source": [
    "# Geração de gráficos (function)\n",
    "for n, var, in enumerate(var_qualitativas_ordinais, start = 1):\n",
    "    # Descrição estatística das variáveis\n",
    "    print(f'{n}. {var}', end = '\\n')\n",
    "    print('------------------------', end = '\\n')\n",
    "    print('Estatística descritiva', end = '\\n')\n",
    "    print('------------------------', end = '\\n')\n",
    "    print(df[var].describe(), end = '\\n''\\n')\n",
    "    # Criação dos subplots\n",
    "    #fig, axs = plt.subplots(ncols = 1, nrows = 2, sharex = True, height_ratios = [0.8, 0.2])\n",
    "    # Título do gráfico \n",
    "    fig.suptitle(f'{var}')\n",
    "    # Gráfico - Countplot\n",
    "    ax = sns.countplot(data = df, x = var)\n",
    "    #Inclusão dos rótulos\n",
    "    ax.bar_label(ax.containers[0])\n",
    "    #Mostra o gráfico\n",
    "    plt.show()"
   ]
  },
  {
   "attachments": {},
   "cell_type": "markdown",
   "metadata": {},
   "source": [
    "### Análise bivariada"
   ]
  },
  {
   "attachments": {},
   "cell_type": "markdown",
   "metadata": {},
   "source": [
    "___________________"
   ]
  },
  {
   "attachments": {},
   "cell_type": "markdown",
   "metadata": {},
   "source": [
    "3.1.1. Score de Crédito"
   ]
  },
  {
   "cell_type": "code",
   "execution_count": 74,
   "metadata": {},
   "outputs": [],
   "source": [
    "# #Criação dos subplots\n",
    "# fig, axs = plt.subplots(ncols = 1, nrows = 2, sharex=True, height_ratios=[0.8, 0.2])\n",
    "# #Título da imagem\n",
    "# plt.suptitle('Distribuição do Score de Crédito')\n",
    "# #Gráfico 1 - Histograma\n",
    "# sns.histplot(x = df['Score'], kde = True, ax = axs[0], stat = 'count', cumulative = False)\n",
    "# #Gráfico 2 - Boxplot\n",
    "# sns.boxplot(x = df['Score'], fliersize = 2, notch = True, ax = axs[1])"
   ]
  },
  {
   "attachments": {},
   "cell_type": "markdown",
   "metadata": {},
   "source": [
    "3.1.2. Idade"
   ]
  },
  {
   "cell_type": "code",
   "execution_count": 75,
   "metadata": {},
   "outputs": [],
   "source": [
    "# #Criação dos subplots\n",
    "# fig, axs = plt.subplots(ncols = 1, nrows = 2, sharex=True, height_ratios=[0.8, 0.2])\n",
    "# #Título da imagem\n",
    "# plt.suptitle('Distribuição por Idade')\n",
    "# #Gráfico 1 - Histograma\n",
    "# sns.histplot(x = df['Idade'], kde = True, ax = axs[0], stat = 'count', cumulative = False)\n",
    "# #Gráfico 2 - Boxplot\n",
    "# sns.boxplot(x = df['Idade'], fliersize = 2, notch = True, ax = axs[1])"
   ]
  },
  {
   "attachments": {},
   "cell_type": "markdown",
   "metadata": {},
   "source": [
    "3.1.3. Tempo de fidelidade"
   ]
  },
  {
   "cell_type": "code",
   "execution_count": 76,
   "metadata": {},
   "outputs": [],
   "source": [
    "# print(df['Fidelidade'].describe().T, end = '\\n''\\n')\n",
    "# print(df['Fidelidade'].value_counts())"
   ]
  },
  {
   "cell_type": "code",
   "execution_count": 77,
   "metadata": {},
   "outputs": [],
   "source": [
    "# #Criação dos subplots\n",
    "# fig, axs = plt.subplots(ncols = 1, nrows = 2, sharex=True, height_ratios=[0.8, 0.2])\n",
    "# #Título da imagem\n",
    "# plt.suptitle('Distribuição por tempo de fidelidade do cliente')\n",
    "# #Gráfico 1 - Histograma\n",
    "# sns.histplot(x = df['Fidelidade'], kde = False, ax = axs[0], stat = 'count', cumulative = False)\n",
    "# #Gráfico 2 - Boxplot\n",
    "# #* Defição dos limites do eixo X\n",
    "# plt.xlim([df['Fidelidade'].min() - 1, df['Fidelidade'].max() + 1])\n",
    "# #* Defição da quantidade de ticks\n",
    "# plt.xticks(range(df['Fidelidade'].max() + 1))\n",
    "# #\n",
    "# sns.boxplot(x = df['Fidelidade'], fliersize = 2, whis = 1, notch = True, ax = axs[1])"
   ]
  },
  {
   "attachments": {},
   "cell_type": "markdown",
   "metadata": {},
   "source": [
    "3.1.4. Saldo"
   ]
  },
  {
   "cell_type": "code",
   "execution_count": null,
   "metadata": {},
   "outputs": [],
   "source": [
    "# #Criação dos subplots\n",
    "# fig, axs = plt.subplots(ncols = 1, nrows = 2, sharex=True, height_ratios=[0.8, 0.2])\n",
    "# #Título da imagem\n",
    "# plt.suptitle('Distribuição por saldo em conta')\n",
    "# #Gráfico 1 - Histograma\n",
    "# sns.histplot(x = df['Saldo'], kde = False, ax = axs[0], stat = 'count', cumulative = False)\n",
    "# #Gráfico 2 - Boxplot\n",
    "# sns.boxplot(x = df['Saldo'], fliersize = 2, notch = True, ax = axs[1])"
   ]
  },
  {
   "attachments": {},
   "cell_type": "markdown",
   "metadata": {},
   "source": [
    "3.1.5. Quantidade de produtos"
   ]
  },
  {
   "cell_type": "code",
   "execution_count": null,
   "metadata": {},
   "outputs": [],
   "source": [
    "# print(df['QtdProdutos'].describe().T, end = '\\n''\\n')\n",
    "# print(df['QtdProdutos'].value_counts())"
   ]
  },
  {
   "cell_type": "code",
   "execution_count": null,
   "metadata": {},
   "outputs": [],
   "source": [
    "# #Criação dos subplots\n",
    "# fig, axs = plt.subplots(ncols = 1, nrows = 2, sharex=True, height_ratios=[0.8, 0.2])\n",
    "# #Título da imagem\n",
    "# plt.suptitle('Distribuição por quantidade de produtos')\n",
    "# #Gráfico 1 - Histograma\n",
    "# sns.histplot(x = df['QtdProdutos'], kde = False, bins = 4, ax = axs[0], stat = 'count', cumulative = False)\n",
    "# #Gráfico 2 - Boxplot\n",
    "# #* Defição dos limites do eixo X\n",
    "# plt.xlim([df['QtdProdutos'].min()+1, df['QtdProdutos'].max()+1])\n",
    "# #* Defição da quantidade de ticks\n",
    "# plt.xticks(range(df['QtdProdutos'].max()+1))\n",
    "# #\n",
    "# sns.boxplot(x = df['QtdProdutos'], fliersize = 2, notch = True, ax = axs[1])"
   ]
  },
  {
   "attachments": {},
   "cell_type": "markdown",
   "metadata": {},
   "source": [
    "3.1.6. Salário Estimado"
   ]
  },
  {
   "cell_type": "code",
   "execution_count": null,
   "metadata": {},
   "outputs": [],
   "source": [
    "# #Criação dos subplots\n",
    "# fig, axs = plt.subplots(ncols = 1, nrows = 2, sharex=True, height_ratios=[0.8, 0.2])\n",
    "# #Título da imagem\n",
    "# plt.suptitle('Faixa salarial')\n",
    "# #Gráfico 1 - Histograma\n",
    "# sns.histplot(x = df['Renda'], kde = False, ax = axs[0], stat = 'count', cumulative = False)\n",
    "# #Gráfico 2 - Boxplot\n",
    "# sns.boxplot(x = df['Renda'], fliersize = 2, notch = True, ax = axs[1])\n"
   ]
  },
  {
   "attachments": {},
   "cell_type": "markdown",
   "metadata": {},
   "source": [
    "3.1.7. Cartão de Crédito"
   ]
  },
  {
   "cell_type": "code",
   "execution_count": 78,
   "metadata": {},
   "outputs": [],
   "source": [
    "# #Título da imagem\n",
    "# plt.suptitle('Cartão de Crédito')\n",
    "# ax = sns.countplot(data = df, x = df['TemCartao'])\n",
    "# #Inclusão dos rótulos\n",
    "# ax.bar_label(ax.containers[0])"
   ]
  },
  {
   "attachments": {},
   "cell_type": "markdown",
   "metadata": {},
   "source": [
    "3.1.8. Clientes ativos e inativos"
   ]
  },
  {
   "cell_type": "code",
   "execution_count": null,
   "metadata": {},
   "outputs": [],
   "source": [
    "# #Título da imagem\n",
    "# plt.suptitle('Clientes ativos e inativos')\n",
    "# ax = sns.countplot(data = df, x = df['ClienteAtivo'])\n",
    "# #Inclusão dos rótulos\n",
    "# ax.bar_label(ax.containers[0])"
   ]
  },
  {
   "attachments": {},
   "cell_type": "markdown",
   "metadata": {},
   "source": [
    "3.1.9. Churn"
   ]
  },
  {
   "cell_type": "code",
   "execution_count": null,
   "metadata": {},
   "outputs": [],
   "source": [
    "# #Título da imagem\n",
    "# plt.suptitle('Churn')\n",
    "# ax = sns.countplot(data = df, x = df['Churn'])\n",
    "# #Inclusão dos rótulos\n",
    "# ax.bar_label(ax.containers[0])"
   ]
  },
  {
   "attachments": {},
   "cell_type": "markdown",
   "metadata": {},
   "source": [
    "3.1.10. País de residência"
   ]
  },
  {
   "cell_type": "code",
   "execution_count": 79,
   "metadata": {},
   "outputs": [],
   "source": [
    "# #Título da imagem\n",
    "# plt.suptitle('Clientes por Pais')\n",
    "# ax = sns.countplot(data = df, x = df['Pais'])\n",
    "# #Inclusão dos rótulos\n",
    "# ax.bar_label(ax.containers[0])"
   ]
  },
  {
   "attachments": {},
   "cell_type": "markdown",
   "metadata": {},
   "source": [
    "3.1.11. Gênero"
   ]
  },
  {
   "cell_type": "code",
   "execution_count": null,
   "metadata": {},
   "outputs": [],
   "source": [
    "# #Título da imagem\n",
    "# plt.suptitle('Clientes por gênero')\n",
    "# ax = sns.countplot(data = df, x = df['Genero'])\n",
    "# #Inclusão dos rótulos\n",
    "# ax.bar_label(ax.containers[0])"
   ]
  },
  {
   "attachments": {},
   "cell_type": "markdown",
   "metadata": {},
   "source": [
    "<h5>3.2. Análise bivariada</h5>"
   ]
  },
  {
   "attachments": {},
   "cell_type": "markdown",
   "metadata": {},
   "source": [
    "Matriz de Correlação"
   ]
  },
  {
   "cell_type": "code",
   "execution_count": 63,
   "metadata": {},
   "outputs": [
    {
     "name": "stderr",
     "output_type": "stream",
     "text": [
      "C:\\Users\\willy\\AppData\\Local\\Temp\\ipykernel_20456\\2127074908.py:2: FutureWarning: The default value of numeric_only in DataFrame.corr is deprecated. In a future version, it will default to False. Select only valid columns or specify the value of numeric_only to silence this warning.\n",
      "  corr = df.corr()\n"
     ]
    },
    {
     "data": {
      "text/html": [
       "<div>\n",
       "<style scoped>\n",
       "    .dataframe tbody tr th:only-of-type {\n",
       "        vertical-align: middle;\n",
       "    }\n",
       "\n",
       "    .dataframe tbody tr th {\n",
       "        vertical-align: top;\n",
       "    }\n",
       "\n",
       "    .dataframe thead th {\n",
       "        text-align: right;\n",
       "    }\n",
       "</style>\n",
       "<table border=\"1\" class=\"dataframe\">\n",
       "  <thead>\n",
       "    <tr style=\"text-align: right;\">\n",
       "      <th></th>\n",
       "      <th>Score</th>\n",
       "      <th>Idade</th>\n",
       "      <th>Fidelidade</th>\n",
       "      <th>Saldo</th>\n",
       "      <th>QtdProdutos</th>\n",
       "      <th>TemCartao</th>\n",
       "      <th>ClienteAtivo</th>\n",
       "      <th>Renda</th>\n",
       "      <th>Churn</th>\n",
       "    </tr>\n",
       "  </thead>\n",
       "  <tbody>\n",
       "    <tr>\n",
       "      <th>Score</th>\n",
       "      <td>1.000000</td>\n",
       "      <td>-0.003965</td>\n",
       "      <td>0.000842</td>\n",
       "      <td>0.006268</td>\n",
       "      <td>0.012238</td>\n",
       "      <td>-0.005458</td>\n",
       "      <td>0.025651</td>\n",
       "      <td>-0.001384</td>\n",
       "      <td>-0.027094</td>\n",
       "    </tr>\n",
       "    <tr>\n",
       "      <th>Idade</th>\n",
       "      <td>-0.003965</td>\n",
       "      <td>1.000000</td>\n",
       "      <td>-0.009997</td>\n",
       "      <td>0.028308</td>\n",
       "      <td>-0.030680</td>\n",
       "      <td>-0.011721</td>\n",
       "      <td>0.085472</td>\n",
       "      <td>-0.007201</td>\n",
       "      <td>0.285323</td>\n",
       "    </tr>\n",
       "    <tr>\n",
       "      <th>Fidelidade</th>\n",
       "      <td>0.000842</td>\n",
       "      <td>-0.009997</td>\n",
       "      <td>1.000000</td>\n",
       "      <td>-0.012254</td>\n",
       "      <td>0.013444</td>\n",
       "      <td>0.022583</td>\n",
       "      <td>-0.028362</td>\n",
       "      <td>0.007784</td>\n",
       "      <td>-0.014001</td>\n",
       "    </tr>\n",
       "    <tr>\n",
       "      <th>Saldo</th>\n",
       "      <td>0.006268</td>\n",
       "      <td>0.028308</td>\n",
       "      <td>-0.012254</td>\n",
       "      <td>1.000000</td>\n",
       "      <td>-0.304180</td>\n",
       "      <td>-0.014858</td>\n",
       "      <td>-0.010084</td>\n",
       "      <td>0.012797</td>\n",
       "      <td>0.118533</td>\n",
       "    </tr>\n",
       "    <tr>\n",
       "      <th>QtdProdutos</th>\n",
       "      <td>0.012238</td>\n",
       "      <td>-0.030680</td>\n",
       "      <td>0.013444</td>\n",
       "      <td>-0.304180</td>\n",
       "      <td>1.000000</td>\n",
       "      <td>0.003183</td>\n",
       "      <td>0.009612</td>\n",
       "      <td>0.014204</td>\n",
       "      <td>-0.047820</td>\n",
       "    </tr>\n",
       "    <tr>\n",
       "      <th>TemCartao</th>\n",
       "      <td>-0.005458</td>\n",
       "      <td>-0.011721</td>\n",
       "      <td>0.022583</td>\n",
       "      <td>-0.014858</td>\n",
       "      <td>0.003183</td>\n",
       "      <td>1.000000</td>\n",
       "      <td>-0.011866</td>\n",
       "      <td>-0.009933</td>\n",
       "      <td>-0.007138</td>\n",
       "    </tr>\n",
       "    <tr>\n",
       "      <th>ClienteAtivo</th>\n",
       "      <td>0.025651</td>\n",
       "      <td>0.085472</td>\n",
       "      <td>-0.028362</td>\n",
       "      <td>-0.010084</td>\n",
       "      <td>0.009612</td>\n",
       "      <td>-0.011866</td>\n",
       "      <td>1.000000</td>\n",
       "      <td>-0.011421</td>\n",
       "      <td>-0.156128</td>\n",
       "    </tr>\n",
       "    <tr>\n",
       "      <th>Renda</th>\n",
       "      <td>-0.001384</td>\n",
       "      <td>-0.007201</td>\n",
       "      <td>0.007784</td>\n",
       "      <td>0.012797</td>\n",
       "      <td>0.014204</td>\n",
       "      <td>-0.009933</td>\n",
       "      <td>-0.011421</td>\n",
       "      <td>1.000000</td>\n",
       "      <td>0.012097</td>\n",
       "    </tr>\n",
       "    <tr>\n",
       "      <th>Churn</th>\n",
       "      <td>-0.027094</td>\n",
       "      <td>0.285323</td>\n",
       "      <td>-0.014001</td>\n",
       "      <td>0.118533</td>\n",
       "      <td>-0.047820</td>\n",
       "      <td>-0.007138</td>\n",
       "      <td>-0.156128</td>\n",
       "      <td>0.012097</td>\n",
       "      <td>1.000000</td>\n",
       "    </tr>\n",
       "  </tbody>\n",
       "</table>\n",
       "</div>"
      ],
      "text/plain": [
       "                 Score     Idade  Fidelidade     Saldo  QtdProdutos  \\\n",
       "Score         1.000000 -0.003965    0.000842  0.006268     0.012238   \n",
       "Idade        -0.003965  1.000000   -0.009997  0.028308    -0.030680   \n",
       "Fidelidade    0.000842 -0.009997    1.000000 -0.012254     0.013444   \n",
       "Saldo         0.006268  0.028308   -0.012254  1.000000    -0.304180   \n",
       "QtdProdutos   0.012238 -0.030680    0.013444 -0.304180     1.000000   \n",
       "TemCartao    -0.005458 -0.011721    0.022583 -0.014858     0.003183   \n",
       "ClienteAtivo  0.025651  0.085472   -0.028362 -0.010084     0.009612   \n",
       "Renda        -0.001384 -0.007201    0.007784  0.012797     0.014204   \n",
       "Churn        -0.027094  0.285323   -0.014001  0.118533    -0.047820   \n",
       "\n",
       "              TemCartao  ClienteAtivo     Renda     Churn  \n",
       "Score         -0.005458      0.025651 -0.001384 -0.027094  \n",
       "Idade         -0.011721      0.085472 -0.007201  0.285323  \n",
       "Fidelidade     0.022583     -0.028362  0.007784 -0.014001  \n",
       "Saldo         -0.014858     -0.010084  0.012797  0.118533  \n",
       "QtdProdutos    0.003183      0.009612  0.014204 -0.047820  \n",
       "TemCartao      1.000000     -0.011866 -0.009933 -0.007138  \n",
       "ClienteAtivo  -0.011866      1.000000 -0.011421 -0.156128  \n",
       "Renda         -0.009933     -0.011421  1.000000  0.012097  \n",
       "Churn         -0.007138     -0.156128  0.012097  1.000000  "
      ]
     },
     "execution_count": 63,
     "metadata": {},
     "output_type": "execute_result"
    }
   ],
   "source": [
    "#Matriz de correlação\n",
    "corr = df.corr()\n",
    "corr"
   ]
  },
  {
   "cell_type": "code",
   "execution_count": 64,
   "metadata": {},
   "outputs": [
    {
     "data": {
      "text/html": [
       "<svg  width=\"330\" height=\"55\"><rect x=\"0\" y=\"0\" width=\"55\" height=\"55\" style=\"fill:#4479bb;stroke-width:2;stroke:rgb(255,255,255)\"/><rect x=\"55\" y=\"0\" width=\"55\" height=\"55\" style=\"fill:#89a9d1;stroke-width:2;stroke:rgb(255,255,255)\"/><rect x=\"110\" y=\"0\" width=\"55\" height=\"55\" style=\"fill:#cfdae7;stroke-width:2;stroke:rgb(255,255,255)\"/><rect x=\"165\" y=\"0\" width=\"55\" height=\"55\" style=\"fill:#e9d2cd;stroke-width:2;stroke:rgb(255,255,255)\"/><rect x=\"220\" y=\"0\" width=\"55\" height=\"55\" style=\"fill:#d69483;stroke-width:2;stroke:rgb(255,255,255)\"/><rect x=\"275\" y=\"0\" width=\"55\" height=\"55\" style=\"fill:#c3553a;stroke-width:2;stroke:rgb(255,255,255)\"/></svg>"
      ],
      "text/plain": [
       "[(0.26613466399181535, 0.47369810827813025, 0.7317615976606106),\n",
       " (0.5370642947070804, 0.6624089282430076, 0.8193382948975503),\n",
       " (0.8106397225972991, 0.8529626273091042, 0.9077702333184445),\n",
       " (0.9140860646530862, 0.8246826885128927, 0.8028133239419792),\n",
       " (0.8384144678873866, 0.5785740917778832, 0.5129511551488873),\n",
       " (0.7634747047461135, 0.3348456555528834, 0.225892295531744)]"
      ]
     },
     "execution_count": 64,
     "metadata": {},
     "output_type": "execute_result"
    }
   ],
   "source": [
    "#Criação da máscara a ser utilizada no heatmap de correlação\n",
    "mask = np.triu(np.ones_like(corr, dtype = bool))\n",
    "#Configuração da paleta de divergência\n",
    "paleta_divergencia = sns.diverging_palette(h_neg = 250, h_pos = 20, s = 75, l = 50, sep = 1, n = 6, center = 'light', as_cmap = False)\n",
    "paleta_divergencia"
   ]
  },
  {
   "cell_type": "code",
   "execution_count": 65,
   "metadata": {},
   "outputs": [
    {
     "data": {
      "text/plain": [
       "Text(0.5, 1.0, 'Matriz de Correlação')"
      ]
     },
     "execution_count": 65,
     "metadata": {},
     "output_type": "execute_result"
    },
    {
     "data": {
      "image/png": "[encoded data removed]",
      "text/plain": [
       "<Figure size 900x700 with 2 Axes>"
      ]
     },
     "metadata": {},
     "output_type": "display_data"
    }
   ],
   "source": [
    "#Criação do gráfico da matriz de correlação\n",
    "f, ax = plt.subplots(figsize = (9, 7))\n",
    "sns.heatmap(corr, mask = mask, cmap = paleta_divergencia, linewidths= 0.4, cbar=True, annot = True)\n",
    "plt.title('Matriz de Correlação')"
   ]
  },
  {
   "attachments": {},
   "cell_type": "markdown",
   "metadata": {},
   "source": [
    "3.2.1. Churn x Idade"
   ]
  },
  {
   "cell_type": "code",
   "execution_count": null,
   "metadata": {},
   "outputs": [],
   "source": [
    "#Título da imagem\n",
    "plt.suptitle('Idade x Churn')\n",
    "#Análise bivariada\n",
    "sns.boxplot(df, x = df['Idade'], y = df['Churn'].replace({1 : 'Saiu - (1)', 0: 'NaoSaiu - (0)'}), fliersize = 2, notch = True)"
   ]
  },
  {
   "attachments": {},
   "cell_type": "markdown",
   "metadata": {},
   "source": [
    "3.2.1. Churn x Saldo"
   ]
  },
  {
   "cell_type": "code",
   "execution_count": null,
   "metadata": {},
   "outputs": [],
   "source": [
    "#Título da imagem\n",
    "plt.suptitle('Saldo x Churn')\n",
    "#Análise bivariada\n",
    "sns.boxplot(df, x = df['Saldo'], y = df['Churn'].replace({1 : 'Saiu - (1)', 0: 'NaoSaiu - (0)'}), fliersize = 2, notch = True)"
   ]
  },
  {
   "cell_type": "code",
   "execution_count": null,
   "metadata": {},
   "outputs": [],
   "source": [
    "# Geração de gráficos (function)\n",
    "for n, var, in enumerate(var_quantitativas_discretas, start = 1):\n",
    "    # Descrição estatística das variáveis\n",
    "    print(f'{n}. {var}', end = '\\n')\n",
    "    print('------------------------', end = '\\n')\n",
    "    print('Estatística descritiva', end = '\\n')\n",
    "    print('------------------------', end = '\\n')\n",
    "    print(df[var].describe(), end = '\\n''\\n')\n",
    "    # Criação dos subplots\n",
    "    fig, axs = plt.subplots(ncols = 1, nrows = 2, sharex = True, height_ratios = [0.8, 0.2])\n",
    "    # Título do gráfico \n",
    "    fig.suptitle(f'{var}')\n",
    "    # Gráfico 1 - Histograma\n",
    "    sns.histplot(data = df, x = var, kde = True, ax = axs[0], stat = 'count', cumulative = False)\n",
    "    # Gráfico 2 - Boxplot\n",
    "    sns.boxplot(data = df, x = var, fliersize = 2, notch = True, ax = axs[1])\n",
    "    #Mostra o gráfico\n",
    "    plt.show()"
   ]
  },
  {
   "cell_type": "code",
   "execution_count": null,
   "metadata": {},
   "outputs": [],
   "source": [
    "# #Criando a figura para plotagem dos gráficos\n",
    "# fig = make_subplots(rows = 2, shared_xaxes = True, vertical_spacing = 0.05, row_heights = [0.6, 0.4])\n",
    "\n",
    "# #Gráfico 1 - Histograma\n",
    "# fig.add_trace(go.Histogram(x = df.Saldo), row = 1, col = 1)\n",
    "\n",
    "# #Gráfico 2 - Boxplot\n",
    "# fig.add_trace(go.Box(x = df.Saldo, name = '', orientation = 'h'), row = 2, col=1)\n",
    "\n",
    "# #Alterações de layout    \n",
    "# fig.update_layout(title = 'Saldo', showlegend = False, title_font_size = 18)\n",
    "\n",
    "# #Configuração do eixo X    \n",
    "# fig.update_xaxes(range = [-10000, 300000])\n",
    "\n",
    "# #Mostrar o gráfico\n",
    "# fig.show()"
   ]
  },
  {
   "cell_type": "code",
   "execution_count": null,
   "metadata": {},
   "outputs": [],
   "source": [
    "# #Criando a figura para plotagem dos gráficos\n",
    "# fig = make_subplots(rows = 2, shared_xaxes = True, vertical_spacing = 0.05, row_heights = [0.6, 0.4])\n",
    "\n",
    "# #Gráfico 1 - Histograma\n",
    "# fig.add_trace(go.Histogram(x = df.QtdProdutos), row = 1, col = 1)\n",
    "\n",
    "# #Gráfico 2 - Boxplot\n",
    "# fig.add_trace(go.Box(x = df.QtdProdutos, name = '', orientation = 'h'), row = 2, col=1)\n",
    "\n",
    "# #Alterações de layout    \n",
    "# fig.update_layout(title = 'Quantidade de Produtos', showlegend = False, title_font_size = 18)\n",
    "\n",
    "# #Configuração do eixo X    \n",
    "# fig.update_xaxes(range = [0, 5])\n",
    "\n",
    "# #Mostrar o gráfico\n",
    "# fig.show()"
   ]
  },
  {
   "cell_type": "code",
   "execution_count": null,
   "metadata": {},
   "outputs": [],
   "source": [
    "# #Criando a figura para plotagem dos gráficos\n",
    "# fig = make_subplots(rows = 2, shared_xaxes = True, vertical_spacing = 0.05, row_heights = [0.6, 0.4])\n",
    "\n",
    "# #Gráfico 1 - Histograma\n",
    "# fig.add_trace(go.Histogram(x = df.Fidelidade), row = 1, col = 1)\n",
    "\n",
    "# #Gráfico 2 - Boxplot\n",
    "# fig.add_trace(go.Box(x = df.Fidelidade, name = '', orientation = 'h'), row = 2, col=1)\n",
    "\n",
    "# #Alterações de layout    \n",
    "# fig.update_layout(title = 'Tempo de fidelidade (em anos)', showlegend = False, title_font_size = 18)\n",
    "\n",
    "# #Configuração do eixo X    \n",
    "# fig.update_xaxes(range = [-5, 15])\n",
    "\n",
    "# #Mostrar o gráfico\n",
    "# fig.show()"
   ]
  },
  {
   "cell_type": "code",
   "execution_count": null,
   "metadata": {},
   "outputs": [],
   "source": [
    "#Definição do estilo dos gráficos\n",
    "# plt.style.use('seaborn-v0_8')\n",
    "# pio.templates"
   ]
  },
  {
   "cell_type": "code",
   "execution_count": null,
   "metadata": {},
   "outputs": [],
   "source": [
    "# Definição do template dos gráficos\n",
    "# pio.templates.default = 'seaborn'"
   ]
  },
  {
   "cell_type": "code",
   "execution_count": null,
   "metadata": {},
   "outputs": [],
   "source": [
    "# #Criando a figura para plotagem dos gráficos\n",
    "# fig = make_subplots(rows = 2, shared_xaxes = True, vertical_spacing = 0.05, row_heights = [0.6, 0.4])\n",
    "\n",
    "# #Gráfico 1 - Histograma\n",
    "# fig.add_trace(go.Histogram(x = df.Score), row = 1, col = 1)\n",
    "\n",
    "# #Gráfico 2 - Boxplot\n",
    "# fig.add_trace(go.Box(x = df.Score, name = '', orientation = 'h'), row = 2, col=1)\n",
    "\n",
    "# #Alterações de layout    \n",
    "# fig.update_layout(title = 'Score de Crédito', showlegend = False, title_font_size = 18)\n",
    "\n",
    "# #Configuração do eixo X    \n",
    "# fig.update_xaxes(range = [300, 900])\n",
    "\n",
    "# #Mostrar o gráfico\n",
    "# fig.show()"
   ]
  },
  {
   "cell_type": "code",
   "execution_count": null,
   "metadata": {},
   "outputs": [],
   "source": [
    "# df.Idade.describe()"
   ]
  },
  {
   "cell_type": "code",
   "execution_count": null,
   "metadata": {},
   "outputs": [],
   "source": [
    "# #Criando a figura para plotagem dos gráficos\n",
    "# fig = make_subplots(rows = 2, shared_xaxes = True, vertical_spacing = 0.05, row_heights = [0.6, 0.4])\n",
    "\n",
    "# #Gráfico 1 - Histograma\n",
    "# fig.add_trace(go.Histogram(x = df.Idade), row = 1, col = 1)\n",
    "\n",
    "# #Gráfico 2 - Boxplot\n",
    "# fig.add_trace(go.Box(x = df.Idade, name = '', orientation = 'h'), row = 2, col=1)\n",
    "\n",
    "# #Alterações de layout    \n",
    "# fig.update_layout(title = 'Idade', showlegend = False, title_font_size = 18)\n",
    "\n",
    "# #Configuração do eixo X    \n",
    "# fig.update_xaxes(range = [0, 100])\n",
    "\n",
    "# #Mostrar o gráfico\n",
    "# fig.show()"
   ]
  },
  {
   "cell_type": "code",
   "execution_count": null,
   "metadata": {},
   "outputs": [],
   "source": [
    "# df.Fidelidade.describe()"
   ]
  },
  {
   "cell_type": "code",
   "execution_count": null,
   "metadata": {},
   "outputs": [],
   "source": [
    "# df.Saldo.describe()"
   ]
  },
  {
   "cell_type": "code",
   "execution_count": null,
   "metadata": {},
   "outputs": [],
   "source": [
    "# df_numericas"
   ]
  },
  {
   "cell_type": "code",
   "execution_count": null,
   "metadata": {},
   "outputs": [],
   "source": [
    "# df.QtdProdutos.describe()"
   ]
  }
 ],
 "metadata": {
  "kernelspec": {
   "display_name": "Python 3",
   "language": "python",
   "name": "python3"
  },
  "language_info": {
   "codemirror_mode": {
    "name": "ipython",
    "version": 3
   },
   "file_extension": ".py",
   "mimetype": "text/x-python",
   "name": "python",
   "nbconvert_exporter": "python",
   "pygments_lexer": "ipython3",
   "version": "3.11.1"
  },
  "orig_nbformat": 4
 },
 "nbformat": 4,
 "nbformat_minor": 2
}
