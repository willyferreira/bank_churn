{
 "cells": [
  {
   "attachments": {},
   "cell_type": "markdown",
   "metadata": {},
   "source": [
    "<h2>Churn de Clientes - Bank Dataset</h2>"
   ]
  },
  {
   "cell_type": "code",
   "execution_count": 5,
   "metadata": {},
   "outputs": [],
   "source": [
    "## ----------------------------------------------------------------\n",
    "#* Link do dataset\n",
    "    #  https://www.kaggle.com/datasets/mathchi/churn-for-bank-customers\n",
    "\n",
    "#* Descrição das variáveis\n",
    "    #* RowNumber\n",
    "    #Número da linha do dataset\n",
    "    #* CustomerId\n",
    "    #Número randômico e único que identifica o cliente\n",
    "    #* Surname\n",
    "    #Sobrenome do cliente\n",
    "    #* CreditScore\n",
    "    #Pontuação de crédito atribuida ao cliente\n",
    "    #* Geography\n",
    "    #Localização do cliente\n",
    "    #* Gender\n",
    "    #Gênero do cliente\n",
    "    #* Age\n",
    "    #Idade do cliente\n",
    "    #* Tenure\n",
    "    #Fidelidade do cliente | Quantidade de anos que o cliente está na instituição\n",
    "    #* Balance\n",
    "    #Saldo do cliente\n",
    "    #* NumOfProducts\n",
    "    #Quantidade de produtos que o cliente comprou no banco\n",
    "    #* HasCrCard\n",
    "    #Se o cliente possui ou não cartão de crédito sendo 1|Sim e 0|Não\n",
    "    #* IsActiveMember\n",
    "    #  - Se o cliente é ativo ou não no banco\n",
    "    #* EstimatedSalary\n",
    "    #  - Renda do cliente\n",
    "    #*Exited\n",
    "    #  - Se o cliente deixou ou não a instituição sendo 1|Sim e 0|Não  \n",
    "## ----------------------------------------------------------------"
   ]
  },
  {
   "attachments": {},
   "cell_type": "markdown",
   "metadata": {},
   "source": [
    "<h5>1. Importação dos pacotes </h5>"
   ]
  },
  {
   "cell_type": "code",
   "execution_count": 6,
   "metadata": {},
   "outputs": [],
   "source": [
    "## ----------------------------------------------------------------\n",
    "#* Manipulação de dados\n",
    "import pandas as pd\n",
    "import numpy as np\n",
    "import scipy as sp\n",
    "import scipy.stats as st\n",
    "#* DataViz\n",
    "import matplotlib.pyplot as plt\n",
    "import seaborn as sns\n",
    "import seaborn.objects as so\n",
    "import ydata_profiling\n",
    "#! Utilizar ydata_profiling em Jupyter notebook\n",
    "# import sys\n",
    "# !{sys.executable} -m pip install -U ydata-profiling[notebook]\n",
    "# !jupyter nbextension enable --py widgetsnbextension\n",
    "#\n",
    "from ydata_profiling import ProfileReport\n",
    "#! Pacotes não utilizados no momento\n",
    "#import plotly.express as px\n",
    "#import plotly.io as pio\n",
    "#import chart_studio.plotly as py\n",
    "#import plotly.graph_objects as go\n",
    "#from plotly.subplots import make_subplots\n",
    "#* Machine Learning\n",
    "## ----------------------------------------------------------------"
   ]
  },
  {
   "attachments": {},
   "cell_type": "markdown",
   "metadata": {},
   "source": [
    "<h5>2. Leitura e tratamento do dataset </h5>"
   ]
  },
  {
   "cell_type": "code",
   "execution_count": 7,
   "metadata": {},
   "outputs": [
    {
     "data": {
      "text/html": [
       "<div>\n",
       "<style scoped>\n",
       "    .dataframe tbody tr th:only-of-type {\n",
       "        vertical-align: middle;\n",
       "    }\n",
       "\n",
       "    .dataframe tbody tr th {\n",
       "        vertical-align: top;\n",
       "    }\n",
       "\n",
       "    .dataframe thead th {\n",
       "        text-align: right;\n",
       "    }\n",
       "</style>\n",
       "<table border=\"1\" class=\"dataframe\">\n",
       "  <thead>\n",
       "    <tr style=\"text-align: right;\">\n",
       "      <th></th>\n",
       "      <th>RowNumber</th>\n",
       "      <th>CustomerId</th>\n",
       "      <th>Surname</th>\n",
       "      <th>CreditScore</th>\n",
       "      <th>Geography</th>\n",
       "      <th>Gender</th>\n",
       "      <th>Age</th>\n",
       "      <th>Tenure</th>\n",
       "      <th>Balance</th>\n",
       "      <th>NumOfProducts</th>\n",
       "      <th>HasCrCard</th>\n",
       "      <th>IsActiveMember</th>\n",
       "      <th>EstimatedSalary</th>\n",
       "      <th>Exited</th>\n",
       "    </tr>\n",
       "  </thead>\n",
       "  <tbody>\n",
       "    <tr>\n",
       "      <th>0</th>\n",
       "      <td>1</td>\n",
       "      <td>15634602</td>\n",
       "      <td>Hargrave</td>\n",
       "      <td>619</td>\n",
       "      <td>France</td>\n",
       "      <td>Female</td>\n",
       "      <td>42</td>\n",
       "      <td>2</td>\n",
       "      <td>0.00</td>\n",
       "      <td>1</td>\n",
       "      <td>1</td>\n",
       "      <td>1</td>\n",
       "      <td>101348.88</td>\n",
       "      <td>1</td>\n",
       "    </tr>\n",
       "    <tr>\n",
       "      <th>1</th>\n",
       "      <td>2</td>\n",
       "      <td>15647311</td>\n",
       "      <td>Hill</td>\n",
       "      <td>608</td>\n",
       "      <td>Spain</td>\n",
       "      <td>Female</td>\n",
       "      <td>41</td>\n",
       "      <td>1</td>\n",
       "      <td>83807.86</td>\n",
       "      <td>1</td>\n",
       "      <td>0</td>\n",
       "      <td>1</td>\n",
       "      <td>112542.58</td>\n",
       "      <td>0</td>\n",
       "    </tr>\n",
       "    <tr>\n",
       "      <th>2</th>\n",
       "      <td>3</td>\n",
       "      <td>15619304</td>\n",
       "      <td>Onio</td>\n",
       "      <td>502</td>\n",
       "      <td>France</td>\n",
       "      <td>Female</td>\n",
       "      <td>42</td>\n",
       "      <td>8</td>\n",
       "      <td>159660.80</td>\n",
       "      <td>3</td>\n",
       "      <td>1</td>\n",
       "      <td>0</td>\n",
       "      <td>113931.57</td>\n",
       "      <td>1</td>\n",
       "    </tr>\n",
       "    <tr>\n",
       "      <th>3</th>\n",
       "      <td>4</td>\n",
       "      <td>15701354</td>\n",
       "      <td>Boni</td>\n",
       "      <td>699</td>\n",
       "      <td>France</td>\n",
       "      <td>Female</td>\n",
       "      <td>39</td>\n",
       "      <td>1</td>\n",
       "      <td>0.00</td>\n",
       "      <td>2</td>\n",
       "      <td>0</td>\n",
       "      <td>0</td>\n",
       "      <td>93826.63</td>\n",
       "      <td>0</td>\n",
       "    </tr>\n",
       "    <tr>\n",
       "      <th>4</th>\n",
       "      <td>5</td>\n",
       "      <td>15737888</td>\n",
       "      <td>Mitchell</td>\n",
       "      <td>850</td>\n",
       "      <td>Spain</td>\n",
       "      <td>Female</td>\n",
       "      <td>43</td>\n",
       "      <td>2</td>\n",
       "      <td>125510.82</td>\n",
       "      <td>1</td>\n",
       "      <td>1</td>\n",
       "      <td>1</td>\n",
       "      <td>79084.10</td>\n",
       "      <td>0</td>\n",
       "    </tr>\n",
       "  </tbody>\n",
       "</table>\n",
       "</div>"
      ],
      "text/plain": [
       "   RowNumber  CustomerId   Surname  CreditScore Geography  Gender  Age  \\\n",
       "0          1    15634602  Hargrave          619    France  Female   42   \n",
       "1          2    15647311      Hill          608     Spain  Female   41   \n",
       "2          3    15619304      Onio          502    France  Female   42   \n",
       "3          4    15701354      Boni          699    France  Female   39   \n",
       "4          5    15737888  Mitchell          850     Spain  Female   43   \n",
       "\n",
       "   Tenure    Balance  NumOfProducts  HasCrCard  IsActiveMember  \\\n",
       "0       2       0.00              1          1               1   \n",
       "1       1   83807.86              1          0               1   \n",
       "2       8  159660.80              3          1               0   \n",
       "3       1       0.00              2          0               0   \n",
       "4       2  125510.82              1          1               1   \n",
       "\n",
       "   EstimatedSalary  Exited  \n",
       "0        101348.88       1  \n",
       "1        112542.58       0  \n",
       "2        113931.57       1  \n",
       "3         93826.63       0  \n",
       "4         79084.10       0  "
      ]
     },
     "execution_count": 7,
     "metadata": {},
     "output_type": "execute_result"
    }
   ],
   "source": [
    "df_original = pd.read_csv(filepath_or_buffer = 'churn.csv', header = 0)\n",
    "df_original.head()"
   ]
  },
  {
   "cell_type": "code",
   "execution_count": 8,
   "metadata": {},
   "outputs": [
    {
     "data": {
      "text/html": [
       "<div>\n",
       "<style scoped>\n",
       "    .dataframe tbody tr th:only-of-type {\n",
       "        vertical-align: middle;\n",
       "    }\n",
       "\n",
       "    .dataframe tbody tr th {\n",
       "        vertical-align: top;\n",
       "    }\n",
       "\n",
       "    .dataframe thead th {\n",
       "        text-align: right;\n",
       "    }\n",
       "</style>\n",
       "<table border=\"1\" class=\"dataframe\">\n",
       "  <thead>\n",
       "    <tr style=\"text-align: right;\">\n",
       "      <th></th>\n",
       "      <th>CreditScore</th>\n",
       "      <th>Geography</th>\n",
       "      <th>Gender</th>\n",
       "      <th>Age</th>\n",
       "      <th>Tenure</th>\n",
       "      <th>Balance</th>\n",
       "      <th>NumOfProducts</th>\n",
       "      <th>HasCrCard</th>\n",
       "      <th>IsActiveMember</th>\n",
       "      <th>EstimatedSalary</th>\n",
       "      <th>Exited</th>\n",
       "    </tr>\n",
       "  </thead>\n",
       "  <tbody>\n",
       "    <tr>\n",
       "      <th>0</th>\n",
       "      <td>619</td>\n",
       "      <td>France</td>\n",
       "      <td>Female</td>\n",
       "      <td>42</td>\n",
       "      <td>2</td>\n",
       "      <td>0.00</td>\n",
       "      <td>1</td>\n",
       "      <td>1</td>\n",
       "      <td>1</td>\n",
       "      <td>101348.88</td>\n",
       "      <td>1</td>\n",
       "    </tr>\n",
       "    <tr>\n",
       "      <th>1</th>\n",
       "      <td>608</td>\n",
       "      <td>Spain</td>\n",
       "      <td>Female</td>\n",
       "      <td>41</td>\n",
       "      <td>1</td>\n",
       "      <td>83807.86</td>\n",
       "      <td>1</td>\n",
       "      <td>0</td>\n",
       "      <td>1</td>\n",
       "      <td>112542.58</td>\n",
       "      <td>0</td>\n",
       "    </tr>\n",
       "    <tr>\n",
       "      <th>2</th>\n",
       "      <td>502</td>\n",
       "      <td>France</td>\n",
       "      <td>Female</td>\n",
       "      <td>42</td>\n",
       "      <td>8</td>\n",
       "      <td>159660.80</td>\n",
       "      <td>3</td>\n",
       "      <td>1</td>\n",
       "      <td>0</td>\n",
       "      <td>113931.57</td>\n",
       "      <td>1</td>\n",
       "    </tr>\n",
       "    <tr>\n",
       "      <th>3</th>\n",
       "      <td>699</td>\n",
       "      <td>France</td>\n",
       "      <td>Female</td>\n",
       "      <td>39</td>\n",
       "      <td>1</td>\n",
       "      <td>0.00</td>\n",
       "      <td>2</td>\n",
       "      <td>0</td>\n",
       "      <td>0</td>\n",
       "      <td>93826.63</td>\n",
       "      <td>0</td>\n",
       "    </tr>\n",
       "    <tr>\n",
       "      <th>4</th>\n",
       "      <td>850</td>\n",
       "      <td>Spain</td>\n",
       "      <td>Female</td>\n",
       "      <td>43</td>\n",
       "      <td>2</td>\n",
       "      <td>125510.82</td>\n",
       "      <td>1</td>\n",
       "      <td>1</td>\n",
       "      <td>1</td>\n",
       "      <td>79084.10</td>\n",
       "      <td>0</td>\n",
       "    </tr>\n",
       "  </tbody>\n",
       "</table>\n",
       "</div>"
      ],
      "text/plain": [
       "   CreditScore Geography  Gender  Age  Tenure    Balance  NumOfProducts  \\\n",
       "0          619    France  Female   42       2       0.00              1   \n",
       "1          608     Spain  Female   41       1   83807.86              1   \n",
       "2          502    France  Female   42       8  159660.80              3   \n",
       "3          699    France  Female   39       1       0.00              2   \n",
       "4          850     Spain  Female   43       2  125510.82              1   \n",
       "\n",
       "   HasCrCard  IsActiveMember  EstimatedSalary  Exited  \n",
       "0          1               1        101348.88       1  \n",
       "1          0               1        112542.58       0  \n",
       "2          1               0        113931.57       1  \n",
       "3          0               0         93826.63       0  \n",
       "4          1               1         79084.10       0  "
      ]
     },
     "execution_count": 8,
     "metadata": {},
     "output_type": "execute_result"
    }
   ],
   "source": [
    "#Excluir colunas que não serão utilizadas\n",
    "trash_colunas = {'RowNumber', 'CustomerId', 'Surname'}\n",
    "#\n",
    "df = df_original.drop(columns = trash_colunas)\n",
    "del(trash_colunas)\n",
    "del(df_original)\n",
    "df.head()"
   ]
  },
  {
   "cell_type": "code",
   "execution_count": 9,
   "metadata": {},
   "outputs": [
    {
     "data": {
      "text/html": [
       "<div>\n",
       "<style scoped>\n",
       "    .dataframe tbody tr th:only-of-type {\n",
       "        vertical-align: middle;\n",
       "    }\n",
       "\n",
       "    .dataframe tbody tr th {\n",
       "        vertical-align: top;\n",
       "    }\n",
       "\n",
       "    .dataframe thead th {\n",
       "        text-align: right;\n",
       "    }\n",
       "</style>\n",
       "<table border=\"1\" class=\"dataframe\">\n",
       "  <thead>\n",
       "    <tr style=\"text-align: right;\">\n",
       "      <th></th>\n",
       "      <th>Score</th>\n",
       "      <th>Pais</th>\n",
       "      <th>Genero</th>\n",
       "      <th>Idade</th>\n",
       "      <th>Fidelidade</th>\n",
       "      <th>Saldo</th>\n",
       "      <th>QtdProdutos</th>\n",
       "      <th>TemCartao</th>\n",
       "      <th>ClienteAtivo</th>\n",
       "      <th>Renda</th>\n",
       "      <th>Churn</th>\n",
       "    </tr>\n",
       "  </thead>\n",
       "  <tbody>\n",
       "    <tr>\n",
       "      <th>0</th>\n",
       "      <td>619</td>\n",
       "      <td>France</td>\n",
       "      <td>Female</td>\n",
       "      <td>42</td>\n",
       "      <td>2</td>\n",
       "      <td>0.00</td>\n",
       "      <td>1</td>\n",
       "      <td>1</td>\n",
       "      <td>1</td>\n",
       "      <td>101348.88</td>\n",
       "      <td>1</td>\n",
       "    </tr>\n",
       "    <tr>\n",
       "      <th>1</th>\n",
       "      <td>608</td>\n",
       "      <td>Spain</td>\n",
       "      <td>Female</td>\n",
       "      <td>41</td>\n",
       "      <td>1</td>\n",
       "      <td>83807.86</td>\n",
       "      <td>1</td>\n",
       "      <td>0</td>\n",
       "      <td>1</td>\n",
       "      <td>112542.58</td>\n",
       "      <td>0</td>\n",
       "    </tr>\n",
       "    <tr>\n",
       "      <th>2</th>\n",
       "      <td>502</td>\n",
       "      <td>France</td>\n",
       "      <td>Female</td>\n",
       "      <td>42</td>\n",
       "      <td>8</td>\n",
       "      <td>159660.80</td>\n",
       "      <td>3</td>\n",
       "      <td>1</td>\n",
       "      <td>0</td>\n",
       "      <td>113931.57</td>\n",
       "      <td>1</td>\n",
       "    </tr>\n",
       "    <tr>\n",
       "      <th>3</th>\n",
       "      <td>699</td>\n",
       "      <td>France</td>\n",
       "      <td>Female</td>\n",
       "      <td>39</td>\n",
       "      <td>1</td>\n",
       "      <td>0.00</td>\n",
       "      <td>2</td>\n",
       "      <td>0</td>\n",
       "      <td>0</td>\n",
       "      <td>93826.63</td>\n",
       "      <td>0</td>\n",
       "    </tr>\n",
       "    <tr>\n",
       "      <th>4</th>\n",
       "      <td>850</td>\n",
       "      <td>Spain</td>\n",
       "      <td>Female</td>\n",
       "      <td>43</td>\n",
       "      <td>2</td>\n",
       "      <td>125510.82</td>\n",
       "      <td>1</td>\n",
       "      <td>1</td>\n",
       "      <td>1</td>\n",
       "      <td>79084.10</td>\n",
       "      <td>0</td>\n",
       "    </tr>\n",
       "  </tbody>\n",
       "</table>\n",
       "</div>"
      ],
      "text/plain": [
       "   Score    Pais  Genero  Idade  Fidelidade      Saldo  QtdProdutos  \\\n",
       "0    619  France  Female     42           2       0.00            1   \n",
       "1    608   Spain  Female     41           1   83807.86            1   \n",
       "2    502  France  Female     42           8  159660.80            3   \n",
       "3    699  France  Female     39           1       0.00            2   \n",
       "4    850   Spain  Female     43           2  125510.82            1   \n",
       "\n",
       "   TemCartao  ClienteAtivo      Renda  Churn  \n",
       "0          1             1  101348.88      1  \n",
       "1          0             1  112542.58      0  \n",
       "2          1             0  113931.57      1  \n",
       "3          0             0   93826.63      0  \n",
       "4          1             1   79084.10      0  "
      ]
     },
     "execution_count": 9,
     "metadata": {},
     "output_type": "execute_result"
    }
   ],
   "source": [
    "#Criar lista com nome das novas variáveis\n",
    "novas_colunas = {\n",
    "    'CreditScore': 'Score',\n",
    "    'Geography': 'Pais',\n",
    "    'Gender': 'Genero',\n",
    "    'Age': 'Idade',\n",
    "    'Tenure': 'Fidelidade',\n",
    "    'Balance': 'Saldo',\n",
    "    'NumOfProducts': 'QtdProdutos',\n",
    "    'HasCrCard': 'TemCartao',\n",
    "    'IsActiveMember': 'ClienteAtivo',\n",
    "    'EstimatedSalary': 'Renda',\n",
    "    'Exited': 'Churn'\n",
    "    }\n",
    "#renomeando as variáveis\n",
    "df.rename(columns = novas_colunas, inplace = True)\n",
    "#\n",
    "del(novas_colunas)\n",
    "#\n",
    "df.head()"
   ]
  },
  {
   "attachments": {},
   "cell_type": "markdown",
   "metadata": {},
   "source": [
    "<h4>3. Análise Exploratória </h4>"
   ]
  },
  {
   "cell_type": "code",
   "execution_count": 10,
   "metadata": {},
   "outputs": [],
   "source": [
    "# #Criação de perfil para geração de relatório Profiling\n",
    "# profile = ProfileReport(df, title = 'Bank Churn')\n",
    "# #Funções para utilização do pacote ydata_profiling em Jupyter\n",
    "# profile.to_widgets()\n",
    "# profile.to_notebook_iframe()"
   ]
  },
  {
   "cell_type": "code",
   "execution_count": 11,
   "metadata": {},
   "outputs": [],
   "source": [
    "# #Salvando o relatório em html\n",
    "# profile.to_file('churn_Profile.html')"
   ]
  },
  {
   "cell_type": "code",
   "execution_count": 12,
   "metadata": {},
   "outputs": [
    {
     "name": "stdout",
     "output_type": "stream",
     "text": [
      "<class 'pandas.core.frame.DataFrame'>\n",
      "RangeIndex: 10000 entries, 0 to 9999\n",
      "Data columns (total 11 columns):\n",
      " #   Column        Non-Null Count  Dtype  \n",
      "---  ------        --------------  -----  \n",
      " 0   Score         10000 non-null  int64  \n",
      " 1   Pais          10000 non-null  object \n",
      " 2   Genero        10000 non-null  object \n",
      " 3   Idade         10000 non-null  int64  \n",
      " 4   Fidelidade    10000 non-null  int64  \n",
      " 5   Saldo         10000 non-null  float64\n",
      " 6   QtdProdutos   10000 non-null  int64  \n",
      " 7   TemCartao     10000 non-null  int64  \n",
      " 8   ClienteAtivo  10000 non-null  int64  \n",
      " 9   Renda         10000 non-null  float64\n",
      " 10  Churn         10000 non-null  int64  \n",
      "dtypes: float64(2), int64(7), object(2)\n",
      "memory usage: 859.5+ KB\n"
     ]
    }
   ],
   "source": [
    "#Informações sobre missing values e tipo das variáveis\n",
    "df.info()"
   ]
  },
  {
   "cell_type": "code",
   "execution_count": 13,
   "metadata": {},
   "outputs": [
    {
     "data": {
      "text/plain": [
       "['Score',\n",
       " 'Pais',\n",
       " 'Genero',\n",
       " 'Idade',\n",
       " 'Fidelidade',\n",
       " 'Saldo',\n",
       " 'QtdProdutos',\n",
       " 'TemCartao',\n",
       " 'ClienteAtivo',\n",
       " 'Renda',\n",
       " 'Churn']"
      ]
     },
     "execution_count": 13,
     "metadata": {},
     "output_type": "execute_result"
    }
   ],
   "source": [
    "#Criar lista com o nome das colunas (variáveis)\n",
    "variaveis = df.columns.to_list()\n",
    "variaveis"
   ]
  },
  {
   "cell_type": "code",
   "execution_count": 14,
   "metadata": {},
   "outputs": [
    {
     "data": {
      "text/plain": [
       "Score            460\n",
       "Pais               3\n",
       "Genero             2\n",
       "Idade             70\n",
       "Fidelidade        11\n",
       "Saldo           6382\n",
       "QtdProdutos        4\n",
       "TemCartao          2\n",
       "ClienteAtivo       2\n",
       "Renda           9999\n",
       "Churn              2\n",
       "dtype: int64"
      ]
     },
     "execution_count": 14,
     "metadata": {},
     "output_type": "execute_result"
    }
   ],
   "source": [
    "#Mostrar a quantidade de registros em cada variável\n",
    "df[variaveis].nunique()"
   ]
  },
  {
   "cell_type": "code",
   "execution_count": 15,
   "metadata": {},
   "outputs": [
    {
     "data": {
      "text/plain": [
       "['Saldo', 'Renda']"
      ]
     },
     "execution_count": 15,
     "metadata": {},
     "output_type": "execute_result"
    }
   ],
   "source": [
    "# Listar variáveis quantitativa contínuas\n",
    "var_quantitativas_continuas = [\n",
    "    variavel for variavel in df.columns\n",
    "        if df[variavel].dtype == 'float64' and variavel not in 'Churn']\n",
    "var_quantitativas_continuas"
   ]
  },
  {
   "cell_type": "code",
   "execution_count": 17,
   "metadata": {},
   "outputs": [
    {
     "data": {
      "text/html": [
       "<div>\n",
       "<style scoped>\n",
       "    .dataframe tbody tr th:only-of-type {\n",
       "        vertical-align: middle;\n",
       "    }\n",
       "\n",
       "    .dataframe tbody tr th {\n",
       "        vertical-align: top;\n",
       "    }\n",
       "\n",
       "    .dataframe thead th {\n",
       "        text-align: right;\n",
       "    }\n",
       "</style>\n",
       "<table border=\"1\" class=\"dataframe\">\n",
       "  <thead>\n",
       "    <tr style=\"text-align: right;\">\n",
       "      <th></th>\n",
       "      <th>count</th>\n",
       "      <th>mean</th>\n",
       "      <th>std</th>\n",
       "      <th>min</th>\n",
       "      <th>25%</th>\n",
       "      <th>50%</th>\n",
       "      <th>75%</th>\n",
       "      <th>max</th>\n",
       "    </tr>\n",
       "  </thead>\n",
       "  <tbody>\n",
       "    <tr>\n",
       "      <th>Saldo</th>\n",
       "      <td>10000.0</td>\n",
       "      <td>76485.889288</td>\n",
       "      <td>62397.405202</td>\n",
       "      <td>0.00</td>\n",
       "      <td>0.00</td>\n",
       "      <td>97198.540</td>\n",
       "      <td>127644.2400</td>\n",
       "      <td>250898.09</td>\n",
       "    </tr>\n",
       "    <tr>\n",
       "      <th>Renda</th>\n",
       "      <td>10000.0</td>\n",
       "      <td>100090.239881</td>\n",
       "      <td>57510.492818</td>\n",
       "      <td>11.58</td>\n",
       "      <td>51002.11</td>\n",
       "      <td>100193.915</td>\n",
       "      <td>149388.2475</td>\n",
       "      <td>199992.48</td>\n",
       "    </tr>\n",
       "  </tbody>\n",
       "</table>\n",
       "</div>"
      ],
      "text/plain": [
       "         count           mean           std    min       25%         50%  \\\n",
       "Saldo  10000.0   76485.889288  62397.405202   0.00      0.00   97198.540   \n",
       "Renda  10000.0  100090.239881  57510.492818  11.58  51002.11  100193.915   \n",
       "\n",
       "               75%        max  \n",
       "Saldo  127644.2400  250898.09  \n",
       "Renda  149388.2475  199992.48  "
      ]
     },
     "execution_count": 17,
     "metadata": {},
     "output_type": "execute_result"
    }
   ],
   "source": [
    "# Mostrar informaçõs estatísticas das variáveis quantitativas contínuas\n",
    "df[var_quantitativas_continuas].describe().T"
   ]
  },
  {
   "cell_type": "code",
   "execution_count": null,
   "metadata": {},
   "outputs": [],
   "source": [
    "# Listar variáveis quantitativa discretas\n",
    "var_quantitativas_discretas = [\n",
    "    variavel for variavel in df.columns\n",
    "        if df[variavel].dtype == 'int64' and df[variavel].nunique() > 2 and variavel not in 'Churn']\n",
    "var_quantitativas_discretas"
   ]
  },
  {
   "cell_type": "code",
   "execution_count": null,
   "metadata": {},
   "outputs": [],
   "source": [
    "# Mostrar informaçõs estatísticas das variáveis quantitativas discretas\n",
    "df[var_quantitativas_discretas].describe().T"
   ]
  },
  {
   "cell_type": "code",
   "execution_count": null,
   "metadata": {},
   "outputs": [],
   "source": [
    "# Listar variáveis qualitativas nominais\n",
    "var_qualitativas_nominais = [\n",
    "    variavel for variavel in df.columns\n",
    "        if df[variavel].dtype == 'object' and variavel not in 'Churn']\n",
    "var_qualitativas_nominais"
   ]
  },
  {
   "cell_type": "code",
   "execution_count": null,
   "metadata": {},
   "outputs": [],
   "source": [
    "# Mostrar informaçõs estatísticas das variáveis qualitativas nominais\n",
    "df[var_qualitativas_nominais].describe().T"
   ]
  },
  {
   "cell_type": "code",
   "execution_count": null,
   "metadata": {},
   "outputs": [],
   "source": [
    "#Alterando o conteúdo das variáveis categóricas\n",
    "#* Localização\n",
    "df['Pais'].value_counts()"
   ]
  },
  {
   "cell_type": "code",
   "execution_count": null,
   "metadata": {},
   "outputs": [],
   "source": [
    "#Alterando os valores da variável #Localização\n",
    "df['Pais'].replace({\n",
    "    'France' : 'França',\n",
    "    'Germany' : 'Alemanha',\n",
    "    'Spain' : 'Espanha'\n",
    "}, inplace = True)\n",
    "#\n",
    "df['Pais'].unique()"
   ]
  },
  {
   "cell_type": "code",
   "execution_count": null,
   "metadata": {},
   "outputs": [],
   "source": [
    "#Alterando o conteúdo das variáveis categóricas\n",
    "#* Gênero\n",
    "df['Genero'].value_counts()"
   ]
  },
  {
   "cell_type": "code",
   "execution_count": null,
   "metadata": {},
   "outputs": [],
   "source": [
    "#Alterando os valores da variável #Localização\n",
    "#* Gênero\n",
    "df['Genero'].replace({\n",
    "    'Male' : 'Masculino',\n",
    "    'Female' : 'Feminino'\n",
    "}, inplace = True)\n",
    "#\n",
    "df['Genero'].unique()"
   ]
  },
  {
   "cell_type": "code",
   "execution_count": null,
   "metadata": {},
   "outputs": [],
   "source": [
    "# Listar variáveis qualitativas ordinais\n",
    "var_qualitativas_ordinais = [\n",
    "    variavel for variavel in df.columns\n",
    "        if df[variavel].dtype == 'int64' and df[variavel].nunique() == 2 and variavel not in 'Churn']\n",
    "var_qualitativas_ordinais"
   ]
  },
  {
   "attachments": {},
   "cell_type": "markdown",
   "metadata": {},
   "source": [
    "<h5>3.1. Análise univariada</h5>"
   ]
  },
  {
   "cell_type": "code",
   "execution_count": null,
   "metadata": {},
   "outputs": [],
   "source": [
    "#IQR - https://www.statisticshowto.com/probability-and-statistics/interquartile-range/\n",
    "#Lower and Upper Fence - https://www.statisticshowto.com/upper-and-lower-fences/"
   ]
  },
  {
   "cell_type": "code",
   "execution_count": null,
   "metadata": {},
   "outputs": [],
   "source": [
    "# Definição do Tema do Seaborn\n",
    "sns.set_theme(\n",
    "    context = 'paper', style = 'whitegrid', palette = 'muted',\n",
    "    font = 'sans-serif', font_scale = 1, color_codes = True, \n",
    "    rc = None\n",
    ")"
   ]
  },
  {
   "attachments": {},
   "cell_type": "markdown",
   "metadata": {},
   "source": [
    "3.1.1. Score de Crédito"
   ]
  },
  {
   "cell_type": "code",
   "execution_count": null,
   "metadata": {},
   "outputs": [],
   "source": [
    "#Criação dos subplots\n",
    "fig, axs = plt.subplots(ncols = 1, nrows = 2, sharex=True, height_ratios=[0.8, 0.2])\n",
    "#Título da imagem\n",
    "plt.suptitle('Distribuição do Score de Crédito')\n",
    "#Gráfico 1 - Histograma\n",
    "sns.histplot(x = df['Score'], kde = True, ax = axs[0], stat = 'count', cumulative = False)\n",
    "#Gráfico 2 - Boxplot\n",
    "sns.boxplot(x = df['Score'], fliersize = 2, notch = True, ax = axs[1])"
   ]
  },
  {
   "attachments": {},
   "cell_type": "markdown",
   "metadata": {},
   "source": [
    "3.1.2. Idade"
   ]
  },
  {
   "cell_type": "code",
   "execution_count": null,
   "metadata": {},
   "outputs": [],
   "source": [
    "#Criação dos subplots\n",
    "fig, axs = plt.subplots(ncols = 1, nrows = 2, sharex=True, height_ratios=[0.8, 0.2])\n",
    "#Título da imagem\n",
    "plt.suptitle('Distribuição por Idade')\n",
    "#Gráfico 1 - Histograma\n",
    "sns.histplot(x = df['Idade'], kde = True, ax = axs[0], stat = 'count', cumulative = False)\n",
    "#Gráfico 2 - Boxplot\n",
    "sns.boxplot(x = df['Idade'], fliersize = 2, notch = True, ax = axs[1])"
   ]
  },
  {
   "attachments": {},
   "cell_type": "markdown",
   "metadata": {},
   "source": [
    "3.1.3. Tempo de fidelidade"
   ]
  },
  {
   "cell_type": "code",
   "execution_count": null,
   "metadata": {},
   "outputs": [],
   "source": [
    "#Criação dos subplots\n",
    "fig, axs = plt.subplots(ncols = 1, nrows = 2, sharex=True, height_ratios=[0.8, 0.2])\n",
    "#Título da imagem\n",
    "plt.suptitle('Distribuição por tempo de fidelidade do cliente')\n",
    "#Gráfico 1 - Histograma\n",
    "sns.histplot(x = df['Fidelidade'], kde = False, ax = axs[0], stat = 'count', cumulative = False)\n",
    "#Gráfico 2 - Boxplot\n",
    "sns.boxplot(x = df['Fidelidade'], fliersize = 2, notch = True, ax = axs[1])"
   ]
  },
  {
   "attachments": {},
   "cell_type": "markdown",
   "metadata": {},
   "source": [
    "3.1.4. Saldo"
   ]
  },
  {
   "cell_type": "code",
   "execution_count": null,
   "metadata": {},
   "outputs": [],
   "source": [
    "#Criação dos subplots\n",
    "fig, axs = plt.subplots(ncols = 1, nrows = 2, sharex=True, height_ratios=[0.8, 0.2])\n",
    "#Título da imagem\n",
    "plt.suptitle('Distribuição por saldo em conta')\n",
    "#Gráfico 1 - Histograma\n",
    "sns.histplot(x = df['Saldo'], kde = False, ax = axs[0], stat = 'count', cumulative = False)\n",
    "#Gráfico 2 - Boxplot\n",
    "sns.boxplot(x = df['Saldo'], fliersize = 2, notch = True, ax = axs[1])"
   ]
  },
  {
   "attachments": {},
   "cell_type": "markdown",
   "metadata": {},
   "source": [
    "3.1.5. Quantidade de produtos"
   ]
  },
  {
   "cell_type": "code",
   "execution_count": null,
   "metadata": {},
   "outputs": [],
   "source": [
    "#Criação dos subplots\n",
    "fig, axs = plt.subplots(ncols = 1, nrows = 2, sharex=True, height_ratios=[0.8, 0.2])\n",
    "#Título da imagem\n",
    "plt.suptitle('Distribuição por quantidade de produtos')\n",
    "#Gráfico 1 - Histograma\n",
    "sns.histplot(x = df['QtdProdutos'], kde = False, ax = axs[0], stat = 'count', cumulative = False)\n",
    "#Gráfico 2 - Boxplot\n",
    "sns.boxplot(x = df['QtdProdutos'], fliersize = 2, notch = True, ax = axs[1])"
   ]
  },
  {
   "attachments": {},
   "cell_type": "markdown",
   "metadata": {},
   "source": [
    "3.1.6. Salário Estimado"
   ]
  },
  {
   "cell_type": "code",
   "execution_count": null,
   "metadata": {},
   "outputs": [],
   "source": [
    "#Criação dos subplots\n",
    "fig, axs = plt.subplots(ncols = 1, nrows = 2, sharex=True, height_ratios=[0.8, 0.2])\n",
    "#Título da imagem\n",
    "plt.suptitle('Faixa salarial')\n",
    "#Gráfico 1 - Histograma\n",
    "sns.histplot(x = df['Renda'], kde = False, ax = axs[0], stat = 'count', cumulative = False)\n",
    "#Gráfico 2 - Boxplot\n",
    "sns.boxplot(x = df['Renda'], fliersize = 2, notch = True, ax = axs[1])"
   ]
  },
  {
   "attachments": {},
   "cell_type": "markdown",
   "metadata": {},
   "source": [
    "3.1.7. Cartão de Crédito"
   ]
  },
  {
   "cell_type": "code",
   "execution_count": null,
   "metadata": {},
   "outputs": [],
   "source": [
    "#Título da imagem\n",
    "plt.suptitle('Cartão de Crédito')\n",
    "ax = sns.countplot(data = df, x = df['TemCartao'])\n",
    "#Inclusão dos rótulos\n",
    "ax.bar_label(ax.containers[0])"
   ]
  },
  {
   "attachments": {},
   "cell_type": "markdown",
   "metadata": {},
   "source": [
    "3.1.8. Clientes ativos e inativos"
   ]
  },
  {
   "cell_type": "code",
   "execution_count": null,
   "metadata": {},
   "outputs": [],
   "source": [
    "#Título da imagem\n",
    "plt.suptitle('Clientes ativos e inativos')\n",
    "ax = sns.countplot(data = df, x = df['ClienteAtivo'])\n",
    "#Inclusão dos rótulos\n",
    "ax.bar_label(ax.containers[0])"
   ]
  },
  {
   "attachments": {},
   "cell_type": "markdown",
   "metadata": {},
   "source": [
    "3.1.9. Churn"
   ]
  },
  {
   "cell_type": "code",
   "execution_count": null,
   "metadata": {},
   "outputs": [],
   "source": [
    "#Título da imagem\n",
    "plt.suptitle('Churn')\n",
    "ax = sns.countplot(data = df, x = df['Churn'])\n",
    "#Inclusão dos rótulos\n",
    "ax.bar_label(ax.containers[0])"
   ]
  },
  {
   "attachments": {},
   "cell_type": "markdown",
   "metadata": {},
   "source": [
    "3.1.10. País de residência"
   ]
  },
  {
   "cell_type": "code",
   "execution_count": null,
   "metadata": {},
   "outputs": [],
   "source": [
    "#Título da imagem\n",
    "plt.suptitle('Clientes por Páis')\n",
    "ax = sns.countplot(data = df, x = df['Pais'])\n",
    "#Inclusão dos rótulos\n",
    "ax.bar_label(ax.containers[0])"
   ]
  },
  {
   "attachments": {},
   "cell_type": "markdown",
   "metadata": {},
   "source": [
    "3.1.11. Gênero"
   ]
  },
  {
   "cell_type": "code",
   "execution_count": null,
   "metadata": {},
   "outputs": [],
   "source": [
    "#Título da imagem\n",
    "plt.suptitle('Clientes por gênero')\n",
    "ax = sns.countplot(data = df, x = df['Genero'])\n",
    "#Inclusão dos rótulos\n",
    "ax.bar_label(ax.containers[0])"
   ]
  },
  {
   "attachments": {},
   "cell_type": "markdown",
   "metadata": {},
   "source": [
    "<h5>3.2. Análise bivariada</h5>"
   ]
  },
  {
   "attachments": {},
   "cell_type": "markdown",
   "metadata": {},
   "source": [
    "Matriz de Correlação"
   ]
  },
  {
   "cell_type": "code",
   "execution_count": null,
   "metadata": {},
   "outputs": [],
   "source": [
    "#Matriz de correlação\n",
    "corr = df.corr()\n",
    "corr"
   ]
  },
  {
   "cell_type": "code",
   "execution_count": null,
   "metadata": {},
   "outputs": [],
   "source": [
    "#Criação da máscara a ser utilizada no heatmap de correlação\n",
    "mask = np.triu(np.ones_like(corr, dtype = bool))\n",
    "#Configuração da paleta de divergência\n",
    "paleta_divergencia = sns.diverging_palette(h_neg = 250, h_pos = 20, s = 75, l = 50, sep = 1, n = 6, center = 'light', as_cmap = False)\n",
    "paleta_divergencia"
   ]
  },
  {
   "cell_type": "code",
   "execution_count": null,
   "metadata": {},
   "outputs": [],
   "source": [
    "#Criação do gráfico da matriz de correlação\n",
    "f, ax = plt.subplots(figsize = (9, 7))\n",
    "sns.heatmap(corr, mask = mask, cmap = paleta_divergencia, linewidths= 0.4, cbar=True, annot = True)\n",
    "plt.title('Matriz de Correlação')"
   ]
  },
  {
   "attachments": {},
   "cell_type": "markdown",
   "metadata": {},
   "source": [
    "3.2.1. Churn x Idade"
   ]
  },
  {
   "cell_type": "code",
   "execution_count": null,
   "metadata": {},
   "outputs": [],
   "source": [
    "#Título da imagem\n",
    "plt.suptitle('Idade x Churn')\n",
    "#Análise bivariada\n",
    "sns.boxplot(df, x = df['Idade'], y = df['Churn'].replace({1 : 'Saiu - (1)', 0: 'NaoSaiu - (0)'}), fliersize = 2, notch = True)"
   ]
  },
  {
   "attachments": {},
   "cell_type": "markdown",
   "metadata": {},
   "source": [
    "3.2.1. Churn x Saldo"
   ]
  },
  {
   "cell_type": "code",
   "execution_count": null,
   "metadata": {},
   "outputs": [],
   "source": [
    "#Título da imagem\n",
    "plt.suptitle('Saldo x Churn')\n",
    "#Análise bivariada\n",
    "sns.boxplot(df, x = df['Saldo'], y = df['Churn'].replace({1 : 'Saiu - (1)', 0: 'NaoSaiu - (0)'}), fliersize = 2, notch = True)"
   ]
  },
  {
   "cell_type": "code",
   "execution_count": null,
   "metadata": {},
   "outputs": [],
   "source": [
    "#Definição do estilo dos gráficos\n",
    "# plt.style.use('seaborn-v0_8')\n",
    "# pio.templates"
   ]
  },
  {
   "cell_type": "code",
   "execution_count": null,
   "metadata": {},
   "outputs": [],
   "source": [
    "# Definição do template dos gráficos\n",
    "# pio.templates.default = 'seaborn'"
   ]
  },
  {
   "cell_type": "code",
   "execution_count": null,
   "metadata": {},
   "outputs": [],
   "source": [
    "# #Criando a figura para plotagem dos gráficos\n",
    "# fig = make_subplots(rows = 2, shared_xaxes = True, vertical_spacing = 0.05, row_heights = [0.6, 0.4])\n",
    "\n",
    "# #Gráfico 1 - Histograma\n",
    "# fig.add_trace(go.Histogram(x = df.Score), row = 1, col = 1)\n",
    "\n",
    "# #Gráfico 2 - Boxplot\n",
    "# fig.add_trace(go.Box(x = df.Score, name = '', orientation = 'h'), row = 2, col=1)\n",
    "\n",
    "# #Alterações de layout    \n",
    "# fig.update_layout(title = 'Score de Crédito', showlegend = False, title_font_size = 18)\n",
    "\n",
    "# #Configuração do eixo X    \n",
    "# fig.update_xaxes(range = [300, 900])\n",
    "\n",
    "# #Mostrar o gráfico\n",
    "# fig.show()"
   ]
  },
  {
   "cell_type": "code",
   "execution_count": null,
   "metadata": {},
   "outputs": [],
   "source": [
    "# df.Idade.describe()"
   ]
  },
  {
   "cell_type": "code",
   "execution_count": null,
   "metadata": {},
   "outputs": [],
   "source": [
    "# #Criando a figura para plotagem dos gráficos\n",
    "# fig = make_subplots(rows = 2, shared_xaxes = True, vertical_spacing = 0.05, row_heights = [0.6, 0.4])\n",
    "\n",
    "# #Gráfico 1 - Histograma\n",
    "# fig.add_trace(go.Histogram(x = df.Idade), row = 1, col = 1)\n",
    "\n",
    "# #Gráfico 2 - Boxplot\n",
    "# fig.add_trace(go.Box(x = df.Idade, name = '', orientation = 'h'), row = 2, col=1)\n",
    "\n",
    "# #Alterações de layout    \n",
    "# fig.update_layout(title = 'Idade', showlegend = False, title_font_size = 18)\n",
    "\n",
    "# #Configuração do eixo X    \n",
    "# fig.update_xaxes(range = [0, 100])\n",
    "\n",
    "# #Mostrar o gráfico\n",
    "# fig.show()"
   ]
  },
  {
   "cell_type": "code",
   "execution_count": null,
   "metadata": {},
   "outputs": [],
   "source": [
    "# df.Fidelidade.describe()"
   ]
  },
  {
   "cell_type": "code",
   "execution_count": null,
   "metadata": {},
   "outputs": [],
   "source": [
    "# #Criando a figura para plotagem dos gráficos\n",
    "# fig = make_subplots(rows = 2, shared_xaxes = True, vertical_spacing = 0.05, row_heights = [0.6, 0.4])\n",
    "\n",
    "# #Gráfico 1 - Histograma\n",
    "# fig.add_trace(go.Histogram(x = df.Fidelidade), row = 1, col = 1)\n",
    "\n",
    "# #Gráfico 2 - Boxplot\n",
    "# fig.add_trace(go.Box(x = df.Fidelidade, name = '', orientation = 'h'), row = 2, col=1)\n",
    "\n",
    "# #Alterações de layout    \n",
    "# fig.update_layout(title = 'Tempo de fidelidade (em anos)', showlegend = False, title_font_size = 18)\n",
    "\n",
    "# #Configuração do eixo X    \n",
    "# fig.update_xaxes(range = [-5, 15])\n",
    "\n",
    "# #Mostrar o gráfico\n",
    "# fig.show()"
   ]
  },
  {
   "cell_type": "code",
   "execution_count": null,
   "metadata": {},
   "outputs": [],
   "source": [
    "# df.Saldo.describe()"
   ]
  },
  {
   "cell_type": "code",
   "execution_count": null,
   "metadata": {},
   "outputs": [],
   "source": [
    "# #Criando a figura para plotagem dos gráficos\n",
    "# fig = make_subplots(rows = 2, shared_xaxes = True, vertical_spacing = 0.05, row_heights = [0.6, 0.4])\n",
    "\n",
    "# #Gráfico 1 - Histograma\n",
    "# fig.add_trace(go.Histogram(x = df.Saldo), row = 1, col = 1)\n",
    "\n",
    "# #Gráfico 2 - Boxplot\n",
    "# fig.add_trace(go.Box(x = df.Saldo, name = '', orientation = 'h'), row = 2, col=1)\n",
    "\n",
    "# #Alterações de layout    \n",
    "# fig.update_layout(title = 'Saldo', showlegend = False, title_font_size = 18)\n",
    "\n",
    "# #Configuração do eixo X    \n",
    "# fig.update_xaxes(range = [-10000, 300000])\n",
    "\n",
    "# #Mostrar o gráfico\n",
    "# fig.show()"
   ]
  },
  {
   "cell_type": "code",
   "execution_count": null,
   "metadata": {},
   "outputs": [],
   "source": [
    "# df_numericas"
   ]
  },
  {
   "cell_type": "code",
   "execution_count": null,
   "metadata": {},
   "outputs": [],
   "source": [
    "# df.QtdProdutos.describe()"
   ]
  },
  {
   "cell_type": "code",
   "execution_count": null,
   "metadata": {},
   "outputs": [],
   "source": [
    "# #Criando a figura para plotagem dos gráficos\n",
    "# fig = make_subplots(rows = 2, shared_xaxes = True, vertical_spacing = 0.05, row_heights = [0.6, 0.4])\n",
    "\n",
    "# #Gráfico 1 - Histograma\n",
    "# fig.add_trace(go.Histogram(x = df.QtdProdutos), row = 1, col = 1)\n",
    "\n",
    "# #Gráfico 2 - Boxplot\n",
    "# fig.add_trace(go.Box(x = df.QtdProdutos, name = '', orientation = 'h'), row = 2, col=1)\n",
    "\n",
    "# #Alterações de layout    \n",
    "# fig.update_layout(title = 'Quantidade de Produtos', showlegend = False, title_font_size = 18)\n",
    "\n",
    "# #Configuração do eixo X    \n",
    "# fig.update_xaxes(range = [0, 5])\n",
    "\n",
    "# #Mostrar o gráfico\n",
    "# fig.show()"
   ]
  },
  {
   "cell_type": "code",
   "execution_count": null,
   "metadata": {},
   "outputs": [],
   "source": [
    "# #Definições dos quartis, mediana e limites e contabilização de outliers\n",
    "# q1_Score = np.nanpercentile(df.Score, 25)\n",
    "# q3_Score = np.nanpercentile(df.Score, 75)\n",
    "# media_Score = np.mean(df.Score)\n",
    "# iqr_Score = q3_Score - q1_Score\n",
    "# lower_f_Score = q1_Score - (1.5 * iqr_Score)\n",
    "# upper_f_Score = q3_Score + (1.5 * iqr_Score)\n",
    "\n",
    "# #Quantidade de outliers\n",
    "# Score_outlier = []\n",
    "# for num in df.Score:\n",
    "#     if num < lower_f_Score:\n",
    "#         Score_outlier.append(num)\n",
    "#     if num > upper_f_Score:\n",
    "#         Score_outlier.append(num)\n",
    "\n",
    "# #Quantidade de não outliers\n",
    "# Score_non_outlier = []\n",
    "# for num in df.Score:\n",
    "#     if num >= lower_f_Score:\n",
    "#         Score_non_outlier.append(num)\n",
    "#     if num <= upper_f_Score:\n",
    "#         Score_non_outlier.append(num)"
   ]
  },
  {
   "cell_type": "code",
   "execution_count": null,
   "metadata": {},
   "outputs": [],
   "source": [
    "# print('---Score de Crédito---')\n",
    "# print('Q1:', q1_Score)\n",
    "# print('Q3:', q3_Score)\n",
    "# print('Intervalo Interquartil (IQR):', iqr_Score)\n",
    "# print('Média:', media_Score)\n",
    "# print('Lower Fence:', lower_f_Score)\n",
    "# print('Upper Fence:', upper_f_Score)\n",
    "# print('Soma de valores únicos:', len(Score_outlier))\n",
    "# print('Menor valor:', np.min(Score_non_outlier))\n",
    "# print('Maior valor:', np.max(Score_non_outlier))\n",
    "# print('Outliers:', len(Score_outlier))\n",
    "# print('Não outliers:', len(Score_non_outlier))"
   ]
  },
  {
   "cell_type": "code",
   "execution_count": null,
   "metadata": {},
   "outputs": [],
   "source": [
    "# #Criando figura para inserção de dois gráficos\n",
    "# fig, ax = plt.subplots(2, 1, gridspec_kw={'height_ratios': [5,1]}, sharex=True)\n",
    "# #Histograma\n",
    "# sns.histplot(x = df.Score, kde=True, ax=ax[0])\n",
    "# ax[0].axvline(x = q1_Score, linestyle='-', linewidth=1.5, color='black')\n",
    "# ax[0].axvline(x = q3_Score, linestyle='-', linewidth=1.5, color='black')\n",
    "# ax[0].axvline(x = np.nanpercentile(df.Score, 50), linestyle='-', linewidth=1.5, color='black')\n",
    "# ax[0].axvline(x = np.mean(df.Score), linestyle=':', linewidth=2, color='red')\n",
    "# #Boxplot\n",
    "# sns.boxplot(x = df.Score, ax=ax[1])"
   ]
  },
  {
   "cell_type": "code",
   "execution_count": null,
   "metadata": {},
   "outputs": [],
   "source": [
    "# def outlier(x):\n",
    "#     q1 = np.nanpercentile(x, 25)\n",
    "#     q3 = np.nanpercentile(x, 75)\n",
    "#     iqr = q3 - q1\n",
    "#     lower_fence = q1 - (1.5 * iqr)\n",
    "#     upper_fence = q3 + (1.5 * iqr)\n",
    "    \n",
    "#     outlier = []\n",
    "#     for num in x:\n",
    "#         if num < lower_fence:\n",
    "#             outlier.append(num)\n",
    "#         if num > upper_fence:\n",
    "#             outlier.append(num)\n",
    "            \n",
    "#     non_outlier = []\n",
    "#     for num in x:\n",
    "#         if num >= lower_fence:\n",
    "#             non_outlier.append(num)\n",
    "#         if num <= upper_fence:\n",
    "#             non_outlier.append(num)\n",
    "    \n",
    "#     print(f'sum of unique value : {len(outlier)}' )\n",
    "#     print(f'lower_value: {np.min(non_outlier)}')\n",
    "#     print(f'upper_vaue: {np.max(non_outlier)}')"
   ]
  },
  {
   "cell_type": "code",
   "execution_count": null,
   "metadata": {},
   "outputs": [],
   "source": [
    "# norm_data = []\n",
    "# for y,x in enumerate(df_numericas,1):\n",
    "#     print(f'{y}. {x}')\n",
    "#     fig, ax = plt.subplots(2,1, sharex=True, gridspec_kw={'height_ratios':[5,1]})\n",
    "#     sns.histplot(data=df, x=x, kde=True, ax=ax[0])\n",
    "#     ax[0].axvline(np.nanpercentile(df[x], 25), c='red',linestyle='--')\n",
    "#     ax[0].axvline(np.nanpercentile(df[x], 50), c='red',linestyle='--')\n",
    "#     ax[0].axvline(np.nanpercentile(df[x], 75), c='red',linestyle='--')\n",
    "#     ax[0].axvline(np.mean(df[x]), c='blue',linestyle='--')\n",
    "    \n",
    "#     sns.boxplot(data=df, x=x, ax=ax[1])\n",
    "#     ax[1].set_xlabel(f'{x}')\n",
    "#     plt.show()\n",
    "#     print(' ')\n",
    "#     df[x].describe()\n",
    "#     print(' ')\n",
    "#     outlier(df[x])\n",
    "#     print(' ')\n",
    "#     sk, pval = st.skewtest(df[x])\n",
    "#     if pval < 0.05:\n",
    "#         print(f'Data skewed with skew is {sk}')\n",
    "#     else:\n",
    "#         print(f'Data not skewed')\n",
    "#     print(' ')\n",
    "#     norm, pval = st.normaltest(df[x])\n",
    "#     if pval < 0.05:\n",
    "#         print(f'Data not normal')\n",
    "#     else:\n",
    "#         print(f'Data normal')\n",
    "#         norm_data.append(x)\n",
    "#     print('-'*50)\n",
    "#     print(' ')"
   ]
  }
 ],
 "metadata": {
  "kernelspec": {
   "display_name": "Python 3",
   "language": "python",
   "name": "python3"
  },
  "language_info": {
   "codemirror_mode": {
    "name": "ipython",
    "version": 3
   },
   "file_extension": ".py",
   "mimetype": "text/x-python",
   "name": "python",
   "nbconvert_exporter": "python",
   "pygments_lexer": "ipython3",
   "version": "3.11.3"
  },
  "orig_nbformat": 4
 },
 "nbformat": 4,
 "nbformat_minor": 2
}
