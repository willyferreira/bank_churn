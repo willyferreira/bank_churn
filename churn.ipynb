{
 "cells": [
  {
   "attachments": {},
   "cell_type": "markdown",
   "metadata": {},
   "source": [
    "<h2>Churn de Clientes - Bank Dataset</h2>"
   ]
  },
  {
   "cell_type": "code",
   "execution_count": null,
   "metadata": {},
   "outputs": [],
   "source": [
    "## ----------------------------------------------------------------\n",
    "#* Link do dataset\n",
    "    #  https://www.kaggle.com/datasets/mathchi/churn-for-bank-customers\n",
    "\n",
    "#* Descrição das variáveis\n",
    "    #* RowNumber\n",
    "    #Número da linha do dataset\n",
    "    #* CustomerId\n",
    "    #Número randômico e único que identifica o cliente\n",
    "    #* Surname\n",
    "    #Sobrenome do cliente\n",
    "    #* CreditScore\n",
    "    #Pontuação de crédito atribuida ao cliente\n",
    "    #* Geography\n",
    "    #Localização do cliente\n",
    "    #* Gender\n",
    "    #Gênero do cliente\n",
    "    #* Age\n",
    "    #Idade do cliente\n",
    "    #* Tenure\n",
    "    #Fidelidade do cliente | Quantidade de anos que o cliente está na instituição\n",
    "    #* Balance\n",
    "    #Saldo do cliente\n",
    "    #* NumOfProducts\n",
    "    #Quantidade de produtos que o cliente comprou no banco\n",
    "    #* HasCrCard\n",
    "    #Se o cliente possui ou não cartão de crédito sendo 1|Sim e 0|Não\n",
    "    #* IsActiveMember\n",
    "    #  - Se o cliente é ativo ou não no banco\n",
    "    #* EstimatedSalary\n",
    "    #  - Renda do cliente\n",
    "    #*Exited\n",
    "    #  - Se o cliente deixou ou não a instituição sendo 1|Sim e 0|Não  \n",
    "## ----------------------------------------------------------------"
   ]
  },
  {
   "attachments": {},
   "cell_type": "markdown",
   "metadata": {},
   "source": [
    "<h5>1. Importação dos pacotes </h5>"
   ]
  },
  {
   "cell_type": "code",
   "execution_count": null,
   "metadata": {},
   "outputs": [],
   "source": [
    "## ----------------------------------------------------------------\n",
    "#* Manipulação de dados\n",
    "import pandas as pd\n",
    "import numpy as np\n",
    "import scipy as sp\n",
    "import scipy.stats as st\n",
    "#* DataViz\n",
    "import matplotlib.pyplot as plt\n",
    "import seaborn as sns\n",
    "import seaborn.objects as so\n",
    "#! Pacotes não utilizados no momento\n",
    "#import plotly.express as px\n",
    "#import plotly.io as pio\n",
    "#import chart_studio.plotly as py\n",
    "#import plotly.graph_objects as go\n",
    "#from plotly.subplots import make_subplots\n",
    "#* Machine Learning\n",
    "## ----------------------------------------------------------------"
   ]
  },
  {
   "attachments": {},
   "cell_type": "markdown",
   "metadata": {},
   "source": [
    "<h5>2. Leitura e tratamento do dataset </h5>"
   ]
  },
  {
   "cell_type": "code",
   "execution_count": null,
   "metadata": {},
   "outputs": [
    {
     "data": {
      "text/html": [
       "<div>\n",
       "<style scoped>\n",
       "    .dataframe tbody tr th:only-of-type {\n",
       "        vertical-align: middle;\n",
       "    }\n",
       "\n",
       "    .dataframe tbody tr th {\n",
       "        vertical-align: top;\n",
       "    }\n",
       "\n",
       "    .dataframe thead th {\n",
       "        text-align: right;\n",
       "    }\n",
       "</style>\n",
       "<table border=\"1\" class=\"dataframe\">\n",
       "  <thead>\n",
       "    <tr style=\"text-align: right;\">\n",
       "      <th></th>\n",
       "      <th>RowNumber</th>\n",
       "      <th>CustomerId</th>\n",
       "      <th>Surname</th>\n",
       "      <th>CreditScore</th>\n",
       "      <th>Geography</th>\n",
       "      <th>Gender</th>\n",
       "      <th>Age</th>\n",
       "      <th>Tenure</th>\n",
       "      <th>Balance</th>\n",
       "      <th>NumOfProducts</th>\n",
       "      <th>HasCrCard</th>\n",
       "      <th>IsActiveMember</th>\n",
       "      <th>EstimatedSalary</th>\n",
       "      <th>Exited</th>\n",
       "    </tr>\n",
       "  </thead>\n",
       "  <tbody>\n",
       "    <tr>\n",
       "      <th>0</th>\n",
       "      <td>1</td>\n",
       "      <td>15634602</td>\n",
       "      <td>Hargrave</td>\n",
       "      <td>619</td>\n",
       "      <td>France</td>\n",
       "      <td>Female</td>\n",
       "      <td>42</td>\n",
       "      <td>2</td>\n",
       "      <td>0.00</td>\n",
       "      <td>1</td>\n",
       "      <td>1</td>\n",
       "      <td>1</td>\n",
       "      <td>101348.88</td>\n",
       "      <td>1</td>\n",
       "    </tr>\n",
       "    <tr>\n",
       "      <th>1</th>\n",
       "      <td>2</td>\n",
       "      <td>15647311</td>\n",
       "      <td>Hill</td>\n",
       "      <td>608</td>\n",
       "      <td>Spain</td>\n",
       "      <td>Female</td>\n",
       "      <td>41</td>\n",
       "      <td>1</td>\n",
       "      <td>83807.86</td>\n",
       "      <td>1</td>\n",
       "      <td>0</td>\n",
       "      <td>1</td>\n",
       "      <td>112542.58</td>\n",
       "      <td>0</td>\n",
       "    </tr>\n",
       "    <tr>\n",
       "      <th>2</th>\n",
       "      <td>3</td>\n",
       "      <td>15619304</td>\n",
       "      <td>Onio</td>\n",
       "      <td>502</td>\n",
       "      <td>France</td>\n",
       "      <td>Female</td>\n",
       "      <td>42</td>\n",
       "      <td>8</td>\n",
       "      <td>159660.80</td>\n",
       "      <td>3</td>\n",
       "      <td>1</td>\n",
       "      <td>0</td>\n",
       "      <td>113931.57</td>\n",
       "      <td>1</td>\n",
       "    </tr>\n",
       "    <tr>\n",
       "      <th>3</th>\n",
       "      <td>4</td>\n",
       "      <td>15701354</td>\n",
       "      <td>Boni</td>\n",
       "      <td>699</td>\n",
       "      <td>France</td>\n",
       "      <td>Female</td>\n",
       "      <td>39</td>\n",
       "      <td>1</td>\n",
       "      <td>0.00</td>\n",
       "      <td>2</td>\n",
       "      <td>0</td>\n",
       "      <td>0</td>\n",
       "      <td>93826.63</td>\n",
       "      <td>0</td>\n",
       "    </tr>\n",
       "    <tr>\n",
       "      <th>4</th>\n",
       "      <td>5</td>\n",
       "      <td>15737888</td>\n",
       "      <td>Mitchell</td>\n",
       "      <td>850</td>\n",
       "      <td>Spain</td>\n",
       "      <td>Female</td>\n",
       "      <td>43</td>\n",
       "      <td>2</td>\n",
       "      <td>125510.82</td>\n",
       "      <td>1</td>\n",
       "      <td>1</td>\n",
       "      <td>1</td>\n",
       "      <td>79084.10</td>\n",
       "      <td>0</td>\n",
       "    </tr>\n",
       "  </tbody>\n",
       "</table>\n",
       "</div>"
      ],
      "text/plain": [
       "   RowNumber  CustomerId   Surname  CreditScore Geography  Gender  Age  \\\n",
       "0          1    15634602  Hargrave          619    France  Female   42   \n",
       "1          2    15647311      Hill          608     Spain  Female   41   \n",
       "2          3    15619304      Onio          502    France  Female   42   \n",
       "3          4    15701354      Boni          699    France  Female   39   \n",
       "4          5    15737888  Mitchell          850     Spain  Female   43   \n",
       "\n",
       "   Tenure    Balance  NumOfProducts  HasCrCard  IsActiveMember  \\\n",
       "0       2       0.00              1          1               1   \n",
       "1       1   83807.86              1          0               1   \n",
       "2       8  159660.80              3          1               0   \n",
       "3       1       0.00              2          0               0   \n",
       "4       2  125510.82              1          1               1   \n",
       "\n",
       "   EstimatedSalary  Exited  \n",
       "0        101348.88       1  \n",
       "1        112542.58       0  \n",
       "2        113931.57       1  \n",
       "3         93826.63       0  \n",
       "4         79084.10       0  "
      ]
     },
     "execution_count": 12,
     "metadata": {},
     "output_type": "execute_result"
    }
   ],
   "source": [
    "df_original = pd.read_csv(filepath_or_buffer = 'churn.csv', header = 0)\n",
    "df_original.head()"
   ]
  },
  {
   "cell_type": "code",
   "execution_count": null,
   "metadata": {},
   "outputs": [
    {
     "data": {
      "text/html": [
       "<div>\n",
       "<style scoped>\n",
       "    .dataframe tbody tr th:only-of-type {\n",
       "        vertical-align: middle;\n",
       "    }\n",
       "\n",
       "    .dataframe tbody tr th {\n",
       "        vertical-align: top;\n",
       "    }\n",
       "\n",
       "    .dataframe thead th {\n",
       "        text-align: right;\n",
       "    }\n",
       "</style>\n",
       "<table border=\"1\" class=\"dataframe\">\n",
       "  <thead>\n",
       "    <tr style=\"text-align: right;\">\n",
       "      <th></th>\n",
       "      <th>CreditScore</th>\n",
       "      <th>Geography</th>\n",
       "      <th>Gender</th>\n",
       "      <th>Age</th>\n",
       "      <th>Tenure</th>\n",
       "      <th>Balance</th>\n",
       "      <th>NumOfProducts</th>\n",
       "      <th>HasCrCard</th>\n",
       "      <th>IsActiveMember</th>\n",
       "      <th>EstimatedSalary</th>\n",
       "      <th>Exited</th>\n",
       "    </tr>\n",
       "  </thead>\n",
       "  <tbody>\n",
       "    <tr>\n",
       "      <th>0</th>\n",
       "      <td>619</td>\n",
       "      <td>France</td>\n",
       "      <td>Female</td>\n",
       "      <td>42</td>\n",
       "      <td>2</td>\n",
       "      <td>0.00</td>\n",
       "      <td>1</td>\n",
       "      <td>1</td>\n",
       "      <td>1</td>\n",
       "      <td>101348.88</td>\n",
       "      <td>1</td>\n",
       "    </tr>\n",
       "    <tr>\n",
       "      <th>1</th>\n",
       "      <td>608</td>\n",
       "      <td>Spain</td>\n",
       "      <td>Female</td>\n",
       "      <td>41</td>\n",
       "      <td>1</td>\n",
       "      <td>83807.86</td>\n",
       "      <td>1</td>\n",
       "      <td>0</td>\n",
       "      <td>1</td>\n",
       "      <td>112542.58</td>\n",
       "      <td>0</td>\n",
       "    </tr>\n",
       "    <tr>\n",
       "      <th>2</th>\n",
       "      <td>502</td>\n",
       "      <td>France</td>\n",
       "      <td>Female</td>\n",
       "      <td>42</td>\n",
       "      <td>8</td>\n",
       "      <td>159660.80</td>\n",
       "      <td>3</td>\n",
       "      <td>1</td>\n",
       "      <td>0</td>\n",
       "      <td>113931.57</td>\n",
       "      <td>1</td>\n",
       "    </tr>\n",
       "    <tr>\n",
       "      <th>3</th>\n",
       "      <td>699</td>\n",
       "      <td>France</td>\n",
       "      <td>Female</td>\n",
       "      <td>39</td>\n",
       "      <td>1</td>\n",
       "      <td>0.00</td>\n",
       "      <td>2</td>\n",
       "      <td>0</td>\n",
       "      <td>0</td>\n",
       "      <td>93826.63</td>\n",
       "      <td>0</td>\n",
       "    </tr>\n",
       "    <tr>\n",
       "      <th>4</th>\n",
       "      <td>850</td>\n",
       "      <td>Spain</td>\n",
       "      <td>Female</td>\n",
       "      <td>43</td>\n",
       "      <td>2</td>\n",
       "      <td>125510.82</td>\n",
       "      <td>1</td>\n",
       "      <td>1</td>\n",
       "      <td>1</td>\n",
       "      <td>79084.10</td>\n",
       "      <td>0</td>\n",
       "    </tr>\n",
       "  </tbody>\n",
       "</table>\n",
       "</div>"
      ],
      "text/plain": [
       "   CreditScore Geography  Gender  Age  Tenure    Balance  NumOfProducts  \\\n",
       "0          619    France  Female   42       2       0.00              1   \n",
       "1          608     Spain  Female   41       1   83807.86              1   \n",
       "2          502    France  Female   42       8  159660.80              3   \n",
       "3          699    France  Female   39       1       0.00              2   \n",
       "4          850     Spain  Female   43       2  125510.82              1   \n",
       "\n",
       "   HasCrCard  IsActiveMember  EstimatedSalary  Exited  \n",
       "0          1               1        101348.88       1  \n",
       "1          0               1        112542.58       0  \n",
       "2          1               0        113931.57       1  \n",
       "3          0               0         93826.63       0  \n",
       "4          1               1         79084.10       0  "
      ]
     },
     "execution_count": 13,
     "metadata": {},
     "output_type": "execute_result"
    }
   ],
   "source": [
    "#Excluir colunas que não serão utilizadas\n",
    "trash_colunas = {'RowNumber', 'CustomerId', 'Surname'}\n",
    "#\n",
    "df = df_original.drop(columns = trash_colunas)\n",
    "del(trash_colunas)\n",
    "del(df_original)\n",
    "df.head()"
   ]
  },
  {
   "cell_type": "code",
   "execution_count": null,
   "metadata": {},
   "outputs": [
    {
     "data": {
      "text/html": [
       "<div>\n",
       "<style scoped>\n",
       "    .dataframe tbody tr th:only-of-type {\n",
       "        vertical-align: middle;\n",
       "    }\n",
       "\n",
       "    .dataframe tbody tr th {\n",
       "        vertical-align: top;\n",
       "    }\n",
       "\n",
       "    .dataframe thead th {\n",
       "        text-align: right;\n",
       "    }\n",
       "</style>\n",
       "<table border=\"1\" class=\"dataframe\">\n",
       "  <thead>\n",
       "    <tr style=\"text-align: right;\">\n",
       "      <th></th>\n",
       "      <th>ScoreCredito</th>\n",
       "      <th>Localizacao</th>\n",
       "      <th>Genero</th>\n",
       "      <th>Idade</th>\n",
       "      <th>TempoFidelidade</th>\n",
       "      <th>Saldo</th>\n",
       "      <th>QtdProdutos</th>\n",
       "      <th>TemCartao</th>\n",
       "      <th>ClienteAtivo</th>\n",
       "      <th>SalarioEstimado</th>\n",
       "      <th>Churn</th>\n",
       "    </tr>\n",
       "  </thead>\n",
       "  <tbody>\n",
       "    <tr>\n",
       "      <th>0</th>\n",
       "      <td>619</td>\n",
       "      <td>France</td>\n",
       "      <td>Female</td>\n",
       "      <td>42</td>\n",
       "      <td>2</td>\n",
       "      <td>0.00</td>\n",
       "      <td>1</td>\n",
       "      <td>1</td>\n",
       "      <td>1</td>\n",
       "      <td>101348.88</td>\n",
       "      <td>1</td>\n",
       "    </tr>\n",
       "    <tr>\n",
       "      <th>1</th>\n",
       "      <td>608</td>\n",
       "      <td>Spain</td>\n",
       "      <td>Female</td>\n",
       "      <td>41</td>\n",
       "      <td>1</td>\n",
       "      <td>83807.86</td>\n",
       "      <td>1</td>\n",
       "      <td>0</td>\n",
       "      <td>1</td>\n",
       "      <td>112542.58</td>\n",
       "      <td>0</td>\n",
       "    </tr>\n",
       "    <tr>\n",
       "      <th>2</th>\n",
       "      <td>502</td>\n",
       "      <td>France</td>\n",
       "      <td>Female</td>\n",
       "      <td>42</td>\n",
       "      <td>8</td>\n",
       "      <td>159660.80</td>\n",
       "      <td>3</td>\n",
       "      <td>1</td>\n",
       "      <td>0</td>\n",
       "      <td>113931.57</td>\n",
       "      <td>1</td>\n",
       "    </tr>\n",
       "    <tr>\n",
       "      <th>3</th>\n",
       "      <td>699</td>\n",
       "      <td>France</td>\n",
       "      <td>Female</td>\n",
       "      <td>39</td>\n",
       "      <td>1</td>\n",
       "      <td>0.00</td>\n",
       "      <td>2</td>\n",
       "      <td>0</td>\n",
       "      <td>0</td>\n",
       "      <td>93826.63</td>\n",
       "      <td>0</td>\n",
       "    </tr>\n",
       "    <tr>\n",
       "      <th>4</th>\n",
       "      <td>850</td>\n",
       "      <td>Spain</td>\n",
       "      <td>Female</td>\n",
       "      <td>43</td>\n",
       "      <td>2</td>\n",
       "      <td>125510.82</td>\n",
       "      <td>1</td>\n",
       "      <td>1</td>\n",
       "      <td>1</td>\n",
       "      <td>79084.10</td>\n",
       "      <td>0</td>\n",
       "    </tr>\n",
       "  </tbody>\n",
       "</table>\n",
       "</div>"
      ],
      "text/plain": [
       "   ScoreCredito Localizacao  Genero  Idade  TempoFidelidade      Saldo  \\\n",
       "0           619      France  Female     42                2       0.00   \n",
       "1           608       Spain  Female     41                1   83807.86   \n",
       "2           502      France  Female     42                8  159660.80   \n",
       "3           699      France  Female     39                1       0.00   \n",
       "4           850       Spain  Female     43                2  125510.82   \n",
       "\n",
       "   QtdProdutos  TemCartao  ClienteAtivo  SalarioEstimado  Churn  \n",
       "0            1          1             1        101348.88      1  \n",
       "1            1          0             1        112542.58      0  \n",
       "2            3          1             0        113931.57      1  \n",
       "3            2          0             0         93826.63      0  \n",
       "4            1          1             1         79084.10      0  "
      ]
     },
     "execution_count": 14,
     "metadata": {},
     "output_type": "execute_result"
    }
   ],
   "source": [
    "#Criar lista com nome das novas variáveis\n",
    "novas_colunas = {\n",
    "    'CustomerId': 'IdCliente',\n",
    "    'CreditScore': 'ScoreCredito',\n",
    "    'Geography': 'Localizacao',\n",
    "    'Gender': 'Genero',\n",
    "    'Age': 'Idade',\n",
    "    'Tenure': 'TempoFidelidade',\n",
    "    'Balance': 'Saldo',\n",
    "    'NumOfProducts': 'QtdProdutos',\n",
    "    'HasCrCard': 'TemCartao',\n",
    "    'IsActiveMember': 'ClienteAtivo',\n",
    "    'EstimatedSalary': 'SalarioEstimado',\n",
    "    'Exited': 'Churn'\n",
    "    }\n",
    "#renomeando as variáveis\n",
    "df.rename(columns = novas_colunas, inplace = True)\n",
    "#\n",
    "del(novas_colunas)\n",
    "#\n",
    "df.head()"
   ]
  },
  {
   "attachments": {},
   "cell_type": "markdown",
   "metadata": {},
   "source": [
    "<h4>3. Análise Exploratória </h4>"
   ]
  },
  {
   "cell_type": "code",
   "execution_count": null,
   "metadata": {},
   "outputs": [
    {
     "name": "stdout",
     "output_type": "stream",
     "text": [
      "<class 'pandas.core.frame.DataFrame'>\n",
      "RangeIndex: 10000 entries, 0 to 9999\n",
      "Data columns (total 11 columns):\n",
      " #   Column           Non-Null Count  Dtype  \n",
      "---  ------           --------------  -----  \n",
      " 0   ScoreCredito     10000 non-null  int64  \n",
      " 1   Localizacao      10000 non-null  object \n",
      " 2   Genero           10000 non-null  object \n",
      " 3   Idade            10000 non-null  int64  \n",
      " 4   TempoFidelidade  10000 non-null  int64  \n",
      " 5   Saldo            10000 non-null  float64\n",
      " 6   QtdProdutos      10000 non-null  int64  \n",
      " 7   TemCartao        10000 non-null  int64  \n",
      " 8   ClienteAtivo     10000 non-null  int64  \n",
      " 9   SalarioEstimado  10000 non-null  float64\n",
      " 10  Churn            10000 non-null  int64  \n",
      "dtypes: float64(2), int64(7), object(2)\n",
      "memory usage: 859.5+ KB\n"
     ]
    }
   ],
   "source": [
    "#Informações sobre missing values e tipo das variáveis\n",
    "df.info()"
   ]
  },
  {
   "cell_type": "code",
   "execution_count": null,
   "metadata": {},
   "outputs": [
    {
     "data": {
      "text/html": [
       "<div>\n",
       "<style scoped>\n",
       "    .dataframe tbody tr th:only-of-type {\n",
       "        vertical-align: middle;\n",
       "    }\n",
       "\n",
       "    .dataframe tbody tr th {\n",
       "        vertical-align: top;\n",
       "    }\n",
       "\n",
       "    .dataframe thead th {\n",
       "        text-align: right;\n",
       "    }\n",
       "</style>\n",
       "<table border=\"1\" class=\"dataframe\">\n",
       "  <thead>\n",
       "    <tr style=\"text-align: right;\">\n",
       "      <th></th>\n",
       "      <th>count</th>\n",
       "      <th>mean</th>\n",
       "      <th>std</th>\n",
       "      <th>min</th>\n",
       "      <th>25%</th>\n",
       "      <th>50%</th>\n",
       "      <th>75%</th>\n",
       "      <th>max</th>\n",
       "    </tr>\n",
       "  </thead>\n",
       "  <tbody>\n",
       "    <tr>\n",
       "      <th>ScoreCredito</th>\n",
       "      <td>10000.0</td>\n",
       "      <td>650.528800</td>\n",
       "      <td>96.653299</td>\n",
       "      <td>350.00</td>\n",
       "      <td>584.00</td>\n",
       "      <td>652.000</td>\n",
       "      <td>718.0000</td>\n",
       "      <td>850.00</td>\n",
       "    </tr>\n",
       "    <tr>\n",
       "      <th>Idade</th>\n",
       "      <td>10000.0</td>\n",
       "      <td>38.921800</td>\n",
       "      <td>10.487806</td>\n",
       "      <td>18.00</td>\n",
       "      <td>32.00</td>\n",
       "      <td>37.000</td>\n",
       "      <td>44.0000</td>\n",
       "      <td>92.00</td>\n",
       "    </tr>\n",
       "    <tr>\n",
       "      <th>TempoFidelidade</th>\n",
       "      <td>10000.0</td>\n",
       "      <td>5.012800</td>\n",
       "      <td>2.892174</td>\n",
       "      <td>0.00</td>\n",
       "      <td>3.00</td>\n",
       "      <td>5.000</td>\n",
       "      <td>7.0000</td>\n",
       "      <td>10.00</td>\n",
       "    </tr>\n",
       "    <tr>\n",
       "      <th>Saldo</th>\n",
       "      <td>10000.0</td>\n",
       "      <td>76485.889288</td>\n",
       "      <td>62397.405202</td>\n",
       "      <td>0.00</td>\n",
       "      <td>0.00</td>\n",
       "      <td>97198.540</td>\n",
       "      <td>127644.2400</td>\n",
       "      <td>250898.09</td>\n",
       "    </tr>\n",
       "    <tr>\n",
       "      <th>QtdProdutos</th>\n",
       "      <td>10000.0</td>\n",
       "      <td>1.530200</td>\n",
       "      <td>0.581654</td>\n",
       "      <td>1.00</td>\n",
       "      <td>1.00</td>\n",
       "      <td>1.000</td>\n",
       "      <td>2.0000</td>\n",
       "      <td>4.00</td>\n",
       "    </tr>\n",
       "    <tr>\n",
       "      <th>TemCartao</th>\n",
       "      <td>10000.0</td>\n",
       "      <td>0.705500</td>\n",
       "      <td>0.455840</td>\n",
       "      <td>0.00</td>\n",
       "      <td>0.00</td>\n",
       "      <td>1.000</td>\n",
       "      <td>1.0000</td>\n",
       "      <td>1.00</td>\n",
       "    </tr>\n",
       "    <tr>\n",
       "      <th>ClienteAtivo</th>\n",
       "      <td>10000.0</td>\n",
       "      <td>0.515100</td>\n",
       "      <td>0.499797</td>\n",
       "      <td>0.00</td>\n",
       "      <td>0.00</td>\n",
       "      <td>1.000</td>\n",
       "      <td>1.0000</td>\n",
       "      <td>1.00</td>\n",
       "    </tr>\n",
       "    <tr>\n",
       "      <th>SalarioEstimado</th>\n",
       "      <td>10000.0</td>\n",
       "      <td>100090.239881</td>\n",
       "      <td>57510.492818</td>\n",
       "      <td>11.58</td>\n",
       "      <td>51002.11</td>\n",
       "      <td>100193.915</td>\n",
       "      <td>149388.2475</td>\n",
       "      <td>199992.48</td>\n",
       "    </tr>\n",
       "    <tr>\n",
       "      <th>Churn</th>\n",
       "      <td>10000.0</td>\n",
       "      <td>0.203700</td>\n",
       "      <td>0.402769</td>\n",
       "      <td>0.00</td>\n",
       "      <td>0.00</td>\n",
       "      <td>0.000</td>\n",
       "      <td>0.0000</td>\n",
       "      <td>1.00</td>\n",
       "    </tr>\n",
       "  </tbody>\n",
       "</table>\n",
       "</div>"
      ],
      "text/plain": [
       "                   count           mean           std     min       25%  \\\n",
       "ScoreCredito     10000.0     650.528800     96.653299  350.00    584.00   \n",
       "Idade            10000.0      38.921800     10.487806   18.00     32.00   \n",
       "TempoFidelidade  10000.0       5.012800      2.892174    0.00      3.00   \n",
       "Saldo            10000.0   76485.889288  62397.405202    0.00      0.00   \n",
       "QtdProdutos      10000.0       1.530200      0.581654    1.00      1.00   \n",
       "TemCartao        10000.0       0.705500      0.455840    0.00      0.00   \n",
       "ClienteAtivo     10000.0       0.515100      0.499797    0.00      0.00   \n",
       "SalarioEstimado  10000.0  100090.239881  57510.492818   11.58  51002.11   \n",
       "Churn            10000.0       0.203700      0.402769    0.00      0.00   \n",
       "\n",
       "                        50%          75%        max  \n",
       "ScoreCredito        652.000     718.0000     850.00  \n",
       "Idade                37.000      44.0000      92.00  \n",
       "TempoFidelidade       5.000       7.0000      10.00  \n",
       "Saldo             97198.540  127644.2400  250898.09  \n",
       "QtdProdutos           1.000       2.0000       4.00  \n",
       "TemCartao             1.000       1.0000       1.00  \n",
       "ClienteAtivo          1.000       1.0000       1.00  \n",
       "SalarioEstimado  100193.915  149388.2475  199992.48  \n",
       "Churn                 0.000       0.0000       1.00  "
      ]
     },
     "execution_count": 16,
     "metadata": {},
     "output_type": "execute_result"
    }
   ],
   "source": [
    "#Estatísticas descritivas das variáveis numéricas\n",
    "df.select_dtypes('number').describe().T"
   ]
  },
  {
   "cell_type": "code",
   "execution_count": null,
   "metadata": {},
   "outputs": [
    {
     "data": {
      "text/html": [
       "<div>\n",
       "<style scoped>\n",
       "    .dataframe tbody tr th:only-of-type {\n",
       "        vertical-align: middle;\n",
       "    }\n",
       "\n",
       "    .dataframe tbody tr th {\n",
       "        vertical-align: top;\n",
       "    }\n",
       "\n",
       "    .dataframe thead th {\n",
       "        text-align: right;\n",
       "    }\n",
       "</style>\n",
       "<table border=\"1\" class=\"dataframe\">\n",
       "  <thead>\n",
       "    <tr style=\"text-align: right;\">\n",
       "      <th></th>\n",
       "      <th>count</th>\n",
       "      <th>unique</th>\n",
       "      <th>top</th>\n",
       "      <th>freq</th>\n",
       "    </tr>\n",
       "  </thead>\n",
       "  <tbody>\n",
       "    <tr>\n",
       "      <th>Localizacao</th>\n",
       "      <td>10000</td>\n",
       "      <td>3</td>\n",
       "      <td>France</td>\n",
       "      <td>5014</td>\n",
       "    </tr>\n",
       "    <tr>\n",
       "      <th>Genero</th>\n",
       "      <td>10000</td>\n",
       "      <td>2</td>\n",
       "      <td>Male</td>\n",
       "      <td>5457</td>\n",
       "    </tr>\n",
       "  </tbody>\n",
       "</table>\n",
       "</div>"
      ],
      "text/plain": [
       "             count unique     top  freq\n",
       "Localizacao  10000      3  France  5014\n",
       "Genero       10000      2    Male  5457"
      ]
     },
     "execution_count": 17,
     "metadata": {},
     "output_type": "execute_result"
    }
   ],
   "source": [
    "#Estatísticas descritivas das variáveis categóricas\n",
    "df.select_dtypes('object').describe().T"
   ]
  },
  {
   "cell_type": "code",
   "execution_count": null,
   "metadata": {},
   "outputs": [
    {
     "data": {
      "text/plain": [
       "France     5014\n",
       "Germany    2509\n",
       "Spain      2477\n",
       "Name: Localizacao, dtype: int64"
      ]
     },
     "execution_count": 18,
     "metadata": {},
     "output_type": "execute_result"
    }
   ],
   "source": [
    "#Alterando o conteúdo das variáveis categóricas\n",
    "#* Localização\n",
    "df['Localizacao'].value_counts()"
   ]
  },
  {
   "cell_type": "code",
   "execution_count": null,
   "metadata": {},
   "outputs": [],
   "source": [
    "#Alterando os valores da variável Localização\n",
    "df['Localizacao'].replace({\n",
    "    'France' : 'França',\n",
    "    'Germany' : 'Alemanha',\n",
    "    'Spain' : 'Espanha'\n",
    "}, inplace = True)"
   ]
  },
  {
   "cell_type": "code",
   "execution_count": null,
   "metadata": {},
   "outputs": [
    {
     "data": {
      "text/plain": [
       "Male      5457\n",
       "Female    4543\n",
       "Name: Genero, dtype: int64"
      ]
     },
     "execution_count": 20,
     "metadata": {},
     "output_type": "execute_result"
    }
   ],
   "source": [
    "#Alterando o conteúdo das variáveis categóricas\n",
    "#* Gênero\n",
    "df['Genero'].value_counts()"
   ]
  },
  {
   "cell_type": "code",
   "execution_count": null,
   "metadata": {},
   "outputs": [],
   "source": [
    "#Alterando os valores da variável Localização\n",
    "df['Genero'].replace({\n",
    "    'Male' : 'Masculino',\n",
    "    'Female' : 'Feminino'\n",
    "}, inplace = True)"
   ]
  },
  {
   "cell_type": "code",
   "execution_count": null,
   "metadata": {},
   "outputs": [
    {
     "name": "stdout",
     "output_type": "stream",
     "text": [
      "Variáveis numéricas: Index(['ScoreCredito', 'Idade', 'TempoFidelidade', 'Saldo', 'QtdProdutos',\n",
      "       'TemCartao', 'ClienteAtivo', 'SalarioEstimado', 'Churn'],\n",
      "      dtype='object')\n",
      "Variáveis categóricas: Index(['Localizacao', 'Genero'], dtype='object')\n"
     ]
    }
   ],
   "source": [
    "#Lista variáveis numéricas\n",
    "df_numericas = df.select_dtypes('number').columns \n",
    "#Lista variáveis categóricas\n",
    "df_categoricas = df.select_dtypes('object').columns \n",
    "\n",
    "print('Variáveis numéricas:', df_numericas)\n",
    "print('Variáveis categóricas:', df_categoricas)"
   ]
  },
  {
   "attachments": {},
   "cell_type": "markdown",
   "metadata": {},
   "source": [
    "<h5>3.1. Análise univariada</h5>"
   ]
  },
  {
   "cell_type": "code",
   "execution_count": null,
   "metadata": {},
   "outputs": [],
   "source": [
    "#IQR - https://www.statisticshowto.com/probability-and-statistics/interquartile-range/\n",
    "#Lower and Upper Fence - https://www.statisticshowto.com/upper-and-lower-fences/"
   ]
  },
  {
   "cell_type": "code",
   "execution_count": null,
   "metadata": {},
   "outputs": [],
   "source": [
    "# Definição do Tema do Seaborn\n",
    "sns.set_theme(\n",
    "    context = 'paper', style = 'darkgrid', palette = 'deep', \n",
    "    font = 'sans-serif', font_scale = 1, color_codes = True, \n",
    "    rc = None\n",
    ")"
   ]
  },
  {
   "attachments": {},
   "cell_type": "markdown",
   "metadata": {},
   "source": [
    "3.1.1. Score de Crédito"
   ]
  },
  {
   "cell_type": "code",
   "execution_count": null,
   "metadata": {},
   "outputs": [
    {
     "data": {
      "text/plain": [
       "<AxesSubplot: xlabel='ScoreCredito'>"
      ]
     },
     "execution_count": 25,
     "metadata": {},
     "output_type": "execute_result"
    },
    {
     "data": {
      "image/png": "[encoded data removed]",
      "text/plain": [
       "<Figure size 640x480 with 2 Axes>"
      ]
     },
     "metadata": {},
     "output_type": "display_data"
    }
   ],
   "source": [
    "#Criação dos subplots\n",
    "fig, axs = plt.subplots(ncols = 1, nrows = 2, sharex=True, height_ratios=[0.8, 0.2])\n",
    "#Título da imagem\n",
    "plt.suptitle('Distribuição do Score de Crédito')\n",
    "#Gráfico 1 - Histograma\n",
    "sns.histplot(x = df['ScoreCredito'], kde = True, ax = axs[0], stat = 'count', cumulative = False)\n",
    "#Gráfico 2 - Boxplot\n",
    "sns.boxplot(x = df['ScoreCredito'], fliersize = 2, notch = True, ax = axs[1])"
   ]
  },
  {
   "attachments": {},
   "cell_type": "markdown",
   "metadata": {},
   "source": [
    "3.1.2. Idade"
   ]
  },
  {
   "cell_type": "code",
   "execution_count": null,
   "metadata": {},
   "outputs": [
    {
     "data": {
      "text/plain": [
       "<AxesSubplot: xlabel='Idade'>"
      ]
     },
     "execution_count": 26,
     "metadata": {},
     "output_type": "execute_result"
    },
    {
     "data": {
      "image/png": "[encoded data removed]",
      "text/plain": [
       "<Figure size 640x480 with 2 Axes>"
      ]
     },
     "metadata": {},
     "output_type": "display_data"
    }
   ],
   "source": [
    "#Criação dos subplots\n",
    "fig, axs = plt.subplots(ncols = 1, nrows = 2, sharex=True, height_ratios=[0.8, 0.2])\n",
    "#Título da imagem\n",
    "plt.suptitle('Distribuição por Idade')\n",
    "#Gráfico 1 - Histograma\n",
    "sns.histplot(x = df['Idade'], kde = True, ax = axs[0], stat = 'count', cumulative = False)\n",
    "#Gráfico 2 - Boxplot\n",
    "sns.boxplot(x = df['Idade'], fliersize = 2, notch = True, ax = axs[1])"
   ]
  },
  {
   "attachments": {},
   "cell_type": "markdown",
   "metadata": {},
   "source": [
    "3.1.3. Tempo de fidelidade"
   ]
  },
  {
   "cell_type": "code",
   "execution_count": null,
   "metadata": {},
   "outputs": [
    {
     "data": {
      "text/plain": [
       "<AxesSubplot: xlabel='TempoFidelidade'>"
      ]
     },
     "execution_count": 27,
     "metadata": {},
     "output_type": "execute_result"
    },
    {
     "data": {
      "image/png": "[encoded data removed]",
      "text/plain": [
       "<Figure size 640x480 with 2 Axes>"
      ]
     },
     "metadata": {},
     "output_type": "display_data"
    }
   ],
   "source": [
    "#Criação dos subplots\n",
    "fig, axs = plt.subplots(ncols = 1, nrows = 2, sharex=True, height_ratios=[0.8, 0.2])\n",
    "#Título da imagem\n",
    "plt.suptitle('Distribuição por tempo de fidelidade do cliente')\n",
    "#Gráfico 1 - Histograma\n",
    "sns.histplot(x = df['TempoFidelidade'], kde = False, ax = axs[0], stat = 'count', cumulative = False)\n",
    "#Gráfico 2 - Boxplot\n",
    "sns.boxplot(x = df['TempoFidelidade'], fliersize = 2, notch = True, ax = axs[1])"
   ]
  },
  {
   "attachments": {},
   "cell_type": "markdown",
   "metadata": {},
   "source": [
    "3.1.4. Saldo"
   ]
  },
  {
   "cell_type": "code",
   "execution_count": null,
   "metadata": {},
   "outputs": [
    {
     "data": {
      "text/plain": [
       "<AxesSubplot: xlabel='Saldo'>"
      ]
     },
     "execution_count": 28,
     "metadata": {},
     "output_type": "execute_result"
    },
    {
     "data": {
      "image/png": "[encoded data removed]",
      "text/plain": [
       "<Figure size 640x480 with 2 Axes>"
      ]
     },
     "metadata": {},
     "output_type": "display_data"
    }
   ],
   "source": [
    "#Criação dos subplots\n",
    "fig, axs = plt.subplots(ncols = 1, nrows = 2, sharex=True, height_ratios=[0.8, 0.2])\n",
    "#Título da imagem\n",
    "plt.suptitle('Distribuição por saldo em conta')\n",
    "#Gráfico 1 - Histograma\n",
    "sns.histplot(x = df['Saldo'], kde = False, ax = axs[0], stat = 'count', cumulative = False)\n",
    "#Gráfico 2 - Boxplot\n",
    "sns.boxplot(x = df['Saldo'], fliersize = 2, notch = True, ax = axs[1])"
   ]
  },
  {
   "attachments": {},
   "cell_type": "markdown",
   "metadata": {},
   "source": [
    "3.1.5. Quantidade de produtos"
   ]
  },
  {
   "cell_type": "code",
   "execution_count": null,
   "metadata": {},
   "outputs": [
    {
     "data": {
      "text/plain": [
       "<AxesSubplot: xlabel='QtdProdutos'>"
      ]
     },
     "execution_count": 29,
     "metadata": {},
     "output_type": "execute_result"
    },
    {
     "data": {
      "image/png": "[encoded data removed]",
      "text/plain": [
       "<Figure size 640x480 with 2 Axes>"
      ]
     },
     "metadata": {},
     "output_type": "display_data"
    }
   ],
   "source": [
    "#Criação dos subplots\n",
    "fig, axs = plt.subplots(ncols = 1, nrows = 2, sharex=True, height_ratios=[0.8, 0.2])\n",
    "#Título da imagem\n",
    "plt.suptitle('Distribuição por quantidade de produtos')\n",
    "#Gráfico 1 - Histograma\n",
    "sns.histplot(x = df['QtdProdutos'], kde = False, ax = axs[0], stat = 'count', cumulative = False)\n",
    "#Gráfico 2 - Boxplot\n",
    "sns.boxplot(x = df['QtdProdutos'], fliersize = 2, notch = True, ax = axs[1])"
   ]
  },
  {
   "attachments": {},
   "cell_type": "markdown",
   "metadata": {},
   "source": [
    "3.1.6. Salário Estimado"
   ]
  },
  {
   "cell_type": "code",
   "execution_count": null,
   "metadata": {},
   "outputs": [
    {
     "data": {
      "text/plain": [
       "<AxesSubplot: xlabel='SalarioEstimado'>"
      ]
     },
     "execution_count": 30,
     "metadata": {},
     "output_type": "execute_result"
    },
    {
     "data": {
      "image/png": "[encoded data removed]",
      "text/plain": [
       "<Figure size 640x480 with 2 Axes>"
      ]
     },
     "metadata": {},
     "output_type": "display_data"
    }
   ],
   "source": [
    "#Criação dos subplots\n",
    "fig, axs = plt.subplots(ncols = 1, nrows = 2, sharex=True, height_ratios=[0.8, 0.2])\n",
    "#Título da imagem\n",
    "plt.suptitle('Faixa salarial')\n",
    "#Gráfico 1 - Histograma\n",
    "sns.histplot(x = df['SalarioEstimado'], kde = False, ax = axs[0], stat = 'count', cumulative = False)\n",
    "#Gráfico 2 - Boxplot\n",
    "sns.boxplot(x = df['SalarioEstimado'], fliersize = 2, notch = True, ax = axs[1])"
   ]
  },
  {
   "attachments": {},
   "cell_type": "markdown",
   "metadata": {},
   "source": [
    "3.1.7. Cartão de Crédito"
   ]
  },
  {
   "cell_type": "code",
   "execution_count": null,
   "metadata": {},
   "outputs": [
    {
     "data": {
      "text/plain": [
       "[Text(0, 0, '2945'), Text(0, 0, '7055')]"
      ]
     },
     "execution_count": 31,
     "metadata": {},
     "output_type": "execute_result"
    },
    {
     "data": {
      "image/png": "[encoded data removed]",
      "text/plain": [
       "<Figure size 640x480 with 1 Axes>"
      ]
     },
     "metadata": {},
     "output_type": "display_data"
    }
   ],
   "source": [
    "#Título da imagem\n",
    "plt.suptitle('Cartão de Crédito')\n",
    "ax = sns.countplot(data = df, x = df['TemCartao'])\n",
    "#Inclusão dos rótulos\n",
    "ax.bar_label(ax.containers[0])"
   ]
  },
  {
   "attachments": {},
   "cell_type": "markdown",
   "metadata": {},
   "source": [
    "3.1.8. Clientes ativos e inativos"
   ]
  },
  {
   "cell_type": "code",
   "execution_count": null,
   "metadata": {},
   "outputs": [
    {
     "data": {
      "text/plain": [
       "[Text(0, 0, '4849'), Text(0, 0, '5151')]"
      ]
     },
     "execution_count": 32,
     "metadata": {},
     "output_type": "execute_result"
    },
    {
     "data": {
      "image/png": "[encoded data removed]",
      "text/plain": [
       "<Figure size 640x480 with 1 Axes>"
      ]
     },
     "metadata": {},
     "output_type": "display_data"
    }
   ],
   "source": [
    "#Título da imagem\n",
    "plt.suptitle('Clientes ativos e inativos')\n",
    "ax = sns.countplot(data = df, x = df['ClienteAtivo'])\n",
    "#Inclusão dos rótulos\n",
    "ax.bar_label(ax.containers[0])"
   ]
  },
  {
   "attachments": {},
   "cell_type": "markdown",
   "metadata": {},
   "source": [
    "3.1.9. Churn"
   ]
  },
  {
   "cell_type": "code",
   "execution_count": null,
   "metadata": {},
   "outputs": [
    {
     "data": {
      "text/plain": [
       "[Text(0, 0, '7963'), Text(0, 0, '2037')]"
      ]
     },
     "execution_count": 33,
     "metadata": {},
     "output_type": "execute_result"
    },
    {
     "data": {
      "image/png": "[encoded data removed]",
      "text/plain": [
       "<Figure size 640x480 with 1 Axes>"
      ]
     },
     "metadata": {},
     "output_type": "display_data"
    }
   ],
   "source": [
    "#Título da imagem\n",
    "plt.suptitle('Churn')\n",
    "ax = sns.countplot(data = df, x = df['Churn'])\n",
    "#Inclusão dos rótulos\n",
    "ax.bar_label(ax.containers[0])"
   ]
  },
  {
   "attachments": {},
   "cell_type": "markdown",
   "metadata": {},
   "source": [
    "3.1.10. Localização"
   ]
  },
  {
   "cell_type": "code",
   "execution_count": null,
   "metadata": {},
   "outputs": [
    {
     "data": {
      "text/plain": [
       "[Text(0, 0, '5014'), Text(0, 0, '2477'), Text(0, 0, '2509')]"
      ]
     },
     "execution_count": 34,
     "metadata": {},
     "output_type": "execute_result"
    },
    {
     "data": {
      "image/png": "[encoded data removed]",
      "text/plain": [
       "<Figure size 640x480 with 1 Axes>"
      ]
     },
     "metadata": {},
     "output_type": "display_data"
    }
   ],
   "source": [
    "#Título da imagem\n",
    "plt.suptitle('Clientes por localização')\n",
    "ax = sns.countplot(data = df, x = df['Localizacao'])\n",
    "#Inclusão dos rótulos\n",
    "ax.bar_label(ax.containers[0])"
   ]
  },
  {
   "attachments": {},
   "cell_type": "markdown",
   "metadata": {},
   "source": [
    "3.1.11. Gênero"
   ]
  },
  {
   "cell_type": "code",
   "execution_count": null,
   "metadata": {},
   "outputs": [
    {
     "data": {
      "text/plain": [
       "[Text(0, 0, '4543'), Text(0, 0, '5457')]"
      ]
     },
     "execution_count": 35,
     "metadata": {},
     "output_type": "execute_result"
    },
    {
     "data": {
      "image/png": "[encoded data removed]",
      "text/plain": [
       "<Figure size 640x480 with 1 Axes>"
      ]
     },
     "metadata": {},
     "output_type": "display_data"
    }
   ],
   "source": [
    "#Título da imagem\n",
    "plt.suptitle('Clientes por gênero')\n",
    "ax = sns.countplot(data = df, x = df['Genero'])\n",
    "#Inclusão dos rótulos\n",
    "ax.bar_label(ax.containers[0])"
   ]
  },
  {
   "attachments": {},
   "cell_type": "markdown",
   "metadata": {},
   "source": [
    "<h5>3.2. Análise bivariada</h5>"
   ]
  },
  {
   "attachments": {},
   "cell_type": "markdown",
   "metadata": {},
   "source": [
    "3.2.1. Score de Crédito x Tem Cartão"
   ]
  },
  {
   "cell_type": "code",
   "execution_count": null,
   "metadata": {},
   "outputs": [
    {
     "data": {
      "text/plain": [
       "<AxesSubplot: xlabel='TemCartao', ylabel='ScoreCredito'>"
      ]
     },
     "execution_count": 36,
     "metadata": {},
     "output_type": "execute_result"
    },
    {
     "data": {
      "image/png": "[encoded data removed]",
      "text/plain": [
       "<Figure size 640x480 with 1 Axes>"
      ]
     },
     "metadata": {},
     "output_type": "display_data"
    }
   ],
   "source": [
    "#Título da imagem\n",
    "plt.suptitle('Score de Crédito x Tem cartão')\n",
    "sns.boxplot(data = df, x = df['TemCartao'], y = df['ScoreCredito'], fliersize = 2, notch = True)"
   ]
  },
  {
   "attachments": {},
   "cell_type": "markdown",
   "metadata": {},
   "source": [
    "3.2.2. Score de Crédito x Cliente Ativo"
   ]
  },
  {
   "cell_type": "code",
   "execution_count": null,
   "metadata": {},
   "outputs": [
    {
     "data": {
      "text/plain": [
       "<AxesSubplot: xlabel='ClienteAtivo', ylabel='ScoreCredito'>"
      ]
     },
     "execution_count": 37,
     "metadata": {},
     "output_type": "execute_result"
    },
    {
     "data": {
      "image/png": "[encoded data removed]",
      "text/plain": [
       "<Figure size 640x480 with 1 Axes>"
      ]
     },
     "metadata": {},
     "output_type": "display_data"
    }
   ],
   "source": [
    "#Título da imagem\n",
    "plt.suptitle('Score de Crédito x Cliente ativo')\n",
    "sns.boxplot(data = df, x = df['ClienteAtivo'], y = df['ScoreCredito'], fliersize = 2, notch = True)"
   ]
  },
  {
   "attachments": {},
   "cell_type": "markdown",
   "metadata": {},
   "source": [
    "3.2.3. Idade x Tem Cartão"
   ]
  },
  {
   "cell_type": "code",
   "execution_count": null,
   "metadata": {},
   "outputs": [
    {
     "data": {
      "text/plain": [
       "<AxesSubplot: xlabel='TemCartao', ylabel='Idade'>"
      ]
     },
     "execution_count": 38,
     "metadata": {},
     "output_type": "execute_result"
    },
    {
     "data": {
      "image/png": "[encoded data removed]",
      "text/plain": [
       "<Figure size 640x480 with 1 Axes>"
      ]
     },
     "metadata": {},
     "output_type": "display_data"
    }
   ],
   "source": [
    "#Título da imagem\n",
    "plt.suptitle('Idade x Tem cartão')\n",
    "sns.boxplot(data = df, x = df['TemCartao'], y = df['Idade'], fliersize = 2, notch = True)"
   ]
  },
  {
   "attachments": {},
   "cell_type": "markdown",
   "metadata": {},
   "source": [
    "3.2.4. "
   ]
  },
  {
   "attachments": {},
   "cell_type": "markdown",
   "metadata": {},
   "source": [
    "_________________"
   ]
  },
  {
   "cell_type": "code",
   "execution_count": null,
   "metadata": {},
   "outputs": [
    {
     "name": "stdout",
     "output_type": "stream",
     "text": [
      "Requirement already satisfied: ydata_profiling in c:\\users\\willy\\appdata\\local\\programs\\python\\python311\\lib\\site-packages (4.1.2)\n",
      "Requirement already satisfied: scipy<1.10,>=1.4.1 in c:\\users\\willy\\appdata\\local\\programs\\python\\python311\\lib\\site-packages (from ydata_profiling) (1.9.3)\n",
      "Requirement already satisfied: pandas!=1.4.0,<1.6,>1.1 in c:\\users\\willy\\appdata\\local\\programs\\python\\python311\\lib\\site-packages (from ydata_profiling) (1.5.3)\n",
      "Requirement already satisfied: matplotlib<3.7,>=3.2 in c:\\users\\willy\\appdata\\local\\programs\\python\\python311\\lib\\site-packages (from ydata_profiling) (3.6.3)\n",
      "Requirement already satisfied: pydantic<1.11,>=1.8.1 in c:\\users\\willy\\appdata\\local\\programs\\python\\python311\\lib\\site-packages (from ydata_profiling) (1.10.7)\n",
      "Requirement already satisfied: PyYAML<6.1,>=5.0.0 in c:\\users\\willy\\appdata\\local\\programs\\python\\python311\\lib\\site-packages (from ydata_profiling) (6.0)\n",
      "Requirement already satisfied: jinja2<3.2,>=2.11.1 in c:\\users\\willy\\appdata\\local\\programs\\python\\python311\\lib\\site-packages (from ydata_profiling) (3.1.2)\n",
      "Requirement already satisfied: visions[type_image_path]==0.7.5 in c:\\users\\willy\\appdata\\local\\programs\\python\\python311\\lib\\site-packages (from ydata_profiling) (0.7.5)\n",
      "Requirement already satisfied: numpy<1.24,>=1.16.0 in c:\\users\\willy\\appdata\\local\\programs\\python\\python311\\lib\\site-packages (from ydata_profiling) (1.23.5)\n",
      "Requirement already satisfied: htmlmin==0.1.12 in c:\\users\\willy\\appdata\\local\\programs\\python\\python311\\lib\\site-packages (from ydata_profiling) (0.1.12)\n",
      "Requirement already satisfied: phik<0.13,>=0.11.1 in c:\\users\\willy\\appdata\\local\\programs\\python\\python311\\lib\\site-packages (from ydata_profiling) (0.12.3)\n",
      "Requirement already satisfied: requests<2.29,>=2.24.0 in c:\\users\\willy\\appdata\\local\\programs\\python\\python311\\lib\\site-packages (from ydata_profiling) (2.28.2)\n",
      "Requirement already satisfied: tqdm<4.65,>=4.48.2 in c:\\users\\willy\\appdata\\local\\programs\\python\\python311\\lib\\site-packages (from ydata_profiling) (4.64.1)\n",
      "Requirement already satisfied: seaborn<0.13,>=0.10.1 in c:\\users\\willy\\appdata\\local\\programs\\python\\python311\\lib\\site-packages (from ydata_profiling) (0.12.2)\n",
      "Requirement already satisfied: multimethod<1.10,>=1.4 in c:\\users\\willy\\appdata\\local\\programs\\python\\python311\\lib\\site-packages (from ydata_profiling) (1.9.1)\n",
      "Requirement already satisfied: statsmodels<0.14,>=0.13.2 in c:\\users\\willy\\appdata\\local\\programs\\python\\python311\\lib\\site-packages (from ydata_profiling) (0.13.5)\n",
      "Requirement already satisfied: typeguard<2.14,>=2.13.2 in c:\\users\\willy\\appdata\\local\\programs\\python\\python311\\lib\\site-packages (from ydata_profiling) (2.13.3)\n",
      "Requirement already satisfied: imagehash==4.3.1 in c:\\users\\willy\\appdata\\local\\programs\\python\\python311\\lib\\site-packages (from ydata_profiling) (4.3.1)\n",
      "Requirement already satisfied: PyWavelets in c:\\users\\willy\\appdata\\local\\programs\\python\\python311\\lib\\site-packages (from imagehash==4.3.1->ydata_profiling) (1.4.1)\n",
      "Requirement already satisfied: pillow in c:\\users\\willy\\appdata\\local\\programs\\python\\python311\\lib\\site-packages (from imagehash==4.3.1->ydata_profiling) (9.4.0)\n",
      "Requirement already satisfied: attrs>=19.3.0 in c:\\users\\willy\\appdata\\local\\programs\\python\\python311\\lib\\site-packages (from visions[type_image_path]==0.7.5->ydata_profiling) (22.2.0)\n",
      "Requirement already satisfied: networkx>=2.4 in c:\\users\\willy\\appdata\\local\\programs\\python\\python311\\lib\\site-packages (from visions[type_image_path]==0.7.5->ydata_profiling) (3.0)\n",
      "Requirement already satisfied: tangled-up-in-unicode>=0.0.4 in c:\\users\\willy\\appdata\\local\\programs\\python\\python311\\lib\\site-packages (from visions[type_image_path]==0.7.5->ydata_profiling) (0.2.0)\n",
      "Requirement already satisfied: MarkupSafe>=2.0 in c:\\users\\willy\\appdata\\local\\programs\\python\\python311\\lib\\site-packages (from jinja2<3.2,>=2.11.1->ydata_profiling) (2.1.2)\n",
      "Requirement already satisfied: contourpy>=1.0.1 in c:\\users\\willy\\appdata\\local\\programs\\python\\python311\\lib\\site-packages (from matplotlib<3.7,>=3.2->ydata_profiling) (1.0.6)\n",
      "Requirement already satisfied: cycler>=0.10 in c:\\users\\willy\\appdata\\local\\programs\\python\\python311\\lib\\site-packages (from matplotlib<3.7,>=3.2->ydata_profiling) (0.11.0)\n",
      "Requirement already satisfied: fonttools>=4.22.0 in c:\\users\\willy\\appdata\\local\\programs\\python\\python311\\lib\\site-packages (from matplotlib<3.7,>=3.2->ydata_profiling) (4.38.0)\n",
      "Requirement already satisfied: kiwisolver>=1.0.1 in c:\\users\\willy\\appdata\\local\\programs\\python\\python311\\lib\\site-packages (from matplotlib<3.7,>=3.2->ydata_profiling) (1.4.4)\n",
      "Requirement already satisfied: packaging>=20.0 in c:\\users\\willy\\appdata\\roaming\\python\\python311\\site-packages (from matplotlib<3.7,>=3.2->ydata_profiling) (22.0)\n",
      "Requirement already satisfied: pyparsing>=2.2.1 in c:\\users\\willy\\appdata\\local\\programs\\python\\python311\\lib\\site-packages (from matplotlib<3.7,>=3.2->ydata_profiling) (3.0.9)\n",
      "Requirement already satisfied: python-dateutil>=2.7 in c:\\users\\willy\\appdata\\roaming\\python\\python311\\site-packages (from matplotlib<3.7,>=3.2->ydata_profiling) (2.8.2)\n",
      "Requirement already satisfied: pytz>=2020.1 in c:\\users\\willy\\appdata\\local\\programs\\python\\python311\\lib\\site-packages (from pandas!=1.4.0,<1.6,>1.1->ydata_profiling) (2022.7)\n",
      "Requirement already satisfied: joblib>=0.14.1 in c:\\users\\willy\\appdata\\local\\programs\\python\\python311\\lib\\site-packages (from phik<0.13,>=0.11.1->ydata_profiling) (1.1.1)\n",
      "Requirement already satisfied: typing-extensions>=4.2.0 in c:\\users\\willy\\appdata\\local\\programs\\python\\python311\\lib\\site-packages (from pydantic<1.11,>=1.8.1->ydata_profiling) (4.5.0)\n",
      "Requirement already satisfied: charset-normalizer<4,>=2 in c:\\users\\willy\\appdata\\local\\programs\\python\\python311\\lib\\site-packages (from requests<2.29,>=2.24.0->ydata_profiling) (3.0.1)\n",
      "Requirement already satisfied: idna<4,>=2.5 in c:\\users\\willy\\appdata\\local\\programs\\python\\python311\\lib\\site-packages (from requests<2.29,>=2.24.0->ydata_profiling) (3.4)\n",
      "Requirement already satisfied: urllib3<1.27,>=1.21.1 in c:\\users\\willy\\appdata\\local\\programs\\python\\python311\\lib\\site-packages (from requests<2.29,>=2.24.0->ydata_profiling) (1.26.14)\n",
      "Requirement already satisfied: certifi>=2017.4.17 in c:\\users\\willy\\appdata\\local\\programs\\python\\python311\\lib\\site-packages (from requests<2.29,>=2.24.0->ydata_profiling) (2022.12.7)\n",
      "Requirement already satisfied: patsy>=0.5.2 in c:\\users\\willy\\appdata\\local\\programs\\python\\python311\\lib\\site-packages (from statsmodels<0.14,>=0.13.2->ydata_profiling) (0.5.3)\n",
      "Requirement already satisfied: colorama in c:\\users\\willy\\appdata\\roaming\\python\\python311\\site-packages (from tqdm<4.65,>=4.48.2->ydata_profiling) (0.4.6)\n",
      "Requirement already satisfied: six in c:\\users\\willy\\appdata\\roaming\\python\\python311\\site-packages (from patsy>=0.5.2->statsmodels<0.14,>=0.13.2->ydata_profiling) (1.16.0)\n",
      "Note: you may need to restart the kernel to use updated packages.\n"
     ]
    },
    {
     "name": "stderr",
     "output_type": "stream",
     "text": [
      "\n",
      "[notice] A new release of pip available: 22.3.1 -> 23.1.2\n",
      "[notice] To update, run: python.exe -m pip install --upgrade pip\n"
     ]
    },
    {
     "name": "stdout",
     "output_type": "stream",
     "text": [
      "Requirement already satisfied: ipywidgets in c:\\users\\willy\\appdata\\local\\programs\\python\\python311\\lib\\site-packages (8.0.6)\n",
      "Requirement already satisfied: ipykernel>=4.5.1 in c:\\users\\willy\\appdata\\roaming\\python\\python311\\site-packages (from ipywidgets) (6.19.4)\n",
      "Requirement already satisfied: ipython>=6.1.0 in c:\\users\\willy\\appdata\\roaming\\python\\python311\\site-packages (from ipywidgets) (8.8.0)\n",
      "Requirement already satisfied: traitlets>=4.3.1 in c:\\users\\willy\\appdata\\roaming\\python\\python311\\site-packages (from ipywidgets) (5.8.0)\n",
      "Requirement already satisfied: widgetsnbextension~=4.0.7 in c:\\users\\willy\\appdata\\local\\programs\\python\\python311\\lib\\site-packages (from ipywidgets) (4.0.7)\n",
      "Requirement already satisfied: jupyterlab-widgets~=3.0.7 in c:\\users\\willy\\appdata\\local\\programs\\python\\python311\\lib\\site-packages (from ipywidgets) (3.0.7)\n",
      "Requirement already satisfied: comm>=0.1.1 in c:\\users\\willy\\appdata\\roaming\\python\\python311\\site-packages (from ipykernel>=4.5.1->ipywidgets) (0.1.2)\n",
      "Requirement already satisfied: debugpy>=1.0 in c:\\users\\willy\\appdata\\roaming\\python\\python311\\site-packages (from ipykernel>=4.5.1->ipywidgets) (1.6.4)\n",
      "Requirement already satisfied: jupyter-client>=6.1.12 in c:\\users\\willy\\appdata\\roaming\\python\\python311\\site-packages (from ipykernel>=4.5.1->ipywidgets) (7.4.8)\n",
      "Requirement already satisfied: matplotlib-inline>=0.1 in c:\\users\\willy\\appdata\\roaming\\python\\python311\\site-packages (from ipykernel>=4.5.1->ipywidgets) (0.1.6)\n",
      "Requirement already satisfied: nest-asyncio in c:\\users\\willy\\appdata\\roaming\\python\\python311\\site-packages (from ipykernel>=4.5.1->ipywidgets) (1.5.6)\n",
      "Requirement already satisfied: packaging in c:\\users\\willy\\appdata\\roaming\\python\\python311\\site-packages (from ipykernel>=4.5.1->ipywidgets) (22.0)\n",
      "Requirement already satisfied: psutil in c:\\users\\willy\\appdata\\roaming\\python\\python311\\site-packages (from ipykernel>=4.5.1->ipywidgets) (5.9.4)\n",
      "Requirement already satisfied: pyzmq>=17 in c:\\users\\willy\\appdata\\roaming\\python\\python311\\site-packages (from ipykernel>=4.5.1->ipywidgets) (24.0.1)\n",
      "Requirement already satisfied: tornado>=6.1 in c:\\users\\willy\\appdata\\roaming\\python\\python311\\site-packages (from ipykernel>=4.5.1->ipywidgets) (6.2)\n",
      "Requirement already satisfied: backcall in c:\\users\\willy\\appdata\\roaming\\python\\python311\\site-packages (from ipython>=6.1.0->ipywidgets) (0.2.0)\n",
      "Requirement already satisfied: decorator in c:\\users\\willy\\appdata\\roaming\\python\\python311\\site-packages (from ipython>=6.1.0->ipywidgets) (5.1.1)\n",
      "Requirement already satisfied: jedi>=0.16 in c:\\users\\willy\\appdata\\roaming\\python\\python311\\site-packages (from ipython>=6.1.0->ipywidgets) (0.18.2)\n",
      "Requirement already satisfied: pickleshare in c:\\users\\willy\\appdata\\roaming\\python\\python311\\site-packages (from ipython>=6.1.0->ipywidgets) (0.7.5)\n",
      "Requirement already satisfied: prompt-toolkit<3.1.0,>=3.0.11 in c:\\users\\willy\\appdata\\roaming\\python\\python311\\site-packages (from ipython>=6.1.0->ipywidgets) (3.0.36)\n",
      "Requirement already satisfied: pygments>=2.4.0 in c:\\users\\willy\\appdata\\roaming\\python\\python311\\site-packages (from ipython>=6.1.0->ipywidgets) (2.14.0)\n",
      "Requirement already satisfied: stack-data in c:\\users\\willy\\appdata\\roaming\\python\\python311\\site-packages (from ipython>=6.1.0->ipywidgets) (0.6.2)\n",
      "Requirement already satisfied: colorama in c:\\users\\willy\\appdata\\roaming\\python\\python311\\site-packages (from ipython>=6.1.0->ipywidgets) (0.4.6)\n",
      "Requirement already satisfied: parso<0.9.0,>=0.8.0 in c:\\users\\willy\\appdata\\roaming\\python\\python311\\site-packages (from jedi>=0.16->ipython>=6.1.0->ipywidgets) (0.8.3)\n",
      "Requirement already satisfied: entrypoints in c:\\users\\willy\\appdata\\roaming\\python\\python311\\site-packages (from jupyter-client>=6.1.12->ipykernel>=4.5.1->ipywidgets) (0.4)\n",
      "Requirement already satisfied: jupyter-core>=4.9.2 in c:\\users\\willy\\appdata\\roaming\\python\\python311\\site-packages (from jupyter-client>=6.1.12->ipykernel>=4.5.1->ipywidgets) (5.1.2)\n",
      "Requirement already satisfied: python-dateutil>=2.8.2 in c:\\users\\willy\\appdata\\roaming\\python\\python311\\site-packages (from jupyter-client>=6.1.12->ipykernel>=4.5.1->ipywidgets) (2.8.2)\n",
      "Requirement already satisfied: wcwidth in c:\\users\\willy\\appdata\\roaming\\python\\python311\\site-packages (from prompt-toolkit<3.1.0,>=3.0.11->ipython>=6.1.0->ipywidgets) (0.2.5)\n",
      "Requirement already satisfied: executing>=1.2.0 in c:\\users\\willy\\appdata\\roaming\\python\\python311\\site-packages (from stack-data->ipython>=6.1.0->ipywidgets) (1.2.0)\n",
      "Requirement already satisfied: asttokens>=2.1.0 in c:\\users\\willy\\appdata\\roaming\\python\\python311\\site-packages (from stack-data->ipython>=6.1.0->ipywidgets) (2.2.1)\n",
      "Requirement already satisfied: pure-eval in c:\\users\\willy\\appdata\\roaming\\python\\python311\\site-packages (from stack-data->ipython>=6.1.0->ipywidgets) (0.2.2)\n",
      "Requirement already satisfied: six in c:\\users\\willy\\appdata\\roaming\\python\\python311\\site-packages (from asttokens>=2.1.0->stack-data->ipython>=6.1.0->ipywidgets) (1.16.0)\n",
      "Requirement already satisfied: platformdirs>=2.5 in c:\\users\\willy\\appdata\\roaming\\python\\python311\\site-packages (from jupyter-core>=4.9.2->jupyter-client>=6.1.12->ipykernel>=4.5.1->ipywidgets) (2.6.2)\n",
      "Requirement already satisfied: pywin32>=1.0 in c:\\users\\willy\\appdata\\roaming\\python\\python311\\site-packages (from jupyter-core>=4.9.2->jupyter-client>=6.1.12->ipykernel>=4.5.1->ipywidgets) (305)\n",
      "Note: you may need to restart the kernel to use updated packages.\n"
     ]
    },
    {
     "name": "stderr",
     "output_type": "stream",
     "text": [
      "\n",
      "[notice] A new release of pip available: 22.3.1 -> 23.1.2\n",
      "[notice] To update, run: python.exe -m pip install --upgrade pip\n"
     ]
    }
   ],
   "source": [
    "%pip install ydata_profiling\n",
    "%pip install ipywidgets"
   ]
  },
  {
   "cell_type": "code",
   "execution_count": null,
   "metadata": {},
   "outputs": [],
   "source": [
    "import ydata_profiling\n",
    "from ydata_profiling import ProfileReport"
   ]
  },
  {
   "cell_type": "code",
   "execution_count": null,
   "metadata": {},
   "outputs": [
    {
     "name": "stderr",
     "output_type": "stream",
     "text": [
      "Summarize dataset: 100%|██████████| 45/45 [00:02<00:00, 20.32it/s, Completed]                               \n",
      "Generate report structure: 100%|██████████| 1/1 [00:01<00:00,  1.45s/it]\n",
      "Render widgets:   0%|          | 0/1 [00:00<?, ?it/s]"
     ]
    }
   ],
   "source": [
    "profile = ProfileReport(df, title = 'Bank Churn')\n",
    "profile.to_widgets()\n",
    "profile.to_notebook_iframe()"
   ]
  },
  {
   "cell_type": "code",
   "execution_count": null,
   "metadata": {},
   "outputs": [],
   "source": [
    "profile.to_file('churn_Profile.html')"
   ]
  },
  {
   "cell_type": "code",
   "execution_count": null,
   "metadata": {},
   "outputs": [],
   "source": [
    "#Definição do estilo dos gráficos\n",
    "#plt.style.use('seaborn-v0_8')\n",
    "#pio.templates"
   ]
  },
  {
   "cell_type": "code",
   "execution_count": null,
   "metadata": {},
   "outputs": [],
   "source": [
    "#Definição do template dos gráficos\n",
    "#pio.templates.default = 'seaborn'"
   ]
  },
  {
   "cell_type": "code",
   "execution_count": null,
   "metadata": {},
   "outputs": [],
   "source": [
    "#Criando a figura para plotagem dos gráficos\n",
    "fig = make_subplots(rows = 2, shared_xaxes = True, vertical_spacing = 0.05, row_heights = [0.6, 0.4])\n",
    "\n",
    "#Gráfico 1 - Histograma\n",
    "fig.add_trace(go.Histogram(x = df.ScoreCredito), row = 1, col = 1)\n",
    "\n",
    "#Gráfico 2 - Boxplot\n",
    "fig.add_trace(go.Box(x = df.ScoreCredito, name = '', orientation = 'h'), row = 2, col=1)\n",
    "\n",
    "#Alterações de layout    \n",
    "fig.update_layout(title = 'Score de Crédito', showlegend = False, title_font_size = 18)\n",
    "\n",
    "#Configuração do eixo X    \n",
    "fig.update_xaxes(range = [300, 900])\n",
    "\n",
    "#Mostrar o gráfico\n",
    "fig.show()"
   ]
  },
  {
   "cell_type": "code",
   "execution_count": null,
   "metadata": {},
   "outputs": [],
   "source": [
    "df.Idade.describe()"
   ]
  },
  {
   "cell_type": "code",
   "execution_count": null,
   "metadata": {},
   "outputs": [],
   "source": [
    "#Criando a figura para plotagem dos gráficos\n",
    "fig = make_subplots(rows = 2, shared_xaxes = True, vertical_spacing = 0.05, row_heights = [0.6, 0.4])\n",
    "\n",
    "#Gráfico 1 - Histograma\n",
    "fig.add_trace(go.Histogram(x = df.Idade), row = 1, col = 1)\n",
    "\n",
    "#Gráfico 2 - Boxplot\n",
    "fig.add_trace(go.Box(x = df.Idade, name = '', orientation = 'h'), row = 2, col=1)\n",
    "\n",
    "#Alterações de layout    \n",
    "fig.update_layout(title = 'Idade', showlegend = False, title_font_size = 18)\n",
    "\n",
    "#Configuração do eixo X    \n",
    "fig.update_xaxes(range = [0, 100])\n",
    "\n",
    "#Mostrar o gráfico\n",
    "fig.show()"
   ]
  },
  {
   "cell_type": "code",
   "execution_count": null,
   "metadata": {},
   "outputs": [],
   "source": [
    "df.TempoFidelidade.describe()"
   ]
  },
  {
   "cell_type": "code",
   "execution_count": null,
   "metadata": {},
   "outputs": [],
   "source": [
    "#Criando a figura para plotagem dos gráficos\n",
    "fig = make_subplots(rows = 2, shared_xaxes = True, vertical_spacing = 0.05, row_heights = [0.6, 0.4])\n",
    "\n",
    "#Gráfico 1 - Histograma\n",
    "fig.add_trace(go.Histogram(x = df.TempoFidelidade), row = 1, col = 1)\n",
    "\n",
    "#Gráfico 2 - Boxplot\n",
    "fig.add_trace(go.Box(x = df.TempoFidelidade, name = '', orientation = 'h'), row = 2, col=1)\n",
    "\n",
    "#Alterações de layout    \n",
    "fig.update_layout(title = 'Tempo de fidelidade (em anos)', showlegend = False, title_font_size = 18)\n",
    "\n",
    "#Configuração do eixo X    \n",
    "fig.update_xaxes(range = [-5, 15])\n",
    "\n",
    "#Mostrar o gráfico\n",
    "fig.show()"
   ]
  },
  {
   "cell_type": "code",
   "execution_count": null,
   "metadata": {},
   "outputs": [],
   "source": [
    "df.Saldo.describe()"
   ]
  },
  {
   "cell_type": "code",
   "execution_count": null,
   "metadata": {},
   "outputs": [],
   "source": [
    "#Criando a figura para plotagem dos gráficos\n",
    "fig = make_subplots(rows = 2, shared_xaxes = True, vertical_spacing = 0.05, row_heights = [0.6, 0.4])\n",
    "\n",
    "#Gráfico 1 - Histograma\n",
    "fig.add_trace(go.Histogram(x = df.Saldo), row = 1, col = 1)\n",
    "\n",
    "#Gráfico 2 - Boxplot\n",
    "fig.add_trace(go.Box(x = df.Saldo, name = '', orientation = 'h'), row = 2, col=1)\n",
    "\n",
    "#Alterações de layout    \n",
    "fig.update_layout(title = 'Saldo', showlegend = False, title_font_size = 18)\n",
    "\n",
    "#Configuração do eixo X    \n",
    "fig.update_xaxes(range = [-10000, 300000])\n",
    "\n",
    "#Mostrar o gráfico\n",
    "fig.show()"
   ]
  },
  {
   "cell_type": "code",
   "execution_count": null,
   "metadata": {},
   "outputs": [],
   "source": [
    "df_numericas"
   ]
  },
  {
   "cell_type": "code",
   "execution_count": null,
   "metadata": {},
   "outputs": [],
   "source": [
    "df.QtdProdutos.describe()"
   ]
  },
  {
   "cell_type": "code",
   "execution_count": null,
   "metadata": {},
   "outputs": [],
   "source": [
    "#Criando a figura para plotagem dos gráficos\n",
    "fig = make_subplots(rows = 2, shared_xaxes = True, vertical_spacing = 0.05, row_heights = [0.6, 0.4])\n",
    "\n",
    "#Gráfico 1 - Histograma\n",
    "fig.add_trace(go.Histogram(x = df.QtdProdutos), row = 1, col = 1)\n",
    "\n",
    "#Gráfico 2 - Boxplot\n",
    "fig.add_trace(go.Box(x = df.QtdProdutos, name = '', orientation = 'h'), row = 2, col=1)\n",
    "\n",
    "#Alterações de layout    \n",
    "fig.update_layout(title = 'Quantidade de Produtos', showlegend = False, title_font_size = 18)\n",
    "\n",
    "#Configuração do eixo X    \n",
    "fig.update_xaxes(range = [0, 5])\n",
    "\n",
    "#Mostrar o gráfico\n",
    "fig.show()"
   ]
  },
  {
   "cell_type": "code",
   "execution_count": null,
   "metadata": {},
   "outputs": [],
   "source": [
    "#Definições dos quartis, mediana e limites e contabilização de outliers\n",
    "q1_ScoreCredito = np.nanpercentile(df.ScoreCredito, 25)\n",
    "q3_ScoreCredito = np.nanpercentile(df.ScoreCredito, 75)\n",
    "media_ScoreCredito = np.mean(df.ScoreCredito)\n",
    "iqr_ScoreCredito = q3_ScoreCredito - q1_ScoreCredito\n",
    "lower_f_ScoreCredito = q1_ScoreCredito - (1.5 * iqr_ScoreCredito)\n",
    "upper_f_ScoreCredito = q3_ScoreCredito + (1.5 * iqr_ScoreCredito)\n",
    "\n",
    "#Quantidade de outliers\n",
    "ScoreCredito_outlier = []\n",
    "for num in df.ScoreCredito:\n",
    "    if num < lower_f_ScoreCredito:\n",
    "        ScoreCredito_outlier.append(num)\n",
    "    if num > upper_f_ScoreCredito:\n",
    "        ScoreCredito_outlier.append(num)\n",
    "\n",
    "#Quantidade de não outliers\n",
    "ScoreCredito_non_outlier = []\n",
    "for num in df.ScoreCredito:\n",
    "    if num >= lower_f_ScoreCredito:\n",
    "        ScoreCredito_non_outlier.append(num)\n",
    "    if num <= upper_f_ScoreCredito:\n",
    "        ScoreCredito_non_outlier.append(num)"
   ]
  },
  {
   "cell_type": "code",
   "execution_count": null,
   "metadata": {},
   "outputs": [],
   "source": [
    "print('---Score de Crédito---')\n",
    "print('Q1:', q1_ScoreCredito)\n",
    "print('Q3:', q3_ScoreCredito)\n",
    "print('Intervalo Interquartil (IQR):', iqr_ScoreCredito)\n",
    "print('Média:', media_ScoreCredito)\n",
    "print('Lower Fence:', lower_f_ScoreCredito)\n",
    "print('Upper Fence:', upper_f_ScoreCredito)\n",
    "print('Soma de valores únicos:', len(ScoreCredito_outlier))\n",
    "print('Menor valor:', np.min(ScoreCredito_non_outlier))\n",
    "print('Maior valor:', np.max(ScoreCredito_non_outlier))\n",
    "print('Outliers:', len(ScoreCredito_outlier))\n",
    "print('Não outliers:', len(ScoreCredito_non_outlier))"
   ]
  },
  {
   "cell_type": "code",
   "execution_count": null,
   "metadata": {},
   "outputs": [],
   "source": [
    "#Criando figura para inserção de dois gráficos\n",
    "fig, ax = plt.subplots(2, 1, gridspec_kw={'height_ratios': [5,1]}, sharex=True)\n",
    "#Histograma\n",
    "sns.histplot(x = df.ScoreCredito, kde=True, ax=ax[0])\n",
    "ax[0].axvline(x = q1_ScoreCredito, linestyle='-', linewidth=1.5, color='black')\n",
    "ax[0].axvline(x = q3_ScoreCredito, linestyle='-', linewidth=1.5, color='black')\n",
    "ax[0].axvline(x = np.nanpercentile(df.ScoreCredito, 50), linestyle='-', linewidth=1.5, color='black')\n",
    "ax[0].axvline(x = np.mean(df.ScoreCredito), linestyle=':', linewidth=2, color='red')\n",
    "#Boxplot\n",
    "sns.boxplot(x = df.ScoreCredito, ax=ax[1])"
   ]
  },
  {
   "cell_type": "code",
   "execution_count": null,
   "metadata": {},
   "outputs": [],
   "source": [
    "def outlier(x):\n",
    "    q1 = np.nanpercentile(x, 25)\n",
    "    q3 = np.nanpercentile(x, 75)\n",
    "    iqr = q3 - q1\n",
    "    lower_fence = q1 - (1.5 * iqr)\n",
    "    upper_fence = q3 + (1.5 * iqr)\n",
    "    \n",
    "    outlier = []\n",
    "    for num in x:\n",
    "        if num < lower_fence:\n",
    "            outlier.append(num)\n",
    "        if num > upper_fence:\n",
    "            outlier.append(num)\n",
    "            \n",
    "    non_outlier = []\n",
    "    for num in x:\n",
    "        if num >= lower_fence:\n",
    "            non_outlier.append(num)\n",
    "        if num <= upper_fence:\n",
    "            non_outlier.append(num)\n",
    "    \n",
    "    print(f'sum of unique value : {len(outlier)}' )\n",
    "    print(f'lower_value: {np.min(non_outlier)}')\n",
    "    print(f'upper_vaue: {np.max(non_outlier)}')"
   ]
  },
  {
   "cell_type": "code",
   "execution_count": null,
   "metadata": {},
   "outputs": [],
   "source": [
    "norm_data = []\n",
    "for y,x in enumerate(df_numericas,1):\n",
    "    print(f'{y}. {x}')\n",
    "    fig, ax = plt.subplots(2,1, sharex=True, gridspec_kw={'height_ratios':[5,1]})\n",
    "    sns.histplot(data=df, x=x, kde=True, ax=ax[0])\n",
    "    ax[0].axvline(np.nanpercentile(df[x], 25), c='red',linestyle='--')\n",
    "    ax[0].axvline(np.nanpercentile(df[x], 50), c='red',linestyle='--')\n",
    "    ax[0].axvline(np.nanpercentile(df[x], 75), c='red',linestyle='--')\n",
    "    ax[0].axvline(np.mean(df[x]), c='blue',linestyle='--')\n",
    "    \n",
    "    sns.boxplot(data=df, x=x, ax=ax[1])\n",
    "    ax[1].set_xlabel(f'{x}')\n",
    "    plt.show()\n",
    "    print(' ')\n",
    "    df[x].describe()\n",
    "    print(' ')\n",
    "    outlier(df[x])\n",
    "    print(' ')\n",
    "    sk, pval = st.skewtest(df[x])\n",
    "    if pval < 0.05:\n",
    "        print(f'Data skewed with skew is {sk}')\n",
    "    else:\n",
    "        print(f'Data not skewed')\n",
    "    print(' ')\n",
    "    norm, pval = st.normaltest(df[x])\n",
    "    if pval < 0.05:\n",
    "        print(f'Data not normal')\n",
    "    else:\n",
    "        print(f'Data normal')\n",
    "        norm_data.append(x)\n",
    "    print('-'*50)\n",
    "    print(' ')"
   ]
  }
 ],
 "metadata": {
  "kernelspec": {
   "display_name": "Python 3",
   "language": "python",
   "name": "python3"
  },
  "language_info": {
   "codemirror_mode": {
    "name": "ipython",
    "version": 3
   },
   "file_extension": ".py",
   "mimetype": "text/x-python",
   "name": "python",
   "nbconvert_exporter": "python",
   "pygments_lexer": "ipython3",
   "version": "3.11.1"
  },
  "orig_nbformat": 4
 },
 "nbformat": 4,
 "nbformat_minor": 2
}
