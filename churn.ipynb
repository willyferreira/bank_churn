{
 "cells": [
  {
   "attachments": {},
   "cell_type": "markdown",
   "metadata": {},
   "source": [
    "<h3>Churn de Clientes - Bank Dataset</h3>"
   ]
  },
  {
   "cell_type": "code",
   "execution_count": 2,
   "metadata": {},
   "outputs": [],
   "source": [
    "#Link do dataset - https://www.kaggle.com/datasets/mathchi/churn-for-bank-customers\n",
    "\n",
    "#Descrição das variáveis\n",
    "#RowNumber - Número da linha do dataset\n",
    "#CustomerId - Número randômico e único que identifica o cliente\n",
    "#Surname - Sobrenome do cliente\n",
    "#CreditScore - Pontuação de crédito atribuida ao cliente\n",
    "#Geography - Localização do cliente\n",
    "#Gender - Gênero do cliente\n",
    "#Age - Idade do cliente\n",
    "#Tenure - Fidelidade do cliente | Quantidade de anos que o cliente está na instituição\n",
    "#Balance - Saldo do cliente\n",
    "#NumOfProducts - Quantidade de produtos que o cliente comprou no banco\n",
    "#HasCrCard - Se o cliente possui ou não cartão de crédito sendo 1|Sim e 0|Não\n",
    "#IsActiveMember - Se o cliente é ativo ou não no banco\n",
    "#EstimatedSalary - Renda do cliente\n",
    "#Exited - Se o cliente deixou ou não a instituição sendo 1|Sim e 0|Não  \n"
   ]
  },
  {
   "attachments": {},
   "cell_type": "markdown",
   "metadata": {},
   "source": [
    "<h5>1. Importação dos pacotes </h5>"
   ]
  },
  {
   "cell_type": "code",
   "execution_count": null,
   "metadata": {},
   "outputs": [],
   "source": [
    "#Manipulação de dados\n",
    "import pandas as pd\n",
    "import numpy as np\n",
    "import scipy.stats as st\n",
    "\n",
    "#DataViz\n",
    "import matplotlib.pyplot as plt\n",
    "import seaborn as sns\n",
    "\n",
    "#Machine Learning\n"
   ]
  },
  {
   "attachments": {},
   "cell_type": "markdown",
   "metadata": {},
   "source": [
    "<h5>2. Leitura do dataset </h5>"
   ]
  },
  {
   "cell_type": "code",
   "execution_count": null,
   "metadata": {},
   "outputs": [],
   "source": [
    "df"
   ]
  }
 ],
 "metadata": {
  "kernelspec": {
   "display_name": "Python 3",
   "language": "python",
   "name": "python3"
  },
  "language_info": {
   "codemirror_mode": {
    "name": "ipython",
    "version": 3
   },
   "file_extension": ".py",
   "mimetype": "text/x-python",
   "name": "python",
   "nbconvert_exporter": "python",
   "pygments_lexer": "ipython3",
   "version": "3.11.1"
  },
  "orig_nbformat": 4
 },
 "nbformat": 4,
 "nbformat_minor": 2
}
