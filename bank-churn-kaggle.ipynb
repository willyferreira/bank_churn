{
 "cells": [
  {
   "cell_type": "markdown",
   "id": "3de57741",
   "metadata": {
    "_cell_guid": "8a4e5422-1f69-4f4d-9a60-74ee97ea6885",
    "_uuid": "1507fc2e-9ef7-4fcd-b9a0-46611cb401ca",
    "papermill": {
     "duration": 0.009245,
     "end_time": "2023-05-25T04:10:25.403353",
     "exception": false,
     "start_time": "2023-05-25T04:10:25.394108",
     "status": "completed"
    },
    "tags": []
   },
   "source": [
    "### 1. Importação das bibliotecas"
   ]
  },
  {
   "cell_type": "code",
   "execution_count": 2,
   "id": "2b2ca38d",
   "metadata": {
    "_cell_guid": "0b8ce73f-59e7-4b5f-b04b-85d2da6e81a9",
    "_uuid": "6ff0cc42-9c69-426a-8a36-04f53443ccde",
    "collapsed": true,
    "execution": {
     "iopub.execute_input": "2023-05-25T04:10:25.423645Z",
     "iopub.status.busy": "2023-05-25T04:10:25.423105Z",
     "iopub.status.idle": "2023-05-25T04:10:26.853774Z",
     "shell.execute_reply": "2023-05-25T04:10:26.852517Z"
    },
    "jupyter": {
     "outputs_hidden": true
    },
    "papermill": {
     "duration": 1.444821,
     "end_time": "2023-05-25T04:10:26.856968",
     "exception": false,
     "start_time": "2023-05-25T04:10:25.412147",
     "status": "completed"
    },
    "tags": []
   },
   "outputs": [
    {
     "ename": "ModuleNotFoundError",
     "evalue": "No module named 'numpy'",
     "output_type": "error",
     "traceback": [
      "\u001b[1;31m---------------------------------------------------------------------------\u001b[0m",
      "\u001b[1;31mModuleNotFoundError\u001b[0m                       Traceback (most recent call last)",
      "Cell \u001b[1;32mIn[2], line 2\u001b[0m\n\u001b[0;32m      1\u001b[0m \u001b[38;5;66;03m# Manipulação dos dados\u001b[39;00m\n\u001b[1;32m----> 2\u001b[0m \u001b[38;5;28;01mimport\u001b[39;00m \u001b[38;5;21;01mnumpy\u001b[39;00m \u001b[38;5;28;01mas\u001b[39;00m \u001b[38;5;21;01mnp\u001b[39;00m \n\u001b[0;32m      3\u001b[0m \u001b[38;5;28;01mimport\u001b[39;00m \u001b[38;5;21;01mpandas\u001b[39;00m \u001b[38;5;28;01mas\u001b[39;00m \u001b[38;5;21;01mpd\u001b[39;00m \n\u001b[0;32m      4\u001b[0m \u001b[38;5;28;01mimport\u001b[39;00m \u001b[38;5;21;01mscipy\u001b[39;00m \u001b[38;5;28;01mas\u001b[39;00m \u001b[38;5;21;01msp\u001b[39;00m\n",
      "\u001b[1;31mModuleNotFoundError\u001b[0m: No module named 'numpy'"
     ]
    }
   ],
   "source": [
    "# Manipulação dos dados\n",
    "import numpy as np \n",
    "import pandas as pd \n",
    "import scipy as sp\n",
    "import scipy.stats as st\n",
    "# DataViz\n",
    "import matplotlib.pyplot as plt\n",
    "import seaborn as sns\n",
    "#import seaborn.objects as so"
   ]
  },
  {
   "cell_type": "code",
   "execution_count": null,
   "id": "4105976a",
   "metadata": {
    "_cell_guid": "40a86ce5-6cea-4ea2-b6a5-ed83482e0130",
    "_uuid": "2abcfca1-8c9e-4e31-88bc-97481f681ef3",
    "collapsed": true,
    "execution": {
     "iopub.execute_input": "2023-05-25T04:10:26.877031Z",
     "iopub.status.busy": "2023-05-25T04:10:26.876564Z",
     "iopub.status.idle": "2023-05-25T04:10:26.889757Z",
     "shell.execute_reply": "2023-05-25T04:10:26.888582Z"
    },
    "jupyter": {
     "outputs_hidden": true
    },
    "papermill": {
     "duration": 0.026292,
     "end_time": "2023-05-25T04:10:26.892408",
     "exception": false,
     "start_time": "2023-05-25T04:10:26.866116",
     "status": "completed"
    },
    "tags": []
   },
   "outputs": [],
   "source": [
    "# Configuração de importação do dataset\n",
    "import os\n",
    "for dirname, _, filenames in os.walk('/kaggle/input'):\n",
    "    for filename in filenames:\n",
    "        print(os.path.join(dirname, filename))"
   ]
  },
  {
   "cell_type": "markdown",
   "id": "908d6cc5",
   "metadata": {
    "_cell_guid": "b04c4142-00cb-4770-bd31-7827c7bc4a30",
    "_uuid": "00d1ba91-5b77-482c-8cdf-c11842baa77d",
    "papermill": {
     "duration": 0.00856,
     "end_time": "2023-05-25T04:10:26.909852",
     "exception": false,
     "start_time": "2023-05-25T04:10:26.901292",
     "status": "completed"
    },
    "tags": []
   },
   "source": [
    "### 2. Importação do dataset e manipulação dos dados"
   ]
  },
  {
   "cell_type": "code",
   "execution_count": null,
   "id": "f81f7cc1",
   "metadata": {
    "_cell_guid": "d7f98feb-0947-474e-8c2c-e517227e47df",
    "_uuid": "a295791a-302d-4131-9587-40763c0daa7d",
    "collapsed": false,
    "execution": {
     "iopub.execute_input": "2023-05-25T04:10:26.930477Z",
     "iopub.status.busy": "2023-05-25T04:10:26.929687Z",
     "iopub.status.idle": "2023-05-25T04:10:27.026171Z",
     "shell.execute_reply": "2023-05-25T04:10:27.024991Z"
    },
    "jupyter": {
     "outputs_hidden": false
    },
    "papermill": {
     "duration": 0.110102,
     "end_time": "2023-05-25T04:10:27.028838",
     "exception": false,
     "start_time": "2023-05-25T04:10:26.918736",
     "status": "completed"
    },
    "tags": []
   },
   "outputs": [],
   "source": [
    "# Importação do dataset\n",
    "df = pd.read_csv('/kaggle/input/churn-for-bank-customers/churn.csv')\n",
    "# Mostrar primeiros registros\n",
    "df.head()"
   ]
  },
  {
   "cell_type": "code",
   "execution_count": null,
   "id": "2580888d",
   "metadata": {
    "_cell_guid": "676377ad-79ac-4faf-b970-c4bcfbf3e099",
    "_uuid": "61a0a2a3-16dd-493d-962a-4e2aff489c87",
    "collapsed": false,
    "execution": {
     "iopub.execute_input": "2023-05-25T04:10:27.049042Z",
     "iopub.status.busy": "2023-05-25T04:10:27.048577Z",
     "iopub.status.idle": "2023-05-25T04:10:27.071609Z",
     "shell.execute_reply": "2023-05-25T04:10:27.070730Z"
    },
    "jupyter": {
     "outputs_hidden": false
    },
    "papermill": {
     "duration": 0.036314,
     "end_time": "2023-05-25T04:10:27.074412",
     "exception": false,
     "start_time": "2023-05-25T04:10:27.038098",
     "status": "completed"
    },
    "tags": []
   },
   "outputs": [],
   "source": [
    "# Exclusão das colunas não utilizadas\n",
    "df.drop(columns = {'RowNumber', 'CustomerId', 'Surname'}, inplace = True)\n",
    "df.head()"
   ]
  },
  {
   "cell_type": "code",
   "execution_count": null,
   "id": "66a250de",
   "metadata": {
    "execution": {
     "iopub.execute_input": "2023-05-25T04:10:27.095707Z",
     "iopub.status.busy": "2023-05-25T04:10:27.094963Z",
     "iopub.status.idle": "2023-05-25T04:10:27.113917Z",
     "shell.execute_reply": "2023-05-25T04:10:27.112775Z"
    },
    "papermill": {
     "duration": 0.032647,
     "end_time": "2023-05-25T04:10:27.116494",
     "exception": false,
     "start_time": "2023-05-25T04:10:27.083847",
     "status": "completed"
    },
    "tags": []
   },
   "outputs": [],
   "source": [
    "#Criar lista com nome das novas variáveis\n",
    "novas_colunas = {\n",
    "    'CreditScore': 'Score',\n",
    "    'Geography': 'Pais',\n",
    "    'Gender': 'Genero',\n",
    "    'Age': 'Idade',\n",
    "    'Tenure': 'Fidelidade',\n",
    "    'Balance': 'Saldo',\n",
    "    'NumOfProducts': 'QtdProdutos',\n",
    "    'HasCrCard': 'TemCartao',\n",
    "    'IsActiveMember': 'ClienteAtivo',\n",
    "    'EstimatedSalary': 'Renda',\n",
    "    'Exited': 'Churn'\n",
    "    }\n",
    "#renomeando as variáveis\n",
    "df.rename(columns = novas_colunas, inplace = True)\n",
    "#\n",
    "del(novas_colunas)\n",
    "#\n",
    "df.head()"
   ]
  },
  {
   "cell_type": "markdown",
   "id": "e1de4d29",
   "metadata": {
    "papermill": {
     "duration": 0.01003,
     "end_time": "2023-05-25T04:10:27.136233",
     "exception": false,
     "start_time": "2023-05-25T04:10:27.126203",
     "status": "completed"
    },
    "tags": []
   },
   "source": [
    "### 3. EDA - Análise Exploratória"
   ]
  },
  {
   "cell_type": "code",
   "execution_count": null,
   "id": "89bd03c9",
   "metadata": {
    "execution": {
     "iopub.execute_input": "2023-05-25T04:10:27.157999Z",
     "iopub.status.busy": "2023-05-25T04:10:27.157528Z",
     "iopub.status.idle": "2023-05-25T04:10:27.187658Z",
     "shell.execute_reply": "2023-05-25T04:10:27.186477Z"
    },
    "papermill": {
     "duration": 0.0445,
     "end_time": "2023-05-25T04:10:27.190683",
     "exception": false,
     "start_time": "2023-05-25T04:10:27.146183",
     "status": "completed"
    },
    "tags": []
   },
   "outputs": [],
   "source": [
    "#Informações sobre missing values e tipo das variáveis\n",
    "df.info()"
   ]
  },
  {
   "cell_type": "code",
   "execution_count": null,
   "id": "3f00c0c1",
   "metadata": {
    "execution": {
     "iopub.execute_input": "2023-05-25T04:10:27.212901Z",
     "iopub.status.busy": "2023-05-25T04:10:27.212058Z",
     "iopub.status.idle": "2023-05-25T04:10:27.219888Z",
     "shell.execute_reply": "2023-05-25T04:10:27.218742Z"
    },
    "papermill": {
     "duration": 0.021799,
     "end_time": "2023-05-25T04:10:27.222364",
     "exception": false,
     "start_time": "2023-05-25T04:10:27.200565",
     "status": "completed"
    },
    "tags": []
   },
   "outputs": [],
   "source": [
    "#Criar lista com o nome das colunas (variáveis)\n",
    "variaveis = df.columns.to_list()\n",
    "variaveis"
   ]
  },
  {
   "cell_type": "code",
   "execution_count": null,
   "id": "8bbf9bd3",
   "metadata": {
    "execution": {
     "iopub.execute_input": "2023-05-25T04:10:27.244819Z",
     "iopub.status.busy": "2023-05-25T04:10:27.243928Z",
     "iopub.status.idle": "2023-05-25T04:10:27.261195Z",
     "shell.execute_reply": "2023-05-25T04:10:27.259834Z"
    },
    "papermill": {
     "duration": 0.031484,
     "end_time": "2023-05-25T04:10:27.263798",
     "exception": false,
     "start_time": "2023-05-25T04:10:27.232314",
     "status": "completed"
    },
    "tags": []
   },
   "outputs": [],
   "source": [
    "#Mostrar a quantidade de registros em cada variável\n",
    "df[variaveis].nunique()"
   ]
  },
  {
   "cell_type": "code",
   "execution_count": null,
   "id": "4aa198bb",
   "metadata": {
    "execution": {
     "iopub.execute_input": "2023-05-25T04:10:27.286915Z",
     "iopub.status.busy": "2023-05-25T04:10:27.286258Z",
     "iopub.status.idle": "2023-05-25T04:10:27.294186Z",
     "shell.execute_reply": "2023-05-25T04:10:27.293098Z"
    },
    "papermill": {
     "duration": 0.022474,
     "end_time": "2023-05-25T04:10:27.296472",
     "exception": false,
     "start_time": "2023-05-25T04:10:27.273998",
     "status": "completed"
    },
    "tags": []
   },
   "outputs": [],
   "source": [
    "# Listar variáveis quantitativa contínuas\n",
    "var_quantitativas_continuas = [\n",
    "    variavel for variavel in df.columns\n",
    "        if df[variavel].dtype == 'float64' and variavel not in 'Churn']\n",
    "var_quantitativas_continuas"
   ]
  },
  {
   "cell_type": "code",
   "execution_count": null,
   "id": "5db8d023",
   "metadata": {
    "execution": {
     "iopub.execute_input": "2023-05-25T04:10:27.318993Z",
     "iopub.status.busy": "2023-05-25T04:10:27.318555Z",
     "iopub.status.idle": "2023-05-25T04:10:27.345308Z",
     "shell.execute_reply": "2023-05-25T04:10:27.343911Z"
    },
    "papermill": {
     "duration": 0.04139,
     "end_time": "2023-05-25T04:10:27.348049",
     "exception": false,
     "start_time": "2023-05-25T04:10:27.306659",
     "status": "completed"
    },
    "tags": []
   },
   "outputs": [],
   "source": [
    "# Mostrar informaçõs estatísticas das variáveis quantitativas contínuas\n",
    "df[var_quantitativas_continuas].describe().T"
   ]
  },
  {
   "cell_type": "code",
   "execution_count": null,
   "id": "bb13cc9f",
   "metadata": {
    "execution": {
     "iopub.execute_input": "2023-05-25T04:10:27.371384Z",
     "iopub.status.busy": "2023-05-25T04:10:27.370653Z",
     "iopub.status.idle": "2023-05-25T04:10:27.380723Z",
     "shell.execute_reply": "2023-05-25T04:10:27.379587Z"
    },
    "papermill": {
     "duration": 0.024645,
     "end_time": "2023-05-25T04:10:27.383369",
     "exception": false,
     "start_time": "2023-05-25T04:10:27.358724",
     "status": "completed"
    },
    "tags": []
   },
   "outputs": [],
   "source": [
    "# Listar variáveis quantitativa discretas\n",
    "var_quantitativas_discretas = [\n",
    "    variavel for variavel in df.columns\n",
    "        if df[variavel].dtype == 'int64' and df[variavel].nunique() > 2 and variavel not in 'Churn']\n",
    "var_quantitativas_discretas"
   ]
  },
  {
   "cell_type": "code",
   "execution_count": null,
   "id": "2b49b8ab",
   "metadata": {
    "execution": {
     "iopub.execute_input": "2023-05-25T04:10:27.407591Z",
     "iopub.status.busy": "2023-05-25T04:10:27.407131Z",
     "iopub.status.idle": "2023-05-25T04:10:27.440529Z",
     "shell.execute_reply": "2023-05-25T04:10:27.439317Z"
    },
    "papermill": {
     "duration": 0.049093,
     "end_time": "2023-05-25T04:10:27.443292",
     "exception": false,
     "start_time": "2023-05-25T04:10:27.394199",
     "status": "completed"
    },
    "tags": []
   },
   "outputs": [],
   "source": [
    "# Mostrar informaçõs estatísticas das variáveis quantitativas discretas\n",
    "df[var_quantitativas_discretas].describe().T"
   ]
  },
  {
   "cell_type": "code",
   "execution_count": null,
   "id": "f6216682",
   "metadata": {
    "execution": {
     "iopub.execute_input": "2023-05-25T04:10:27.467653Z",
     "iopub.status.busy": "2023-05-25T04:10:27.467269Z",
     "iopub.status.idle": "2023-05-25T04:10:27.475370Z",
     "shell.execute_reply": "2023-05-25T04:10:27.474189Z"
    },
    "papermill": {
     "duration": 0.02339,
     "end_time": "2023-05-25T04:10:27.478064",
     "exception": false,
     "start_time": "2023-05-25T04:10:27.454674",
     "status": "completed"
    },
    "tags": []
   },
   "outputs": [],
   "source": [
    "# Listar variáveis qualitativas nominais\n",
    "var_qualitativas_nominais = [\n",
    "    variavel for variavel in df.columns\n",
    "        if df[variavel].dtype == 'object' and variavel not in 'Churn']\n",
    "var_qualitativas_nominais"
   ]
  },
  {
   "cell_type": "code",
   "execution_count": null,
   "id": "c89b90eb",
   "metadata": {
    "execution": {
     "iopub.execute_input": "2023-05-25T04:10:27.502848Z",
     "iopub.status.busy": "2023-05-25T04:10:27.502445Z",
     "iopub.status.idle": "2023-05-25T04:10:27.525517Z",
     "shell.execute_reply": "2023-05-25T04:10:27.524248Z"
    },
    "papermill": {
     "duration": 0.038391,
     "end_time": "2023-05-25T04:10:27.528019",
     "exception": false,
     "start_time": "2023-05-25T04:10:27.489628",
     "status": "completed"
    },
    "tags": []
   },
   "outputs": [],
   "source": [
    "# Mostrar informaçõs estatísticas das variáveis qualitativas nominais\n",
    "df[var_qualitativas_nominais].describe().T"
   ]
  },
  {
   "cell_type": "code",
   "execution_count": null,
   "id": "b823bccb",
   "metadata": {
    "execution": {
     "iopub.execute_input": "2023-05-25T04:10:27.552576Z",
     "iopub.status.busy": "2023-05-25T04:10:27.552138Z",
     "iopub.status.idle": "2023-05-25T04:10:27.562659Z",
     "shell.execute_reply": "2023-05-25T04:10:27.561377Z"
    },
    "papermill": {
     "duration": 0.025828,
     "end_time": "2023-05-25T04:10:27.565136",
     "exception": false,
     "start_time": "2023-05-25T04:10:27.539308",
     "status": "completed"
    },
    "tags": []
   },
   "outputs": [],
   "source": [
    "#Alterando o conteúdo das variáveis categóricas\n",
    "#* Localização\n",
    "df['Pais'].value_counts()"
   ]
  },
  {
   "cell_type": "code",
   "execution_count": null,
   "id": "e48cfcb3",
   "metadata": {
    "execution": {
     "iopub.execute_input": "2023-05-25T04:10:27.590590Z",
     "iopub.status.busy": "2023-05-25T04:10:27.590152Z",
     "iopub.status.idle": "2023-05-25T04:10:27.604093Z",
     "shell.execute_reply": "2023-05-25T04:10:27.603130Z"
    },
    "papermill": {
     "duration": 0.029552,
     "end_time": "2023-05-25T04:10:27.606606",
     "exception": false,
     "start_time": "2023-05-25T04:10:27.577054",
     "status": "completed"
    },
    "tags": []
   },
   "outputs": [],
   "source": [
    "#Alterando os valores da variável #Localização\n",
    "df['Pais'].replace({\n",
    "    'France' : 'França',\n",
    "    'Germany' : 'Alemanha',\n",
    "    'Spain' : 'Espanha'\n",
    "}, inplace = True)\n",
    "#\n",
    "df['Pais'].unique()"
   ]
  },
  {
   "cell_type": "code",
   "execution_count": null,
   "id": "b238305f",
   "metadata": {
    "execution": {
     "iopub.execute_input": "2023-05-25T04:10:27.631952Z",
     "iopub.status.busy": "2023-05-25T04:10:27.631434Z",
     "iopub.status.idle": "2023-05-25T04:10:27.642437Z",
     "shell.execute_reply": "2023-05-25T04:10:27.641270Z"
    },
    "papermill": {
     "duration": 0.02669,
     "end_time": "2023-05-25T04:10:27.645173",
     "exception": false,
     "start_time": "2023-05-25T04:10:27.618483",
     "status": "completed"
    },
    "tags": []
   },
   "outputs": [],
   "source": [
    "#Alterando o conteúdo das variáveis categóricas\n",
    "#* Gênero\n",
    "df['Genero'].value_counts()"
   ]
  },
  {
   "cell_type": "code",
   "execution_count": null,
   "id": "f1f863b1",
   "metadata": {
    "execution": {
     "iopub.execute_input": "2023-05-25T04:10:27.670917Z",
     "iopub.status.busy": "2023-05-25T04:10:27.670470Z",
     "iopub.status.idle": "2023-05-25T04:10:27.683314Z",
     "shell.execute_reply": "2023-05-25T04:10:27.682203Z"
    },
    "papermill": {
     "duration": 0.02889,
     "end_time": "2023-05-25T04:10:27.685985",
     "exception": false,
     "start_time": "2023-05-25T04:10:27.657095",
     "status": "completed"
    },
    "tags": []
   },
   "outputs": [],
   "source": [
    "#Alterando os valores da variável #Localização\n",
    "#* Gênero\n",
    "df['Genero'].replace({\n",
    "    'Male' : 'Masculino',\n",
    "    'Female' : 'Feminino'\n",
    "}, inplace = True)\n",
    "#\n",
    "df['Genero'].unique()"
   ]
  },
  {
   "cell_type": "code",
   "execution_count": null,
   "id": "e76be8f4",
   "metadata": {
    "execution": {
     "iopub.execute_input": "2023-05-25T04:10:27.711970Z",
     "iopub.status.busy": "2023-05-25T04:10:27.711543Z",
     "iopub.status.idle": "2023-05-25T04:10:27.721352Z",
     "shell.execute_reply": "2023-05-25T04:10:27.720219Z"
    },
    "papermill": {
     "duration": 0.026051,
     "end_time": "2023-05-25T04:10:27.724012",
     "exception": false,
     "start_time": "2023-05-25T04:10:27.697961",
     "status": "completed"
    },
    "tags": []
   },
   "outputs": [],
   "source": [
    "# Listar variáveis qualitativas ordinais\n",
    "var_qualitativas_ordinais = [\n",
    "    variavel for variavel in df.columns\n",
    "        if df[variavel].dtype == 'int64' and df[variavel].nunique() == 2 and variavel not in 'Churn']\n",
    "var_qualitativas_ordinais"
   ]
  },
  {
   "cell_type": "markdown",
   "id": "119f6e7c",
   "metadata": {
    "papermill": {
     "duration": 0.011865,
     "end_time": "2023-05-25T04:10:27.748165",
     "exception": false,
     "start_time": "2023-05-25T04:10:27.736300",
     "status": "completed"
    },
    "tags": []
   },
   "source": [
    "#### 3.1. Análise univariada"
   ]
  },
  {
   "cell_type": "code",
   "execution_count": null,
   "id": "f5efd5e1",
   "metadata": {
    "execution": {
     "iopub.execute_input": "2023-05-25T04:10:27.774208Z",
     "iopub.status.busy": "2023-05-25T04:10:27.773778Z",
     "iopub.status.idle": "2023-05-25T04:10:27.780866Z",
     "shell.execute_reply": "2023-05-25T04:10:27.779697Z"
    },
    "papermill": {
     "duration": 0.023195,
     "end_time": "2023-05-25T04:10:27.783326",
     "exception": false,
     "start_time": "2023-05-25T04:10:27.760131",
     "status": "completed"
    },
    "tags": []
   },
   "outputs": [],
   "source": [
    "# Definição do Tema do Seaborn\n",
    "sns.set_theme(\n",
    "    context = 'paper', style = 'whitegrid', palette = 'muted',\n",
    "    font = 'sans-serif', font_scale = 1, color_codes = True, \n",
    "    rc = None\n",
    ")"
   ]
  },
  {
   "cell_type": "markdown",
   "id": "9839da4e",
   "metadata": {
    "papermill": {
     "duration": 0.012153,
     "end_time": "2023-05-25T04:10:27.807855",
     "exception": false,
     "start_time": "2023-05-25T04:10:27.795702",
     "status": "completed"
    },
    "tags": []
   },
   "source": [
    "##### 3.1.1. Score de Crédito"
   ]
  },
  {
   "cell_type": "code",
   "execution_count": null,
   "id": "2974a09f",
   "metadata": {
    "execution": {
     "iopub.execute_input": "2023-05-25T04:10:27.834493Z",
     "iopub.status.busy": "2023-05-25T04:10:27.834065Z",
     "iopub.status.idle": "2023-05-25T04:10:28.477863Z",
     "shell.execute_reply": "2023-05-25T04:10:28.477002Z"
    },
    "papermill": {
     "duration": 0.66,
     "end_time": "2023-05-25T04:10:28.480488",
     "exception": false,
     "start_time": "2023-05-25T04:10:27.820488",
     "status": "completed"
    },
    "tags": []
   },
   "outputs": [],
   "source": [
    "#Criação dos subplots\n",
    "fig, axs = plt.subplots(ncols = 1, nrows = 2, sharex=True, height_ratios=[0.8, 0.2])\n",
    "#Título da imagem\n",
    "plt.suptitle('Distribuição do Score de Crédito')\n",
    "#Gráfico 1 - Histograma\n",
    "sns.histplot(x = df['Score'], kde = True, ax = axs[0], stat = 'count', cumulative = False)\n",
    "#Gráfico 2 - Boxplot\n",
    "sns.boxplot(x = df['Score'], fliersize = 2, notch = True, ax = axs[1])"
   ]
  }
 ],
 "metadata": {
  "kernelspec": {
   "display_name": "Python 3",
   "language": "python",
   "name": "python3"
  },
  "language_info": {
   "codemirror_mode": {
    "name": "ipython",
    "version": 3
   },
   "file_extension": ".py",
   "mimetype": "text/x-python",
   "name": "python",
   "nbconvert_exporter": "python",
   "pygments_lexer": "ipython3",
   "version": "3.12.1"
  },
  "papermill": {
   "default_parameters": {},
   "duration": 18.9281,
   "end_time": "2023-05-25T04:10:29.522446",
   "environment_variables": {},
   "exception": null,
   "input_path": "__notebook__.ipynb",
   "output_path": "__notebook__.ipynb",
   "parameters": {},
   "start_time": "2023-05-25T04:10:10.594346",
   "version": "2.4.0"
  }
 },
 "nbformat": 4,
 "nbformat_minor": 5
}
