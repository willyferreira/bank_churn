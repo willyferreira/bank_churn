{
 "cells": [
  {
   "cell_type": "markdown",
   "id": "f3825787",
   "metadata": {
    "_cell_guid": "8a4e5422-1f69-4f4d-9a60-74ee97ea6885",
    "_uuid": "1507fc2e-9ef7-4fcd-b9a0-46611cb401ca",
    "papermill": {
     "duration": 0.004897,
     "end_time": "2023-05-25T03:59:25.025287",
     "exception": false,
     "start_time": "2023-05-25T03:59:25.020390",
     "status": "completed"
    },
    "tags": []
   },
   "source": [
    "### 1. Importação das bibliotecas"
   ]
  },
  {
   "cell_type": "code",
   "execution_count": 1,
   "id": "8b7526c5",
   "metadata": {
    "_cell_guid": "0b8ce73f-59e7-4b5f-b04b-85d2da6e81a9",
    "_uuid": "6ff0cc42-9c69-426a-8a36-04f53443ccde",
    "execution": {
     "iopub.execute_input": "2023-05-25T03:59:25.036546Z",
     "iopub.status.busy": "2023-05-25T03:59:25.035929Z",
     "iopub.status.idle": "2023-05-25T03:59:26.468557Z",
     "shell.execute_reply": "2023-05-25T03:59:26.467366Z"
    },
    "papermill": {
     "duration": 1.441278,
     "end_time": "2023-05-25T03:59:26.471269",
     "exception": false,
     "start_time": "2023-05-25T03:59:25.029991",
     "status": "completed"
    },
    "tags": []
   },
   "outputs": [
    {
     "name": "stderr",
     "output_type": "stream",
     "text": [
      "/opt/conda/lib/python3.10/site-packages/scipy/__init__.py:146: UserWarning: A NumPy version >=1.16.5 and <1.23.0 is required for this version of SciPy (detected version 1.23.5\n",
      "  warnings.warn(f\"A NumPy version >={np_minversion} and <{np_maxversion}\"\n"
     ]
    }
   ],
   "source": [
    "# Manipulação dos dados\n",
    "import numpy as np \n",
    "import pandas as pd \n",
    "import scipy as sp\n",
    "import scipy.stats as st\n",
    "# DataViz\n",
    "import matplotlib.pyplot as plt\n",
    "import seaborn as sns\n",
    "#import seaborn.objects as so"
   ]
  },
  {
   "cell_type": "code",
   "execution_count": 2,
   "id": "2deee58f",
   "metadata": {
    "_cell_guid": "40a86ce5-6cea-4ea2-b6a5-ed83482e0130",
    "_uuid": "2abcfca1-8c9e-4e31-88bc-97481f681ef3",
    "collapsed": false,
    "execution": {
     "iopub.execute_input": "2023-05-25T03:59:26.482811Z",
     "iopub.status.busy": "2023-05-25T03:59:26.482407Z",
     "iopub.status.idle": "2023-05-25T03:59:26.499583Z",
     "shell.execute_reply": "2023-05-25T03:59:26.498126Z"
    },
    "jupyter": {
     "outputs_hidden": false
    },
    "papermill": {
     "duration": 0.026067,
     "end_time": "2023-05-25T03:59:26.502306",
     "exception": false,
     "start_time": "2023-05-25T03:59:26.476239",
     "status": "completed"
    },
    "tags": []
   },
   "outputs": [
    {
     "name": "stdout",
     "output_type": "stream",
     "text": [
      "/kaggle/input/churn-for-bank-customers/churn.csv\n"
     ]
    }
   ],
   "source": [
    "# Configuração de importação do dataset\n",
    "import os\n",
    "for dirname, _, filenames in os.walk('/kaggle/input'):\n",
    "    for filename in filenames:\n",
    "        print(os.path.join(dirname, filename))"
   ]
  },
  {
   "cell_type": "markdown",
   "id": "89e767d7",
   "metadata": {
    "_cell_guid": "b04c4142-00cb-4770-bd31-7827c7bc4a30",
    "_uuid": "00d1ba91-5b77-482c-8cdf-c11842baa77d",
    "papermill": {
     "duration": 0.004551,
     "end_time": "2023-05-25T03:59:26.511667",
     "exception": false,
     "start_time": "2023-05-25T03:59:26.507116",
     "status": "completed"
    },
    "tags": []
   },
   "source": [
    "### 2. Importação do dataset e manipulação dos dados"
   ]
  },
  {
   "cell_type": "code",
   "execution_count": 3,
   "id": "aac9e5af",
   "metadata": {
    "_cell_guid": "d7f98feb-0947-474e-8c2c-e517227e47df",
    "_uuid": "a295791a-302d-4131-9587-40763c0daa7d",
    "collapsed": false,
    "execution": {
     "iopub.execute_input": "2023-05-25T03:59:26.522885Z",
     "iopub.status.busy": "2023-05-25T03:59:26.522465Z",
     "iopub.status.idle": "2023-05-25T03:59:26.615149Z",
     "shell.execute_reply": "2023-05-25T03:59:26.613941Z"
    },
    "jupyter": {
     "outputs_hidden": false
    },
    "papermill": {
     "duration": 0.101161,
     "end_time": "2023-05-25T03:59:26.617550",
     "exception": false,
     "start_time": "2023-05-25T03:59:26.516389",
     "status": "completed"
    },
    "tags": []
   },
   "outputs": [
    {
     "data": {
      "text/html": [
       "<div>\n",
       "<style scoped>\n",
       "    .dataframe tbody tr th:only-of-type {\n",
       "        vertical-align: middle;\n",
       "    }\n",
       "\n",
       "    .dataframe tbody tr th {\n",
       "        vertical-align: top;\n",
       "    }\n",
       "\n",
       "    .dataframe thead th {\n",
       "        text-align: right;\n",
       "    }\n",
       "</style>\n",
       "<table border=\"1\" class=\"dataframe\">\n",
       "  <thead>\n",
       "    <tr style=\"text-align: right;\">\n",
       "      <th></th>\n",
       "      <th>RowNumber</th>\n",
       "      <th>CustomerId</th>\n",
       "      <th>Surname</th>\n",
       "      <th>CreditScore</th>\n",
       "      <th>Geography</th>\n",
       "      <th>Gender</th>\n",
       "      <th>Age</th>\n",
       "      <th>Tenure</th>\n",
       "      <th>Balance</th>\n",
       "      <th>NumOfProducts</th>\n",
       "      <th>HasCrCard</th>\n",
       "      <th>IsActiveMember</th>\n",
       "      <th>EstimatedSalary</th>\n",
       "      <th>Exited</th>\n",
       "    </tr>\n",
       "  </thead>\n",
       "  <tbody>\n",
       "    <tr>\n",
       "      <th>0</th>\n",
       "      <td>1</td>\n",
       "      <td>15634602</td>\n",
       "      <td>Hargrave</td>\n",
       "      <td>619</td>\n",
       "      <td>France</td>\n",
       "      <td>Female</td>\n",
       "      <td>42</td>\n",
       "      <td>2</td>\n",
       "      <td>0.00</td>\n",
       "      <td>1</td>\n",
       "      <td>1</td>\n",
       "      <td>1</td>\n",
       "      <td>101348.88</td>\n",
       "      <td>1</td>\n",
       "    </tr>\n",
       "    <tr>\n",
       "      <th>1</th>\n",
       "      <td>2</td>\n",
       "      <td>15647311</td>\n",
       "      <td>Hill</td>\n",
       "      <td>608</td>\n",
       "      <td>Spain</td>\n",
       "      <td>Female</td>\n",
       "      <td>41</td>\n",
       "      <td>1</td>\n",
       "      <td>83807.86</td>\n",
       "      <td>1</td>\n",
       "      <td>0</td>\n",
       "      <td>1</td>\n",
       "      <td>112542.58</td>\n",
       "      <td>0</td>\n",
       "    </tr>\n",
       "    <tr>\n",
       "      <th>2</th>\n",
       "      <td>3</td>\n",
       "      <td>15619304</td>\n",
       "      <td>Onio</td>\n",
       "      <td>502</td>\n",
       "      <td>France</td>\n",
       "      <td>Female</td>\n",
       "      <td>42</td>\n",
       "      <td>8</td>\n",
       "      <td>159660.80</td>\n",
       "      <td>3</td>\n",
       "      <td>1</td>\n",
       "      <td>0</td>\n",
       "      <td>113931.57</td>\n",
       "      <td>1</td>\n",
       "    </tr>\n",
       "    <tr>\n",
       "      <th>3</th>\n",
       "      <td>4</td>\n",
       "      <td>15701354</td>\n",
       "      <td>Boni</td>\n",
       "      <td>699</td>\n",
       "      <td>France</td>\n",
       "      <td>Female</td>\n",
       "      <td>39</td>\n",
       "      <td>1</td>\n",
       "      <td>0.00</td>\n",
       "      <td>2</td>\n",
       "      <td>0</td>\n",
       "      <td>0</td>\n",
       "      <td>93826.63</td>\n",
       "      <td>0</td>\n",
       "    </tr>\n",
       "    <tr>\n",
       "      <th>4</th>\n",
       "      <td>5</td>\n",
       "      <td>15737888</td>\n",
       "      <td>Mitchell</td>\n",
       "      <td>850</td>\n",
       "      <td>Spain</td>\n",
       "      <td>Female</td>\n",
       "      <td>43</td>\n",
       "      <td>2</td>\n",
       "      <td>125510.82</td>\n",
       "      <td>1</td>\n",
       "      <td>1</td>\n",
       "      <td>1</td>\n",
       "      <td>79084.10</td>\n",
       "      <td>0</td>\n",
       "    </tr>\n",
       "  </tbody>\n",
       "</table>\n",
       "</div>"
      ],
      "text/plain": [
       "   RowNumber  CustomerId   Surname  CreditScore Geography  Gender  Age  \\\n",
       "0          1    15634602  Hargrave          619    France  Female   42   \n",
       "1          2    15647311      Hill          608     Spain  Female   41   \n",
       "2          3    15619304      Onio          502    France  Female   42   \n",
       "3          4    15701354      Boni          699    France  Female   39   \n",
       "4          5    15737888  Mitchell          850     Spain  Female   43   \n",
       "\n",
       "   Tenure    Balance  NumOfProducts  HasCrCard  IsActiveMember  \\\n",
       "0       2       0.00              1          1               1   \n",
       "1       1   83807.86              1          0               1   \n",
       "2       8  159660.80              3          1               0   \n",
       "3       1       0.00              2          0               0   \n",
       "4       2  125510.82              1          1               1   \n",
       "\n",
       "   EstimatedSalary  Exited  \n",
       "0        101348.88       1  \n",
       "1        112542.58       0  \n",
       "2        113931.57       1  \n",
       "3         93826.63       0  \n",
       "4         79084.10       0  "
      ]
     },
     "execution_count": 3,
     "metadata": {},
     "output_type": "execute_result"
    }
   ],
   "source": [
    "# Importação do dataset\n",
    "df = pd.read_csv('/kaggle/input/churn-for-bank-customers/churn.csv')\n",
    "# Mostrar primeiros registros\n",
    "df.head()"
   ]
  },
  {
   "cell_type": "code",
   "execution_count": 4,
   "id": "f5aee4af",
   "metadata": {
    "_cell_guid": "676377ad-79ac-4faf-b970-c4bcfbf3e099",
    "_uuid": "61a0a2a3-16dd-493d-962a-4e2aff489c87",
    "collapsed": false,
    "execution": {
     "iopub.execute_input": "2023-05-25T03:59:26.629317Z",
     "iopub.status.busy": "2023-05-25T03:59:26.628928Z",
     "iopub.status.idle": "2023-05-25T03:59:26.654479Z",
     "shell.execute_reply": "2023-05-25T03:59:26.653307Z"
    },
    "jupyter": {
     "outputs_hidden": false
    },
    "papermill": {
     "duration": 0.034452,
     "end_time": "2023-05-25T03:59:26.656976",
     "exception": false,
     "start_time": "2023-05-25T03:59:26.622524",
     "status": "completed"
    },
    "tags": []
   },
   "outputs": [
    {
     "data": {
      "text/html": [
       "<div>\n",
       "<style scoped>\n",
       "    .dataframe tbody tr th:only-of-type {\n",
       "        vertical-align: middle;\n",
       "    }\n",
       "\n",
       "    .dataframe tbody tr th {\n",
       "        vertical-align: top;\n",
       "    }\n",
       "\n",
       "    .dataframe thead th {\n",
       "        text-align: right;\n",
       "    }\n",
       "</style>\n",
       "<table border=\"1\" class=\"dataframe\">\n",
       "  <thead>\n",
       "    <tr style=\"text-align: right;\">\n",
       "      <th></th>\n",
       "      <th>CreditScore</th>\n",
       "      <th>Geography</th>\n",
       "      <th>Gender</th>\n",
       "      <th>Age</th>\n",
       "      <th>Tenure</th>\n",
       "      <th>Balance</th>\n",
       "      <th>NumOfProducts</th>\n",
       "      <th>HasCrCard</th>\n",
       "      <th>IsActiveMember</th>\n",
       "      <th>EstimatedSalary</th>\n",
       "      <th>Exited</th>\n",
       "    </tr>\n",
       "  </thead>\n",
       "  <tbody>\n",
       "    <tr>\n",
       "      <th>0</th>\n",
       "      <td>619</td>\n",
       "      <td>France</td>\n",
       "      <td>Female</td>\n",
       "      <td>42</td>\n",
       "      <td>2</td>\n",
       "      <td>0.00</td>\n",
       "      <td>1</td>\n",
       "      <td>1</td>\n",
       "      <td>1</td>\n",
       "      <td>101348.88</td>\n",
       "      <td>1</td>\n",
       "    </tr>\n",
       "    <tr>\n",
       "      <th>1</th>\n",
       "      <td>608</td>\n",
       "      <td>Spain</td>\n",
       "      <td>Female</td>\n",
       "      <td>41</td>\n",
       "      <td>1</td>\n",
       "      <td>83807.86</td>\n",
       "      <td>1</td>\n",
       "      <td>0</td>\n",
       "      <td>1</td>\n",
       "      <td>112542.58</td>\n",
       "      <td>0</td>\n",
       "    </tr>\n",
       "    <tr>\n",
       "      <th>2</th>\n",
       "      <td>502</td>\n",
       "      <td>France</td>\n",
       "      <td>Female</td>\n",
       "      <td>42</td>\n",
       "      <td>8</td>\n",
       "      <td>159660.80</td>\n",
       "      <td>3</td>\n",
       "      <td>1</td>\n",
       "      <td>0</td>\n",
       "      <td>113931.57</td>\n",
       "      <td>1</td>\n",
       "    </tr>\n",
       "    <tr>\n",
       "      <th>3</th>\n",
       "      <td>699</td>\n",
       "      <td>France</td>\n",
       "      <td>Female</td>\n",
       "      <td>39</td>\n",
       "      <td>1</td>\n",
       "      <td>0.00</td>\n",
       "      <td>2</td>\n",
       "      <td>0</td>\n",
       "      <td>0</td>\n",
       "      <td>93826.63</td>\n",
       "      <td>0</td>\n",
       "    </tr>\n",
       "    <tr>\n",
       "      <th>4</th>\n",
       "      <td>850</td>\n",
       "      <td>Spain</td>\n",
       "      <td>Female</td>\n",
       "      <td>43</td>\n",
       "      <td>2</td>\n",
       "      <td>125510.82</td>\n",
       "      <td>1</td>\n",
       "      <td>1</td>\n",
       "      <td>1</td>\n",
       "      <td>79084.10</td>\n",
       "      <td>0</td>\n",
       "    </tr>\n",
       "  </tbody>\n",
       "</table>\n",
       "</div>"
      ],
      "text/plain": [
       "   CreditScore Geography  Gender  Age  Tenure    Balance  NumOfProducts  \\\n",
       "0          619    France  Female   42       2       0.00              1   \n",
       "1          608     Spain  Female   41       1   83807.86              1   \n",
       "2          502    France  Female   42       8  159660.80              3   \n",
       "3          699    France  Female   39       1       0.00              2   \n",
       "4          850     Spain  Female   43       2  125510.82              1   \n",
       "\n",
       "   HasCrCard  IsActiveMember  EstimatedSalary  Exited  \n",
       "0          1               1        101348.88       1  \n",
       "1          0               1        112542.58       0  \n",
       "2          1               0        113931.57       1  \n",
       "3          0               0         93826.63       0  \n",
       "4          1               1         79084.10       0  "
      ]
     },
     "execution_count": 4,
     "metadata": {},
     "output_type": "execute_result"
    }
   ],
   "source": [
    "# Exclusão das colunas não utilizadas\n",
    "df.drop(columns = {'RowNumber', 'CustomerId', 'Surname'}, inplace = True)\n",
    "df.head()"
   ]
  },
  {
   "cell_type": "code",
   "execution_count": 5,
   "id": "90cfbf75",
   "metadata": {
    "execution": {
     "iopub.execute_input": "2023-05-25T03:59:26.669877Z",
     "iopub.status.busy": "2023-05-25T03:59:26.669493Z",
     "iopub.status.idle": "2023-05-25T03:59:26.719568Z",
     "shell.execute_reply": "2023-05-25T03:59:26.718421Z"
    },
    "papermill": {
     "duration": 0.05907,
     "end_time": "2023-05-25T03:59:26.721862",
     "exception": false,
     "start_time": "2023-05-25T03:59:26.662792",
     "status": "completed"
    },
    "tags": []
   },
   "outputs": [
    {
     "data": {
      "text/html": [
       "<div>\n",
       "<style scoped>\n",
       "    .dataframe tbody tr th:only-of-type {\n",
       "        vertical-align: middle;\n",
       "    }\n",
       "\n",
       "    .dataframe tbody tr th {\n",
       "        vertical-align: top;\n",
       "    }\n",
       "\n",
       "    .dataframe thead th {\n",
       "        text-align: right;\n",
       "    }\n",
       "</style>\n",
       "<table border=\"1\" class=\"dataframe\">\n",
       "  <thead>\n",
       "    <tr style=\"text-align: right;\">\n",
       "      <th></th>\n",
       "      <th>count</th>\n",
       "      <th>mean</th>\n",
       "      <th>std</th>\n",
       "      <th>min</th>\n",
       "      <th>25%</th>\n",
       "      <th>50%</th>\n",
       "      <th>75%</th>\n",
       "      <th>max</th>\n",
       "    </tr>\n",
       "  </thead>\n",
       "  <tbody>\n",
       "    <tr>\n",
       "      <th>CreditScore</th>\n",
       "      <td>10000.0</td>\n",
       "      <td>650.528800</td>\n",
       "      <td>96.653299</td>\n",
       "      <td>350.00</td>\n",
       "      <td>584.00</td>\n",
       "      <td>652.000</td>\n",
       "      <td>718.0000</td>\n",
       "      <td>850.00</td>\n",
       "    </tr>\n",
       "    <tr>\n",
       "      <th>Age</th>\n",
       "      <td>10000.0</td>\n",
       "      <td>38.921800</td>\n",
       "      <td>10.487806</td>\n",
       "      <td>18.00</td>\n",
       "      <td>32.00</td>\n",
       "      <td>37.000</td>\n",
       "      <td>44.0000</td>\n",
       "      <td>92.00</td>\n",
       "    </tr>\n",
       "    <tr>\n",
       "      <th>Tenure</th>\n",
       "      <td>10000.0</td>\n",
       "      <td>5.012800</td>\n",
       "      <td>2.892174</td>\n",
       "      <td>0.00</td>\n",
       "      <td>3.00</td>\n",
       "      <td>5.000</td>\n",
       "      <td>7.0000</td>\n",
       "      <td>10.00</td>\n",
       "    </tr>\n",
       "    <tr>\n",
       "      <th>Balance</th>\n",
       "      <td>10000.0</td>\n",
       "      <td>76485.889288</td>\n",
       "      <td>62397.405202</td>\n",
       "      <td>0.00</td>\n",
       "      <td>0.00</td>\n",
       "      <td>97198.540</td>\n",
       "      <td>127644.2400</td>\n",
       "      <td>250898.09</td>\n",
       "    </tr>\n",
       "    <tr>\n",
       "      <th>NumOfProducts</th>\n",
       "      <td>10000.0</td>\n",
       "      <td>1.530200</td>\n",
       "      <td>0.581654</td>\n",
       "      <td>1.00</td>\n",
       "      <td>1.00</td>\n",
       "      <td>1.000</td>\n",
       "      <td>2.0000</td>\n",
       "      <td>4.00</td>\n",
       "    </tr>\n",
       "    <tr>\n",
       "      <th>HasCrCard</th>\n",
       "      <td>10000.0</td>\n",
       "      <td>0.705500</td>\n",
       "      <td>0.455840</td>\n",
       "      <td>0.00</td>\n",
       "      <td>0.00</td>\n",
       "      <td>1.000</td>\n",
       "      <td>1.0000</td>\n",
       "      <td>1.00</td>\n",
       "    </tr>\n",
       "    <tr>\n",
       "      <th>IsActiveMember</th>\n",
       "      <td>10000.0</td>\n",
       "      <td>0.515100</td>\n",
       "      <td>0.499797</td>\n",
       "      <td>0.00</td>\n",
       "      <td>0.00</td>\n",
       "      <td>1.000</td>\n",
       "      <td>1.0000</td>\n",
       "      <td>1.00</td>\n",
       "    </tr>\n",
       "    <tr>\n",
       "      <th>EstimatedSalary</th>\n",
       "      <td>10000.0</td>\n",
       "      <td>100090.239881</td>\n",
       "      <td>57510.492818</td>\n",
       "      <td>11.58</td>\n",
       "      <td>51002.11</td>\n",
       "      <td>100193.915</td>\n",
       "      <td>149388.2475</td>\n",
       "      <td>199992.48</td>\n",
       "    </tr>\n",
       "    <tr>\n",
       "      <th>Exited</th>\n",
       "      <td>10000.0</td>\n",
       "      <td>0.203700</td>\n",
       "      <td>0.402769</td>\n",
       "      <td>0.00</td>\n",
       "      <td>0.00</td>\n",
       "      <td>0.000</td>\n",
       "      <td>0.0000</td>\n",
       "      <td>1.00</td>\n",
       "    </tr>\n",
       "  </tbody>\n",
       "</table>\n",
       "</div>"
      ],
      "text/plain": [
       "                   count           mean           std     min       25%  \\\n",
       "CreditScore      10000.0     650.528800     96.653299  350.00    584.00   \n",
       "Age              10000.0      38.921800     10.487806   18.00     32.00   \n",
       "Tenure           10000.0       5.012800      2.892174    0.00      3.00   \n",
       "Balance          10000.0   76485.889288  62397.405202    0.00      0.00   \n",
       "NumOfProducts    10000.0       1.530200      0.581654    1.00      1.00   \n",
       "HasCrCard        10000.0       0.705500      0.455840    0.00      0.00   \n",
       "IsActiveMember   10000.0       0.515100      0.499797    0.00      0.00   \n",
       "EstimatedSalary  10000.0  100090.239881  57510.492818   11.58  51002.11   \n",
       "Exited           10000.0       0.203700      0.402769    0.00      0.00   \n",
       "\n",
       "                        50%          75%        max  \n",
       "CreditScore         652.000     718.0000     850.00  \n",
       "Age                  37.000      44.0000      92.00  \n",
       "Tenure                5.000       7.0000      10.00  \n",
       "Balance           97198.540  127644.2400  250898.09  \n",
       "NumOfProducts         1.000       2.0000       4.00  \n",
       "HasCrCard             1.000       1.0000       1.00  \n",
       "IsActiveMember        1.000       1.0000       1.00  \n",
       "EstimatedSalary  100193.915  149388.2475  199992.48  \n",
       "Exited                0.000       0.0000       1.00  "
      ]
     },
     "execution_count": 5,
     "metadata": {},
     "output_type": "execute_result"
    }
   ],
   "source": [
    "# Informações descritivas sobre as variáveis\n",
    "df.describe().T"
   ]
  },
  {
   "cell_type": "code",
   "execution_count": 6,
   "id": "5bd56349",
   "metadata": {
    "execution": {
     "iopub.execute_input": "2023-05-25T03:59:26.735334Z",
     "iopub.status.busy": "2023-05-25T03:59:26.734915Z",
     "iopub.status.idle": "2023-05-25T03:59:26.741906Z",
     "shell.execute_reply": "2023-05-25T03:59:26.740821Z"
    },
    "papermill": {
     "duration": 0.016342,
     "end_time": "2023-05-25T03:59:26.744027",
     "exception": false,
     "start_time": "2023-05-25T03:59:26.727685",
     "status": "completed"
    },
    "tags": []
   },
   "outputs": [
    {
     "data": {
      "text/plain": [
       "Index(['CreditScore', 'Geography', 'Gender', 'Age', 'Tenure', 'Balance',\n",
       "       'NumOfProducts', 'HasCrCard', 'IsActiveMember', 'EstimatedSalary',\n",
       "       'Exited'],\n",
       "      dtype='object')"
      ]
     },
     "execution_count": 6,
     "metadata": {},
     "output_type": "execute_result"
    }
   ],
   "source": [
    "df.columns"
   ]
  },
  {
   "cell_type": "code",
   "execution_count": 7,
   "id": "fe1d924d",
   "metadata": {
    "execution": {
     "iopub.execute_input": "2023-05-25T03:59:26.757323Z",
     "iopub.status.busy": "2023-05-25T03:59:26.756864Z",
     "iopub.status.idle": "2023-05-25T03:59:26.764327Z",
     "shell.execute_reply": "2023-05-25T03:59:26.763320Z"
    },
    "papermill": {
     "duration": 0.016786,
     "end_time": "2023-05-25T03:59:26.766549",
     "exception": false,
     "start_time": "2023-05-25T03:59:26.749763",
     "status": "completed"
    },
    "tags": []
   },
   "outputs": [
    {
     "data": {
      "text/plain": [
       "Index(['CreditScore', 'Age', 'Tenure', 'Balance', 'NumOfProducts', 'HasCrCard',\n",
       "       'IsActiveMember', 'EstimatedSalary', 'Exited'],\n",
       "      dtype='object')"
      ]
     },
     "execution_count": 7,
     "metadata": {},
     "output_type": "execute_result"
    }
   ],
   "source": [
    "df.select_dtypes('number').columns"
   ]
  },
  {
   "cell_type": "code",
   "execution_count": 8,
   "id": "88669cb3",
   "metadata": {
    "execution": {
     "iopub.execute_input": "2023-05-25T03:59:26.780562Z",
     "iopub.status.busy": "2023-05-25T03:59:26.780164Z",
     "iopub.status.idle": "2023-05-25T03:59:26.810422Z",
     "shell.execute_reply": "2023-05-25T03:59:26.808978Z"
    },
    "papermill": {
     "duration": 0.040469,
     "end_time": "2023-05-25T03:59:26.813115",
     "exception": false,
     "start_time": "2023-05-25T03:59:26.772646",
     "status": "completed"
    },
    "tags": []
   },
   "outputs": [
    {
     "name": "stdout",
     "output_type": "stream",
     "text": [
      "<class 'pandas.core.frame.DataFrame'>\n",
      "RangeIndex: 10000 entries, 0 to 9999\n",
      "Data columns (total 11 columns):\n",
      " #   Column           Non-Null Count  Dtype  \n",
      "---  ------           --------------  -----  \n",
      " 0   CreditScore      10000 non-null  int64  \n",
      " 1   Geography        10000 non-null  object \n",
      " 2   Gender           10000 non-null  object \n",
      " 3   Age              10000 non-null  int64  \n",
      " 4   Tenure           10000 non-null  int64  \n",
      " 5   Balance          10000 non-null  float64\n",
      " 6   NumOfProducts    10000 non-null  int64  \n",
      " 7   HasCrCard        10000 non-null  int64  \n",
      " 8   IsActiveMember   10000 non-null  int64  \n",
      " 9   EstimatedSalary  10000 non-null  float64\n",
      " 10  Exited           10000 non-null  int64  \n",
      "dtypes: float64(2), int64(7), object(2)\n",
      "memory usage: 859.5+ KB\n"
     ]
    }
   ],
   "source": [
    "df.info()"
   ]
  },
  {
   "cell_type": "code",
   "execution_count": 9,
   "id": "bc2e08e7",
   "metadata": {
    "execution": {
     "iopub.execute_input": "2023-05-25T03:59:26.829842Z",
     "iopub.status.busy": "2023-05-25T03:59:26.828794Z",
     "iopub.status.idle": "2023-05-25T03:59:26.843282Z",
     "shell.execute_reply": "2023-05-25T03:59:26.842298Z"
    },
    "papermill": {
     "duration": 0.026007,
     "end_time": "2023-05-25T03:59:26.846285",
     "exception": false,
     "start_time": "2023-05-25T03:59:26.820278",
     "status": "completed"
    },
    "tags": []
   },
   "outputs": [
    {
     "data": {
      "text/plain": [
       "['Geography',\n",
       " 'Gender',\n",
       " 'Tenure',\n",
       " 'NumOfProducts',\n",
       " 'HasCrCard',\n",
       " 'IsActiveMember']"
      ]
     },
     "execution_count": 9,
     "metadata": {},
     "output_type": "execute_result"
    }
   ],
   "source": [
    "# categorical Variables\n",
    "categorical_variables = [col for col in df.columns if col in \"O\"\n",
    "                        or df[col].nunique() <=11\n",
    "                        and col not in \"Exited\"]\n",
    "\n",
    "categorical_variables"
   ]
  }
 ],
 "metadata": {
  "kernelspec": {
   "display_name": "Python 3",
   "language": "python",
   "name": "python3"
  },
  "language_info": {
   "codemirror_mode": {
    "name": "ipython",
    "version": 3
   },
   "file_extension": ".py",
   "mimetype": "text/x-python",
   "name": "python",
   "nbconvert_exporter": "python",
   "pygments_lexer": "ipython3",
   "version": "3.10.10"
  },
  "papermill": {
   "default_parameters": {},
   "duration": 16.787771,
   "end_time": "2023-05-25T03:59:27.876013",
   "environment_variables": {},
   "exception": null,
   "input_path": "__notebook__.ipynb",
   "output_path": "__notebook__.ipynb",
   "parameters": {},
   "start_time": "2023-05-25T03:59:11.088242",
   "version": "2.4.0"
  }
 },
 "nbformat": 4,
 "nbformat_minor": 5
}
