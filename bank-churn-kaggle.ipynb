{
 "cells": [
  {
   "cell_type": "markdown",
   "id": "3de57741",
   "metadata": {
    "_cell_guid": "8a4e5422-1f69-4f4d-9a60-74ee97ea6885",
    "_uuid": "1507fc2e-9ef7-4fcd-b9a0-46611cb401ca",
    "papermill": {
     "duration": 0.009245,
     "end_time": "2023-05-25T04:10:25.403353",
     "exception": false,
     "start_time": "2023-05-25T04:10:25.394108",
     "status": "completed"
    },
    "tags": []
   },
   "source": [
    "### 1. Importação das bibliotecas"
   ]
  },
  {
   "cell_type": "code",
   "execution_count": 1,
   "id": "2b2ca38d",
   "metadata": {
    "_cell_guid": "0b8ce73f-59e7-4b5f-b04b-85d2da6e81a9",
    "_uuid": "6ff0cc42-9c69-426a-8a36-04f53443ccde",
    "collapsed": true,
    "execution": {
     "iopub.execute_input": "2023-05-25T04:10:25.423645Z",
     "iopub.status.busy": "2023-05-25T04:10:25.423105Z",
     "iopub.status.idle": "2023-05-25T04:10:26.853774Z",
     "shell.execute_reply": "2023-05-25T04:10:26.852517Z"
    },
    "jupyter": {
     "outputs_hidden": true
    },
    "papermill": {
     "duration": 1.444821,
     "end_time": "2023-05-25T04:10:26.856968",
     "exception": false,
     "start_time": "2023-05-25T04:10:25.412147",
     "status": "completed"
    },
    "tags": []
   },
   "outputs": [
    {
     "name": "stderr",
     "output_type": "stream",
     "text": [
      "/opt/conda/lib/python3.10/site-packages/scipy/__init__.py:146: UserWarning: A NumPy version >=1.16.5 and <1.23.0 is required for this version of SciPy (detected version 1.23.5\n",
      "  warnings.warn(f\"A NumPy version >={np_minversion} and <{np_maxversion}\"\n"
     ]
    }
   ],
   "source": [
    "# Manipulação dos dados\n",
    "import numpy as np \n",
    "import pandas as pd \n",
    "import scipy as sp\n",
    "import scipy.stats as st\n",
    "# DataViz\n",
    "import matplotlib.pyplot as plt\n",
    "import seaborn as sns\n",
    "#import seaborn.objects as so"
   ]
  },
  {
   "cell_type": "code",
   "execution_count": 2,
   "id": "4105976a",
   "metadata": {
    "_cell_guid": "40a86ce5-6cea-4ea2-b6a5-ed83482e0130",
    "_uuid": "2abcfca1-8c9e-4e31-88bc-97481f681ef3",
    "collapsed": true,
    "execution": {
     "iopub.execute_input": "2023-05-25T04:10:26.877031Z",
     "iopub.status.busy": "2023-05-25T04:10:26.876564Z",
     "iopub.status.idle": "2023-05-25T04:10:26.889757Z",
     "shell.execute_reply": "2023-05-25T04:10:26.888582Z"
    },
    "jupyter": {
     "outputs_hidden": true
    },
    "papermill": {
     "duration": 0.026292,
     "end_time": "2023-05-25T04:10:26.892408",
     "exception": false,
     "start_time": "2023-05-25T04:10:26.866116",
     "status": "completed"
    },
    "tags": []
   },
   "outputs": [
    {
     "name": "stdout",
     "output_type": "stream",
     "text": [
      "/kaggle/input/churn-for-bank-customers/churn.csv\n"
     ]
    }
   ],
   "source": [
    "# Configuração de importação do dataset\n",
    "import os\n",
    "for dirname, _, filenames in os.walk('/kaggle/input'):\n",
    "    for filename in filenames:\n",
    "        print(os.path.join(dirname, filename))"
   ]
  },
  {
   "cell_type": "markdown",
   "id": "908d6cc5",
   "metadata": {
    "_cell_guid": "b04c4142-00cb-4770-bd31-7827c7bc4a30",
    "_uuid": "00d1ba91-5b77-482c-8cdf-c11842baa77d",
    "papermill": {
     "duration": 0.00856,
     "end_time": "2023-05-25T04:10:26.909852",
     "exception": false,
     "start_time": "2023-05-25T04:10:26.901292",
     "status": "completed"
    },
    "tags": []
   },
   "source": [
    "### 2. Importação do dataset e manipulação dos dados"
   ]
  },
  {
   "cell_type": "code",
   "execution_count": 3,
   "id": "f81f7cc1",
   "metadata": {
    "_cell_guid": "d7f98feb-0947-474e-8c2c-e517227e47df",
    "_uuid": "a295791a-302d-4131-9587-40763c0daa7d",
    "collapsed": false,
    "execution": {
     "iopub.execute_input": "2023-05-25T04:10:26.930477Z",
     "iopub.status.busy": "2023-05-25T04:10:26.929687Z",
     "iopub.status.idle": "2023-05-25T04:10:27.026171Z",
     "shell.execute_reply": "2023-05-25T04:10:27.024991Z"
    },
    "jupyter": {
     "outputs_hidden": false
    },
    "papermill": {
     "duration": 0.110102,
     "end_time": "2023-05-25T04:10:27.028838",
     "exception": false,
     "start_time": "2023-05-25T04:10:26.918736",
     "status": "completed"
    },
    "tags": []
   },
   "outputs": [
    {
     "data": {
      "text/html": [
       "<div>\n",
       "<style scoped>\n",
       "    .dataframe tbody tr th:only-of-type {\n",
       "        vertical-align: middle;\n",
       "    }\n",
       "\n",
       "    .dataframe tbody tr th {\n",
       "        vertical-align: top;\n",
       "    }\n",
       "\n",
       "    .dataframe thead th {\n",
       "        text-align: right;\n",
       "    }\n",
       "</style>\n",
       "<table border=\"1\" class=\"dataframe\">\n",
       "  <thead>\n",
       "    <tr style=\"text-align: right;\">\n",
       "      <th></th>\n",
       "      <th>RowNumber</th>\n",
       "      <th>CustomerId</th>\n",
       "      <th>Surname</th>\n",
       "      <th>CreditScore</th>\n",
       "      <th>Geography</th>\n",
       "      <th>Gender</th>\n",
       "      <th>Age</th>\n",
       "      <th>Tenure</th>\n",
       "      <th>Balance</th>\n",
       "      <th>NumOfProducts</th>\n",
       "      <th>HasCrCard</th>\n",
       "      <th>IsActiveMember</th>\n",
       "      <th>EstimatedSalary</th>\n",
       "      <th>Exited</th>\n",
       "    </tr>\n",
       "  </thead>\n",
       "  <tbody>\n",
       "    <tr>\n",
       "      <th>0</th>\n",
       "      <td>1</td>\n",
       "      <td>15634602</td>\n",
       "      <td>Hargrave</td>\n",
       "      <td>619</td>\n",
       "      <td>France</td>\n",
       "      <td>Female</td>\n",
       "      <td>42</td>\n",
       "      <td>2</td>\n",
       "      <td>0.00</td>\n",
       "      <td>1</td>\n",
       "      <td>1</td>\n",
       "      <td>1</td>\n",
       "      <td>101348.88</td>\n",
       "      <td>1</td>\n",
       "    </tr>\n",
       "    <tr>\n",
       "      <th>1</th>\n",
       "      <td>2</td>\n",
       "      <td>15647311</td>\n",
       "      <td>Hill</td>\n",
       "      <td>608</td>\n",
       "      <td>Spain</td>\n",
       "      <td>Female</td>\n",
       "      <td>41</td>\n",
       "      <td>1</td>\n",
       "      <td>83807.86</td>\n",
       "      <td>1</td>\n",
       "      <td>0</td>\n",
       "      <td>1</td>\n",
       "      <td>112542.58</td>\n",
       "      <td>0</td>\n",
       "    </tr>\n",
       "    <tr>\n",
       "      <th>2</th>\n",
       "      <td>3</td>\n",
       "      <td>15619304</td>\n",
       "      <td>Onio</td>\n",
       "      <td>502</td>\n",
       "      <td>France</td>\n",
       "      <td>Female</td>\n",
       "      <td>42</td>\n",
       "      <td>8</td>\n",
       "      <td>159660.80</td>\n",
       "      <td>3</td>\n",
       "      <td>1</td>\n",
       "      <td>0</td>\n",
       "      <td>113931.57</td>\n",
       "      <td>1</td>\n",
       "    </tr>\n",
       "    <tr>\n",
       "      <th>3</th>\n",
       "      <td>4</td>\n",
       "      <td>15701354</td>\n",
       "      <td>Boni</td>\n",
       "      <td>699</td>\n",
       "      <td>France</td>\n",
       "      <td>Female</td>\n",
       "      <td>39</td>\n",
       "      <td>1</td>\n",
       "      <td>0.00</td>\n",
       "      <td>2</td>\n",
       "      <td>0</td>\n",
       "      <td>0</td>\n",
       "      <td>93826.63</td>\n",
       "      <td>0</td>\n",
       "    </tr>\n",
       "    <tr>\n",
       "      <th>4</th>\n",
       "      <td>5</td>\n",
       "      <td>15737888</td>\n",
       "      <td>Mitchell</td>\n",
       "      <td>850</td>\n",
       "      <td>Spain</td>\n",
       "      <td>Female</td>\n",
       "      <td>43</td>\n",
       "      <td>2</td>\n",
       "      <td>125510.82</td>\n",
       "      <td>1</td>\n",
       "      <td>1</td>\n",
       "      <td>1</td>\n",
       "      <td>79084.10</td>\n",
       "      <td>0</td>\n",
       "    </tr>\n",
       "  </tbody>\n",
       "</table>\n",
       "</div>"
      ],
      "text/plain": [
       "   RowNumber  CustomerId   Surname  CreditScore Geography  Gender  Age  \\\n",
       "0          1    15634602  Hargrave          619    France  Female   42   \n",
       "1          2    15647311      Hill          608     Spain  Female   41   \n",
       "2          3    15619304      Onio          502    France  Female   42   \n",
       "3          4    15701354      Boni          699    France  Female   39   \n",
       "4          5    15737888  Mitchell          850     Spain  Female   43   \n",
       "\n",
       "   Tenure    Balance  NumOfProducts  HasCrCard  IsActiveMember  \\\n",
       "0       2       0.00              1          1               1   \n",
       "1       1   83807.86              1          0               1   \n",
       "2       8  159660.80              3          1               0   \n",
       "3       1       0.00              2          0               0   \n",
       "4       2  125510.82              1          1               1   \n",
       "\n",
       "   EstimatedSalary  Exited  \n",
       "0        101348.88       1  \n",
       "1        112542.58       0  \n",
       "2        113931.57       1  \n",
       "3         93826.63       0  \n",
       "4         79084.10       0  "
      ]
     },
     "execution_count": 3,
     "metadata": {},
     "output_type": "execute_result"
    }
   ],
   "source": [
    "# Importação do dataset\n",
    "df = pd.read_csv('/kaggle/input/churn-for-bank-customers/churn.csv')\n",
    "# Mostrar primeiros registros\n",
    "df.head()"
   ]
  },
  {
   "cell_type": "code",
   "execution_count": 4,
   "id": "2580888d",
   "metadata": {
    "_cell_guid": "676377ad-79ac-4faf-b970-c4bcfbf3e099",
    "_uuid": "61a0a2a3-16dd-493d-962a-4e2aff489c87",
    "collapsed": false,
    "execution": {
     "iopub.execute_input": "2023-05-25T04:10:27.049042Z",
     "iopub.status.busy": "2023-05-25T04:10:27.048577Z",
     "iopub.status.idle": "2023-05-25T04:10:27.071609Z",
     "shell.execute_reply": "2023-05-25T04:10:27.070730Z"
    },
    "jupyter": {
     "outputs_hidden": false
    },
    "papermill": {
     "duration": 0.036314,
     "end_time": "2023-05-25T04:10:27.074412",
     "exception": false,
     "start_time": "2023-05-25T04:10:27.038098",
     "status": "completed"
    },
    "tags": []
   },
   "outputs": [
    {
     "data": {
      "text/html": [
       "<div>\n",
       "<style scoped>\n",
       "    .dataframe tbody tr th:only-of-type {\n",
       "        vertical-align: middle;\n",
       "    }\n",
       "\n",
       "    .dataframe tbody tr th {\n",
       "        vertical-align: top;\n",
       "    }\n",
       "\n",
       "    .dataframe thead th {\n",
       "        text-align: right;\n",
       "    }\n",
       "</style>\n",
       "<table border=\"1\" class=\"dataframe\">\n",
       "  <thead>\n",
       "    <tr style=\"text-align: right;\">\n",
       "      <th></th>\n",
       "      <th>CreditScore</th>\n",
       "      <th>Geography</th>\n",
       "      <th>Gender</th>\n",
       "      <th>Age</th>\n",
       "      <th>Tenure</th>\n",
       "      <th>Balance</th>\n",
       "      <th>NumOfProducts</th>\n",
       "      <th>HasCrCard</th>\n",
       "      <th>IsActiveMember</th>\n",
       "      <th>EstimatedSalary</th>\n",
       "      <th>Exited</th>\n",
       "    </tr>\n",
       "  </thead>\n",
       "  <tbody>\n",
       "    <tr>\n",
       "      <th>0</th>\n",
       "      <td>619</td>\n",
       "      <td>France</td>\n",
       "      <td>Female</td>\n",
       "      <td>42</td>\n",
       "      <td>2</td>\n",
       "      <td>0.00</td>\n",
       "      <td>1</td>\n",
       "      <td>1</td>\n",
       "      <td>1</td>\n",
       "      <td>101348.88</td>\n",
       "      <td>1</td>\n",
       "    </tr>\n",
       "    <tr>\n",
       "      <th>1</th>\n",
       "      <td>608</td>\n",
       "      <td>Spain</td>\n",
       "      <td>Female</td>\n",
       "      <td>41</td>\n",
       "      <td>1</td>\n",
       "      <td>83807.86</td>\n",
       "      <td>1</td>\n",
       "      <td>0</td>\n",
       "      <td>1</td>\n",
       "      <td>112542.58</td>\n",
       "      <td>0</td>\n",
       "    </tr>\n",
       "    <tr>\n",
       "      <th>2</th>\n",
       "      <td>502</td>\n",
       "      <td>France</td>\n",
       "      <td>Female</td>\n",
       "      <td>42</td>\n",
       "      <td>8</td>\n",
       "      <td>159660.80</td>\n",
       "      <td>3</td>\n",
       "      <td>1</td>\n",
       "      <td>0</td>\n",
       "      <td>113931.57</td>\n",
       "      <td>1</td>\n",
       "    </tr>\n",
       "    <tr>\n",
       "      <th>3</th>\n",
       "      <td>699</td>\n",
       "      <td>France</td>\n",
       "      <td>Female</td>\n",
       "      <td>39</td>\n",
       "      <td>1</td>\n",
       "      <td>0.00</td>\n",
       "      <td>2</td>\n",
       "      <td>0</td>\n",
       "      <td>0</td>\n",
       "      <td>93826.63</td>\n",
       "      <td>0</td>\n",
       "    </tr>\n",
       "    <tr>\n",
       "      <th>4</th>\n",
       "      <td>850</td>\n",
       "      <td>Spain</td>\n",
       "      <td>Female</td>\n",
       "      <td>43</td>\n",
       "      <td>2</td>\n",
       "      <td>125510.82</td>\n",
       "      <td>1</td>\n",
       "      <td>1</td>\n",
       "      <td>1</td>\n",
       "      <td>79084.10</td>\n",
       "      <td>0</td>\n",
       "    </tr>\n",
       "  </tbody>\n",
       "</table>\n",
       "</div>"
      ],
      "text/plain": [
       "   CreditScore Geography  Gender  Age  Tenure    Balance  NumOfProducts  \\\n",
       "0          619    France  Female   42       2       0.00              1   \n",
       "1          608     Spain  Female   41       1   83807.86              1   \n",
       "2          502    France  Female   42       8  159660.80              3   \n",
       "3          699    France  Female   39       1       0.00              2   \n",
       "4          850     Spain  Female   43       2  125510.82              1   \n",
       "\n",
       "   HasCrCard  IsActiveMember  EstimatedSalary  Exited  \n",
       "0          1               1        101348.88       1  \n",
       "1          0               1        112542.58       0  \n",
       "2          1               0        113931.57       1  \n",
       "3          0               0         93826.63       0  \n",
       "4          1               1         79084.10       0  "
      ]
     },
     "execution_count": 4,
     "metadata": {},
     "output_type": "execute_result"
    }
   ],
   "source": [
    "# Exclusão das colunas não utilizadas\n",
    "df.drop(columns = {'RowNumber', 'CustomerId', 'Surname'}, inplace = True)\n",
    "df.head()"
   ]
  },
  {
   "cell_type": "code",
   "execution_count": 5,
   "id": "66a250de",
   "metadata": {
    "execution": {
     "iopub.execute_input": "2023-05-25T04:10:27.095707Z",
     "iopub.status.busy": "2023-05-25T04:10:27.094963Z",
     "iopub.status.idle": "2023-05-25T04:10:27.113917Z",
     "shell.execute_reply": "2023-05-25T04:10:27.112775Z"
    },
    "papermill": {
     "duration": 0.032647,
     "end_time": "2023-05-25T04:10:27.116494",
     "exception": false,
     "start_time": "2023-05-25T04:10:27.083847",
     "status": "completed"
    },
    "tags": []
   },
   "outputs": [
    {
     "data": {
      "text/html": [
       "<div>\n",
       "<style scoped>\n",
       "    .dataframe tbody tr th:only-of-type {\n",
       "        vertical-align: middle;\n",
       "    }\n",
       "\n",
       "    .dataframe tbody tr th {\n",
       "        vertical-align: top;\n",
       "    }\n",
       "\n",
       "    .dataframe thead th {\n",
       "        text-align: right;\n",
       "    }\n",
       "</style>\n",
       "<table border=\"1\" class=\"dataframe\">\n",
       "  <thead>\n",
       "    <tr style=\"text-align: right;\">\n",
       "      <th></th>\n",
       "      <th>Score</th>\n",
       "      <th>Pais</th>\n",
       "      <th>Genero</th>\n",
       "      <th>Idade</th>\n",
       "      <th>Fidelidade</th>\n",
       "      <th>Saldo</th>\n",
       "      <th>QtdProdutos</th>\n",
       "      <th>TemCartao</th>\n",
       "      <th>ClienteAtivo</th>\n",
       "      <th>Renda</th>\n",
       "      <th>Churn</th>\n",
       "    </tr>\n",
       "  </thead>\n",
       "  <tbody>\n",
       "    <tr>\n",
       "      <th>0</th>\n",
       "      <td>619</td>\n",
       "      <td>France</td>\n",
       "      <td>Female</td>\n",
       "      <td>42</td>\n",
       "      <td>2</td>\n",
       "      <td>0.00</td>\n",
       "      <td>1</td>\n",
       "      <td>1</td>\n",
       "      <td>1</td>\n",
       "      <td>101348.88</td>\n",
       "      <td>1</td>\n",
       "    </tr>\n",
       "    <tr>\n",
       "      <th>1</th>\n",
       "      <td>608</td>\n",
       "      <td>Spain</td>\n",
       "      <td>Female</td>\n",
       "      <td>41</td>\n",
       "      <td>1</td>\n",
       "      <td>83807.86</td>\n",
       "      <td>1</td>\n",
       "      <td>0</td>\n",
       "      <td>1</td>\n",
       "      <td>112542.58</td>\n",
       "      <td>0</td>\n",
       "    </tr>\n",
       "    <tr>\n",
       "      <th>2</th>\n",
       "      <td>502</td>\n",
       "      <td>France</td>\n",
       "      <td>Female</td>\n",
       "      <td>42</td>\n",
       "      <td>8</td>\n",
       "      <td>159660.80</td>\n",
       "      <td>3</td>\n",
       "      <td>1</td>\n",
       "      <td>0</td>\n",
       "      <td>113931.57</td>\n",
       "      <td>1</td>\n",
       "    </tr>\n",
       "    <tr>\n",
       "      <th>3</th>\n",
       "      <td>699</td>\n",
       "      <td>France</td>\n",
       "      <td>Female</td>\n",
       "      <td>39</td>\n",
       "      <td>1</td>\n",
       "      <td>0.00</td>\n",
       "      <td>2</td>\n",
       "      <td>0</td>\n",
       "      <td>0</td>\n",
       "      <td>93826.63</td>\n",
       "      <td>0</td>\n",
       "    </tr>\n",
       "    <tr>\n",
       "      <th>4</th>\n",
       "      <td>850</td>\n",
       "      <td>Spain</td>\n",
       "      <td>Female</td>\n",
       "      <td>43</td>\n",
       "      <td>2</td>\n",
       "      <td>125510.82</td>\n",
       "      <td>1</td>\n",
       "      <td>1</td>\n",
       "      <td>1</td>\n",
       "      <td>79084.10</td>\n",
       "      <td>0</td>\n",
       "    </tr>\n",
       "  </tbody>\n",
       "</table>\n",
       "</div>"
      ],
      "text/plain": [
       "   Score    Pais  Genero  Idade  Fidelidade      Saldo  QtdProdutos  \\\n",
       "0    619  France  Female     42           2       0.00            1   \n",
       "1    608   Spain  Female     41           1   83807.86            1   \n",
       "2    502  France  Female     42           8  159660.80            3   \n",
       "3    699  France  Female     39           1       0.00            2   \n",
       "4    850   Spain  Female     43           2  125510.82            1   \n",
       "\n",
       "   TemCartao  ClienteAtivo      Renda  Churn  \n",
       "0          1             1  101348.88      1  \n",
       "1          0             1  112542.58      0  \n",
       "2          1             0  113931.57      1  \n",
       "3          0             0   93826.63      0  \n",
       "4          1             1   79084.10      0  "
      ]
     },
     "execution_count": 5,
     "metadata": {},
     "output_type": "execute_result"
    }
   ],
   "source": [
    "#Criar lista com nome das novas variáveis\n",
    "novas_colunas = {\n",
    "    'CreditScore': 'Score',\n",
    "    'Geography': 'Pais',\n",
    "    'Gender': 'Genero',\n",
    "    'Age': 'Idade',\n",
    "    'Tenure': 'Fidelidade',\n",
    "    'Balance': 'Saldo',\n",
    "    'NumOfProducts': 'QtdProdutos',\n",
    "    'HasCrCard': 'TemCartao',\n",
    "    'IsActiveMember': 'ClienteAtivo',\n",
    "    'EstimatedSalary': 'Renda',\n",
    "    'Exited': 'Churn'\n",
    "    }\n",
    "#renomeando as variáveis\n",
    "df.rename(columns = novas_colunas, inplace = True)\n",
    "#\n",
    "del(novas_colunas)\n",
    "#\n",
    "df.head()"
   ]
  },
  {
   "cell_type": "markdown",
   "id": "e1de4d29",
   "metadata": {
    "papermill": {
     "duration": 0.01003,
     "end_time": "2023-05-25T04:10:27.136233",
     "exception": false,
     "start_time": "2023-05-25T04:10:27.126203",
     "status": "completed"
    },
    "tags": []
   },
   "source": [
    "### 3. EDA - Análise Exploratória"
   ]
  },
  {
   "cell_type": "code",
   "execution_count": 6,
   "id": "89bd03c9",
   "metadata": {
    "execution": {
     "iopub.execute_input": "2023-05-25T04:10:27.157999Z",
     "iopub.status.busy": "2023-05-25T04:10:27.157528Z",
     "iopub.status.idle": "2023-05-25T04:10:27.187658Z",
     "shell.execute_reply": "2023-05-25T04:10:27.186477Z"
    },
    "papermill": {
     "duration": 0.0445,
     "end_time": "2023-05-25T04:10:27.190683",
     "exception": false,
     "start_time": "2023-05-25T04:10:27.146183",
     "status": "completed"
    },
    "tags": []
   },
   "outputs": [
    {
     "name": "stdout",
     "output_type": "stream",
     "text": [
      "<class 'pandas.core.frame.DataFrame'>\n",
      "RangeIndex: 10000 entries, 0 to 9999\n",
      "Data columns (total 11 columns):\n",
      " #   Column        Non-Null Count  Dtype  \n",
      "---  ------        --------------  -----  \n",
      " 0   Score         10000 non-null  int64  \n",
      " 1   Pais          10000 non-null  object \n",
      " 2   Genero        10000 non-null  object \n",
      " 3   Idade         10000 non-null  int64  \n",
      " 4   Fidelidade    10000 non-null  int64  \n",
      " 5   Saldo         10000 non-null  float64\n",
      " 6   QtdProdutos   10000 non-null  int64  \n",
      " 7   TemCartao     10000 non-null  int64  \n",
      " 8   ClienteAtivo  10000 non-null  int64  \n",
      " 9   Renda         10000 non-null  float64\n",
      " 10  Churn         10000 non-null  int64  \n",
      "dtypes: float64(2), int64(7), object(2)\n",
      "memory usage: 859.5+ KB\n"
     ]
    }
   ],
   "source": [
    "#Informações sobre missing values e tipo das variáveis\n",
    "df.info()"
   ]
  },
  {
   "cell_type": "code",
   "execution_count": 7,
   "id": "3f00c0c1",
   "metadata": {
    "execution": {
     "iopub.execute_input": "2023-05-25T04:10:27.212901Z",
     "iopub.status.busy": "2023-05-25T04:10:27.212058Z",
     "iopub.status.idle": "2023-05-25T04:10:27.219888Z",
     "shell.execute_reply": "2023-05-25T04:10:27.218742Z"
    },
    "papermill": {
     "duration": 0.021799,
     "end_time": "2023-05-25T04:10:27.222364",
     "exception": false,
     "start_time": "2023-05-25T04:10:27.200565",
     "status": "completed"
    },
    "tags": []
   },
   "outputs": [
    {
     "data": {
      "text/plain": [
       "['Score',\n",
       " 'Pais',\n",
       " 'Genero',\n",
       " 'Idade',\n",
       " 'Fidelidade',\n",
       " 'Saldo',\n",
       " 'QtdProdutos',\n",
       " 'TemCartao',\n",
       " 'ClienteAtivo',\n",
       " 'Renda',\n",
       " 'Churn']"
      ]
     },
     "execution_count": 7,
     "metadata": {},
     "output_type": "execute_result"
    }
   ],
   "source": [
    "#Criar lista com o nome das colunas (variáveis)\n",
    "variaveis = df.columns.to_list()\n",
    "variaveis"
   ]
  },
  {
   "cell_type": "code",
   "execution_count": 8,
   "id": "8bbf9bd3",
   "metadata": {
    "execution": {
     "iopub.execute_input": "2023-05-25T04:10:27.244819Z",
     "iopub.status.busy": "2023-05-25T04:10:27.243928Z",
     "iopub.status.idle": "2023-05-25T04:10:27.261195Z",
     "shell.execute_reply": "2023-05-25T04:10:27.259834Z"
    },
    "papermill": {
     "duration": 0.031484,
     "end_time": "2023-05-25T04:10:27.263798",
     "exception": false,
     "start_time": "2023-05-25T04:10:27.232314",
     "status": "completed"
    },
    "tags": []
   },
   "outputs": [
    {
     "data": {
      "text/plain": [
       "Score            460\n",
       "Pais               3\n",
       "Genero             2\n",
       "Idade             70\n",
       "Fidelidade        11\n",
       "Saldo           6382\n",
       "QtdProdutos        4\n",
       "TemCartao          2\n",
       "ClienteAtivo       2\n",
       "Renda           9999\n",
       "Churn              2\n",
       "dtype: int64"
      ]
     },
     "execution_count": 8,
     "metadata": {},
     "output_type": "execute_result"
    }
   ],
   "source": [
    "#Mostrar a quantidade de registros em cada variável\n",
    "df[variaveis].nunique()"
   ]
  },
  {
   "cell_type": "code",
   "execution_count": 9,
   "id": "4aa198bb",
   "metadata": {
    "execution": {
     "iopub.execute_input": "2023-05-25T04:10:27.286915Z",
     "iopub.status.busy": "2023-05-25T04:10:27.286258Z",
     "iopub.status.idle": "2023-05-25T04:10:27.294186Z",
     "shell.execute_reply": "2023-05-25T04:10:27.293098Z"
    },
    "papermill": {
     "duration": 0.022474,
     "end_time": "2023-05-25T04:10:27.296472",
     "exception": false,
     "start_time": "2023-05-25T04:10:27.273998",
     "status": "completed"
    },
    "tags": []
   },
   "outputs": [
    {
     "data": {
      "text/plain": [
       "['Saldo', 'Renda']"
      ]
     },
     "execution_count": 9,
     "metadata": {},
     "output_type": "execute_result"
    }
   ],
   "source": [
    "# Listar variáveis quantitativa contínuas\n",
    "var_quantitativas_continuas = [\n",
    "    variavel for variavel in df.columns\n",
    "        if df[variavel].dtype == 'float64' and variavel not in 'Churn']\n",
    "var_quantitativas_continuas"
   ]
  },
  {
   "cell_type": "code",
   "execution_count": 10,
   "id": "5db8d023",
   "metadata": {
    "execution": {
     "iopub.execute_input": "2023-05-25T04:10:27.318993Z",
     "iopub.status.busy": "2023-05-25T04:10:27.318555Z",
     "iopub.status.idle": "2023-05-25T04:10:27.345308Z",
     "shell.execute_reply": "2023-05-25T04:10:27.343911Z"
    },
    "papermill": {
     "duration": 0.04139,
     "end_time": "2023-05-25T04:10:27.348049",
     "exception": false,
     "start_time": "2023-05-25T04:10:27.306659",
     "status": "completed"
    },
    "tags": []
   },
   "outputs": [
    {
     "data": {
      "text/html": [
       "<div>\n",
       "<style scoped>\n",
       "    .dataframe tbody tr th:only-of-type {\n",
       "        vertical-align: middle;\n",
       "    }\n",
       "\n",
       "    .dataframe tbody tr th {\n",
       "        vertical-align: top;\n",
       "    }\n",
       "\n",
       "    .dataframe thead th {\n",
       "        text-align: right;\n",
       "    }\n",
       "</style>\n",
       "<table border=\"1\" class=\"dataframe\">\n",
       "  <thead>\n",
       "    <tr style=\"text-align: right;\">\n",
       "      <th></th>\n",
       "      <th>count</th>\n",
       "      <th>mean</th>\n",
       "      <th>std</th>\n",
       "      <th>min</th>\n",
       "      <th>25%</th>\n",
       "      <th>50%</th>\n",
       "      <th>75%</th>\n",
       "      <th>max</th>\n",
       "    </tr>\n",
       "  </thead>\n",
       "  <tbody>\n",
       "    <tr>\n",
       "      <th>Saldo</th>\n",
       "      <td>10000.0</td>\n",
       "      <td>76485.889288</td>\n",
       "      <td>62397.405202</td>\n",
       "      <td>0.00</td>\n",
       "      <td>0.00</td>\n",
       "      <td>97198.540</td>\n",
       "      <td>127644.2400</td>\n",
       "      <td>250898.09</td>\n",
       "    </tr>\n",
       "    <tr>\n",
       "      <th>Renda</th>\n",
       "      <td>10000.0</td>\n",
       "      <td>100090.239881</td>\n",
       "      <td>57510.492818</td>\n",
       "      <td>11.58</td>\n",
       "      <td>51002.11</td>\n",
       "      <td>100193.915</td>\n",
       "      <td>149388.2475</td>\n",
       "      <td>199992.48</td>\n",
       "    </tr>\n",
       "  </tbody>\n",
       "</table>\n",
       "</div>"
      ],
      "text/plain": [
       "         count           mean           std    min       25%         50%  \\\n",
       "Saldo  10000.0   76485.889288  62397.405202   0.00      0.00   97198.540   \n",
       "Renda  10000.0  100090.239881  57510.492818  11.58  51002.11  100193.915   \n",
       "\n",
       "               75%        max  \n",
       "Saldo  127644.2400  250898.09  \n",
       "Renda  149388.2475  199992.48  "
      ]
     },
     "execution_count": 10,
     "metadata": {},
     "output_type": "execute_result"
    }
   ],
   "source": [
    "# Mostrar informaçõs estatísticas das variáveis quantitativas contínuas\n",
    "df[var_quantitativas_continuas].describe().T"
   ]
  },
  {
   "cell_type": "code",
   "execution_count": 11,
   "id": "bb13cc9f",
   "metadata": {
    "execution": {
     "iopub.execute_input": "2023-05-25T04:10:27.371384Z",
     "iopub.status.busy": "2023-05-25T04:10:27.370653Z",
     "iopub.status.idle": "2023-05-25T04:10:27.380723Z",
     "shell.execute_reply": "2023-05-25T04:10:27.379587Z"
    },
    "papermill": {
     "duration": 0.024645,
     "end_time": "2023-05-25T04:10:27.383369",
     "exception": false,
     "start_time": "2023-05-25T04:10:27.358724",
     "status": "completed"
    },
    "tags": []
   },
   "outputs": [
    {
     "data": {
      "text/plain": [
       "['Score', 'Idade', 'Fidelidade', 'QtdProdutos']"
      ]
     },
     "execution_count": 11,
     "metadata": {},
     "output_type": "execute_result"
    }
   ],
   "source": [
    "# Listar variáveis quantitativa discretas\n",
    "var_quantitativas_discretas = [\n",
    "    variavel for variavel in df.columns\n",
    "        if df[variavel].dtype == 'int64' and df[variavel].nunique() > 2 and variavel not in 'Churn']\n",
    "var_quantitativas_discretas"
   ]
  },
  {
   "cell_type": "code",
   "execution_count": 12,
   "id": "2b49b8ab",
   "metadata": {
    "execution": {
     "iopub.execute_input": "2023-05-25T04:10:27.407591Z",
     "iopub.status.busy": "2023-05-25T04:10:27.407131Z",
     "iopub.status.idle": "2023-05-25T04:10:27.440529Z",
     "shell.execute_reply": "2023-05-25T04:10:27.439317Z"
    },
    "papermill": {
     "duration": 0.049093,
     "end_time": "2023-05-25T04:10:27.443292",
     "exception": false,
     "start_time": "2023-05-25T04:10:27.394199",
     "status": "completed"
    },
    "tags": []
   },
   "outputs": [
    {
     "data": {
      "text/html": [
       "<div>\n",
       "<style scoped>\n",
       "    .dataframe tbody tr th:only-of-type {\n",
       "        vertical-align: middle;\n",
       "    }\n",
       "\n",
       "    .dataframe tbody tr th {\n",
       "        vertical-align: top;\n",
       "    }\n",
       "\n",
       "    .dataframe thead th {\n",
       "        text-align: right;\n",
       "    }\n",
       "</style>\n",
       "<table border=\"1\" class=\"dataframe\">\n",
       "  <thead>\n",
       "    <tr style=\"text-align: right;\">\n",
       "      <th></th>\n",
       "      <th>count</th>\n",
       "      <th>mean</th>\n",
       "      <th>std</th>\n",
       "      <th>min</th>\n",
       "      <th>25%</th>\n",
       "      <th>50%</th>\n",
       "      <th>75%</th>\n",
       "      <th>max</th>\n",
       "    </tr>\n",
       "  </thead>\n",
       "  <tbody>\n",
       "    <tr>\n",
       "      <th>Score</th>\n",
       "      <td>10000.0</td>\n",
       "      <td>650.5288</td>\n",
       "      <td>96.653299</td>\n",
       "      <td>350.0</td>\n",
       "      <td>584.0</td>\n",
       "      <td>652.0</td>\n",
       "      <td>718.0</td>\n",
       "      <td>850.0</td>\n",
       "    </tr>\n",
       "    <tr>\n",
       "      <th>Idade</th>\n",
       "      <td>10000.0</td>\n",
       "      <td>38.9218</td>\n",
       "      <td>10.487806</td>\n",
       "      <td>18.0</td>\n",
       "      <td>32.0</td>\n",
       "      <td>37.0</td>\n",
       "      <td>44.0</td>\n",
       "      <td>92.0</td>\n",
       "    </tr>\n",
       "    <tr>\n",
       "      <th>Fidelidade</th>\n",
       "      <td>10000.0</td>\n",
       "      <td>5.0128</td>\n",
       "      <td>2.892174</td>\n",
       "      <td>0.0</td>\n",
       "      <td>3.0</td>\n",
       "      <td>5.0</td>\n",
       "      <td>7.0</td>\n",
       "      <td>10.0</td>\n",
       "    </tr>\n",
       "    <tr>\n",
       "      <th>QtdProdutos</th>\n",
       "      <td>10000.0</td>\n",
       "      <td>1.5302</td>\n",
       "      <td>0.581654</td>\n",
       "      <td>1.0</td>\n",
       "      <td>1.0</td>\n",
       "      <td>1.0</td>\n",
       "      <td>2.0</td>\n",
       "      <td>4.0</td>\n",
       "    </tr>\n",
       "  </tbody>\n",
       "</table>\n",
       "</div>"
      ],
      "text/plain": [
       "               count      mean        std    min    25%    50%    75%    max\n",
       "Score        10000.0  650.5288  96.653299  350.0  584.0  652.0  718.0  850.0\n",
       "Idade        10000.0   38.9218  10.487806   18.0   32.0   37.0   44.0   92.0\n",
       "Fidelidade   10000.0    5.0128   2.892174    0.0    3.0    5.0    7.0   10.0\n",
       "QtdProdutos  10000.0    1.5302   0.581654    1.0    1.0    1.0    2.0    4.0"
      ]
     },
     "execution_count": 12,
     "metadata": {},
     "output_type": "execute_result"
    }
   ],
   "source": [
    "# Mostrar informaçõs estatísticas das variáveis quantitativas discretas\n",
    "df[var_quantitativas_discretas].describe().T"
   ]
  },
  {
   "cell_type": "code",
   "execution_count": 13,
   "id": "f6216682",
   "metadata": {
    "execution": {
     "iopub.execute_input": "2023-05-25T04:10:27.467653Z",
     "iopub.status.busy": "2023-05-25T04:10:27.467269Z",
     "iopub.status.idle": "2023-05-25T04:10:27.475370Z",
     "shell.execute_reply": "2023-05-25T04:10:27.474189Z"
    },
    "papermill": {
     "duration": 0.02339,
     "end_time": "2023-05-25T04:10:27.478064",
     "exception": false,
     "start_time": "2023-05-25T04:10:27.454674",
     "status": "completed"
    },
    "tags": []
   },
   "outputs": [
    {
     "data": {
      "text/plain": [
       "['Pais', 'Genero']"
      ]
     },
     "execution_count": 13,
     "metadata": {},
     "output_type": "execute_result"
    }
   ],
   "source": [
    "# Listar variáveis qualitativas nominais\n",
    "var_qualitativas_nominais = [\n",
    "    variavel for variavel in df.columns\n",
    "        if df[variavel].dtype == 'object' and variavel not in 'Churn']\n",
    "var_qualitativas_nominais"
   ]
  },
  {
   "cell_type": "code",
   "execution_count": 14,
   "id": "c89b90eb",
   "metadata": {
    "execution": {
     "iopub.execute_input": "2023-05-25T04:10:27.502848Z",
     "iopub.status.busy": "2023-05-25T04:10:27.502445Z",
     "iopub.status.idle": "2023-05-25T04:10:27.525517Z",
     "shell.execute_reply": "2023-05-25T04:10:27.524248Z"
    },
    "papermill": {
     "duration": 0.038391,
     "end_time": "2023-05-25T04:10:27.528019",
     "exception": false,
     "start_time": "2023-05-25T04:10:27.489628",
     "status": "completed"
    },
    "tags": []
   },
   "outputs": [
    {
     "data": {
      "text/html": [
       "<div>\n",
       "<style scoped>\n",
       "    .dataframe tbody tr th:only-of-type {\n",
       "        vertical-align: middle;\n",
       "    }\n",
       "\n",
       "    .dataframe tbody tr th {\n",
       "        vertical-align: top;\n",
       "    }\n",
       "\n",
       "    .dataframe thead th {\n",
       "        text-align: right;\n",
       "    }\n",
       "</style>\n",
       "<table border=\"1\" class=\"dataframe\">\n",
       "  <thead>\n",
       "    <tr style=\"text-align: right;\">\n",
       "      <th></th>\n",
       "      <th>count</th>\n",
       "      <th>unique</th>\n",
       "      <th>top</th>\n",
       "      <th>freq</th>\n",
       "    </tr>\n",
       "  </thead>\n",
       "  <tbody>\n",
       "    <tr>\n",
       "      <th>Pais</th>\n",
       "      <td>10000</td>\n",
       "      <td>3</td>\n",
       "      <td>France</td>\n",
       "      <td>5014</td>\n",
       "    </tr>\n",
       "    <tr>\n",
       "      <th>Genero</th>\n",
       "      <td>10000</td>\n",
       "      <td>2</td>\n",
       "      <td>Male</td>\n",
       "      <td>5457</td>\n",
       "    </tr>\n",
       "  </tbody>\n",
       "</table>\n",
       "</div>"
      ],
      "text/plain": [
       "        count unique     top  freq\n",
       "Pais    10000      3  France  5014\n",
       "Genero  10000      2    Male  5457"
      ]
     },
     "execution_count": 14,
     "metadata": {},
     "output_type": "execute_result"
    }
   ],
   "source": [
    "# Mostrar informaçõs estatísticas das variáveis qualitativas nominais\n",
    "df[var_qualitativas_nominais].describe().T"
   ]
  },
  {
   "cell_type": "code",
   "execution_count": 15,
   "id": "b823bccb",
   "metadata": {
    "execution": {
     "iopub.execute_input": "2023-05-25T04:10:27.552576Z",
     "iopub.status.busy": "2023-05-25T04:10:27.552138Z",
     "iopub.status.idle": "2023-05-25T04:10:27.562659Z",
     "shell.execute_reply": "2023-05-25T04:10:27.561377Z"
    },
    "papermill": {
     "duration": 0.025828,
     "end_time": "2023-05-25T04:10:27.565136",
     "exception": false,
     "start_time": "2023-05-25T04:10:27.539308",
     "status": "completed"
    },
    "tags": []
   },
   "outputs": [
    {
     "data": {
      "text/plain": [
       "France     5014\n",
       "Germany    2509\n",
       "Spain      2477\n",
       "Name: Pais, dtype: int64"
      ]
     },
     "execution_count": 15,
     "metadata": {},
     "output_type": "execute_result"
    }
   ],
   "source": [
    "#Alterando o conteúdo das variáveis categóricas\n",
    "#* Localização\n",
    "df['Pais'].value_counts()"
   ]
  },
  {
   "cell_type": "code",
   "execution_count": 16,
   "id": "e48cfcb3",
   "metadata": {
    "execution": {
     "iopub.execute_input": "2023-05-25T04:10:27.590590Z",
     "iopub.status.busy": "2023-05-25T04:10:27.590152Z",
     "iopub.status.idle": "2023-05-25T04:10:27.604093Z",
     "shell.execute_reply": "2023-05-25T04:10:27.603130Z"
    },
    "papermill": {
     "duration": 0.029552,
     "end_time": "2023-05-25T04:10:27.606606",
     "exception": false,
     "start_time": "2023-05-25T04:10:27.577054",
     "status": "completed"
    },
    "tags": []
   },
   "outputs": [
    {
     "data": {
      "text/plain": [
       "array(['França', 'Espanha', 'Alemanha'], dtype=object)"
      ]
     },
     "execution_count": 16,
     "metadata": {},
     "output_type": "execute_result"
    }
   ],
   "source": [
    "#Alterando os valores da variável #Localização\n",
    "df['Pais'].replace({\n",
    "    'France' : 'França',\n",
    "    'Germany' : 'Alemanha',\n",
    "    'Spain' : 'Espanha'\n",
    "}, inplace = True)\n",
    "#\n",
    "df['Pais'].unique()"
   ]
  },
  {
   "cell_type": "code",
   "execution_count": 17,
   "id": "b238305f",
   "metadata": {
    "execution": {
     "iopub.execute_input": "2023-05-25T04:10:27.631952Z",
     "iopub.status.busy": "2023-05-25T04:10:27.631434Z",
     "iopub.status.idle": "2023-05-25T04:10:27.642437Z",
     "shell.execute_reply": "2023-05-25T04:10:27.641270Z"
    },
    "papermill": {
     "duration": 0.02669,
     "end_time": "2023-05-25T04:10:27.645173",
     "exception": false,
     "start_time": "2023-05-25T04:10:27.618483",
     "status": "completed"
    },
    "tags": []
   },
   "outputs": [
    {
     "data": {
      "text/plain": [
       "Male      5457\n",
       "Female    4543\n",
       "Name: Genero, dtype: int64"
      ]
     },
     "execution_count": 17,
     "metadata": {},
     "output_type": "execute_result"
    }
   ],
   "source": [
    "#Alterando o conteúdo das variáveis categóricas\n",
    "#* Gênero\n",
    "df['Genero'].value_counts()"
   ]
  },
  {
   "cell_type": "code",
   "execution_count": 18,
   "id": "f1f863b1",
   "metadata": {
    "execution": {
     "iopub.execute_input": "2023-05-25T04:10:27.670917Z",
     "iopub.status.busy": "2023-05-25T04:10:27.670470Z",
     "iopub.status.idle": "2023-05-25T04:10:27.683314Z",
     "shell.execute_reply": "2023-05-25T04:10:27.682203Z"
    },
    "papermill": {
     "duration": 0.02889,
     "end_time": "2023-05-25T04:10:27.685985",
     "exception": false,
     "start_time": "2023-05-25T04:10:27.657095",
     "status": "completed"
    },
    "tags": []
   },
   "outputs": [
    {
     "data": {
      "text/plain": [
       "array(['Feminino', 'Masculino'], dtype=object)"
      ]
     },
     "execution_count": 18,
     "metadata": {},
     "output_type": "execute_result"
    }
   ],
   "source": [
    "#Alterando os valores da variável #Localização\n",
    "#* Gênero\n",
    "df['Genero'].replace({\n",
    "    'Male' : 'Masculino',\n",
    "    'Female' : 'Feminino'\n",
    "}, inplace = True)\n",
    "#\n",
    "df['Genero'].unique()"
   ]
  },
  {
   "cell_type": "code",
   "execution_count": 19,
   "id": "e76be8f4",
   "metadata": {
    "execution": {
     "iopub.execute_input": "2023-05-25T04:10:27.711970Z",
     "iopub.status.busy": "2023-05-25T04:10:27.711543Z",
     "iopub.status.idle": "2023-05-25T04:10:27.721352Z",
     "shell.execute_reply": "2023-05-25T04:10:27.720219Z"
    },
    "papermill": {
     "duration": 0.026051,
     "end_time": "2023-05-25T04:10:27.724012",
     "exception": false,
     "start_time": "2023-05-25T04:10:27.697961",
     "status": "completed"
    },
    "tags": []
   },
   "outputs": [
    {
     "data": {
      "text/plain": [
       "['TemCartao', 'ClienteAtivo']"
      ]
     },
     "execution_count": 19,
     "metadata": {},
     "output_type": "execute_result"
    }
   ],
   "source": [
    "# Listar variáveis qualitativas ordinais\n",
    "var_qualitativas_ordinais = [\n",
    "    variavel for variavel in df.columns\n",
    "        if df[variavel].dtype == 'int64' and df[variavel].nunique() == 2 and variavel not in 'Churn']\n",
    "var_qualitativas_ordinais"
   ]
  },
  {
   "cell_type": "markdown",
   "id": "119f6e7c",
   "metadata": {
    "papermill": {
     "duration": 0.011865,
     "end_time": "2023-05-25T04:10:27.748165",
     "exception": false,
     "start_time": "2023-05-25T04:10:27.736300",
     "status": "completed"
    },
    "tags": []
   },
   "source": [
    "#### 3.1. Análise univariada"
   ]
  },
  {
   "cell_type": "code",
   "execution_count": 20,
   "id": "f5efd5e1",
   "metadata": {
    "execution": {
     "iopub.execute_input": "2023-05-25T04:10:27.774208Z",
     "iopub.status.busy": "2023-05-25T04:10:27.773778Z",
     "iopub.status.idle": "2023-05-25T04:10:27.780866Z",
     "shell.execute_reply": "2023-05-25T04:10:27.779697Z"
    },
    "papermill": {
     "duration": 0.023195,
     "end_time": "2023-05-25T04:10:27.783326",
     "exception": false,
     "start_time": "2023-05-25T04:10:27.760131",
     "status": "completed"
    },
    "tags": []
   },
   "outputs": [],
   "source": [
    "# Definição do Tema do Seaborn\n",
    "sns.set_theme(\n",
    "    context = 'paper', style = 'whitegrid', palette = 'muted',\n",
    "    font = 'sans-serif', font_scale = 1, color_codes = True, \n",
    "    rc = None\n",
    ")"
   ]
  },
  {
   "cell_type": "markdown",
   "id": "9839da4e",
   "metadata": {
    "papermill": {
     "duration": 0.012153,
     "end_time": "2023-05-25T04:10:27.807855",
     "exception": false,
     "start_time": "2023-05-25T04:10:27.795702",
     "status": "completed"
    },
    "tags": []
   },
   "source": [
    "##### 3.1.1. Score de Crédito"
   ]
  },
  {
   "cell_type": "code",
   "execution_count": 21,
   "id": "2974a09f",
   "metadata": {
    "execution": {
     "iopub.execute_input": "2023-05-25T04:10:27.834493Z",
     "iopub.status.busy": "2023-05-25T04:10:27.834065Z",
     "iopub.status.idle": "2023-05-25T04:10:28.477863Z",
     "shell.execute_reply": "2023-05-25T04:10:28.477002Z"
    },
    "papermill": {
     "duration": 0.66,
     "end_time": "2023-05-25T04:10:28.480488",
     "exception": false,
     "start_time": "2023-05-25T04:10:27.820488",
     "status": "completed"
    },
    "tags": []
   },
   "outputs": [
    {
     "data": {
      "text/plain": [
       "<AxesSubplot: xlabel='Score'>"
      ]
     },
     "execution_count": 21,
     "metadata": {},
     "output_type": "execute_result"
    },
    {
     "data": {
      "image/png": "[encoded data removed]",
      "text/plain": [
       "<Figure size 640x480 with 2 Axes>"
      ]
     },
     "metadata": {},
     "output_type": "display_data"
    }
   ],
   "source": [
    "#Criação dos subplots\n",
    "fig, axs = plt.subplots(ncols = 1, nrows = 2, sharex=True, height_ratios=[0.8, 0.2])\n",
    "#Título da imagem\n",
    "plt.suptitle('Distribuição do Score de Crédito')\n",
    "#Gráfico 1 - Histograma\n",
    "sns.histplot(x = df['Score'], kde = True, ax = axs[0], stat = 'count', cumulative = False)\n",
    "#Gráfico 2 - Boxplot\n",
    "sns.boxplot(x = df['Score'], fliersize = 2, notch = True, ax = axs[1])"
   ]
  }
 ],
 "metadata": {
  "kernelspec": {
   "display_name": "Python 3",
   "language": "python",
   "name": "python3"
  },
  "language_info": {
   "codemirror_mode": {
    "name": "ipython",
    "version": 3
   },
   "file_extension": ".py",
   "mimetype": "text/x-python",
   "name": "python",
   "nbconvert_exporter": "python",
   "pygments_lexer": "ipython3",
   "version": "3.10.10"
  },
  "papermill": {
   "default_parameters": {},
   "duration": 18.9281,
   "end_time": "2023-05-25T04:10:29.522446",
   "environment_variables": {},
   "exception": null,
   "input_path": "__notebook__.ipynb",
   "output_path": "__notebook__.ipynb",
   "parameters": {},
   "start_time": "2023-05-25T04:10:10.594346",
   "version": "2.4.0"
  }
 },
 "nbformat": 4,
 "nbformat_minor": 5
}
