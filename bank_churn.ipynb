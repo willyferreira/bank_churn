{
  "cells": [
    {
      "cell_type": "markdown",
      "metadata": {
        "colab_type": "text",
        "id": "view-in-github"
      },
      "source": [
        "<a href=\"https://colab.research.google.com/github/willyferreira/bank/blob/main/bank_churn.ipynb\" target=\"_parent\"><img src=\"https://colab.research.google.com/assets/colab-badge.svg\" alt=\"Open In Colab\"/></a>"
      ]
    },
    {
      "cell_type": "markdown",
      "metadata": {
        "id": "aYnq6RYAmYlI"
      },
      "source": [
        "<h1>Bank Customer Churn Prediction</h1>"
      ]
    },
    {
      "cell_type": "markdown",
      "metadata": {
        "id": "91M6f9MBmYlK"
      },
      "source": [
        "https://www.kaggle.com/datasets/mathchi/churn-for-bank-customers"
      ]
    },
    {
      "cell_type": "code",
      "execution_count": null,
      "metadata": {
        "id": "alQZazn0mYlK"
      },
      "outputs": [],
      "source": [
        "#Author: Willy Ferreira\n",
        "#Date: 28/02/2023\n",
        "#Link: https://github.com/willyferreira/bank"
      ]
    },
    {
      "cell_type": "markdown",
      "metadata": {
        "id": "bj3y1adtmYlL"
      },
      "source": [
        "<h3>1. Instalação e importação dos pacotes</h3>"
      ]
    },
    {
      "cell_type": "markdown",
      "metadata": {
        "id": "IN1U9t-omYlL"
      },
      "source": [
        "<h4>1.1. Instalação</h4>"
      ]
    },
    {
      "cell_type": "code",
      "execution_count": null,
      "metadata": {
        "id": "cp4RyqfumYlL"
      },
      "outputs": [],
      "source": [
        "##Processamento e análise de dados\n",
        "%pip install numpy\n",
        "\n",
        "##Biblioteca para manipulação de dados\n",
        "%pip install pandas\n",
        "\n",
        "##Criação de gráficos interativos \n",
        "%pip install plotly\n",
        "\n",
        "##Análise rápida de dados\n",
        "%pip install pandas_profiling\n",
        "\n",
        "##Interface gráfica para Jupyter\n",
        "#%pip install ipywidgets\n",
        "\n",
        "##Criação de gráficos\n",
        "%pip install matplotlib\n",
        "\n",
        "##Criação de tabelas\n",
        "%pip install chart_studio\n",
        "\n",
        "#Criação de dashboards interativos\n",
        "#%pip install dash"
      ]
    },
    {
      "cell_type": "markdown",
      "metadata": {
        "id": "owQKueR4mYlM"
      },
      "source": [
        "<h4>1.2. Importação</h4>"
      ]
    },
    {
      "cell_type": "code",
      "execution_count": 1,
      "metadata": {
        "id": "Ca0qsSkSmYlM"
      },
      "outputs": [],
      "source": [
        "import numpy as np\n",
        "import pandas as pd\n",
        "import plotly.express as px\n",
        "import plotly.graph_objects as go\n",
        "import matplotlib.pyplot\n",
        "\n",
        "# import chart_studio.plotly as py\n",
        "# import plotly.figure_factory as ff\n",
        "\n",
        "#import dash\n",
        "#from dash import Dash, html, dcc\n",
        "# \n",
        "#from pandas_profiling import ProfileReport\n",
        "#import ipywidgets"
      ]
    },
    {
      "cell_type": "markdown",
      "metadata": {
        "id": "I5Y9_J-knajK"
      },
      "source": [
        "1.2.1. Integrando o Kaggle com o Google Colab"
      ]
    },
    {
      "cell_type": "code",
      "execution_count": null,
      "metadata": {
        "colab": {
          "base_uri": "https://localhost:8080/",
          "height": 107
        },
        "id": "TXujYz2lngJg",
        "outputId": "6fde9176-51bf-4c20-d5a1-e32131aa7031"
      },
      "outputs": [
        {
          "data": {
            "text/html": [
              "\n",
              "     <input type=\"file\" id=\"files-fd3fd2c5-8055-460b-ae9e-ea4ac0a3ed41\" name=\"files[]\" multiple disabled\n",
              "        style=\"border:none\" />\n",
              "     <output id=\"result-fd3fd2c5-8055-460b-ae9e-ea4ac0a3ed41\">\n",
              "      Upload widget is only available when the cell has been executed in the\n",
              "      current browser session. Please rerun this cell to enable.\n",
              "      </output>\n",
              "      <script>// Copyright 2017 Google LLC\n",
              "//\n",
              "// Licensed under the Apache License, Version 2.0 (the \"License\");\n",
              "// you may not use this file except in compliance with the License.\n",
              "// You may obtain a copy of the License at\n",
              "//\n",
              "//      http://www.apache.org/licenses/LICENSE-2.0\n",
              "//\n",
              "// Unless required by applicable law or agreed to in writing, software\n",
              "// distributed under the License is distributed on an \"AS IS\" BASIS,\n",
              "// WITHOUT WARRANTIES OR CONDITIONS OF ANY KIND, either express or implied.\n",
              "// See the License for the specific language governing permissions and\n",
              "// limitations under the License.\n",
              "\n",
              "/**\n",
              " * @fileoverview Helpers for google.colab Python module.\n",
              " */\n",
              "(function(scope) {\n",
              "function span(text, styleAttributes = {}) {\n",
              "  const element = document.createElement('span');\n",
              "  element.textContent = text;\n",
              "  for (const key of Object.keys(styleAttributes)) {\n",
              "    element.style[key] = styleAttributes[key];\n",
              "  }\n",
              "  return element;\n",
              "}\n",
              "\n",
              "// Max number of bytes which will be uploaded at a time.\n",
              "const MAX_PAYLOAD_SIZE = 100 * 1024;\n",
              "\n",
              "function _uploadFiles(inputId, outputId) {\n",
              "  const steps = uploadFilesStep(inputId, outputId);\n",
              "  const outputElement = document.getElementById(outputId);\n",
              "  // Cache steps on the outputElement to make it available for the next call\n",
              "  // to uploadFilesContinue from Python.\n",
              "  outputElement.steps = steps;\n",
              "\n",
              "  return _uploadFilesContinue(outputId);\n",
              "}\n",
              "\n",
              "// This is roughly an async generator (not supported in the browser yet),\n",
              "// where there are multiple asynchronous steps and the Python side is going\n",
              "// to poll for completion of each step.\n",
              "// This uses a Promise to block the python side on completion of each step,\n",
              "// then passes the result of the previous step as the input to the next step.\n",
              "function _uploadFilesContinue(outputId) {\n",
              "  const outputElement = document.getElementById(outputId);\n",
              "  const steps = outputElement.steps;\n",
              "\n",
              "  const next = steps.next(outputElement.lastPromiseValue);\n",
              "  return Promise.resolve(next.value.promise).then((value) => {\n",
              "    // Cache the last promise value to make it available to the next\n",
              "    // step of the generator.\n",
              "    outputElement.lastPromiseValue = value;\n",
              "    return next.value.response;\n",
              "  });\n",
              "}\n",
              "\n",
              "/**\n",
              " * Generator function which is called between each async step of the upload\n",
              " * process.\n",
              " * @param {string} inputId Element ID of the input file picker element.\n",
              " * @param {string} outputId Element ID of the output display.\n",
              " * @return {!Iterable<!Object>} Iterable of next steps.\n",
              " */\n",
              "function* uploadFilesStep(inputId, outputId) {\n",
              "  const inputElement = document.getElementById(inputId);\n",
              "  inputElement.disabled = false;\n",
              "\n",
              "  const outputElement = document.getElementById(outputId);\n",
              "  outputElement.innerHTML = '';\n",
              "\n",
              "  const pickedPromise = new Promise((resolve) => {\n",
              "    inputElement.addEventListener('change', (e) => {\n",
              "      resolve(e.target.files);\n",
              "    });\n",
              "  });\n",
              "\n",
              "  const cancel = document.createElement('button');\n",
              "  inputElement.parentElement.appendChild(cancel);\n",
              "  cancel.textContent = 'Cancel upload';\n",
              "  const cancelPromise = new Promise((resolve) => {\n",
              "    cancel.onclick = () => {\n",
              "      resolve(null);\n",
              "    };\n",
              "  });\n",
              "\n",
              "  // Wait for the user to pick the files.\n",
              "  const files = yield {\n",
              "    promise: Promise.race([pickedPromise, cancelPromise]),\n",
              "    response: {\n",
              "      action: 'starting',\n",
              "    }\n",
              "  };\n",
              "\n",
              "  cancel.remove();\n",
              "\n",
              "  // Disable the input element since further picks are not allowed.\n",
              "  inputElement.disabled = true;\n",
              "\n",
              "  if (!files) {\n",
              "    return {\n",
              "      response: {\n",
              "        action: 'complete',\n",
              "      }\n",
              "    };\n",
              "  }\n",
              "\n",
              "  for (const file of files) {\n",
              "    const li = document.createElement('li');\n",
              "    li.append(span(file.name, {fontWeight: 'bold'}));\n",
              "    li.append(span(\n",
              "        `(${file.type || 'n/a'}) - ${file.size} bytes, ` +\n",
              "        `last modified: ${\n",
              "            file.lastModifiedDate ? file.lastModifiedDate.toLocaleDateString() :\n",
              "                                    'n/a'} - `));\n",
              "    const percent = span('0% done');\n",
              "    li.appendChild(percent);\n",
              "\n",
              "    outputElement.appendChild(li);\n",
              "\n",
              "    const fileDataPromise = new Promise((resolve) => {\n",
              "      const reader = new FileReader();\n",
              "      reader.onload = (e) => {\n",
              "        resolve(e.target.result);\n",
              "      };\n",
              "      reader.readAsArrayBuffer(file);\n",
              "    });\n",
              "    // Wait for the data to be ready.\n",
              "    let fileData = yield {\n",
              "      promise: fileDataPromise,\n",
              "      response: {\n",
              "        action: 'continue',\n",
              "      }\n",
              "    };\n",
              "\n",
              "    // Use a chunked sending to avoid message size limits. See b/62115660.\n",
              "    let position = 0;\n",
              "    do {\n",
              "      const length = Math.min(fileData.byteLength - position, MAX_PAYLOAD_SIZE);\n",
              "      const chunk = new Uint8Array(fileData, position, length);\n",
              "      position += length;\n",
              "\n",
              "      const base64 = btoa(String.fromCharCode.apply(null, chunk));\n",
              "      yield {\n",
              "        response: {\n",
              "          action: 'append',\n",
              "          file: file.name,\n",
              "          data: base64,\n",
              "        },\n",
              "      };\n",
              "\n",
              "      let percentDone = fileData.byteLength === 0 ?\n",
              "          100 :\n",
              "          Math.round((position / fileData.byteLength) * 100);\n",
              "      percent.textContent = `${percentDone}% done`;\n",
              "\n",
              "    } while (position < fileData.byteLength);\n",
              "  }\n",
              "\n",
              "  // All done.\n",
              "  yield {\n",
              "    response: {\n",
              "      action: 'complete',\n",
              "    }\n",
              "  };\n",
              "}\n",
              "\n",
              "scope.google = scope.google || {};\n",
              "scope.google.colab = scope.google.colab || {};\n",
              "scope.google.colab._files = {\n",
              "  _uploadFiles,\n",
              "  _uploadFilesContinue,\n",
              "};\n",
              "})(self);\n",
              "</script> "
            ],
            "text/plain": [
              "<IPython.core.display.HTML object>"
            ]
          },
          "metadata": {},
          "output_type": "display_data"
        },
        {
          "name": "stdout",
          "output_type": "stream",
          "text": [
            "Saving kaggle.json to kaggle.json\n"
          ]
        },
        {
          "data": {
            "text/plain": [
              "{'kaggle.json': b'{\"username\":\"willyferreira\",\"key\":\"a49c6f93ab9dc09260b30c1deef78b34\"}'}"
            ]
          },
          "execution_count": 1,
          "metadata": {},
          "output_type": "execute_result"
        }
      ],
      "source": [
        "from google.colab import files\n",
        "files.upload()"
      ]
    },
    {
      "cell_type": "markdown",
      "metadata": {
        "id": "V0BuQAahmYlM"
      },
      "source": [
        "<h3>2. Importação do dataset e demais tratamentos</h3>"
      ]
    },
    {
      "cell_type": "code",
      "execution_count": 2,
      "metadata": {
        "id": "HTD7MmLemYlM"
      },
      "outputs": [
        {
          "ename": "FileNotFoundError",
          "evalue": "[Errno 2] No such file or directory: 'churn.csv'",
          "output_type": "error",
          "traceback": [
            "\u001b[1;31m---------------------------------------------------------------------------\u001b[0m",
            "\u001b[1;31mFileNotFoundError\u001b[0m                         Traceback (most recent call last)",
            "Cell \u001b[1;32mIn[2], line 1\u001b[0m\n\u001b[1;32m----> 1\u001b[0m df_original \u001b[39m=\u001b[39m pd\u001b[39m.\u001b[39;49mread_csv(\n\u001b[0;32m      2\u001b[0m     filepath_or_buffer \u001b[39m=\u001b[39;49m \u001b[39m'\u001b[39;49m\u001b[39mchurn.csv\u001b[39;49m\u001b[39m'\u001b[39;49m, \u001b[39m#arquivo\u001b[39;49;00m\n\u001b[0;32m      3\u001b[0m     sep \u001b[39m=\u001b[39;49m \u001b[39m'\u001b[39;49m\u001b[39m,\u001b[39;49m\u001b[39m'\u001b[39;49m, \u001b[39m#separação dos valores\u001b[39;49;00m\n\u001b[0;32m      4\u001b[0m     header \u001b[39m=\u001b[39;49m \u001b[39m0\u001b[39;49m, \u001b[39m#o meu arquivo tem um cabeçalho\u001b[39;49;00m\n\u001b[0;32m      5\u001b[0m     )\n\u001b[0;32m      7\u001b[0m \u001b[39m#mostra os 5 primeiros registros\u001b[39;00m\n\u001b[0;32m      8\u001b[0m df_original\u001b[39m.\u001b[39mhead() \n",
            "File \u001b[1;32mc:\\Users\\Willy\\AppData\\Local\\Programs\\Python\\Python311\\Lib\\site-packages\\pandas\\util\\_decorators.py:211\u001b[0m, in \u001b[0;36mdeprecate_kwarg.<locals>._deprecate_kwarg.<locals>.wrapper\u001b[1;34m(*args, **kwargs)\u001b[0m\n\u001b[0;32m    209\u001b[0m     \u001b[39melse\u001b[39;00m:\n\u001b[0;32m    210\u001b[0m         kwargs[new_arg_name] \u001b[39m=\u001b[39m new_arg_value\n\u001b[1;32m--> 211\u001b[0m \u001b[39mreturn\u001b[39;00m func(\u001b[39m*\u001b[39;49margs, \u001b[39m*\u001b[39;49m\u001b[39m*\u001b[39;49mkwargs)\n",
            "File \u001b[1;32mc:\\Users\\Willy\\AppData\\Local\\Programs\\Python\\Python311\\Lib\\site-packages\\pandas\\util\\_decorators.py:331\u001b[0m, in \u001b[0;36mdeprecate_nonkeyword_arguments.<locals>.decorate.<locals>.wrapper\u001b[1;34m(*args, **kwargs)\u001b[0m\n\u001b[0;32m    325\u001b[0m \u001b[39mif\u001b[39;00m \u001b[39mlen\u001b[39m(args) \u001b[39m>\u001b[39m num_allow_args:\n\u001b[0;32m    326\u001b[0m     warnings\u001b[39m.\u001b[39mwarn(\n\u001b[0;32m    327\u001b[0m         msg\u001b[39m.\u001b[39mformat(arguments\u001b[39m=\u001b[39m_format_argument_list(allow_args)),\n\u001b[0;32m    328\u001b[0m         \u001b[39mFutureWarning\u001b[39;00m,\n\u001b[0;32m    329\u001b[0m         stacklevel\u001b[39m=\u001b[39mfind_stack_level(),\n\u001b[0;32m    330\u001b[0m     )\n\u001b[1;32m--> 331\u001b[0m \u001b[39mreturn\u001b[39;00m func(\u001b[39m*\u001b[39;49margs, \u001b[39m*\u001b[39;49m\u001b[39m*\u001b[39;49mkwargs)\n",
            "File \u001b[1;32mc:\\Users\\Willy\\AppData\\Local\\Programs\\Python\\Python311\\Lib\\site-packages\\pandas\\io\\parsers\\readers.py:950\u001b[0m, in \u001b[0;36mread_csv\u001b[1;34m(filepath_or_buffer, sep, delimiter, header, names, index_col, usecols, squeeze, prefix, mangle_dupe_cols, dtype, engine, converters, true_values, false_values, skipinitialspace, skiprows, skipfooter, nrows, na_values, keep_default_na, na_filter, verbose, skip_blank_lines, parse_dates, infer_datetime_format, keep_date_col, date_parser, dayfirst, cache_dates, iterator, chunksize, compression, thousands, decimal, lineterminator, quotechar, quoting, doublequote, escapechar, comment, encoding, encoding_errors, dialect, error_bad_lines, warn_bad_lines, on_bad_lines, delim_whitespace, low_memory, memory_map, float_precision, storage_options)\u001b[0m\n\u001b[0;32m    935\u001b[0m kwds_defaults \u001b[39m=\u001b[39m _refine_defaults_read(\n\u001b[0;32m    936\u001b[0m     dialect,\n\u001b[0;32m    937\u001b[0m     delimiter,\n\u001b[1;32m   (...)\u001b[0m\n\u001b[0;32m    946\u001b[0m     defaults\u001b[39m=\u001b[39m{\u001b[39m\"\u001b[39m\u001b[39mdelimiter\u001b[39m\u001b[39m\"\u001b[39m: \u001b[39m\"\u001b[39m\u001b[39m,\u001b[39m\u001b[39m\"\u001b[39m},\n\u001b[0;32m    947\u001b[0m )\n\u001b[0;32m    948\u001b[0m kwds\u001b[39m.\u001b[39mupdate(kwds_defaults)\n\u001b[1;32m--> 950\u001b[0m \u001b[39mreturn\u001b[39;00m _read(filepath_or_buffer, kwds)\n",
            "File \u001b[1;32mc:\\Users\\Willy\\AppData\\Local\\Programs\\Python\\Python311\\Lib\\site-packages\\pandas\\io\\parsers\\readers.py:605\u001b[0m, in \u001b[0;36m_read\u001b[1;34m(filepath_or_buffer, kwds)\u001b[0m\n\u001b[0;32m    602\u001b[0m _validate_names(kwds\u001b[39m.\u001b[39mget(\u001b[39m\"\u001b[39m\u001b[39mnames\u001b[39m\u001b[39m\"\u001b[39m, \u001b[39mNone\u001b[39;00m))\n\u001b[0;32m    604\u001b[0m \u001b[39m# Create the parser.\u001b[39;00m\n\u001b[1;32m--> 605\u001b[0m parser \u001b[39m=\u001b[39m TextFileReader(filepath_or_buffer, \u001b[39m*\u001b[39;49m\u001b[39m*\u001b[39;49mkwds)\n\u001b[0;32m    607\u001b[0m \u001b[39mif\u001b[39;00m chunksize \u001b[39mor\u001b[39;00m iterator:\n\u001b[0;32m    608\u001b[0m     \u001b[39mreturn\u001b[39;00m parser\n",
            "File \u001b[1;32mc:\\Users\\Willy\\AppData\\Local\\Programs\\Python\\Python311\\Lib\\site-packages\\pandas\\io\\parsers\\readers.py:1442\u001b[0m, in \u001b[0;36mTextFileReader.__init__\u001b[1;34m(self, f, engine, **kwds)\u001b[0m\n\u001b[0;32m   1439\u001b[0m     \u001b[39mself\u001b[39m\u001b[39m.\u001b[39moptions[\u001b[39m\"\u001b[39m\u001b[39mhas_index_names\u001b[39m\u001b[39m\"\u001b[39m] \u001b[39m=\u001b[39m kwds[\u001b[39m\"\u001b[39m\u001b[39mhas_index_names\u001b[39m\u001b[39m\"\u001b[39m]\n\u001b[0;32m   1441\u001b[0m \u001b[39mself\u001b[39m\u001b[39m.\u001b[39mhandles: IOHandles \u001b[39m|\u001b[39m \u001b[39mNone\u001b[39;00m \u001b[39m=\u001b[39m \u001b[39mNone\u001b[39;00m\n\u001b[1;32m-> 1442\u001b[0m \u001b[39mself\u001b[39m\u001b[39m.\u001b[39m_engine \u001b[39m=\u001b[39m \u001b[39mself\u001b[39;49m\u001b[39m.\u001b[39;49m_make_engine(f, \u001b[39mself\u001b[39;49m\u001b[39m.\u001b[39;49mengine)\n",
            "File \u001b[1;32mc:\\Users\\Willy\\AppData\\Local\\Programs\\Python\\Python311\\Lib\\site-packages\\pandas\\io\\parsers\\readers.py:1735\u001b[0m, in \u001b[0;36mTextFileReader._make_engine\u001b[1;34m(self, f, engine)\u001b[0m\n\u001b[0;32m   1733\u001b[0m     \u001b[39mif\u001b[39;00m \u001b[39m\"\u001b[39m\u001b[39mb\u001b[39m\u001b[39m\"\u001b[39m \u001b[39mnot\u001b[39;00m \u001b[39min\u001b[39;00m mode:\n\u001b[0;32m   1734\u001b[0m         mode \u001b[39m+\u001b[39m\u001b[39m=\u001b[39m \u001b[39m\"\u001b[39m\u001b[39mb\u001b[39m\u001b[39m\"\u001b[39m\n\u001b[1;32m-> 1735\u001b[0m \u001b[39mself\u001b[39m\u001b[39m.\u001b[39mhandles \u001b[39m=\u001b[39m get_handle(\n\u001b[0;32m   1736\u001b[0m     f,\n\u001b[0;32m   1737\u001b[0m     mode,\n\u001b[0;32m   1738\u001b[0m     encoding\u001b[39m=\u001b[39;49m\u001b[39mself\u001b[39;49m\u001b[39m.\u001b[39;49moptions\u001b[39m.\u001b[39;49mget(\u001b[39m\"\u001b[39;49m\u001b[39mencoding\u001b[39;49m\u001b[39m\"\u001b[39;49m, \u001b[39mNone\u001b[39;49;00m),\n\u001b[0;32m   1739\u001b[0m     compression\u001b[39m=\u001b[39;49m\u001b[39mself\u001b[39;49m\u001b[39m.\u001b[39;49moptions\u001b[39m.\u001b[39;49mget(\u001b[39m\"\u001b[39;49m\u001b[39mcompression\u001b[39;49m\u001b[39m\"\u001b[39;49m, \u001b[39mNone\u001b[39;49;00m),\n\u001b[0;32m   1740\u001b[0m     memory_map\u001b[39m=\u001b[39;49m\u001b[39mself\u001b[39;49m\u001b[39m.\u001b[39;49moptions\u001b[39m.\u001b[39;49mget(\u001b[39m\"\u001b[39;49m\u001b[39mmemory_map\u001b[39;49m\u001b[39m\"\u001b[39;49m, \u001b[39mFalse\u001b[39;49;00m),\n\u001b[0;32m   1741\u001b[0m     is_text\u001b[39m=\u001b[39;49mis_text,\n\u001b[0;32m   1742\u001b[0m     errors\u001b[39m=\u001b[39;49m\u001b[39mself\u001b[39;49m\u001b[39m.\u001b[39;49moptions\u001b[39m.\u001b[39;49mget(\u001b[39m\"\u001b[39;49m\u001b[39mencoding_errors\u001b[39;49m\u001b[39m\"\u001b[39;49m, \u001b[39m\"\u001b[39;49m\u001b[39mstrict\u001b[39;49m\u001b[39m\"\u001b[39;49m),\n\u001b[0;32m   1743\u001b[0m     storage_options\u001b[39m=\u001b[39;49m\u001b[39mself\u001b[39;49m\u001b[39m.\u001b[39;49moptions\u001b[39m.\u001b[39;49mget(\u001b[39m\"\u001b[39;49m\u001b[39mstorage_options\u001b[39;49m\u001b[39m\"\u001b[39;49m, \u001b[39mNone\u001b[39;49;00m),\n\u001b[0;32m   1744\u001b[0m )\n\u001b[0;32m   1745\u001b[0m \u001b[39massert\u001b[39;00m \u001b[39mself\u001b[39m\u001b[39m.\u001b[39mhandles \u001b[39mis\u001b[39;00m \u001b[39mnot\u001b[39;00m \u001b[39mNone\u001b[39;00m\n\u001b[0;32m   1746\u001b[0m f \u001b[39m=\u001b[39m \u001b[39mself\u001b[39m\u001b[39m.\u001b[39mhandles\u001b[39m.\u001b[39mhandle\n",
            "File \u001b[1;32mc:\\Users\\Willy\\AppData\\Local\\Programs\\Python\\Python311\\Lib\\site-packages\\pandas\\io\\common.py:856\u001b[0m, in \u001b[0;36mget_handle\u001b[1;34m(path_or_buf, mode, encoding, compression, memory_map, is_text, errors, storage_options)\u001b[0m\n\u001b[0;32m    851\u001b[0m \u001b[39melif\u001b[39;00m \u001b[39misinstance\u001b[39m(handle, \u001b[39mstr\u001b[39m):\n\u001b[0;32m    852\u001b[0m     \u001b[39m# Check whether the filename is to be opened in binary mode.\u001b[39;00m\n\u001b[0;32m    853\u001b[0m     \u001b[39m# Binary mode does not support 'encoding' and 'newline'.\u001b[39;00m\n\u001b[0;32m    854\u001b[0m     \u001b[39mif\u001b[39;00m ioargs\u001b[39m.\u001b[39mencoding \u001b[39mand\u001b[39;00m \u001b[39m\"\u001b[39m\u001b[39mb\u001b[39m\u001b[39m\"\u001b[39m \u001b[39mnot\u001b[39;00m \u001b[39min\u001b[39;00m ioargs\u001b[39m.\u001b[39mmode:\n\u001b[0;32m    855\u001b[0m         \u001b[39m# Encoding\u001b[39;00m\n\u001b[1;32m--> 856\u001b[0m         handle \u001b[39m=\u001b[39m \u001b[39mopen\u001b[39;49m(\n\u001b[0;32m    857\u001b[0m             handle,\n\u001b[0;32m    858\u001b[0m             ioargs\u001b[39m.\u001b[39;49mmode,\n\u001b[0;32m    859\u001b[0m             encoding\u001b[39m=\u001b[39;49mioargs\u001b[39m.\u001b[39;49mencoding,\n\u001b[0;32m    860\u001b[0m             errors\u001b[39m=\u001b[39;49merrors,\n\u001b[0;32m    861\u001b[0m             newline\u001b[39m=\u001b[39;49m\u001b[39m\"\u001b[39;49m\u001b[39m\"\u001b[39;49m,\n\u001b[0;32m    862\u001b[0m         )\n\u001b[0;32m    863\u001b[0m     \u001b[39melse\u001b[39;00m:\n\u001b[0;32m    864\u001b[0m         \u001b[39m# Binary mode\u001b[39;00m\n\u001b[0;32m    865\u001b[0m         handle \u001b[39m=\u001b[39m \u001b[39mopen\u001b[39m(handle, ioargs\u001b[39m.\u001b[39mmode)\n",
            "\u001b[1;31mFileNotFoundError\u001b[0m: [Errno 2] No such file or directory: 'churn.csv'"
          ]
        }
      ],
      "source": [
        "df_original = pd.read_csv(\n",
        "    filepath_or_buffer = 'churn.csv', #arquivo\n",
        "    sep = ',', #separação dos valores\n",
        "    header = 0, #o meu arquivo tem um cabeçalho\n",
        "    )\n",
        "\n",
        "#mostra os 5 primeiros registros\n",
        "df_original.head() \n",
        "\n",
        "#deletando a coluna RowNumber\n",
        "df_original.drop(['RowNumber'], axis = 1, inplace = True)\n",
        "\n",
        "#mostra os 5 primeiros registros novamente\n",
        "df_original.head() "
      ]
    },
    {
      "cell_type": "code",
      "execution_count": null,
      "metadata": {
        "id": "tX_lZTBNmYlN"
      },
      "outputs": [],
      "source": [
        "df = df_original.rename(\n",
        "    columns={\n",
        "        'CustomerId': 'id_cliente',\n",
        "        'Surname': 'nome',\n",
        "        'CreditScore': 'score',\n",
        "        'Geography': 'pais',\n",
        "        'Gender': 'genero',\n",
        "        'Age': 'idade',\n",
        "        'Tenure':'tempo_cliente',\n",
        "        'Balance': 'saldo_cc',\n",
        "        'NumOfProducts': 'qtd_produtos',\n",
        "        'HasCrCard': 'cartao',\n",
        "        'IsActiveMember': 'cliente_ativo',\n",
        "        'EstimatedSalary': 'salario_estimado',\n",
        "        'Exited': 'churn'\n",
        "    }\n",
        ")\n",
        "\n",
        "df.head()"
      ]
    },
    {
      "cell_type": "markdown",
      "metadata": {
        "id": "k5jmnhq_mYlN"
      },
      "source": [
        "<h3>3. Análise Exploratória</h3>"
      ]
    },
    {
      "cell_type": "code",
      "execution_count": null,
      "metadata": {
        "id": "OjJwP-3SmYlN"
      },
      "outputs": [],
      "source": [
        "#Informações sobre o data frame\n",
        "df.info()"
      ]
    },
    {
      "cell_type": "markdown",
      "metadata": {
        "id": "jFdlFe8xmYlN"
      },
      "source": [
        "O dataset possui 10.000 registros e nenhum dado nulo"
      ]
    },
    {
      "cell_type": "markdown",
      "metadata": {
        "id": "HKIIR4ydmYlO"
      },
      "source": [
        "<h4>3.1. Análise Exploratória - Score de Crédito</h4>"
      ]
    },
    {
      "cell_type": "code",
      "execution_count": null,
      "metadata": {
        "id": "UzKM9fBwmYlO"
      },
      "outputs": [],
      "source": [
        "df.score.describe()"
      ]
    },
    {
      "cell_type": "code",
      "execution_count": null,
      "metadata": {
        "id": "GaSTpseQmYlO"
      },
      "outputs": [],
      "source": [
        "#######Gráfico - Score de Crédito########\n",
        "#Documentação\n",
        "#https://plotly.com/python/box-plots/\n",
        "#https://plotly.com/python/reference/layout/\n",
        "#https://plotly.com/python/reference/box/\n",
        "#\n",
        "fig_score = go.Figure()\n",
        "\n",
        "#Definição do tipo e dos dados do gráfico\n",
        "fig_score.add_box(x = df['score'], name = 'Score')\n",
        "\n",
        "#Definições de layout do gráfico\n",
        "#Título\n",
        "fig_score.update_layout(title_text = 'Score de Crédito', #Título\n",
        "                        title_font_family = 'Helvetica', #Fonte\n",
        "                        title_font_color = 'black', #Cor do título\n",
        "                        title_font_size = 18 #Tamanho da fonte\n",
        "                        )    \n",
        "\n",
        "fig_score.update_traces(orientation = 'h', #orientação\n",
        "                        opacity = 0.8, #opacidade\n",
        "                        marker_color = 'black', #cor do boxplot\n",
        "                        marker_outliercolor = 'red', #cor dos outliers\n",
        "                        notched = True, #inserir notch\n",
        "                        notchwidth = 0.25 #tamanho do notch\n",
        "                        )\n",
        "\n",
        "#Fonte do gráfico\n",
        "fig_score.update_layout(font_family = 'Helvetica')\n",
        "#Tamanho do gráfico\n",
        "fig_score.update_layout(autosize = True)#height = 400, width = 600)\n",
        "\n",
        "fig_score.show()"
      ]
    },
    {
      "cell_type": "code",
      "execution_count": null,
      "metadata": {
        "id": "O6ulb1BwmYlO"
      },
      "outputs": [],
      "source": [
        "#O score de crédito mínimo observado foi de 350 e o máximo de 850. \n",
        "#A média do score de crédito dos clientes é de 650.\n",
        "#O desvio padrão foi de 96, mostrando a diversidade do conjunto de dados."
      ]
    },
    {
      "cell_type": "markdown",
      "metadata": {
        "id": "QkeVFWCHmYlO"
      },
      "source": [
        "<h4>3.2. Análise Exploratória - País</h4>"
      ]
    },
    {
      "cell_type": "code",
      "execution_count": null,
      "metadata": {
        "id": "Xq7HMiz1mYlP"
      },
      "outputs": [],
      "source": [
        "#Criando dataframe só com informações de país\n",
        "df_pais = df.filter(['pais'], axis = 1)\n",
        "#obtendo informações sobre o dataframe\n",
        "df_pais.describe()\n",
        "#https://sparkbyexamples.com/pandas/pandas-create-new-dataframe-by-selecting-specific-columns/"
      ]
    },
    {
      "cell_type": "code",
      "execution_count": null,
      "metadata": {
        "id": "Hely6kw0mYlP"
      },
      "outputs": [],
      "source": [
        "df_pais.info()"
      ]
    },
    {
      "cell_type": "code",
      "execution_count": null,
      "metadata": {
        "id": "nhXNPddSmYlP"
      },
      "outputs": [],
      "source": [
        "#agrupando os registros por país\n",
        "df_pais = df_pais.groupby('pais').size()\n",
        "df_pais.info()\n",
        "#https://acervolima.com/pandas-groupby-contar-ocorrencias-na-coluna/\n",
        "#https://www.kdnuggets.com/2022/11/4-ways-rename-pandas-columns.html"
      ]
    },
    {
      "cell_type": "code",
      "execution_count": null,
      "metadata": {
        "id": "4S_cbQAvmYlP"
      },
      "outputs": [],
      "source": [
        "df_pais = df_pais.rename(columns = {0 : 'qtd'})"
      ]
    },
    {
      "cell_type": "code",
      "execution_count": null,
      "metadata": {
        "id": "zlYIfJAOmYlP"
      },
      "outputs": [],
      "source": [
        "#https://sparkbyexamples.com/pandas/pandas-percentage-total-with-groupby/\n",
        "\n",
        "df_pais['%'] = 100 * df_pais['pais']"
      ]
    },
    {
      "cell_type": "code",
      "execution_count": null,
      "metadata": {
        "id": "v1wFcalumYlP"
      },
      "outputs": [],
      "source": [
        "fig_pais = go.Figure()\n",
        "\n",
        "fig_pais.add_trace(go.Pie(labels = df['pais'], name = 'País'))\n",
        "\n",
        "fig_pais.update_traces(hole = .4, hoverinfo = 'label+percent')\n",
        "\n",
        "fig_pais.update_layout(title_text = 'Clientes por país',\n",
        "                       title_font_family = 'Helvetica', #Fonte\n",
        "                       title_font_color = 'black', #Cor do título\n",
        "                       title_font_size = 18 #Tamanho da fonte)\n",
        "                       )"
      ]
    },
    {
      "cell_type": "code",
      "execution_count": null,
      "metadata": {
        "id": "ZfYtSrCGmYlQ"
      },
      "outputs": [],
      "source": [
        "#Gráfico - Clientes por país\n",
        "fig_pais = px.pie(\n",
        "    data_frame = df, \n",
        "    names = 'pais',\n",
        "    title = 'Clientes por País',\n",
        "    color = 'pais',\n",
        "    color_discrete_map = {'France': 'cyan',\n",
        "                          'Germany': 'royalblue',\n",
        "                          'Spain': 'darkblue'},\n",
        "    hole = .4\n",
        "                )\n",
        "fig_pais"
      ]
    },
    {
      "cell_type": "code",
      "execution_count": null,
      "metadata": {
        "id": "qEZapfNNmYlQ"
      },
      "outputs": [],
      "source": [
        "df.idade.describe()"
      ]
    },
    {
      "cell_type": "code",
      "execution_count": null,
      "metadata": {
        "id": "YwvmEYFwmYlQ"
      },
      "outputs": [],
      "source": [
        "#Gráfico - Idade\n",
        "fig_idade = px.box(\n",
        "    data_frame = df, \n",
        "    x = 'idade',\n",
        "    title = 'Idade'\n",
        "    #,\n",
        "    #notched = False,\n",
        "    #hover_data = ['churn']\n",
        "    )\n",
        "fig_idade"
      ]
    },
    {
      "cell_type": "code",
      "execution_count": null,
      "metadata": {
        "id": "oYaweBq7mYlQ"
      },
      "outputs": [],
      "source": [
        "df.idade_abertura_cc.describe()"
      ]
    },
    {
      "cell_type": "code",
      "execution_count": null,
      "metadata": {
        "id": "7IzFP7q9mYlQ"
      },
      "outputs": [],
      "source": [
        "#Gráfico - Tempo de abertura da conta\n",
        "fig_idade_abertura_cc= px.box(\n",
        "    data_frame = df, \n",
        "    x = 'idade_abertura_cc',\n",
        "    title = 'Tempo de abertura da conta'\n",
        "    )\n",
        "fig_idade_abertura_cc"
      ]
    },
    {
      "cell_type": "code",
      "execution_count": null,
      "metadata": {
        "id": "JlW1GuNimYlQ"
      },
      "outputs": [],
      "source": [
        "df.saldo_cc.describe()"
      ]
    },
    {
      "cell_type": "code",
      "execution_count": null,
      "metadata": {
        "id": "wlTZJ7WAmYlQ"
      },
      "outputs": [],
      "source": [
        "#Gráfico - Saldo em Conta Corrente\n",
        "fig_saldo_cc= px.box(\n",
        "    data_frame = df, \n",
        "    x = 'saldo_cc',\n",
        "    title = 'Saldo em Conta Corrente'\n",
        "    )\n",
        "fig_saldo_cc"
      ]
    },
    {
      "cell_type": "code",
      "execution_count": null,
      "metadata": {
        "id": "3x8Zr9ePmYlR"
      },
      "outputs": [],
      "source": [
        "df.qtd_produtos.describe()"
      ]
    },
    {
      "cell_type": "code",
      "execution_count": null,
      "metadata": {
        "id": "uUQ2jWnNmYlR"
      },
      "outputs": [],
      "source": [
        "df.qtd_produtos.value_counts()"
      ]
    },
    {
      "cell_type": "code",
      "execution_count": null,
      "metadata": {
        "id": "MJTU_sDzmYlR"
      },
      "outputs": [],
      "source": [
        "#Gráfico - Quantidade de Produtos\n",
        "fig_qtd_produtos= px.box(\n",
        "    data_frame = df, \n",
        "    x = 'qtd_produtos',\n",
        "    title = 'Quantidade de Produtos'\n",
        "    )\n",
        "fig_qtd_produtos"
      ]
    },
    {
      "cell_type": "code",
      "execution_count": null,
      "metadata": {
        "id": "o6O6OiLlmYlR"
      },
      "outputs": [],
      "source": [
        "#Gráfico - Clientes por quantidade de produtos\n",
        "fig_qtd_produtos_pie = px.pie(\n",
        "    data_frame = df, \n",
        "    names = 'qtd_produtos',\n",
        "    title = 'Clientes por quantidade de produtos',\n",
        "    color = 'qtd_produtos',\n",
        "    color_discrete_map = {1: 'cyan',\n",
        "                          2: 'royalblue',\n",
        "                          3: 'darkblue',\n",
        "                          4: 'lightblue'},\n",
        "    hole = .5\n",
        "                )\n",
        "fig_qtd_produtos_pie"
      ]
    },
    {
      "cell_type": "markdown",
      "metadata": {
        "id": "Xah1dsZ5mYlR"
      },
      "source": [
        "Correlações"
      ]
    },
    {
      "cell_type": "code",
      "execution_count": null,
      "metadata": {
        "id": "V_lTgtu_mYlR"
      },
      "outputs": [],
      "source": [
        "df_corr = df.corr(method = 'pearson')"
      ]
    },
    {
      "cell_type": "code",
      "execution_count": null,
      "metadata": {
        "id": "s2_QgrcqmYlR"
      },
      "outputs": [],
      "source": [
        "import plotly.graph_objects as go\n",
        "\n",
        "fig_corr = go.Figure(\n",
        "    data = go.Heatmap(\n",
        "        z = df_corr,\n",
        "        x = df_corr.columns,\n",
        "        y = df_corr.columns\n",
        "    )\n",
        ")\n",
        "\n",
        "fig_corr.show()"
      ]
    },
    {
      "cell_type": "code",
      "execution_count": null,
      "metadata": {
        "id": "mWc455s-mYlR"
      },
      "outputs": [],
      "source": [
        "fig_corr_arred = px.imshow(\n",
        "    round(df_corr, 2),\n",
        "    text_auto = True,\n",
        "    aspect = 'auto'\n",
        ")\n",
        "\n",
        "fig_corr_arred.show()"
      ]
    },
    {
      "cell_type": "code",
      "execution_count": null,
      "metadata": {
        "id": "VFdqupxSmYlS"
      },
      "outputs": [],
      "source": [
        "#profile = ProfileReport(df_bank)\n",
        "#profile.to_widgets()\n",
        "#profile.to_file('bank_churn.html')\n",
        "#profile.to_notebook_iframe()"
      ]
    },
    {
      "cell_type": "code",
      "execution_count": null,
      "metadata": {
        "id": "F7edoK1lmYlS"
      },
      "outputs": [],
      "source": [
        "df['pais'].unique()\n",
        "#df_bank['pais'].nunique()"
      ]
    },
    {
      "cell_type": "code",
      "execution_count": null,
      "metadata": {
        "id": "Q4jR-2j9mYlS"
      },
      "outputs": [],
      "source": [
        "#ver as colunas do data frame\n",
        "df.columns\n",
        "#ver a quantidade de linhas\n",
        "df.index\n",
        "#mostrar estatísticas rápidas do data frame\n",
        "df.describe()\n",
        "#pivotar o data frame\n",
        "df.T\n",
        "#monstrando o data frame ordenado pelas colunas crescentes\n",
        "df.sort_index(axis = 1, ascending = True)\n",
        "#mostrando o data frame ordenado por uma coluna\n",
        "df.sort_values(by = 'churn')\n",
        "#mostrando 5 primeiras linhas e 2 colunas específicas\n",
        "df.loc[0:5:, ['ativo', 'idade']]\n",
        "#mostrar 3 primeiras linhas e todas as colunas\n",
        "df.iloc[0:3, :]\n",
        "#mostrar uma posição específica\n",
        "df.iloc[0]\n",
        "\n"
      ]
    },
    {
      "cell_type": "code",
      "execution_count": null,
      "metadata": {
        "id": "a58Qtl4lmYlS"
      },
      "outputs": [],
      "source": [
        "app = Dash(__name__)\n",
        "\n",
        "fig = px.box(data_frame = df, x = 'score_de_credito')\n",
        "\n",
        "app.layout = html.Div(children = [\n",
        "        html.H1(children = 'Score de Crédito'),\n",
        "    \n",
        "dcc.Graph(id = 'example-graph', figure = fig)\n",
        "]\n",
        ")\n",
        "if __name__ == '__main__':\n",
        "    app.run_server(debug=True)"
      ]
    },
    {
      "cell_type": "code",
      "execution_count": null,
      "metadata": {
        "id": "hNXRUq8UmYlS"
      },
      "outputs": [],
      "source": [
        "# #Leitura do arquivo CSV\n",
        "# df_original = pd.read_csv(filepath_or_buffer = 'Bank Customer Churn Prediction.csv', sep = ',', header = 0, index_col = False)\n",
        "\n",
        "# #Alteração do nome das colunas\n",
        "# df = df_original.rename(columns = \n",
        "#             {'customer_id': 'id_cliente',\n",
        "#              'credit_score': 'score_de_credito',\n",
        "#              'country': 'pais',\n",
        "#              'gender': 'genero',\n",
        "#              'age': 'idade',\n",
        "#              'tenure': 'idade_abertura_cc',\n",
        "#              'balance': 'saldo_cc',\n",
        "#              'products_number': 'qtd_produtos',\n",
        "#              'credit_card': 'cartao_de_credito',\n",
        "#              'active_member': 'ativo',\n",
        "#              'estimated_salary': 'salario_estimado'})"
      ]
    }
  ],
  "metadata": {
    "colab": {
      "include_colab_link": true,
      "provenance": []
    },
    "kernelspec": {
      "display_name": "Python 3",
      "language": "python",
      "name": "python3"
    },
    "language_info": {
      "codemirror_mode": {
        "name": "ipython",
        "version": 3
      },
      "file_extension": ".py",
      "mimetype": "text/x-python",
      "name": "python",
      "nbconvert_exporter": "python",
      "pygments_lexer": "ipython3",
      "version": "3.11.1"
    },
    "orig_nbformat": 4,
    "vscode": {
      "interpreter": {
        "hash": "b602088d627d4886b9c313d06ec5cfcd86ba2dc502778cea1d4fba25f550f616"
      }
    }
  },
  "nbformat": 4,
  "nbformat_minor": 0
}
