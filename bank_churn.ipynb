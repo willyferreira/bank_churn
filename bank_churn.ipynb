{
 "cells": [
  {
   "attachments": {},
   "cell_type": "markdown",
   "metadata": {},
   "source": [
    "<h1>Bank Customer Churn Prediction</h1>"
   ]
  },
  {
   "cell_type": "code",
   "execution_count": null,
   "metadata": {},
   "outputs": [],
   "source": [
    "#Autor: Willy Ferreira\n",
    "#Data: 28/02/2023"
   ]
  },
  {
   "attachments": {},
   "cell_type": "markdown",
   "metadata": {},
   "source": [
    "<h3>1. Instalação e importação dos pacotes</h3>"
   ]
  },
  {
   "attachments": {},
   "cell_type": "markdown",
   "metadata": {},
   "source": [
    "<h4>1.1. Instalação</h4>"
   ]
  },
  {
   "cell_type": "code",
   "execution_count": null,
   "metadata": {},
   "outputs": [],
   "source": [
    "##Processamento e análise de dados\n",
    "%pip install numpy\n",
    "\n",
    "##Biblioteca para manipulação de dados\n",
    "%pip install pandas\n",
    "\n",
    "##Criação de gráficos interativos \n",
    "%pip install plotly\n",
    "\n",
    "##Análise rápida de dados\n",
    "%pip install pandas_profiling\n",
    "\n",
    "##Interface gráfica para Jupyter\n",
    "#%pip install ipywidgets\n",
    "\n",
    "##Criação de gráficos\n",
    "%pip install matplotlib\n",
    "\n",
    "#Criação de dashboards interativos\n",
    "#%pip install dash"
   ]
  },
  {
   "attachments": {},
   "cell_type": "markdown",
   "metadata": {},
   "source": [
    "<h4>1.2. Importação</h4>"
   ]
  },
  {
   "cell_type": "code",
   "execution_count": null,
   "metadata": {},
   "outputs": [],
   "source": [
    "import numpy as np\n",
    "import pandas as pd\n",
    "import plotly.express as px\n",
    "#import dash\n",
    "#from dash import Dash, html, dcc\n",
    "# \n",
    "#from pandas_profiling import ProfileReport\n",
    "#import ipywidgets\n",
    "import matplotlib.pyplot"
   ]
  },
  {
   "cell_type": "markdown",
   "metadata": {},
   "source": [
    "Leitura do arquivo CSV e demais tratamentos"
   ]
  },
  {
   "cell_type": "code",
   "execution_count": null,
   "metadata": {},
   "outputs": [],
   "source": [
    "#Leitura do arquivo CSV\n",
    "df_original = pd.read_csv(filepath_or_buffer = \"willyferreira/bank/Bank Customer Churn Prediction.csv\", sep = \",\", header = 0, index_col = False)\n",
    "\n",
    "#Alteração do nome das colunas\n",
    "df = df_original.rename(columns = \n",
    "            {\"customer_id\": \"id_cliente\",\n",
    "             \"credit_score\": \"score_de_credito\",\n",
    "             \"country\": \"pais\",\n",
    "             \"gender\": \"genero\",\n",
    "             \"age\": \"idade\",\n",
    "             \"tenure\": \"idade_abertura_cc\",\n",
    "             \"balance\": \"saldo_cc\",\n",
    "             \"products_number\": \"qtd_produtos\",\n",
    "             \"credit_card\": \"cartao_de_credito\",\n",
    "             \"active_member\": \"ativo\",\n",
    "             \"estimated_salary\": \"salario_estimado\"})"
   ]
  },
  {
   "cell_type": "code",
   "execution_count": null,
   "metadata": {},
   "outputs": [],
   "source": [
    "#Mostrar o data frame\n",
    "display(df)"
   ]
  },
  {
   "cell_type": "code",
   "execution_count": null,
   "metadata": {},
   "outputs": [],
   "source": [
    "#Informações sobre o data frame\n",
    "df.info()"
   ]
  },
  {
   "cell_type": "markdown",
   "metadata": {},
   "source": [
    "Análise Exploratória - Score de Crédito"
   ]
  },
  {
   "cell_type": "code",
   "execution_count": null,
   "metadata": {},
   "outputs": [],
   "source": [
    "df.score_de_credito.describe()"
   ]
  },
  {
   "cell_type": "code",
   "execution_count": null,
   "metadata": {},
   "outputs": [],
   "source": [
    "app = Dash(__name__)\n",
    "\n",
    "fig = px.box(data_frame = df, x = \"score_de_credito\")\n",
    "\n",
    "app.layout = html.Div(children = [\n",
    "        html.H1(children = \"Score de Crédito\"),\n",
    "    \n",
    "dcc.Graph(id = \"example-graph\", figure = fig)\n",
    "]\n",
    ")\n",
    "if __name__ == \"__main__\":\n",
    "    app.run_server(debug=True)"
   ]
  },
  {
   "cell_type": "code",
   "execution_count": null,
   "metadata": {},
   "outputs": [],
   "source": [
    "#Gráfico - Score de Crédito\n",
    "fig_score = px.box(\n",
    "    data_frame = df, \n",
    "    x = \"score_de_credito\",\n",
    "    title = \"Score de Crédito\"\n",
    "    #,\n",
    "    #notched = False,\n",
    "    #hover_data = [\"churn\"]\n",
    "    )\n",
    "fig_score"
   ]
  },
  {
   "cell_type": "code",
   "execution_count": null,
   "metadata": {},
   "outputs": [],
   "source": [
    "df_pais = df[\"pais\"].count()\n",
    "df_pais"
   ]
  },
  {
   "cell_type": "code",
   "execution_count": null,
   "metadata": {},
   "outputs": [],
   "source": [
    "df_pais"
   ]
  },
  {
   "cell_type": "code",
   "execution_count": null,
   "metadata": {},
   "outputs": [],
   "source": [
    "#Gráfico - Clientes por país\n",
    "fig_pais = px.pie(\n",
    "    data_frame = df, \n",
    "    names = \"pais\",\n",
    "    title = \"Clientes por País\",\n",
    "    color = \"pais\",\n",
    "    color_discrete_map = {\"France\": \"cyan\",\n",
    "                          \"Germany\": \"royalblue\",\n",
    "                          \"Spain\": \"darkblue\"},\n",
    "    hole = .4\n",
    "                )\n",
    "fig_pais"
   ]
  },
  {
   "cell_type": "code",
   "execution_count": null,
   "metadata": {},
   "outputs": [],
   "source": [
    "df.idade.describe()"
   ]
  },
  {
   "cell_type": "code",
   "execution_count": null,
   "metadata": {},
   "outputs": [],
   "source": [
    "#Gráfico - Idade\n",
    "fig_idade = px.box(\n",
    "    data_frame = df, \n",
    "    x = \"idade\",\n",
    "    title = \"Idade\"\n",
    "    #,\n",
    "    #notched = False,\n",
    "    #hover_data = [\"churn\"]\n",
    "    )\n",
    "fig_idade"
   ]
  },
  {
   "cell_type": "code",
   "execution_count": null,
   "metadata": {},
   "outputs": [],
   "source": [
    "df.idade_abertura_cc.describe()"
   ]
  },
  {
   "cell_type": "code",
   "execution_count": null,
   "metadata": {},
   "outputs": [],
   "source": [
    "#Gráfico - Tempo de abertura da conta\n",
    "fig_idade_abertura_cc= px.box(\n",
    "    data_frame = df, \n",
    "    x = \"idade_abertura_cc\",\n",
    "    title = \"Tempo de abertura da conta\"\n",
    "    )\n",
    "fig_idade_abertura_cc"
   ]
  },
  {
   "cell_type": "code",
   "execution_count": null,
   "metadata": {},
   "outputs": [],
   "source": [
    "df.saldo_cc.describe()"
   ]
  },
  {
   "cell_type": "code",
   "execution_count": null,
   "metadata": {},
   "outputs": [],
   "source": [
    "#Gráfico - Saldo em Conta Corrente\n",
    "fig_saldo_cc= px.box(\n",
    "    data_frame = df, \n",
    "    x = \"saldo_cc\",\n",
    "    title = \"Saldo em Conta Corrente\"\n",
    "    )\n",
    "fig_saldo_cc"
   ]
  },
  {
   "cell_type": "code",
   "execution_count": null,
   "metadata": {},
   "outputs": [],
   "source": [
    "df.qtd_produtos.describe()"
   ]
  },
  {
   "cell_type": "code",
   "execution_count": null,
   "metadata": {},
   "outputs": [],
   "source": [
    "df.qtd_produtos.value_counts()"
   ]
  },
  {
   "cell_type": "code",
   "execution_count": null,
   "metadata": {},
   "outputs": [],
   "source": [
    "#Gráfico - Quantidade de Produtos\n",
    "fig_qtd_produtos= px.box(\n",
    "    data_frame = df, \n",
    "    x = \"qtd_produtos\",\n",
    "    title = \"Quantidade de Produtos\"\n",
    "    )\n",
    "fig_qtd_produtos"
   ]
  },
  {
   "cell_type": "code",
   "execution_count": null,
   "metadata": {},
   "outputs": [],
   "source": [
    "#Gráfico - Clientes por quantidade de produtos\n",
    "fig_qtd_produtos_pie = px.pie(\n",
    "    data_frame = df, \n",
    "    names = \"qtd_produtos\",\n",
    "    title = \"Clientes por quantidade de produtos\",\n",
    "    color = \"qtd_produtos\",\n",
    "    color_discrete_map = {1: \"cyan\",\n",
    "                          2: \"royalblue\",\n",
    "                          3: \"darkblue\",\n",
    "                          4: \"lightblue\"},\n",
    "    hole = .5\n",
    "                )\n",
    "fig_qtd_produtos_pie"
   ]
  },
  {
   "cell_type": "markdown",
   "metadata": {},
   "source": [
    "Correlações"
   ]
  },
  {
   "cell_type": "code",
   "execution_count": null,
   "metadata": {},
   "outputs": [],
   "source": [
    "df_corr = df.corr(method = \"pearson\")"
   ]
  },
  {
   "cell_type": "code",
   "execution_count": null,
   "metadata": {},
   "outputs": [],
   "source": [
    "import plotly.graph_objects as go\n",
    "\n",
    "fig_corr = go.Figure(\n",
    "    data = go.Heatmap(\n",
    "        z = df_corr,\n",
    "        x = df_corr.columns,\n",
    "        y = df_corr.columns\n",
    "    )\n",
    ")\n",
    "\n",
    "fig_corr.show()"
   ]
  },
  {
   "cell_type": "code",
   "execution_count": null,
   "metadata": {},
   "outputs": [],
   "source": [
    "fig_corr_arred = px.imshow(\n",
    "    round(df_corr, 2),\n",
    "    text_auto = True,\n",
    "    aspect = \"auto\"\n",
    ")\n",
    "\n",
    "fig_corr_arred.show()"
   ]
  },
  {
   "cell_type": "code",
   "execution_count": null,
   "metadata": {},
   "outputs": [],
   "source": [
    "#profile = ProfileReport(df_bank)\n",
    "#profile.to_widgets()\n",
    "#profile.to_file(\"bank_churn.html\")\n",
    "#profile.to_notebook_iframe()"
   ]
  },
  {
   "cell_type": "code",
   "execution_count": null,
   "metadata": {},
   "outputs": [],
   "source": [
    "df[\"pais\"].unique()\n",
    "#df_bank[\"pais\"].nunique()"
   ]
  },
  {
   "cell_type": "code",
   "execution_count": null,
   "metadata": {},
   "outputs": [],
   "source": [
    "#ver as colunas do data frame\n",
    "df.columns\n",
    "#ver a quantidade de linhas\n",
    "df.index\n",
    "#mostrar estatísticas rápidas do data frame\n",
    "df.describe()\n",
    "#pivotar o data frame\n",
    "df.T\n",
    "#monstrando o data frame ordenado pelas colunas crescentes\n",
    "df.sort_index(axis = 1, ascending = True)\n",
    "#mostrando o data frame ordenado por uma coluna\n",
    "df.sort_values(by = \"churn\")\n",
    "#mostrando 5 primeiras linhas e 2 colunas específicas\n",
    "df.loc[0:5:, [\"ativo\", \"idade\"]]\n",
    "#mostrar 3 primeiras linhas e todas as colunas\n",
    "df.iloc[0:3, :]\n",
    "#mostrar uma posição específica\n",
    "df.iloc[0]\n",
    "\n"
   ]
  }
 ],
 "metadata": {
  "kernelspec": {
   "display_name": "base",
   "language": "python",
   "name": "python3"
  },
  "language_info": {
   "codemirror_mode": {
    "name": "ipython",
    "version": 3
   },
   "file_extension": ".py",
   "mimetype": "text/x-python",
   "name": "python",
   "nbconvert_exporter": "python",
   "pygments_lexer": "ipython3",
   "version": "3.9.13"
  },
  "orig_nbformat": 4,
  "vscode": {
   "interpreter": {
    "hash": "906a42c376ff449489c90e009b5e44d5ad7c5f12981bb414e9a43a943a83fb4f"
   }
  }
 },
 "nbformat": 4,
 "nbformat_minor": 2
}
